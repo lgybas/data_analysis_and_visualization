{
 "cells": [
  {
   "cell_type": "markdown",
   "metadata": {
    "id": "cu7i6nj50Z61"
   },
   "source": [
    "# Imports"
   ]
  },
  {
   "cell_type": "markdown",
   "metadata": {
    "id": "qf2doJf707zf"
   },
   "source": [
    "## importing pandas"
   ]
  },
  {
   "cell_type": "code",
   "execution_count": 1,
   "metadata": {
    "id": "EqTd28-5wSbM"
   },
   "outputs": [],
   "source": [
    "import pandas as pd"
   ]
  },
  {
   "cell_type": "markdown",
   "metadata": {
    "id": "9uAtf3tp0zRj"
   },
   "source": [
    "## importing matplotlib"
   ]
  },
  {
   "cell_type": "code",
   "execution_count": 2,
   "metadata": {
    "id": "QW3hfSpM0c7q"
   },
   "outputs": [],
   "source": [
    "from matplotlib import pyplot as plt"
   ]
  },
  {
   "cell_type": "markdown",
   "metadata": {
    "id": "bqg3e5ws03gu"
   },
   "source": [
    "## importing seaborn"
   ]
  },
  {
   "cell_type": "code",
   "execution_count": 3,
   "metadata": {
    "id": "5dsCrzhH0vDN"
   },
   "outputs": [],
   "source": [
    "import seaborn as sns\n",
    "import warnings\n",
    "warnings.filterwarnings(\"ignore\")"
   ]
  },
  {
   "cell_type": "markdown",
   "metadata": {
    "id": "lRISrVCCw4qS"
   },
   "source": [
    "# Loading cleaned and quality-checked dataframes"
   ]
  },
  {
   "cell_type": "code",
   "execution_count": 4,
   "metadata": {
    "id": "guedIzisx41Q"
   },
   "outputs": [],
   "source": [
    "# orders_cl.csv\n",
    "url = \"https://drive.google.com/file/d/1QAF56fIWKBjyEE52NZe-TMG4eVF54m6o/view?usp=sharing\" \n",
    "path = \"https://drive.google.com/uc?export=download&id=\"+url.split(\"/\")[-2]\n",
    "orders_cl = pd.read_csv(path)\n",
    "\n",
    "# orderlines_cl.csv\n",
    "url = \"https://drive.google.com/file/d/143QNOYeuErSPosnLqC7uQkB4yBAV1zES/view?usp=sharing\" \n",
    "path = \"https://drive.google.com/uc?export=download&id=\"+url.split(\"/\")[-2]\n",
    "orderlines_cl = pd.read_csv(path)\n",
    "\n",
    "# products_cl.csv\n",
    "url = \"https://drive.google.com/file/d/1s7Lai4NSlsYjGEPg1QSOUJobNYVsZBOJ/view?usp=sharing\" \n",
    "path = \"https://drive.google.com/uc?export=download&id=\"+url.split(\"/\")[-2]\n",
    "products_cl = pd.read_csv(path)"
   ]
  },
  {
   "cell_type": "code",
   "execution_count": 5,
   "metadata": {
    "id": "nsE7oyrC5C-Q"
   },
   "outputs": [],
   "source": [
    "# brands.csv\n",
    "url = \"https://drive.google.com/file/d/1m1ThDDIYRTTii-rqM5SEQjJ8McidJskD/view?usp=sharing\"\n",
    "path = \"https://drive.google.com/uc?export=download&id=\"+url.split(\"/\")[-2]\n",
    "brands = pd.read_csv(path)"
   ]
  },
  {
   "cell_type": "markdown",
   "metadata": {
    "id": "I14ohioO1D-C"
   },
   "source": [
    "# Making copies"
   ]
  },
  {
   "cell_type": "code",
   "execution_count": 6,
   "metadata": {
    "id": "NleJz1N_w9xa"
   },
   "outputs": [],
   "source": [
    "# making copies\n",
    "orders_c = orders_cl.copy()\n",
    "orderlines_c = orderlines_cl.copy()\n",
    "products_c = products_cl.copy()\n",
    "brands_c = brands.copy()"
   ]
  },
  {
   "cell_type": "markdown",
   "metadata": {
    "id": "-kQ-eTW21HnP"
   },
   "source": [
    "# Checking datatypes"
   ]
  },
  {
   "cell_type": "code",
   "execution_count": 7,
   "metadata": {
    "colab": {
     "base_uri": "https://localhost:8080/"
    },
    "id": "-DJqmGJlyu1K",
    "outputId": "de71771a-7a4f-45b7-ef55-5debf43840cb"
   },
   "outputs": [
    {
     "name": "stdout",
     "output_type": "stream",
     "text": [
      "<class 'pandas.core.frame.DataFrame'>\n",
      "RangeIndex: 40985 entries, 0 to 40984\n",
      "Data columns (total 4 columns):\n",
      " #   Column        Non-Null Count  Dtype  \n",
      "---  ------        --------------  -----  \n",
      " 0   order_id      40985 non-null  int64  \n",
      " 1   created_date  40985 non-null  object \n",
      " 2   total_paid    40985 non-null  float64\n",
      " 3   state         40985 non-null  object \n",
      "dtypes: float64(1), int64(1), object(2)\n",
      "memory usage: 1.3+ MB\n"
     ]
    }
   ],
   "source": [
    "# checking datatypes\n",
    "orders_c.info()"
   ]
  },
  {
   "cell_type": "markdown",
   "metadata": {
    "id": "HcRy-r8t1KHp"
   },
   "source": [
    "## changing datatype"
   ]
  },
  {
   "cell_type": "code",
   "execution_count": 8,
   "metadata": {
    "colab": {
     "base_uri": "https://localhost:8080/"
    },
    "id": "8lF_AhBMzG2v",
    "outputId": "79c26bf9-f756-4c5c-fc69-9c21675685bb"
   },
   "outputs": [
    {
     "name": "stdout",
     "output_type": "stream",
     "text": [
      "<class 'pandas.core.frame.DataFrame'>\n",
      "RangeIndex: 40985 entries, 0 to 40984\n",
      "Data columns (total 4 columns):\n",
      " #   Column        Non-Null Count  Dtype         \n",
      "---  ------        --------------  -----         \n",
      " 0   order_id      40985 non-null  int64         \n",
      " 1   created_date  40985 non-null  datetime64[ns]\n",
      " 2   total_paid    40985 non-null  float64       \n",
      " 3   state         40985 non-null  object        \n",
      "dtypes: datetime64[ns](1), float64(1), int64(1), object(1)\n",
      "memory usage: 1.3+ MB\n"
     ]
    }
   ],
   "source": [
    "# changing \"created_date\" in orders to datetime datatype\n",
    "orders_c[\"created_date\"] = pd.to_datetime(orders_c[\"created_date\"])\n",
    "orders_c.info()"
   ]
  },
  {
   "cell_type": "code",
   "execution_count": 9,
   "metadata": {
    "colab": {
     "base_uri": "https://localhost:8080/"
    },
    "id": "QIgj-IXYzhag",
    "outputId": "12ecaa09-90c4-49b3-fa3a-9608b3ff6956"
   },
   "outputs": [
    {
     "name": "stdout",
     "output_type": "stream",
     "text": [
      "<class 'pandas.core.frame.DataFrame'>\n",
      "RangeIndex: 53231 entries, 0 to 53230\n",
      "Data columns (total 8 columns):\n",
      " #   Column            Non-Null Count  Dtype  \n",
      "---  ------            --------------  -----  \n",
      " 0   id                53231 non-null  int64  \n",
      " 1   order_id          53231 non-null  int64  \n",
      " 2   product_id        53231 non-null  int64  \n",
      " 3   product_quantity  53231 non-null  int64  \n",
      " 4   sku               53231 non-null  object \n",
      " 5   unit_price        53231 non-null  float64\n",
      " 6   date              53231 non-null  object \n",
      " 7   unit_price_total  53231 non-null  float64\n",
      "dtypes: float64(2), int64(4), object(2)\n",
      "memory usage: 3.2+ MB\n"
     ]
    }
   ],
   "source": [
    "orderlines_c.info()"
   ]
  },
  {
   "cell_type": "code",
   "execution_count": 10,
   "metadata": {
    "colab": {
     "base_uri": "https://localhost:8080/"
    },
    "id": "z7wbCmvhzkMC",
    "outputId": "8e43328e-eb52-43e4-c9c7-789370610e99"
   },
   "outputs": [
    {
     "name": "stdout",
     "output_type": "stream",
     "text": [
      "<class 'pandas.core.frame.DataFrame'>\n",
      "RangeIndex: 53231 entries, 0 to 53230\n",
      "Data columns (total 8 columns):\n",
      " #   Column            Non-Null Count  Dtype         \n",
      "---  ------            --------------  -----         \n",
      " 0   id                53231 non-null  int64         \n",
      " 1   order_id          53231 non-null  int64         \n",
      " 2   product_id        53231 non-null  int64         \n",
      " 3   product_quantity  53231 non-null  int64         \n",
      " 4   sku               53231 non-null  object        \n",
      " 5   unit_price        53231 non-null  float64       \n",
      " 6   date              53231 non-null  datetime64[ns]\n",
      " 7   unit_price_total  53231 non-null  float64       \n",
      "dtypes: datetime64[ns](1), float64(2), int64(4), object(1)\n",
      "memory usage: 3.2+ MB\n"
     ]
    }
   ],
   "source": [
    "# changing \"date\" in orderlines to datetime datatype\n",
    "orderlines_c[\"date\"] = pd.to_datetime(orderlines_c[\"date\"])\n",
    "orderlines_c.info()"
   ]
  },
  {
   "cell_type": "code",
   "execution_count": 11,
   "metadata": {
    "colab": {
     "base_uri": "https://localhost:8080/"
    },
    "id": "K2yzWEvwzvx5",
    "outputId": "85ace44b-48dd-4e56-cb0a-69d246b428f7"
   },
   "outputs": [
    {
     "name": "stdout",
     "output_type": "stream",
     "text": [
      "<class 'pandas.core.frame.DataFrame'>\n",
      "RangeIndex: 9992 entries, 0 to 9991\n",
      "Data columns (total 6 columns):\n",
      " #   Column    Non-Null Count  Dtype  \n",
      "---  ------    --------------  -----  \n",
      " 0   sku       9992 non-null   object \n",
      " 1   name      9992 non-null   object \n",
      " 2   desc      9992 non-null   object \n",
      " 3   price     9992 non-null   float64\n",
      " 4   in_stock  9992 non-null   int64  \n",
      " 5   type      9946 non-null   object \n",
      "dtypes: float64(1), int64(1), object(4)\n",
      "memory usage: 468.5+ KB\n"
     ]
    }
   ],
   "source": [
    "products_c.info()"
   ]
  },
  {
   "cell_type": "markdown",
   "metadata": {
    "id": "cQJto0JNz3xv"
   },
   "source": [
    "## convert `in_stock` to boolean"
   ]
  },
  {
   "cell_type": "code",
   "execution_count": 12,
   "metadata": {
    "colab": {
     "base_uri": "https://localhost:8080/"
    },
    "id": "Xkf5ovk-5ZSZ",
    "outputId": "07d4d5b5-fc88-495a-ba77-926e7ddfe773"
   },
   "outputs": [
    {
     "name": "stdout",
     "output_type": "stream",
     "text": [
      "<class 'pandas.core.frame.DataFrame'>\n",
      "RangeIndex: 187 entries, 0 to 186\n",
      "Data columns (total 2 columns):\n",
      " #   Column  Non-Null Count  Dtype \n",
      "---  ------  --------------  ----- \n",
      " 0   short   187 non-null    object\n",
      " 1   long    187 non-null    object\n",
      "dtypes: object(2)\n",
      "memory usage: 3.0+ KB\n"
     ]
    }
   ],
   "source": [
    "brands_c.info()"
   ]
  },
  {
   "cell_type": "markdown",
   "metadata": {
    "id": "hSqq5NH51U1Z"
   },
   "source": [
    "# Overview of dataframes"
   ]
  },
  {
   "cell_type": "code",
   "execution_count": 13,
   "metadata": {
    "colab": {
     "base_uri": "https://localhost:8080/"
    },
    "id": "Lzaa4exuzykD",
    "outputId": "e9ab6419-38c4-41e0-f976-97c4931aff3f"
   },
   "outputs": [
    {
     "data": {
      "text/html": [
       "<div>\n",
       "<style scoped>\n",
       "    .dataframe tbody tr th:only-of-type {\n",
       "        vertical-align: middle;\n",
       "    }\n",
       "\n",
       "    .dataframe tbody tr th {\n",
       "        vertical-align: top;\n",
       "    }\n",
       "\n",
       "    .dataframe thead th {\n",
       "        text-align: right;\n",
       "    }\n",
       "</style>\n",
       "<table border=\"1\" class=\"dataframe\">\n",
       "  <thead>\n",
       "    <tr style=\"text-align: right;\">\n",
       "      <th></th>\n",
       "      <th>order_id</th>\n",
       "      <th>created_date</th>\n",
       "      <th>total_paid</th>\n",
       "      <th>state</th>\n",
       "    </tr>\n",
       "  </thead>\n",
       "  <tbody>\n",
       "    <tr>\n",
       "      <th>0</th>\n",
       "      <td>241423</td>\n",
       "      <td>2017-11-06 13:10:02</td>\n",
       "      <td>136.15</td>\n",
       "      <td>Completed</td>\n",
       "    </tr>\n",
       "    <tr>\n",
       "      <th>1</th>\n",
       "      <td>242832</td>\n",
       "      <td>2017-12-31 17:40:03</td>\n",
       "      <td>15.76</td>\n",
       "      <td>Completed</td>\n",
       "    </tr>\n",
       "    <tr>\n",
       "      <th>2</th>\n",
       "      <td>243330</td>\n",
       "      <td>2017-02-16 10:59:38</td>\n",
       "      <td>84.98</td>\n",
       "      <td>Completed</td>\n",
       "    </tr>\n",
       "    <tr>\n",
       "      <th>3</th>\n",
       "      <td>245275</td>\n",
       "      <td>2017-06-28 11:35:37</td>\n",
       "      <td>149.00</td>\n",
       "      <td>Completed</td>\n",
       "    </tr>\n",
       "    <tr>\n",
       "      <th>4</th>\n",
       "      <td>245595</td>\n",
       "      <td>2017-01-21 12:52:47</td>\n",
       "      <td>112.97</td>\n",
       "      <td>Completed</td>\n",
       "    </tr>\n",
       "  </tbody>\n",
       "</table>\n",
       "</div>"
      ],
      "text/plain": [
       "   order_id        created_date  total_paid      state\n",
       "0    241423 2017-11-06 13:10:02      136.15  Completed\n",
       "1    242832 2017-12-31 17:40:03       15.76  Completed\n",
       "2    243330 2017-02-16 10:59:38       84.98  Completed\n",
       "3    245275 2017-06-28 11:35:37      149.00  Completed\n",
       "4    245595 2017-01-21 12:52:47      112.97  Completed"
      ]
     },
     "execution_count": 13,
     "metadata": {},
     "output_type": "execute_result"
    }
   ],
   "source": [
    "orders_c.head()"
   ]
  },
  {
   "cell_type": "code",
   "execution_count": 14,
   "metadata": {
    "colab": {
     "base_uri": "https://localhost:8080/"
    },
    "id": "r669bGKU0BnV",
    "outputId": "bfd2eb80-a913-4ace-c791-80ea76c45393"
   },
   "outputs": [
    {
     "data": {
      "text/html": [
       "<div>\n",
       "<style scoped>\n",
       "    .dataframe tbody tr th:only-of-type {\n",
       "        vertical-align: middle;\n",
       "    }\n",
       "\n",
       "    .dataframe tbody tr th {\n",
       "        vertical-align: top;\n",
       "    }\n",
       "\n",
       "    .dataframe thead th {\n",
       "        text-align: right;\n",
       "    }\n",
       "</style>\n",
       "<table border=\"1\" class=\"dataframe\">\n",
       "  <thead>\n",
       "    <tr style=\"text-align: right;\">\n",
       "      <th></th>\n",
       "      <th>id</th>\n",
       "      <th>order_id</th>\n",
       "      <th>product_id</th>\n",
       "      <th>product_quantity</th>\n",
       "      <th>sku</th>\n",
       "      <th>unit_price</th>\n",
       "      <th>date</th>\n",
       "      <th>unit_price_total</th>\n",
       "    </tr>\n",
       "  </thead>\n",
       "  <tbody>\n",
       "    <tr>\n",
       "      <th>0</th>\n",
       "      <td>1119116</td>\n",
       "      <td>299545</td>\n",
       "      <td>0</td>\n",
       "      <td>1</td>\n",
       "      <td>OWC0100</td>\n",
       "      <td>47.49</td>\n",
       "      <td>2017-01-01 01:46:16</td>\n",
       "      <td>47.49</td>\n",
       "    </tr>\n",
       "    <tr>\n",
       "      <th>1</th>\n",
       "      <td>1119119</td>\n",
       "      <td>299546</td>\n",
       "      <td>0</td>\n",
       "      <td>1</td>\n",
       "      <td>IOT0014</td>\n",
       "      <td>18.99</td>\n",
       "      <td>2017-01-01 01:50:34</td>\n",
       "      <td>18.99</td>\n",
       "    </tr>\n",
       "    <tr>\n",
       "      <th>2</th>\n",
       "      <td>1119120</td>\n",
       "      <td>295347</td>\n",
       "      <td>0</td>\n",
       "      <td>1</td>\n",
       "      <td>APP0700</td>\n",
       "      <td>72.19</td>\n",
       "      <td>2017-01-01 01:54:11</td>\n",
       "      <td>72.19</td>\n",
       "    </tr>\n",
       "    <tr>\n",
       "      <th>3</th>\n",
       "      <td>1119134</td>\n",
       "      <td>299556</td>\n",
       "      <td>0</td>\n",
       "      <td>1</td>\n",
       "      <td>CRU0039-A</td>\n",
       "      <td>60.90</td>\n",
       "      <td>2017-01-01 02:20:14</td>\n",
       "      <td>60.90</td>\n",
       "    </tr>\n",
       "    <tr>\n",
       "      <th>4</th>\n",
       "      <td>1119145</td>\n",
       "      <td>299561</td>\n",
       "      <td>0</td>\n",
       "      <td>1</td>\n",
       "      <td>PEB0015</td>\n",
       "      <td>142.49</td>\n",
       "      <td>2017-01-01 02:38:50</td>\n",
       "      <td>142.49</td>\n",
       "    </tr>\n",
       "  </tbody>\n",
       "</table>\n",
       "</div>"
      ],
      "text/plain": [
       "        id  order_id  product_id  product_quantity        sku  unit_price  \\\n",
       "0  1119116    299545           0                 1    OWC0100       47.49   \n",
       "1  1119119    299546           0                 1    IOT0014       18.99   \n",
       "2  1119120    295347           0                 1    APP0700       72.19   \n",
       "3  1119134    299556           0                 1  CRU0039-A       60.90   \n",
       "4  1119145    299561           0                 1    PEB0015      142.49   \n",
       "\n",
       "                 date  unit_price_total  \n",
       "0 2017-01-01 01:46:16             47.49  \n",
       "1 2017-01-01 01:50:34             18.99  \n",
       "2 2017-01-01 01:54:11             72.19  \n",
       "3 2017-01-01 02:20:14             60.90  \n",
       "4 2017-01-01 02:38:50            142.49  "
      ]
     },
     "execution_count": 14,
     "metadata": {},
     "output_type": "execute_result"
    }
   ],
   "source": [
    "orderlines_c.head()"
   ]
  },
  {
   "cell_type": "code",
   "execution_count": 15,
   "metadata": {
    "colab": {
     "base_uri": "https://localhost:8080/"
    },
    "id": "GeOxCJrH0EYO",
    "outputId": "d250b6ea-a98f-4bd9-b388-5bcbba2dfd81"
   },
   "outputs": [
    {
     "data": {
      "text/html": [
       "<div>\n",
       "<style scoped>\n",
       "    .dataframe tbody tr th:only-of-type {\n",
       "        vertical-align: middle;\n",
       "    }\n",
       "\n",
       "    .dataframe tbody tr th {\n",
       "        vertical-align: top;\n",
       "    }\n",
       "\n",
       "    .dataframe thead th {\n",
       "        text-align: right;\n",
       "    }\n",
       "</style>\n",
       "<table border=\"1\" class=\"dataframe\">\n",
       "  <thead>\n",
       "    <tr style=\"text-align: right;\">\n",
       "      <th></th>\n",
       "      <th>sku</th>\n",
       "      <th>name</th>\n",
       "      <th>desc</th>\n",
       "      <th>price</th>\n",
       "      <th>in_stock</th>\n",
       "      <th>type</th>\n",
       "    </tr>\n",
       "  </thead>\n",
       "  <tbody>\n",
       "    <tr>\n",
       "      <th>0</th>\n",
       "      <td>RAI0007</td>\n",
       "      <td>Silver Rain Design mStand Support</td>\n",
       "      <td>Aluminum support compatible with all MacBook</td>\n",
       "      <td>59.99</td>\n",
       "      <td>1</td>\n",
       "      <td>8696</td>\n",
       "    </tr>\n",
       "    <tr>\n",
       "      <th>1</th>\n",
       "      <td>APP0023</td>\n",
       "      <td>Apple Mac Keyboard Keypad Spanish</td>\n",
       "      <td>USB ultrathin keyboard Apple Mac Spanish.</td>\n",
       "      <td>59.00</td>\n",
       "      <td>0</td>\n",
       "      <td>13855401</td>\n",
       "    </tr>\n",
       "    <tr>\n",
       "      <th>2</th>\n",
       "      <td>APP0025</td>\n",
       "      <td>Mighty Mouse Apple Mouse for Mac</td>\n",
       "      <td>mouse Apple USB cable.</td>\n",
       "      <td>59.00</td>\n",
       "      <td>0</td>\n",
       "      <td>1387</td>\n",
       "    </tr>\n",
       "    <tr>\n",
       "      <th>3</th>\n",
       "      <td>APP0072</td>\n",
       "      <td>Apple Dock to USB Cable iPhone and iPod white</td>\n",
       "      <td>IPhone dock and USB Cable Apple iPod.</td>\n",
       "      <td>25.00</td>\n",
       "      <td>0</td>\n",
       "      <td>1230</td>\n",
       "    </tr>\n",
       "    <tr>\n",
       "      <th>4</th>\n",
       "      <td>KIN0007</td>\n",
       "      <td>Mac Memory Kingston 2GB 667MHz DDR2 SO-DIMM</td>\n",
       "      <td>2GB RAM Mac mini and iMac (2006/07) MacBook Pr...</td>\n",
       "      <td>34.99</td>\n",
       "      <td>1</td>\n",
       "      <td>1364</td>\n",
       "    </tr>\n",
       "  </tbody>\n",
       "</table>\n",
       "</div>"
      ],
      "text/plain": [
       "       sku                                           name  \\\n",
       "0  RAI0007              Silver Rain Design mStand Support   \n",
       "1  APP0023              Apple Mac Keyboard Keypad Spanish   \n",
       "2  APP0025               Mighty Mouse Apple Mouse for Mac   \n",
       "3  APP0072  Apple Dock to USB Cable iPhone and iPod white   \n",
       "4  KIN0007    Mac Memory Kingston 2GB 667MHz DDR2 SO-DIMM   \n",
       "\n",
       "                                                desc  price  in_stock  \\\n",
       "0       Aluminum support compatible with all MacBook  59.99         1   \n",
       "1          USB ultrathin keyboard Apple Mac Spanish.  59.00         0   \n",
       "2                             mouse Apple USB cable.  59.00         0   \n",
       "3              IPhone dock and USB Cable Apple iPod.  25.00         0   \n",
       "4  2GB RAM Mac mini and iMac (2006/07) MacBook Pr...  34.99         1   \n",
       "\n",
       "       type  \n",
       "0      8696  \n",
       "1  13855401  \n",
       "2      1387  \n",
       "3      1230  \n",
       "4      1364  "
      ]
     },
     "execution_count": 15,
     "metadata": {},
     "output_type": "execute_result"
    }
   ],
   "source": [
    "products_c.head()"
   ]
  },
  {
   "cell_type": "code",
   "execution_count": 16,
   "metadata": {
    "colab": {
     "base_uri": "https://localhost:8080/"
    },
    "id": "1t_VOcS-0aW7",
    "outputId": "87e779c8-f610-4a11-b37e-331e68785866"
   },
   "outputs": [
    {
     "data": {
      "text/html": [
       "<div>\n",
       "<style scoped>\n",
       "    .dataframe tbody tr th:only-of-type {\n",
       "        vertical-align: middle;\n",
       "    }\n",
       "\n",
       "    .dataframe tbody tr th {\n",
       "        vertical-align: top;\n",
       "    }\n",
       "\n",
       "    .dataframe thead th {\n",
       "        text-align: right;\n",
       "    }\n",
       "</style>\n",
       "<table border=\"1\" class=\"dataframe\">\n",
       "  <thead>\n",
       "    <tr style=\"text-align: right;\">\n",
       "      <th></th>\n",
       "      <th>short</th>\n",
       "      <th>long</th>\n",
       "    </tr>\n",
       "  </thead>\n",
       "  <tbody>\n",
       "    <tr>\n",
       "      <th>0</th>\n",
       "      <td>8MO</td>\n",
       "      <td>8Mobility</td>\n",
       "    </tr>\n",
       "    <tr>\n",
       "      <th>1</th>\n",
       "      <td>ACM</td>\n",
       "      <td>Acme</td>\n",
       "    </tr>\n",
       "    <tr>\n",
       "      <th>2</th>\n",
       "      <td>ADN</td>\n",
       "      <td>Adonit</td>\n",
       "    </tr>\n",
       "    <tr>\n",
       "      <th>3</th>\n",
       "      <td>AII</td>\n",
       "      <td>Aiino</td>\n",
       "    </tr>\n",
       "    <tr>\n",
       "      <th>4</th>\n",
       "      <td>AKI</td>\n",
       "      <td>Akitio</td>\n",
       "    </tr>\n",
       "  </tbody>\n",
       "</table>\n",
       "</div>"
      ],
      "text/plain": [
       "  short       long\n",
       "0   8MO  8Mobility\n",
       "1   ACM       Acme\n",
       "2   ADN     Adonit\n",
       "3   AII      Aiino\n",
       "4   AKI     Akitio"
      ]
     },
     "execution_count": 16,
     "metadata": {},
     "output_type": "execute_result"
    }
   ],
   "source": [
    "brands_c.head()"
   ]
  },
  {
   "cell_type": "markdown",
   "metadata": {
    "id": "oMXruQ2w1_CT"
   },
   "source": [
    "# 1st merge"
   ]
  },
  {
   "cell_type": "markdown",
   "metadata": {
    "id": "1Qi4yoFO1Zze"
   },
   "source": [
    "## creating new column `short`"
   ]
  },
  {
   "cell_type": "code",
   "execution_count": 17,
   "metadata": {
    "colab": {
     "base_uri": "https://localhost:8080/"
    },
    "id": "HqJW1gqjAYte",
    "outputId": "64983812-812a-40ba-efaf-020065b37552"
   },
   "outputs": [
    {
     "data": {
      "text/html": [
       "<div>\n",
       "<style scoped>\n",
       "    .dataframe tbody tr th:only-of-type {\n",
       "        vertical-align: middle;\n",
       "    }\n",
       "\n",
       "    .dataframe tbody tr th {\n",
       "        vertical-align: top;\n",
       "    }\n",
       "\n",
       "    .dataframe thead th {\n",
       "        text-align: right;\n",
       "    }\n",
       "</style>\n",
       "<table border=\"1\" class=\"dataframe\">\n",
       "  <thead>\n",
       "    <tr style=\"text-align: right;\">\n",
       "      <th></th>\n",
       "      <th>sku</th>\n",
       "      <th>name</th>\n",
       "      <th>desc</th>\n",
       "      <th>price</th>\n",
       "      <th>in_stock</th>\n",
       "      <th>type</th>\n",
       "      <th>short</th>\n",
       "    </tr>\n",
       "  </thead>\n",
       "  <tbody>\n",
       "    <tr>\n",
       "      <th>0</th>\n",
       "      <td>RAI0007</td>\n",
       "      <td>Silver Rain Design mStand Support</td>\n",
       "      <td>Aluminum support compatible with all MacBook</td>\n",
       "      <td>59.99</td>\n",
       "      <td>1</td>\n",
       "      <td>8696</td>\n",
       "      <td>RAI</td>\n",
       "    </tr>\n",
       "  </tbody>\n",
       "</table>\n",
       "</div>"
      ],
      "text/plain": [
       "       sku                               name  \\\n",
       "0  RAI0007  Silver Rain Design mStand Support   \n",
       "\n",
       "                                           desc  price  in_stock  type short  \n",
       "0  Aluminum support compatible with all MacBook  59.99         1  8696   RAI  "
      ]
     },
     "execution_count": 17,
     "metadata": {},
     "output_type": "execute_result"
    }
   ],
   "source": [
    "# retrieving first 3 letters of \"sku\" from products to form new column \"short\"\n",
    "products_c['short'] = products_c.sku.str[:3]\n",
    "products_c.head(1)"
   ]
  },
  {
   "cell_type": "markdown",
   "metadata": {
    "id": "YOBi3-D91loy"
   },
   "source": [
    "## merging `products` and `brands`"
   ]
  },
  {
   "cell_type": "code",
   "execution_count": 18,
   "metadata": {
    "colab": {
     "base_uri": "https://localhost:8080/"
    },
    "id": "Ola_vokt6KoO",
    "outputId": "4f9c3a77-3b34-4d1d-deba-e6788c220d12"
   },
   "outputs": [
    {
     "data": {
      "text/html": [
       "<div>\n",
       "<style scoped>\n",
       "    .dataframe tbody tr th:only-of-type {\n",
       "        vertical-align: middle;\n",
       "    }\n",
       "\n",
       "    .dataframe tbody tr th {\n",
       "        vertical-align: top;\n",
       "    }\n",
       "\n",
       "    .dataframe thead th {\n",
       "        text-align: right;\n",
       "    }\n",
       "</style>\n",
       "<table border=\"1\" class=\"dataframe\">\n",
       "  <thead>\n",
       "    <tr style=\"text-align: right;\">\n",
       "      <th></th>\n",
       "      <th>sku</th>\n",
       "      <th>name</th>\n",
       "      <th>desc</th>\n",
       "      <th>price</th>\n",
       "      <th>in_stock</th>\n",
       "      <th>type</th>\n",
       "      <th>short</th>\n",
       "      <th>long</th>\n",
       "    </tr>\n",
       "  </thead>\n",
       "  <tbody>\n",
       "    <tr>\n",
       "      <th>0</th>\n",
       "      <td>RAI0007</td>\n",
       "      <td>Silver Rain Design mStand Support</td>\n",
       "      <td>Aluminum support compatible with all MacBook</td>\n",
       "      <td>59.99</td>\n",
       "      <td>1</td>\n",
       "      <td>8696</td>\n",
       "      <td>RAI</td>\n",
       "      <td>Rain Design</td>\n",
       "    </tr>\n",
       "    <tr>\n",
       "      <th>1</th>\n",
       "      <td>APP0023</td>\n",
       "      <td>Apple Mac Keyboard Keypad Spanish</td>\n",
       "      <td>USB ultrathin keyboard Apple Mac Spanish.</td>\n",
       "      <td>59.00</td>\n",
       "      <td>0</td>\n",
       "      <td>13855401</td>\n",
       "      <td>APP</td>\n",
       "      <td>Apple</td>\n",
       "    </tr>\n",
       "    <tr>\n",
       "      <th>2</th>\n",
       "      <td>APP0025</td>\n",
       "      <td>Mighty Mouse Apple Mouse for Mac</td>\n",
       "      <td>mouse Apple USB cable.</td>\n",
       "      <td>59.00</td>\n",
       "      <td>0</td>\n",
       "      <td>1387</td>\n",
       "      <td>APP</td>\n",
       "      <td>Apple</td>\n",
       "    </tr>\n",
       "    <tr>\n",
       "      <th>3</th>\n",
       "      <td>APP0072</td>\n",
       "      <td>Apple Dock to USB Cable iPhone and iPod white</td>\n",
       "      <td>IPhone dock and USB Cable Apple iPod.</td>\n",
       "      <td>25.00</td>\n",
       "      <td>0</td>\n",
       "      <td>1230</td>\n",
       "      <td>APP</td>\n",
       "      <td>Apple</td>\n",
       "    </tr>\n",
       "    <tr>\n",
       "      <th>4</th>\n",
       "      <td>KIN0007</td>\n",
       "      <td>Mac Memory Kingston 2GB 667MHz DDR2 SO-DIMM</td>\n",
       "      <td>2GB RAM Mac mini and iMac (2006/07) MacBook Pr...</td>\n",
       "      <td>34.99</td>\n",
       "      <td>1</td>\n",
       "      <td>1364</td>\n",
       "      <td>KIN</td>\n",
       "      <td>Kingston</td>\n",
       "    </tr>\n",
       "    <tr>\n",
       "      <th>...</th>\n",
       "      <td>...</td>\n",
       "      <td>...</td>\n",
       "      <td>...</td>\n",
       "      <td>...</td>\n",
       "      <td>...</td>\n",
       "      <td>...</td>\n",
       "      <td>...</td>\n",
       "      <td>...</td>\n",
       "    </tr>\n",
       "    <tr>\n",
       "      <th>9987</th>\n",
       "      <td>BEL0376</td>\n",
       "      <td>Belkin Travel Support Apple Watch Black</td>\n",
       "      <td>compact and portable stand vertically or horiz...</td>\n",
       "      <td>29.99</td>\n",
       "      <td>1</td>\n",
       "      <td>12282</td>\n",
       "      <td>BEL</td>\n",
       "      <td>Belkin</td>\n",
       "    </tr>\n",
       "    <tr>\n",
       "      <th>9988</th>\n",
       "      <td>THU0060</td>\n",
       "      <td>Enroute Thule 14L Backpack MacBook 13 \"Black</td>\n",
       "      <td>Backpack with capacity of 14 liter compartment...</td>\n",
       "      <td>69.95</td>\n",
       "      <td>1</td>\n",
       "      <td>1392</td>\n",
       "      <td>THU</td>\n",
       "      <td>Thule</td>\n",
       "    </tr>\n",
       "    <tr>\n",
       "      <th>9989</th>\n",
       "      <td>THU0061</td>\n",
       "      <td>Enroute Thule 14L Backpack MacBook 13 \"Blue</td>\n",
       "      <td>Backpack with capacity of 14 liter compartment...</td>\n",
       "      <td>69.95</td>\n",
       "      <td>1</td>\n",
       "      <td>1392</td>\n",
       "      <td>THU</td>\n",
       "      <td>Thule</td>\n",
       "    </tr>\n",
       "    <tr>\n",
       "      <th>9990</th>\n",
       "      <td>THU0062</td>\n",
       "      <td>Enroute Thule 14L Backpack MacBook 13 \"Red</td>\n",
       "      <td>Backpack with capacity of 14 liter compartment...</td>\n",
       "      <td>69.95</td>\n",
       "      <td>0</td>\n",
       "      <td>1392</td>\n",
       "      <td>THU</td>\n",
       "      <td>Thule</td>\n",
       "    </tr>\n",
       "    <tr>\n",
       "      <th>9991</th>\n",
       "      <td>THU0063</td>\n",
       "      <td>Enroute Thule 14L Backpack MacBook 13 \"Green</td>\n",
       "      <td>Backpack with capacity of 14 liter compartment...</td>\n",
       "      <td>69.95</td>\n",
       "      <td>1</td>\n",
       "      <td>1392</td>\n",
       "      <td>THU</td>\n",
       "      <td>Thule</td>\n",
       "    </tr>\n",
       "  </tbody>\n",
       "</table>\n",
       "<p>9992 rows × 8 columns</p>\n",
       "</div>"
      ],
      "text/plain": [
       "          sku                                           name  \\\n",
       "0     RAI0007              Silver Rain Design mStand Support   \n",
       "1     APP0023              Apple Mac Keyboard Keypad Spanish   \n",
       "2     APP0025               Mighty Mouse Apple Mouse for Mac   \n",
       "3     APP0072  Apple Dock to USB Cable iPhone and iPod white   \n",
       "4     KIN0007    Mac Memory Kingston 2GB 667MHz DDR2 SO-DIMM   \n",
       "...       ...                                            ...   \n",
       "9987  BEL0376        Belkin Travel Support Apple Watch Black   \n",
       "9988  THU0060   Enroute Thule 14L Backpack MacBook 13 \"Black   \n",
       "9989  THU0061    Enroute Thule 14L Backpack MacBook 13 \"Blue   \n",
       "9990  THU0062     Enroute Thule 14L Backpack MacBook 13 \"Red   \n",
       "9991  THU0063   Enroute Thule 14L Backpack MacBook 13 \"Green   \n",
       "\n",
       "                                                   desc  price  in_stock  \\\n",
       "0          Aluminum support compatible with all MacBook  59.99         1   \n",
       "1             USB ultrathin keyboard Apple Mac Spanish.  59.00         0   \n",
       "2                                mouse Apple USB cable.  59.00         0   \n",
       "3                 IPhone dock and USB Cable Apple iPod.  25.00         0   \n",
       "4     2GB RAM Mac mini and iMac (2006/07) MacBook Pr...  34.99         1   \n",
       "...                                                 ...    ...       ...   \n",
       "9987  compact and portable stand vertically or horiz...  29.99         1   \n",
       "9988  Backpack with capacity of 14 liter compartment...  69.95         1   \n",
       "9989  Backpack with capacity of 14 liter compartment...  69.95         1   \n",
       "9990  Backpack with capacity of 14 liter compartment...  69.95         0   \n",
       "9991  Backpack with capacity of 14 liter compartment...  69.95         1   \n",
       "\n",
       "          type short         long  \n",
       "0         8696   RAI  Rain Design  \n",
       "1     13855401   APP        Apple  \n",
       "2         1387   APP        Apple  \n",
       "3         1230   APP        Apple  \n",
       "4         1364   KIN     Kingston  \n",
       "...        ...   ...          ...  \n",
       "9987     12282   BEL       Belkin  \n",
       "9988      1392   THU        Thule  \n",
       "9989      1392   THU        Thule  \n",
       "9990      1392   THU        Thule  \n",
       "9991      1392   THU        Thule  \n",
       "\n",
       "[9992 rows x 8 columns]"
      ]
     },
     "execution_count": 18,
     "metadata": {},
     "output_type": "execute_result"
    }
   ],
   "source": [
    "# merging products and brands on \"short\"\n",
    "pro_bra_m = products_c.merge(brands_c, on=\"short\", how=\"left\")\n",
    "pro_bra_m"
   ]
  },
  {
   "cell_type": "markdown",
   "metadata": {
    "id": "MIwoEO_x1zIF"
   },
   "source": [
    "## renaming column `long` as `brand`"
   ]
  },
  {
   "cell_type": "code",
   "execution_count": 19,
   "metadata": {
    "colab": {
     "base_uri": "https://localhost:8080/"
    },
    "id": "iYDNY_v3Hc2D",
    "outputId": "9459b2f0-956c-4008-a10a-750b593c3ffb"
   },
   "outputs": [
    {
     "data": {
      "text/html": [
       "<div>\n",
       "<style scoped>\n",
       "    .dataframe tbody tr th:only-of-type {\n",
       "        vertical-align: middle;\n",
       "    }\n",
       "\n",
       "    .dataframe tbody tr th {\n",
       "        vertical-align: top;\n",
       "    }\n",
       "\n",
       "    .dataframe thead th {\n",
       "        text-align: right;\n",
       "    }\n",
       "</style>\n",
       "<table border=\"1\" class=\"dataframe\">\n",
       "  <thead>\n",
       "    <tr style=\"text-align: right;\">\n",
       "      <th></th>\n",
       "      <th>sku</th>\n",
       "      <th>name</th>\n",
       "      <th>desc</th>\n",
       "      <th>price</th>\n",
       "      <th>in_stock</th>\n",
       "      <th>type</th>\n",
       "      <th>short</th>\n",
       "      <th>brand</th>\n",
       "    </tr>\n",
       "  </thead>\n",
       "  <tbody>\n",
       "    <tr>\n",
       "      <th>0</th>\n",
       "      <td>RAI0007</td>\n",
       "      <td>Silver Rain Design mStand Support</td>\n",
       "      <td>Aluminum support compatible with all MacBook</td>\n",
       "      <td>59.99</td>\n",
       "      <td>1</td>\n",
       "      <td>8696</td>\n",
       "      <td>RAI</td>\n",
       "      <td>Rain Design</td>\n",
       "    </tr>\n",
       "  </tbody>\n",
       "</table>\n",
       "</div>"
      ],
      "text/plain": [
       "       sku                               name  \\\n",
       "0  RAI0007  Silver Rain Design mStand Support   \n",
       "\n",
       "                                           desc  price  in_stock  type short  \\\n",
       "0  Aluminum support compatible with all MacBook  59.99         1  8696   RAI   \n",
       "\n",
       "         brand  \n",
       "0  Rain Design  "
      ]
     },
     "execution_count": 19,
     "metadata": {},
     "output_type": "execute_result"
    }
   ],
   "source": [
    "# renaming column \"long\" as \"brand\"\n",
    "pro_bra_m.rename(columns= {\"long\":\"brand\"}, inplace=True)\n",
    "pro_bra_m.head(1)"
   ]
  },
  {
   "cell_type": "markdown",
   "metadata": {
    "id": "ngzFg6rQ2B2e"
   },
   "source": [
    "## dropping columns"
   ]
  },
  {
   "cell_type": "code",
   "execution_count": 20,
   "metadata": {
    "colab": {
     "base_uri": "https://localhost:8080/"
    },
    "id": "6pwgv3c3HVJ9",
    "outputId": "b858889e-5a34-4618-a141-9303719e7f2a"
   },
   "outputs": [
    {
     "data": {
      "text/html": [
       "<div>\n",
       "<style scoped>\n",
       "    .dataframe tbody tr th:only-of-type {\n",
       "        vertical-align: middle;\n",
       "    }\n",
       "\n",
       "    .dataframe tbody tr th {\n",
       "        vertical-align: top;\n",
       "    }\n",
       "\n",
       "    .dataframe thead th {\n",
       "        text-align: right;\n",
       "    }\n",
       "</style>\n",
       "<table border=\"1\" class=\"dataframe\">\n",
       "  <thead>\n",
       "    <tr style=\"text-align: right;\">\n",
       "      <th></th>\n",
       "      <th>sku</th>\n",
       "      <th>name</th>\n",
       "      <th>desc</th>\n",
       "      <th>price</th>\n",
       "      <th>in_stock</th>\n",
       "      <th>type</th>\n",
       "      <th>brand</th>\n",
       "    </tr>\n",
       "  </thead>\n",
       "  <tbody>\n",
       "    <tr>\n",
       "      <th>0</th>\n",
       "      <td>RAI0007</td>\n",
       "      <td>Silver Rain Design mStand Support</td>\n",
       "      <td>Aluminum support compatible with all MacBook</td>\n",
       "      <td>59.99</td>\n",
       "      <td>1</td>\n",
       "      <td>8696</td>\n",
       "      <td>Rain Design</td>\n",
       "    </tr>\n",
       "  </tbody>\n",
       "</table>\n",
       "</div>"
      ],
      "text/plain": [
       "       sku                               name  \\\n",
       "0  RAI0007  Silver Rain Design mStand Support   \n",
       "\n",
       "                                           desc  price  in_stock  type  \\\n",
       "0  Aluminum support compatible with all MacBook  59.99         1  8696   \n",
       "\n",
       "         brand  \n",
       "0  Rain Design  "
      ]
     },
     "execution_count": 20,
     "metadata": {},
     "output_type": "execute_result"
    }
   ],
   "source": [
    "# dropping unwanted columns from pro_bra_m\n",
    "pro_bra_m = pro_bra_m.drop(labels=\"short\", axis=1)\n",
    "pro_bra_m.head(1)\n"
   ]
  },
  {
   "cell_type": "markdown",
   "metadata": {
    "id": "oMozsx3c2GSn"
   },
   "source": [
    "# 2nd merge"
   ]
  },
  {
   "cell_type": "markdown",
   "metadata": {
    "id": "cW44vFRf2OPc"
   },
   "source": [
    "## merging `orderlines` with already-merged `products` and `brands`"
   ]
  },
  {
   "cell_type": "code",
   "execution_count": 21,
   "metadata": {
    "colab": {
     "base_uri": "https://localhost:8080/"
    },
    "id": "-_H8bmfEJZQW",
    "outputId": "ed8e77a9-5509-420c-f297-24fe8d0fb0fa"
   },
   "outputs": [
    {
     "data": {
      "text/html": [
       "<div>\n",
       "<style scoped>\n",
       "    .dataframe tbody tr th:only-of-type {\n",
       "        vertical-align: middle;\n",
       "    }\n",
       "\n",
       "    .dataframe tbody tr th {\n",
       "        vertical-align: top;\n",
       "    }\n",
       "\n",
       "    .dataframe thead th {\n",
       "        text-align: right;\n",
       "    }\n",
       "</style>\n",
       "<table border=\"1\" class=\"dataframe\">\n",
       "  <thead>\n",
       "    <tr style=\"text-align: right;\">\n",
       "      <th></th>\n",
       "      <th>id</th>\n",
       "      <th>order_id</th>\n",
       "      <th>product_id</th>\n",
       "      <th>product_quantity</th>\n",
       "      <th>sku</th>\n",
       "      <th>unit_price</th>\n",
       "      <th>date</th>\n",
       "      <th>unit_price_total</th>\n",
       "      <th>name</th>\n",
       "      <th>desc</th>\n",
       "      <th>price</th>\n",
       "      <th>in_stock</th>\n",
       "      <th>type</th>\n",
       "      <th>brand</th>\n",
       "    </tr>\n",
       "  </thead>\n",
       "  <tbody>\n",
       "    <tr>\n",
       "      <th>0</th>\n",
       "      <td>1119116</td>\n",
       "      <td>299545</td>\n",
       "      <td>0</td>\n",
       "      <td>1</td>\n",
       "      <td>OWC0100</td>\n",
       "      <td>47.49</td>\n",
       "      <td>2017-01-01 01:46:16</td>\n",
       "      <td>47.49</td>\n",
       "      <td>OWC In-line Digital Temperature Sensor Kit HDD...</td>\n",
       "      <td>Kit temperature sensor for HDD iMac 21 inch an...</td>\n",
       "      <td>60.99</td>\n",
       "      <td>1</td>\n",
       "      <td>12755395</td>\n",
       "      <td>OWC</td>\n",
       "    </tr>\n",
       "    <tr>\n",
       "      <th>1</th>\n",
       "      <td>1119119</td>\n",
       "      <td>299546</td>\n",
       "      <td>0</td>\n",
       "      <td>1</td>\n",
       "      <td>IOT0014</td>\n",
       "      <td>18.99</td>\n",
       "      <td>2017-01-01 01:50:34</td>\n",
       "      <td>18.99</td>\n",
       "      <td>iOttie Easy View 2 Car Black Support</td>\n",
       "      <td>IPhone car holder 7 plus / 7/6 Plus / 6 / 5s /...</td>\n",
       "      <td>22.95</td>\n",
       "      <td>0</td>\n",
       "      <td>5720</td>\n",
       "      <td>iOttie</td>\n",
       "    </tr>\n",
       "    <tr>\n",
       "      <th>2</th>\n",
       "      <td>1119120</td>\n",
       "      <td>295347</td>\n",
       "      <td>0</td>\n",
       "      <td>1</td>\n",
       "      <td>APP0700</td>\n",
       "      <td>72.19</td>\n",
       "      <td>2017-01-01 01:54:11</td>\n",
       "      <td>72.19</td>\n",
       "      <td>Apple 85W MagSafe 2 charger MacBook Pro screen...</td>\n",
       "      <td>Apple MagSafe 2 Charger for MacBook Pro 15-inc...</td>\n",
       "      <td>89.00</td>\n",
       "      <td>1</td>\n",
       "      <td>13005399</td>\n",
       "      <td>Apple</td>\n",
       "    </tr>\n",
       "    <tr>\n",
       "      <th>3</th>\n",
       "      <td>1119134</td>\n",
       "      <td>299556</td>\n",
       "      <td>0</td>\n",
       "      <td>1</td>\n",
       "      <td>CRU0039-A</td>\n",
       "      <td>60.90</td>\n",
       "      <td>2017-01-01 02:20:14</td>\n",
       "      <td>60.90</td>\n",
       "      <td>(Open) Crucial 240GB SSD 7mm BX200</td>\n",
       "      <td>SSD hard drive and high-speed performance with...</td>\n",
       "      <td>76.99</td>\n",
       "      <td>0</td>\n",
       "      <td>1298</td>\n",
       "      <td>Crucial</td>\n",
       "    </tr>\n",
       "    <tr>\n",
       "      <th>4</th>\n",
       "      <td>1119145</td>\n",
       "      <td>299561</td>\n",
       "      <td>0</td>\n",
       "      <td>1</td>\n",
       "      <td>PEB0015</td>\n",
       "      <td>142.49</td>\n",
       "      <td>2017-01-01 02:38:50</td>\n",
       "      <td>142.49</td>\n",
       "      <td>Pebble Smartwatch Time Steel Black</td>\n",
       "      <td>Bluetooth Smart Watch with steel case leather ...</td>\n",
       "      <td>299.99</td>\n",
       "      <td>0</td>\n",
       "      <td>11905404</td>\n",
       "      <td>Pebble</td>\n",
       "    </tr>\n",
       "    <tr>\n",
       "      <th>...</th>\n",
       "      <td>...</td>\n",
       "      <td>...</td>\n",
       "      <td>...</td>\n",
       "      <td>...</td>\n",
       "      <td>...</td>\n",
       "      <td>...</td>\n",
       "      <td>...</td>\n",
       "      <td>...</td>\n",
       "      <td>...</td>\n",
       "      <td>...</td>\n",
       "      <td>...</td>\n",
       "      <td>...</td>\n",
       "      <td>...</td>\n",
       "      <td>...</td>\n",
       "    </tr>\n",
       "    <tr>\n",
       "      <th>53226</th>\n",
       "      <td>1649447</td>\n",
       "      <td>527035</td>\n",
       "      <td>0</td>\n",
       "      <td>1</td>\n",
       "      <td>APP0698</td>\n",
       "      <td>9.99</td>\n",
       "      <td>2018-03-14 11:42:41</td>\n",
       "      <td>9.99</td>\n",
       "      <td>Apple Lightning Cable Connector to USB 1m Whit...</td>\n",
       "      <td>Apple Lightning USB Cable 1 meter to charge an...</td>\n",
       "      <td>25.00</td>\n",
       "      <td>1</td>\n",
       "      <td>1230</td>\n",
       "      <td>Apple</td>\n",
       "    </tr>\n",
       "    <tr>\n",
       "      <th>53227</th>\n",
       "      <td>1649512</td>\n",
       "      <td>527070</td>\n",
       "      <td>0</td>\n",
       "      <td>2</td>\n",
       "      <td>APP0698</td>\n",
       "      <td>9.99</td>\n",
       "      <td>2018-03-14 11:49:01</td>\n",
       "      <td>19.98</td>\n",
       "      <td>Apple Lightning Cable Connector to USB 1m Whit...</td>\n",
       "      <td>Apple Lightning USB Cable 1 meter to charge an...</td>\n",
       "      <td>25.00</td>\n",
       "      <td>1</td>\n",
       "      <td>1230</td>\n",
       "      <td>Apple</td>\n",
       "    </tr>\n",
       "    <tr>\n",
       "      <th>53228</th>\n",
       "      <td>1649522</td>\n",
       "      <td>527074</td>\n",
       "      <td>0</td>\n",
       "      <td>2</td>\n",
       "      <td>APP0698</td>\n",
       "      <td>9.99</td>\n",
       "      <td>2018-03-14 11:49:36</td>\n",
       "      <td>19.98</td>\n",
       "      <td>Apple Lightning Cable Connector to USB 1m Whit...</td>\n",
       "      <td>Apple Lightning USB Cable 1 meter to charge an...</td>\n",
       "      <td>25.00</td>\n",
       "      <td>1</td>\n",
       "      <td>1230</td>\n",
       "      <td>Apple</td>\n",
       "    </tr>\n",
       "    <tr>\n",
       "      <th>53229</th>\n",
       "      <td>1649565</td>\n",
       "      <td>527096</td>\n",
       "      <td>0</td>\n",
       "      <td>3</td>\n",
       "      <td>APP0698</td>\n",
       "      <td>9.99</td>\n",
       "      <td>2018-03-14 11:54:35</td>\n",
       "      <td>29.97</td>\n",
       "      <td>Apple Lightning Cable Connector to USB 1m Whit...</td>\n",
       "      <td>Apple Lightning USB Cable 1 meter to charge an...</td>\n",
       "      <td>25.00</td>\n",
       "      <td>1</td>\n",
       "      <td>1230</td>\n",
       "      <td>Apple</td>\n",
       "    </tr>\n",
       "    <tr>\n",
       "      <th>53230</th>\n",
       "      <td>1649593</td>\n",
       "      <td>527112</td>\n",
       "      <td>0</td>\n",
       "      <td>1</td>\n",
       "      <td>APP0698</td>\n",
       "      <td>9.99</td>\n",
       "      <td>2018-03-14 11:58:13</td>\n",
       "      <td>9.99</td>\n",
       "      <td>Apple Lightning Cable Connector to USB 1m Whit...</td>\n",
       "      <td>Apple Lightning USB Cable 1 meter to charge an...</td>\n",
       "      <td>25.00</td>\n",
       "      <td>1</td>\n",
       "      <td>1230</td>\n",
       "      <td>Apple</td>\n",
       "    </tr>\n",
       "  </tbody>\n",
       "</table>\n",
       "<p>53231 rows × 14 columns</p>\n",
       "</div>"
      ],
      "text/plain": [
       "            id  order_id  product_id  product_quantity        sku  unit_price  \\\n",
       "0      1119116    299545           0                 1    OWC0100       47.49   \n",
       "1      1119119    299546           0                 1    IOT0014       18.99   \n",
       "2      1119120    295347           0                 1    APP0700       72.19   \n",
       "3      1119134    299556           0                 1  CRU0039-A       60.90   \n",
       "4      1119145    299561           0                 1    PEB0015      142.49   \n",
       "...        ...       ...         ...               ...        ...         ...   \n",
       "53226  1649447    527035           0                 1    APP0698        9.99   \n",
       "53227  1649512    527070           0                 2    APP0698        9.99   \n",
       "53228  1649522    527074           0                 2    APP0698        9.99   \n",
       "53229  1649565    527096           0                 3    APP0698        9.99   \n",
       "53230  1649593    527112           0                 1    APP0698        9.99   \n",
       "\n",
       "                     date  unit_price_total  \\\n",
       "0     2017-01-01 01:46:16             47.49   \n",
       "1     2017-01-01 01:50:34             18.99   \n",
       "2     2017-01-01 01:54:11             72.19   \n",
       "3     2017-01-01 02:20:14             60.90   \n",
       "4     2017-01-01 02:38:50            142.49   \n",
       "...                   ...               ...   \n",
       "53226 2018-03-14 11:42:41              9.99   \n",
       "53227 2018-03-14 11:49:01             19.98   \n",
       "53228 2018-03-14 11:49:36             19.98   \n",
       "53229 2018-03-14 11:54:35             29.97   \n",
       "53230 2018-03-14 11:58:13              9.99   \n",
       "\n",
       "                                                    name  \\\n",
       "0      OWC In-line Digital Temperature Sensor Kit HDD...   \n",
       "1                   iOttie Easy View 2 Car Black Support   \n",
       "2      Apple 85W MagSafe 2 charger MacBook Pro screen...   \n",
       "3                     (Open) Crucial 240GB SSD 7mm BX200   \n",
       "4                     Pebble Smartwatch Time Steel Black   \n",
       "...                                                  ...   \n",
       "53226  Apple Lightning Cable Connector to USB 1m Whit...   \n",
       "53227  Apple Lightning Cable Connector to USB 1m Whit...   \n",
       "53228  Apple Lightning Cable Connector to USB 1m Whit...   \n",
       "53229  Apple Lightning Cable Connector to USB 1m Whit...   \n",
       "53230  Apple Lightning Cable Connector to USB 1m Whit...   \n",
       "\n",
       "                                                    desc   price  in_stock  \\\n",
       "0      Kit temperature sensor for HDD iMac 21 inch an...   60.99         1   \n",
       "1      IPhone car holder 7 plus / 7/6 Plus / 6 / 5s /...   22.95         0   \n",
       "2      Apple MagSafe 2 Charger for MacBook Pro 15-inc...   89.00         1   \n",
       "3      SSD hard drive and high-speed performance with...   76.99         0   \n",
       "4      Bluetooth Smart Watch with steel case leather ...  299.99         0   \n",
       "...                                                  ...     ...       ...   \n",
       "53226  Apple Lightning USB Cable 1 meter to charge an...   25.00         1   \n",
       "53227  Apple Lightning USB Cable 1 meter to charge an...   25.00         1   \n",
       "53228  Apple Lightning USB Cable 1 meter to charge an...   25.00         1   \n",
       "53229  Apple Lightning USB Cable 1 meter to charge an...   25.00         1   \n",
       "53230  Apple Lightning USB Cable 1 meter to charge an...   25.00         1   \n",
       "\n",
       "           type    brand  \n",
       "0      12755395      OWC  \n",
       "1          5720   iOttie  \n",
       "2      13005399    Apple  \n",
       "3          1298  Crucial  \n",
       "4      11905404   Pebble  \n",
       "...         ...      ...  \n",
       "53226      1230    Apple  \n",
       "53227      1230    Apple  \n",
       "53228      1230    Apple  \n",
       "53229      1230    Apple  \n",
       "53230      1230    Apple  \n",
       "\n",
       "[53231 rows x 14 columns]"
      ]
     },
     "execution_count": 21,
     "metadata": {},
     "output_type": "execute_result"
    }
   ],
   "source": [
    "# merging orderlines and pro_bra_m \n",
    "ol_pro_m = orderlines_c.merge(pro_bra_m, on=\"sku\", how=\"left\")\n",
    "ol_pro_m"
   ]
  },
  {
   "cell_type": "markdown",
   "metadata": {
    "id": "smiU1ypz2dzI"
   },
   "source": [
    "## dropping columns"
   ]
  },
  {
   "cell_type": "code",
   "execution_count": 22,
   "metadata": {
    "colab": {
     "base_uri": "https://localhost:8080/"
    },
    "id": "dUn_Pz7YKqq_",
    "outputId": "f3eb7f84-71c8-49ff-9114-3cd389936826"
   },
   "outputs": [
    {
     "data": {
      "text/html": [
       "<div>\n",
       "<style scoped>\n",
       "    .dataframe tbody tr th:only-of-type {\n",
       "        vertical-align: middle;\n",
       "    }\n",
       "\n",
       "    .dataframe tbody tr th {\n",
       "        vertical-align: top;\n",
       "    }\n",
       "\n",
       "    .dataframe thead th {\n",
       "        text-align: right;\n",
       "    }\n",
       "</style>\n",
       "<table border=\"1\" class=\"dataframe\">\n",
       "  <thead>\n",
       "    <tr style=\"text-align: right;\">\n",
       "      <th></th>\n",
       "      <th>order_id</th>\n",
       "      <th>product_quantity</th>\n",
       "      <th>sku</th>\n",
       "      <th>unit_price</th>\n",
       "      <th>date</th>\n",
       "      <th>unit_price_total</th>\n",
       "      <th>name</th>\n",
       "      <th>desc</th>\n",
       "      <th>price</th>\n",
       "      <th>in_stock</th>\n",
       "      <th>type</th>\n",
       "      <th>brand</th>\n",
       "    </tr>\n",
       "  </thead>\n",
       "  <tbody>\n",
       "    <tr>\n",
       "      <th>0</th>\n",
       "      <td>299545</td>\n",
       "      <td>1</td>\n",
       "      <td>OWC0100</td>\n",
       "      <td>47.49</td>\n",
       "      <td>2017-01-01 01:46:16</td>\n",
       "      <td>47.49</td>\n",
       "      <td>OWC In-line Digital Temperature Sensor Kit HDD...</td>\n",
       "      <td>Kit temperature sensor for HDD iMac 21 inch an...</td>\n",
       "      <td>60.99</td>\n",
       "      <td>1</td>\n",
       "      <td>12755395</td>\n",
       "      <td>OWC</td>\n",
       "    </tr>\n",
       "  </tbody>\n",
       "</table>\n",
       "</div>"
      ],
      "text/plain": [
       "   order_id  product_quantity      sku  unit_price                date  \\\n",
       "0    299545                 1  OWC0100       47.49 2017-01-01 01:46:16   \n",
       "\n",
       "   unit_price_total                                               name  \\\n",
       "0             47.49  OWC In-line Digital Temperature Sensor Kit HDD...   \n",
       "\n",
       "                                                desc  price  in_stock  \\\n",
       "0  Kit temperature sensor for HDD iMac 21 inch an...  60.99         1   \n",
       "\n",
       "       type brand  \n",
       "0  12755395   OWC  "
      ]
     },
     "execution_count": 22,
     "metadata": {},
     "output_type": "execute_result"
    }
   ],
   "source": [
    "ol_pro_m = ol_pro_m.drop(labels=[\"id\", \"product_id\"], axis=1)\n",
    "ol_pro_m.head(1)"
   ]
  },
  {
   "cell_type": "markdown",
   "metadata": {
    "id": "YJLG6T642oPY"
   },
   "source": [
    "## checking datatypes"
   ]
  },
  {
   "cell_type": "code",
   "execution_count": 23,
   "metadata": {
    "colab": {
     "base_uri": "https://localhost:8080/"
    },
    "id": "Yc-vVZAqLopD",
    "outputId": "627d2dd9-6498-4242-862d-f1b913ddb74f"
   },
   "outputs": [
    {
     "name": "stdout",
     "output_type": "stream",
     "text": [
      "<class 'pandas.core.frame.DataFrame'>\n",
      "Int64Index: 53231 entries, 0 to 53230\n",
      "Data columns (total 12 columns):\n",
      " #   Column            Non-Null Count  Dtype         \n",
      "---  ------            --------------  -----         \n",
      " 0   order_id          53231 non-null  int64         \n",
      " 1   product_quantity  53231 non-null  int64         \n",
      " 2   sku               53231 non-null  object        \n",
      " 3   unit_price        53231 non-null  float64       \n",
      " 4   date              53231 non-null  datetime64[ns]\n",
      " 5   unit_price_total  53231 non-null  float64       \n",
      " 6   name              53231 non-null  object        \n",
      " 7   desc              53231 non-null  object        \n",
      " 8   price             53231 non-null  float64       \n",
      " 9   in_stock          53231 non-null  int64         \n",
      " 10  type              53220 non-null  object        \n",
      " 11  brand             53195 non-null  object        \n",
      "dtypes: datetime64[ns](1), float64(3), int64(3), object(5)\n",
      "memory usage: 5.3+ MB\n"
     ]
    }
   ],
   "source": [
    "ol_pro_m.info()"
   ]
  },
  {
   "cell_type": "markdown",
   "metadata": {
    "id": "XFxUqfmJ2xEt"
   },
   "source": [
    "## creating new column `discount`"
   ]
  },
  {
   "cell_type": "code",
   "execution_count": 24,
   "metadata": {
    "colab": {
     "base_uri": "https://localhost:8080/",
     "height": 423
    },
    "id": "-gHq7MkiL0mx",
    "outputId": "a51a0791-964a-4f7d-cca3-5f265c7c0d9b"
   },
   "outputs": [
    {
     "data": {
      "text/html": [
       "<div>\n",
       "<style scoped>\n",
       "    .dataframe tbody tr th:only-of-type {\n",
       "        vertical-align: middle;\n",
       "    }\n",
       "\n",
       "    .dataframe tbody tr th {\n",
       "        vertical-align: top;\n",
       "    }\n",
       "\n",
       "    .dataframe thead th {\n",
       "        text-align: right;\n",
       "    }\n",
       "</style>\n",
       "<table border=\"1\" class=\"dataframe\">\n",
       "  <thead>\n",
       "    <tr style=\"text-align: right;\">\n",
       "      <th></th>\n",
       "      <th>order_id</th>\n",
       "      <th>product_quantity</th>\n",
       "      <th>sku</th>\n",
       "      <th>unit_price</th>\n",
       "      <th>date</th>\n",
       "      <th>unit_price_total</th>\n",
       "      <th>name</th>\n",
       "      <th>desc</th>\n",
       "      <th>price</th>\n",
       "      <th>in_stock</th>\n",
       "      <th>type</th>\n",
       "      <th>brand</th>\n",
       "      <th>discount</th>\n",
       "    </tr>\n",
       "  </thead>\n",
       "  <tbody>\n",
       "    <tr>\n",
       "      <th>0</th>\n",
       "      <td>299545</td>\n",
       "      <td>1</td>\n",
       "      <td>OWC0100</td>\n",
       "      <td>47.49</td>\n",
       "      <td>2017-01-01 01:46:16</td>\n",
       "      <td>47.49</td>\n",
       "      <td>OWC In-line Digital Temperature Sensor Kit HDD...</td>\n",
       "      <td>Kit temperature sensor for HDD iMac 21 inch an...</td>\n",
       "      <td>60.99</td>\n",
       "      <td>1</td>\n",
       "      <td>12755395</td>\n",
       "      <td>OWC</td>\n",
       "      <td>13.50</td>\n",
       "    </tr>\n",
       "    <tr>\n",
       "      <th>1</th>\n",
       "      <td>299546</td>\n",
       "      <td>1</td>\n",
       "      <td>IOT0014</td>\n",
       "      <td>18.99</td>\n",
       "      <td>2017-01-01 01:50:34</td>\n",
       "      <td>18.99</td>\n",
       "      <td>iOttie Easy View 2 Car Black Support</td>\n",
       "      <td>IPhone car holder 7 plus / 7/6 Plus / 6 / 5s /...</td>\n",
       "      <td>22.95</td>\n",
       "      <td>0</td>\n",
       "      <td>5720</td>\n",
       "      <td>iOttie</td>\n",
       "      <td>3.96</td>\n",
       "    </tr>\n",
       "    <tr>\n",
       "      <th>2</th>\n",
       "      <td>295347</td>\n",
       "      <td>1</td>\n",
       "      <td>APP0700</td>\n",
       "      <td>72.19</td>\n",
       "      <td>2017-01-01 01:54:11</td>\n",
       "      <td>72.19</td>\n",
       "      <td>Apple 85W MagSafe 2 charger MacBook Pro screen...</td>\n",
       "      <td>Apple MagSafe 2 Charger for MacBook Pro 15-inc...</td>\n",
       "      <td>89.00</td>\n",
       "      <td>1</td>\n",
       "      <td>13005399</td>\n",
       "      <td>Apple</td>\n",
       "      <td>16.81</td>\n",
       "    </tr>\n",
       "    <tr>\n",
       "      <th>3</th>\n",
       "      <td>299556</td>\n",
       "      <td>1</td>\n",
       "      <td>CRU0039-A</td>\n",
       "      <td>60.90</td>\n",
       "      <td>2017-01-01 02:20:14</td>\n",
       "      <td>60.90</td>\n",
       "      <td>(Open) Crucial 240GB SSD 7mm BX200</td>\n",
       "      <td>SSD hard drive and high-speed performance with...</td>\n",
       "      <td>76.99</td>\n",
       "      <td>0</td>\n",
       "      <td>1298</td>\n",
       "      <td>Crucial</td>\n",
       "      <td>16.09</td>\n",
       "    </tr>\n",
       "    <tr>\n",
       "      <th>4</th>\n",
       "      <td>299561</td>\n",
       "      <td>1</td>\n",
       "      <td>PEB0015</td>\n",
       "      <td>142.49</td>\n",
       "      <td>2017-01-01 02:38:50</td>\n",
       "      <td>142.49</td>\n",
       "      <td>Pebble Smartwatch Time Steel Black</td>\n",
       "      <td>Bluetooth Smart Watch with steel case leather ...</td>\n",
       "      <td>299.99</td>\n",
       "      <td>0</td>\n",
       "      <td>11905404</td>\n",
       "      <td>Pebble</td>\n",
       "      <td>157.50</td>\n",
       "    </tr>\n",
       "    <tr>\n",
       "      <th>...</th>\n",
       "      <td>...</td>\n",
       "      <td>...</td>\n",
       "      <td>...</td>\n",
       "      <td>...</td>\n",
       "      <td>...</td>\n",
       "      <td>...</td>\n",
       "      <td>...</td>\n",
       "      <td>...</td>\n",
       "      <td>...</td>\n",
       "      <td>...</td>\n",
       "      <td>...</td>\n",
       "      <td>...</td>\n",
       "      <td>...</td>\n",
       "    </tr>\n",
       "    <tr>\n",
       "      <th>53226</th>\n",
       "      <td>527035</td>\n",
       "      <td>1</td>\n",
       "      <td>APP0698</td>\n",
       "      <td>9.99</td>\n",
       "      <td>2018-03-14 11:42:41</td>\n",
       "      <td>9.99</td>\n",
       "      <td>Apple Lightning Cable Connector to USB 1m Whit...</td>\n",
       "      <td>Apple Lightning USB Cable 1 meter to charge an...</td>\n",
       "      <td>25.00</td>\n",
       "      <td>1</td>\n",
       "      <td>1230</td>\n",
       "      <td>Apple</td>\n",
       "      <td>15.01</td>\n",
       "    </tr>\n",
       "    <tr>\n",
       "      <th>53227</th>\n",
       "      <td>527070</td>\n",
       "      <td>2</td>\n",
       "      <td>APP0698</td>\n",
       "      <td>9.99</td>\n",
       "      <td>2018-03-14 11:49:01</td>\n",
       "      <td>19.98</td>\n",
       "      <td>Apple Lightning Cable Connector to USB 1m Whit...</td>\n",
       "      <td>Apple Lightning USB Cable 1 meter to charge an...</td>\n",
       "      <td>25.00</td>\n",
       "      <td>1</td>\n",
       "      <td>1230</td>\n",
       "      <td>Apple</td>\n",
       "      <td>15.01</td>\n",
       "    </tr>\n",
       "    <tr>\n",
       "      <th>53228</th>\n",
       "      <td>527074</td>\n",
       "      <td>2</td>\n",
       "      <td>APP0698</td>\n",
       "      <td>9.99</td>\n",
       "      <td>2018-03-14 11:49:36</td>\n",
       "      <td>19.98</td>\n",
       "      <td>Apple Lightning Cable Connector to USB 1m Whit...</td>\n",
       "      <td>Apple Lightning USB Cable 1 meter to charge an...</td>\n",
       "      <td>25.00</td>\n",
       "      <td>1</td>\n",
       "      <td>1230</td>\n",
       "      <td>Apple</td>\n",
       "      <td>15.01</td>\n",
       "    </tr>\n",
       "    <tr>\n",
       "      <th>53229</th>\n",
       "      <td>527096</td>\n",
       "      <td>3</td>\n",
       "      <td>APP0698</td>\n",
       "      <td>9.99</td>\n",
       "      <td>2018-03-14 11:54:35</td>\n",
       "      <td>29.97</td>\n",
       "      <td>Apple Lightning Cable Connector to USB 1m Whit...</td>\n",
       "      <td>Apple Lightning USB Cable 1 meter to charge an...</td>\n",
       "      <td>25.00</td>\n",
       "      <td>1</td>\n",
       "      <td>1230</td>\n",
       "      <td>Apple</td>\n",
       "      <td>15.01</td>\n",
       "    </tr>\n",
       "    <tr>\n",
       "      <th>53230</th>\n",
       "      <td>527112</td>\n",
       "      <td>1</td>\n",
       "      <td>APP0698</td>\n",
       "      <td>9.99</td>\n",
       "      <td>2018-03-14 11:58:13</td>\n",
       "      <td>9.99</td>\n",
       "      <td>Apple Lightning Cable Connector to USB 1m Whit...</td>\n",
       "      <td>Apple Lightning USB Cable 1 meter to charge an...</td>\n",
       "      <td>25.00</td>\n",
       "      <td>1</td>\n",
       "      <td>1230</td>\n",
       "      <td>Apple</td>\n",
       "      <td>15.01</td>\n",
       "    </tr>\n",
       "  </tbody>\n",
       "</table>\n",
       "<p>53231 rows × 13 columns</p>\n",
       "</div>"
      ],
      "text/plain": [
       "       order_id  product_quantity        sku  unit_price                date  \\\n",
       "0        299545                 1    OWC0100       47.49 2017-01-01 01:46:16   \n",
       "1        299546                 1    IOT0014       18.99 2017-01-01 01:50:34   \n",
       "2        295347                 1    APP0700       72.19 2017-01-01 01:54:11   \n",
       "3        299556                 1  CRU0039-A       60.90 2017-01-01 02:20:14   \n",
       "4        299561                 1    PEB0015      142.49 2017-01-01 02:38:50   \n",
       "...         ...               ...        ...         ...                 ...   \n",
       "53226    527035                 1    APP0698        9.99 2018-03-14 11:42:41   \n",
       "53227    527070                 2    APP0698        9.99 2018-03-14 11:49:01   \n",
       "53228    527074                 2    APP0698        9.99 2018-03-14 11:49:36   \n",
       "53229    527096                 3    APP0698        9.99 2018-03-14 11:54:35   \n",
       "53230    527112                 1    APP0698        9.99 2018-03-14 11:58:13   \n",
       "\n",
       "       unit_price_total                                               name  \\\n",
       "0                 47.49  OWC In-line Digital Temperature Sensor Kit HDD...   \n",
       "1                 18.99               iOttie Easy View 2 Car Black Support   \n",
       "2                 72.19  Apple 85W MagSafe 2 charger MacBook Pro screen...   \n",
       "3                 60.90                 (Open) Crucial 240GB SSD 7mm BX200   \n",
       "4                142.49                 Pebble Smartwatch Time Steel Black   \n",
       "...                 ...                                                ...   \n",
       "53226              9.99  Apple Lightning Cable Connector to USB 1m Whit...   \n",
       "53227             19.98  Apple Lightning Cable Connector to USB 1m Whit...   \n",
       "53228             19.98  Apple Lightning Cable Connector to USB 1m Whit...   \n",
       "53229             29.97  Apple Lightning Cable Connector to USB 1m Whit...   \n",
       "53230              9.99  Apple Lightning Cable Connector to USB 1m Whit...   \n",
       "\n",
       "                                                    desc   price  in_stock  \\\n",
       "0      Kit temperature sensor for HDD iMac 21 inch an...   60.99         1   \n",
       "1      IPhone car holder 7 plus / 7/6 Plus / 6 / 5s /...   22.95         0   \n",
       "2      Apple MagSafe 2 Charger for MacBook Pro 15-inc...   89.00         1   \n",
       "3      SSD hard drive and high-speed performance with...   76.99         0   \n",
       "4      Bluetooth Smart Watch with steel case leather ...  299.99         0   \n",
       "...                                                  ...     ...       ...   \n",
       "53226  Apple Lightning USB Cable 1 meter to charge an...   25.00         1   \n",
       "53227  Apple Lightning USB Cable 1 meter to charge an...   25.00         1   \n",
       "53228  Apple Lightning USB Cable 1 meter to charge an...   25.00         1   \n",
       "53229  Apple Lightning USB Cable 1 meter to charge an...   25.00         1   \n",
       "53230  Apple Lightning USB Cable 1 meter to charge an...   25.00         1   \n",
       "\n",
       "           type    brand  discount  \n",
       "0      12755395      OWC     13.50  \n",
       "1          5720   iOttie      3.96  \n",
       "2      13005399    Apple     16.81  \n",
       "3          1298  Crucial     16.09  \n",
       "4      11905404   Pebble    157.50  \n",
       "...         ...      ...       ...  \n",
       "53226      1230    Apple     15.01  \n",
       "53227      1230    Apple     15.01  \n",
       "53228      1230    Apple     15.01  \n",
       "53229      1230    Apple     15.01  \n",
       "53230      1230    Apple     15.01  \n",
       "\n",
       "[53231 rows x 13 columns]"
      ]
     },
     "execution_count": 24,
     "metadata": {},
     "output_type": "execute_result"
    }
   ],
   "source": [
    "# creating new column \"discount\"\n",
    "ol_pro_m[\"discount\"] = ol_pro_m.price - ol_pro_m.unit_price\n",
    "ol_pro_m"
   ]
  },
  {
   "cell_type": "markdown",
   "metadata": {
    "id": "MPz0xRjR24NT"
   },
   "source": [
    "## stats of `discount`"
   ]
  },
  {
   "cell_type": "code",
   "execution_count": 25,
   "metadata": {
    "colab": {
     "base_uri": "https://localhost:8080/"
    },
    "id": "HX54RStxMquI",
    "outputId": "3a1ffcde-39e0-4667-fe68-7f03d9d85f9e"
   },
   "outputs": [
    {
     "data": {
      "text/plain": [
       "count    53231.000000\n",
       "mean        26.116673\n",
       "std         45.545881\n",
       "min       -170.990000\n",
       "25%          5.250000\n",
       "50%         15.000000\n",
       "75%         31.000000\n",
       "max       1320.000000\n",
       "Name: discount, dtype: float64"
      ]
     },
     "execution_count": 25,
     "metadata": {},
     "output_type": "execute_result"
    }
   ],
   "source": [
    "# stats of discount\n",
    "ol_pro_m.discount.describe()"
   ]
  },
  {
   "cell_type": "code",
   "execution_count": 26,
   "metadata": {
    "colab": {
     "base_uri": "https://localhost:8080/"
    },
    "id": "JTp_k7e0NEOK",
    "outputId": "c5116f08-2e67-4df8-f9f7-afda149a6d07"
   },
   "outputs": [
    {
     "data": {
      "image/png": "[encoded data removed]",
      "text/plain": [
       "<Figure size 432x288 with 1 Axes>"
      ]
     },
     "metadata": {
      "needs_background": "light"
     },
     "output_type": "display_data"
    }
   ],
   "source": [
    "# histogram of discount\n",
    "ol_pro_m.discount.hist(figsize=(6,4));"
   ]
  },
  {
   "cell_type": "markdown",
   "metadata": {
    "id": "b6qU2gyG2-3K"
   },
   "source": [
    "## creating new column `%_discount`"
   ]
  },
  {
   "cell_type": "code",
   "execution_count": 27,
   "metadata": {
    "colab": {
     "base_uri": "https://localhost:8080/",
     "height": 81
    },
    "id": "aUZTelzZNjmF",
    "outputId": "3feaa1eb-7c3c-436a-e6fc-b3432be8bc62"
   },
   "outputs": [
    {
     "data": {
      "text/html": [
       "<div>\n",
       "<style scoped>\n",
       "    .dataframe tbody tr th:only-of-type {\n",
       "        vertical-align: middle;\n",
       "    }\n",
       "\n",
       "    .dataframe tbody tr th {\n",
       "        vertical-align: top;\n",
       "    }\n",
       "\n",
       "    .dataframe thead th {\n",
       "        text-align: right;\n",
       "    }\n",
       "</style>\n",
       "<table border=\"1\" class=\"dataframe\">\n",
       "  <thead>\n",
       "    <tr style=\"text-align: right;\">\n",
       "      <th></th>\n",
       "      <th>order_id</th>\n",
       "      <th>product_quantity</th>\n",
       "      <th>sku</th>\n",
       "      <th>unit_price</th>\n",
       "      <th>date</th>\n",
       "      <th>unit_price_total</th>\n",
       "      <th>name</th>\n",
       "      <th>desc</th>\n",
       "      <th>price</th>\n",
       "      <th>in_stock</th>\n",
       "      <th>type</th>\n",
       "      <th>brand</th>\n",
       "      <th>discount</th>\n",
       "      <th>%_discount</th>\n",
       "    </tr>\n",
       "  </thead>\n",
       "  <tbody>\n",
       "    <tr>\n",
       "      <th>0</th>\n",
       "      <td>299545</td>\n",
       "      <td>1</td>\n",
       "      <td>OWC0100</td>\n",
       "      <td>47.49</td>\n",
       "      <td>2017-01-01 01:46:16</td>\n",
       "      <td>47.49</td>\n",
       "      <td>OWC In-line Digital Temperature Sensor Kit HDD...</td>\n",
       "      <td>Kit temperature sensor for HDD iMac 21 inch an...</td>\n",
       "      <td>60.99</td>\n",
       "      <td>1</td>\n",
       "      <td>12755395</td>\n",
       "      <td>OWC</td>\n",
       "      <td>13.5</td>\n",
       "      <td>22.134776</td>\n",
       "    </tr>\n",
       "  </tbody>\n",
       "</table>\n",
       "</div>"
      ],
      "text/plain": [
       "   order_id  product_quantity      sku  unit_price                date  \\\n",
       "0    299545                 1  OWC0100       47.49 2017-01-01 01:46:16   \n",
       "\n",
       "   unit_price_total                                               name  \\\n",
       "0             47.49  OWC In-line Digital Temperature Sensor Kit HDD...   \n",
       "\n",
       "                                                desc  price  in_stock  \\\n",
       "0  Kit temperature sensor for HDD iMac 21 inch an...  60.99         1   \n",
       "\n",
       "       type brand  discount  %_discount  \n",
       "0  12755395   OWC      13.5   22.134776  "
      ]
     },
     "execution_count": 27,
     "metadata": {},
     "output_type": "execute_result"
    }
   ],
   "source": [
    "# creating new column \"%_discount\"\n",
    "ol_pro_m[\"%_discount\"] = (ol_pro_m.discount / ol_pro_m.price) * 100\n",
    "ol_pro_m.head(1)"
   ]
  },
  {
   "cell_type": "markdown",
   "metadata": {
    "id": "ZKdAvlaL3FPV"
   },
   "source": [
    "## stats of `%_discount`"
   ]
  },
  {
   "cell_type": "code",
   "execution_count": 28,
   "metadata": {
    "colab": {
     "base_uri": "https://localhost:8080/"
    },
    "id": "OOvn1s2OjRhO",
    "outputId": "8a279400-efaf-431e-b667-b99a665b1b77"
   },
   "outputs": [
    {
     "data": {
      "text/plain": [
       "count    53231.000000\n",
       "mean        21.377961\n",
       "std         18.145571\n",
       "min       -212.265332\n",
       "25%          9.092562\n",
       "50%         17.648097\n",
       "75%         28.585040\n",
       "max         97.140815\n",
       "Name: %_discount, dtype: float64"
      ]
     },
     "execution_count": 28,
     "metadata": {},
     "output_type": "execute_result"
    }
   ],
   "source": [
    "ol_pro_m[\"%_discount\"].describe()"
   ]
  },
  {
   "cell_type": "code",
   "execution_count": 29,
   "metadata": {
    "colab": {
     "base_uri": "https://localhost:8080/",
     "height": 265
    },
    "id": "2KMKsuSwjbAO",
    "outputId": "d3d4323b-775c-46fd-e901-a3f5dc07e877"
   },
   "outputs": [
    {
     "data": {
      "image/png": "[encoded data removed]",
      "text/plain": [
       "<Figure size 432x288 with 1 Axes>"
      ]
     },
     "metadata": {
      "needs_background": "light"
     },
     "output_type": "display_data"
    }
   ],
   "source": [
    "ol_pro_m[\"%_discount\"].hist();"
   ]
  },
  {
   "cell_type": "code",
   "execution_count": 30,
   "metadata": {
    "colab": {
     "base_uri": "https://localhost:8080/"
    },
    "id": "SNrJevdXN9GZ",
    "outputId": "f8bd1827-d557-4828-8ce5-87cef9b4c1da"
   },
   "outputs": [
    {
     "data": {
      "text/plain": [
       "type\n",
       "1,44E+11    -7.889802\n",
       "5407         0.523846\n",
       "54085407     0.680370\n",
       "101781405    1.080784\n",
       "21485407     1.109874\n",
       "20642062     1.176471\n",
       "12285400     1.616667\n",
       "11859        2.475000\n",
       "11434        3.005000\n",
       "5406         3.355000\n",
       "12645406     3.358534\n",
       "1424         3.485769\n",
       "5395         3.863768\n",
       "5399         3.972420\n",
       "13555403     3.992251\n",
       "Name: discount, dtype: float64"
      ]
     },
     "execution_count": 30,
     "metadata": {},
     "output_type": "execute_result"
    }
   ],
   "source": [
    "ol_pro_m.groupby(\"type\").discount.mean().nsmallest(15)"
   ]
  },
  {
   "cell_type": "code",
   "execution_count": 31,
   "metadata": {
    "colab": {
     "base_uri": "https://localhost:8080/"
    },
    "id": "otjvmSi_j2Ua",
    "outputId": "0c8114ce-5ffb-4cbd-e2e7-59fb2e075c0b"
   },
   "outputs": [
    {
     "data": {
      "text/plain": [
       "type\n",
       "51882158     977.926250\n",
       "5,43E+15     936.043333\n",
       "5,72E+15     509.323333\n",
       "2,16E+11     349.205000\n",
       "21571716     324.556667\n",
       "5,45E+15     300.410000\n",
       "21622158     200.000000\n",
       "1282         199.652185\n",
       "1716         179.556667\n",
       "51861714     169.355000\n",
       "2,17E+11     161.803861\n",
       "113271716    160.000000\n",
       "12051714     148.652857\n",
       "5,44E+11     147.305000\n",
       "51871714     135.150517\n",
       "Name: discount, dtype: float64"
      ]
     },
     "execution_count": 31,
     "metadata": {},
     "output_type": "execute_result"
    }
   ],
   "source": [
    "ol_pro_m.groupby(\"type\").discount.mean().nlargest(15)"
   ]
  },
  {
   "cell_type": "code",
   "execution_count": 32,
   "metadata": {
    "colab": {
     "base_uri": "https://localhost:8080/"
    },
    "id": "eNT4esdllUJH",
    "outputId": "4ae4657d-57ea-4455-ff9c-4ee3d01958d2"
   },
   "outputs": [
    {
     "data": {
      "text/plain": [
       "product_quantity\n",
       "1     26.598018\n",
       "2     20.715480\n",
       "3     19.318217\n",
       "4     19.892878\n",
       "5     20.166667\n",
       "6     17.912041\n",
       "7     16.137692\n",
       "8     21.584211\n",
       "9     12.286667\n",
       "10    20.693704\n",
       "11     1.960000\n",
       "12    28.344000\n",
       "13     3.990000\n",
       "14     0.220000\n",
       "15     3.000000\n",
       "16    14.730000\n",
       "18    11.003333\n",
       "20    26.705000\n",
       "21     6.495000\n",
       "27    30.760000\n",
       "30    16.010000\n",
       "32    62.545000\n",
       "33    14.720000\n",
       "35    20.245000\n",
       "37    -0.010000\n",
       "50     3.000000\n",
       "72     1.340000\n",
       "Name: discount, dtype: float64"
      ]
     },
     "execution_count": 32,
     "metadata": {},
     "output_type": "execute_result"
    }
   ],
   "source": [
    "ol_pro_m.groupby(\"product_quantity\").discount.mean()"
   ]
  },
  {
   "cell_type": "code",
   "execution_count": 33,
   "metadata": {
    "colab": {
     "base_uri": "https://localhost:8080/",
     "height": 423
    },
    "id": "Reyf1WiFY_oE",
    "outputId": "92553c8e-9634-469d-d6f3-787a6499e765"
   },
   "outputs": [
    {
     "data": {
      "text/html": [
       "<div>\n",
       "<style scoped>\n",
       "    .dataframe tbody tr th:only-of-type {\n",
       "        vertical-align: middle;\n",
       "    }\n",
       "\n",
       "    .dataframe tbody tr th {\n",
       "        vertical-align: top;\n",
       "    }\n",
       "\n",
       "    .dataframe thead th {\n",
       "        text-align: right;\n",
       "    }\n",
       "</style>\n",
       "<table border=\"1\" class=\"dataframe\">\n",
       "  <thead>\n",
       "    <tr style=\"text-align: right;\">\n",
       "      <th></th>\n",
       "      <th>order_id</th>\n",
       "      <th>created_date</th>\n",
       "      <th>total_paid</th>\n",
       "      <th>state</th>\n",
       "    </tr>\n",
       "  </thead>\n",
       "  <tbody>\n",
       "    <tr>\n",
       "      <th>0</th>\n",
       "      <td>241423</td>\n",
       "      <td>2017-11-06 13:10:02</td>\n",
       "      <td>136.15</td>\n",
       "      <td>Completed</td>\n",
       "    </tr>\n",
       "    <tr>\n",
       "      <th>1</th>\n",
       "      <td>242832</td>\n",
       "      <td>2017-12-31 17:40:03</td>\n",
       "      <td>15.76</td>\n",
       "      <td>Completed</td>\n",
       "    </tr>\n",
       "    <tr>\n",
       "      <th>2</th>\n",
       "      <td>243330</td>\n",
       "      <td>2017-02-16 10:59:38</td>\n",
       "      <td>84.98</td>\n",
       "      <td>Completed</td>\n",
       "    </tr>\n",
       "    <tr>\n",
       "      <th>3</th>\n",
       "      <td>245275</td>\n",
       "      <td>2017-06-28 11:35:37</td>\n",
       "      <td>149.00</td>\n",
       "      <td>Completed</td>\n",
       "    </tr>\n",
       "    <tr>\n",
       "      <th>4</th>\n",
       "      <td>245595</td>\n",
       "      <td>2017-01-21 12:52:47</td>\n",
       "      <td>112.97</td>\n",
       "      <td>Completed</td>\n",
       "    </tr>\n",
       "    <tr>\n",
       "      <th>...</th>\n",
       "      <td>...</td>\n",
       "      <td>...</td>\n",
       "      <td>...</td>\n",
       "      <td>...</td>\n",
       "    </tr>\n",
       "    <tr>\n",
       "      <th>40980</th>\n",
       "      <td>527042</td>\n",
       "      <td>2018-03-14 11:47:50</td>\n",
       "      <td>18.98</td>\n",
       "      <td>Completed</td>\n",
       "    </tr>\n",
       "    <tr>\n",
       "      <th>40981</th>\n",
       "      <td>527070</td>\n",
       "      <td>2018-03-14 11:50:48</td>\n",
       "      <td>24.97</td>\n",
       "      <td>Completed</td>\n",
       "    </tr>\n",
       "    <tr>\n",
       "      <th>40982</th>\n",
       "      <td>527074</td>\n",
       "      <td>2018-03-14 11:51:42</td>\n",
       "      <td>24.97</td>\n",
       "      <td>Completed</td>\n",
       "    </tr>\n",
       "    <tr>\n",
       "      <th>40983</th>\n",
       "      <td>527096</td>\n",
       "      <td>2018-03-14 11:58:40</td>\n",
       "      <td>34.96</td>\n",
       "      <td>Completed</td>\n",
       "    </tr>\n",
       "    <tr>\n",
       "      <th>40984</th>\n",
       "      <td>527112</td>\n",
       "      <td>2018-03-14 12:03:52</td>\n",
       "      <td>14.98</td>\n",
       "      <td>Completed</td>\n",
       "    </tr>\n",
       "  </tbody>\n",
       "</table>\n",
       "<p>40985 rows × 4 columns</p>\n",
       "</div>"
      ],
      "text/plain": [
       "       order_id        created_date  total_paid      state\n",
       "0        241423 2017-11-06 13:10:02      136.15  Completed\n",
       "1        242832 2017-12-31 17:40:03       15.76  Completed\n",
       "2        243330 2017-02-16 10:59:38       84.98  Completed\n",
       "3        245275 2017-06-28 11:35:37      149.00  Completed\n",
       "4        245595 2017-01-21 12:52:47      112.97  Completed\n",
       "...         ...                 ...         ...        ...\n",
       "40980    527042 2018-03-14 11:47:50       18.98  Completed\n",
       "40981    527070 2018-03-14 11:50:48       24.97  Completed\n",
       "40982    527074 2018-03-14 11:51:42       24.97  Completed\n",
       "40983    527096 2018-03-14 11:58:40       34.96  Completed\n",
       "40984    527112 2018-03-14 12:03:52       14.98  Completed\n",
       "\n",
       "[40985 rows x 4 columns]"
      ]
     },
     "execution_count": 33,
     "metadata": {},
     "output_type": "execute_result"
    }
   ],
   "source": [
    "orders_c"
   ]
  },
  {
   "cell_type": "markdown",
   "metadata": {
    "id": "ri6Ct3hoB5eY"
   },
   "source": [
    "## creating new column `total_discount`"
   ]
  },
  {
   "cell_type": "code",
   "execution_count": 34,
   "metadata": {
    "colab": {
     "base_uri": "https://localhost:8080/",
     "height": 641
    },
    "id": "4KoOHYSgB-Hb",
    "outputId": "31cf7d8d-d448-497d-8a5e-72f292c3beae"
   },
   "outputs": [
    {
     "data": {
      "text/html": [
       "<div>\n",
       "<style scoped>\n",
       "    .dataframe tbody tr th:only-of-type {\n",
       "        vertical-align: middle;\n",
       "    }\n",
       "\n",
       "    .dataframe tbody tr th {\n",
       "        vertical-align: top;\n",
       "    }\n",
       "\n",
       "    .dataframe thead th {\n",
       "        text-align: right;\n",
       "    }\n",
       "</style>\n",
       "<table border=\"1\" class=\"dataframe\">\n",
       "  <thead>\n",
       "    <tr style=\"text-align: right;\">\n",
       "      <th></th>\n",
       "      <th>order_id</th>\n",
       "      <th>product_quantity</th>\n",
       "      <th>sku</th>\n",
       "      <th>unit_price</th>\n",
       "      <th>date</th>\n",
       "      <th>unit_price_total</th>\n",
       "      <th>name</th>\n",
       "      <th>desc</th>\n",
       "      <th>price</th>\n",
       "      <th>in_stock</th>\n",
       "      <th>type</th>\n",
       "      <th>brand</th>\n",
       "      <th>discount</th>\n",
       "      <th>%_discount</th>\n",
       "      <th>total_discount</th>\n",
       "    </tr>\n",
       "  </thead>\n",
       "  <tbody>\n",
       "    <tr>\n",
       "      <th>0</th>\n",
       "      <td>299545</td>\n",
       "      <td>1</td>\n",
       "      <td>OWC0100</td>\n",
       "      <td>47.49</td>\n",
       "      <td>2017-01-01 01:46:16</td>\n",
       "      <td>47.49</td>\n",
       "      <td>OWC In-line Digital Temperature Sensor Kit HDD...</td>\n",
       "      <td>Kit temperature sensor for HDD iMac 21 inch an...</td>\n",
       "      <td>60.99</td>\n",
       "      <td>1</td>\n",
       "      <td>12755395</td>\n",
       "      <td>OWC</td>\n",
       "      <td>13.50</td>\n",
       "      <td>22.134776</td>\n",
       "      <td>13.50</td>\n",
       "    </tr>\n",
       "    <tr>\n",
       "      <th>1</th>\n",
       "      <td>299546</td>\n",
       "      <td>1</td>\n",
       "      <td>IOT0014</td>\n",
       "      <td>18.99</td>\n",
       "      <td>2017-01-01 01:50:34</td>\n",
       "      <td>18.99</td>\n",
       "      <td>iOttie Easy View 2 Car Black Support</td>\n",
       "      <td>IPhone car holder 7 plus / 7/6 Plus / 6 / 5s /...</td>\n",
       "      <td>22.95</td>\n",
       "      <td>0</td>\n",
       "      <td>5720</td>\n",
       "      <td>iOttie</td>\n",
       "      <td>3.96</td>\n",
       "      <td>17.254902</td>\n",
       "      <td>3.96</td>\n",
       "    </tr>\n",
       "    <tr>\n",
       "      <th>2</th>\n",
       "      <td>295347</td>\n",
       "      <td>1</td>\n",
       "      <td>APP0700</td>\n",
       "      <td>72.19</td>\n",
       "      <td>2017-01-01 01:54:11</td>\n",
       "      <td>72.19</td>\n",
       "      <td>Apple 85W MagSafe 2 charger MacBook Pro screen...</td>\n",
       "      <td>Apple MagSafe 2 Charger for MacBook Pro 15-inc...</td>\n",
       "      <td>89.00</td>\n",
       "      <td>1</td>\n",
       "      <td>13005399</td>\n",
       "      <td>Apple</td>\n",
       "      <td>16.81</td>\n",
       "      <td>18.887640</td>\n",
       "      <td>16.81</td>\n",
       "    </tr>\n",
       "    <tr>\n",
       "      <th>3</th>\n",
       "      <td>299556</td>\n",
       "      <td>1</td>\n",
       "      <td>CRU0039-A</td>\n",
       "      <td>60.90</td>\n",
       "      <td>2017-01-01 02:20:14</td>\n",
       "      <td>60.90</td>\n",
       "      <td>(Open) Crucial 240GB SSD 7mm BX200</td>\n",
       "      <td>SSD hard drive and high-speed performance with...</td>\n",
       "      <td>76.99</td>\n",
       "      <td>0</td>\n",
       "      <td>1298</td>\n",
       "      <td>Crucial</td>\n",
       "      <td>16.09</td>\n",
       "      <td>20.898818</td>\n",
       "      <td>16.09</td>\n",
       "    </tr>\n",
       "    <tr>\n",
       "      <th>4</th>\n",
       "      <td>299561</td>\n",
       "      <td>1</td>\n",
       "      <td>PEB0015</td>\n",
       "      <td>142.49</td>\n",
       "      <td>2017-01-01 02:38:50</td>\n",
       "      <td>142.49</td>\n",
       "      <td>Pebble Smartwatch Time Steel Black</td>\n",
       "      <td>Bluetooth Smart Watch with steel case leather ...</td>\n",
       "      <td>299.99</td>\n",
       "      <td>0</td>\n",
       "      <td>11905404</td>\n",
       "      <td>Pebble</td>\n",
       "      <td>157.50</td>\n",
       "      <td>52.501750</td>\n",
       "      <td>157.50</td>\n",
       "    </tr>\n",
       "    <tr>\n",
       "      <th>...</th>\n",
       "      <td>...</td>\n",
       "      <td>...</td>\n",
       "      <td>...</td>\n",
       "      <td>...</td>\n",
       "      <td>...</td>\n",
       "      <td>...</td>\n",
       "      <td>...</td>\n",
       "      <td>...</td>\n",
       "      <td>...</td>\n",
       "      <td>...</td>\n",
       "      <td>...</td>\n",
       "      <td>...</td>\n",
       "      <td>...</td>\n",
       "      <td>...</td>\n",
       "      <td>...</td>\n",
       "    </tr>\n",
       "    <tr>\n",
       "      <th>53226</th>\n",
       "      <td>527035</td>\n",
       "      <td>1</td>\n",
       "      <td>APP0698</td>\n",
       "      <td>9.99</td>\n",
       "      <td>2018-03-14 11:42:41</td>\n",
       "      <td>9.99</td>\n",
       "      <td>Apple Lightning Cable Connector to USB 1m Whit...</td>\n",
       "      <td>Apple Lightning USB Cable 1 meter to charge an...</td>\n",
       "      <td>25.00</td>\n",
       "      <td>1</td>\n",
       "      <td>1230</td>\n",
       "      <td>Apple</td>\n",
       "      <td>15.01</td>\n",
       "      <td>60.040000</td>\n",
       "      <td>15.01</td>\n",
       "    </tr>\n",
       "    <tr>\n",
       "      <th>53227</th>\n",
       "      <td>527070</td>\n",
       "      <td>2</td>\n",
       "      <td>APP0698</td>\n",
       "      <td>9.99</td>\n",
       "      <td>2018-03-14 11:49:01</td>\n",
       "      <td>19.98</td>\n",
       "      <td>Apple Lightning Cable Connector to USB 1m Whit...</td>\n",
       "      <td>Apple Lightning USB Cable 1 meter to charge an...</td>\n",
       "      <td>25.00</td>\n",
       "      <td>1</td>\n",
       "      <td>1230</td>\n",
       "      <td>Apple</td>\n",
       "      <td>15.01</td>\n",
       "      <td>60.040000</td>\n",
       "      <td>30.02</td>\n",
       "    </tr>\n",
       "    <tr>\n",
       "      <th>53228</th>\n",
       "      <td>527074</td>\n",
       "      <td>2</td>\n",
       "      <td>APP0698</td>\n",
       "      <td>9.99</td>\n",
       "      <td>2018-03-14 11:49:36</td>\n",
       "      <td>19.98</td>\n",
       "      <td>Apple Lightning Cable Connector to USB 1m Whit...</td>\n",
       "      <td>Apple Lightning USB Cable 1 meter to charge an...</td>\n",
       "      <td>25.00</td>\n",
       "      <td>1</td>\n",
       "      <td>1230</td>\n",
       "      <td>Apple</td>\n",
       "      <td>15.01</td>\n",
       "      <td>60.040000</td>\n",
       "      <td>30.02</td>\n",
       "    </tr>\n",
       "    <tr>\n",
       "      <th>53229</th>\n",
       "      <td>527096</td>\n",
       "      <td>3</td>\n",
       "      <td>APP0698</td>\n",
       "      <td>9.99</td>\n",
       "      <td>2018-03-14 11:54:35</td>\n",
       "      <td>29.97</td>\n",
       "      <td>Apple Lightning Cable Connector to USB 1m Whit...</td>\n",
       "      <td>Apple Lightning USB Cable 1 meter to charge an...</td>\n",
       "      <td>25.00</td>\n",
       "      <td>1</td>\n",
       "      <td>1230</td>\n",
       "      <td>Apple</td>\n",
       "      <td>15.01</td>\n",
       "      <td>60.040000</td>\n",
       "      <td>45.03</td>\n",
       "    </tr>\n",
       "    <tr>\n",
       "      <th>53230</th>\n",
       "      <td>527112</td>\n",
       "      <td>1</td>\n",
       "      <td>APP0698</td>\n",
       "      <td>9.99</td>\n",
       "      <td>2018-03-14 11:58:13</td>\n",
       "      <td>9.99</td>\n",
       "      <td>Apple Lightning Cable Connector to USB 1m Whit...</td>\n",
       "      <td>Apple Lightning USB Cable 1 meter to charge an...</td>\n",
       "      <td>25.00</td>\n",
       "      <td>1</td>\n",
       "      <td>1230</td>\n",
       "      <td>Apple</td>\n",
       "      <td>15.01</td>\n",
       "      <td>60.040000</td>\n",
       "      <td>15.01</td>\n",
       "    </tr>\n",
       "  </tbody>\n",
       "</table>\n",
       "<p>53231 rows × 15 columns</p>\n",
       "</div>"
      ],
      "text/plain": [
       "       order_id  product_quantity        sku  unit_price                date  \\\n",
       "0        299545                 1    OWC0100       47.49 2017-01-01 01:46:16   \n",
       "1        299546                 1    IOT0014       18.99 2017-01-01 01:50:34   \n",
       "2        295347                 1    APP0700       72.19 2017-01-01 01:54:11   \n",
       "3        299556                 1  CRU0039-A       60.90 2017-01-01 02:20:14   \n",
       "4        299561                 1    PEB0015      142.49 2017-01-01 02:38:50   \n",
       "...         ...               ...        ...         ...                 ...   \n",
       "53226    527035                 1    APP0698        9.99 2018-03-14 11:42:41   \n",
       "53227    527070                 2    APP0698        9.99 2018-03-14 11:49:01   \n",
       "53228    527074                 2    APP0698        9.99 2018-03-14 11:49:36   \n",
       "53229    527096                 3    APP0698        9.99 2018-03-14 11:54:35   \n",
       "53230    527112                 1    APP0698        9.99 2018-03-14 11:58:13   \n",
       "\n",
       "       unit_price_total                                               name  \\\n",
       "0                 47.49  OWC In-line Digital Temperature Sensor Kit HDD...   \n",
       "1                 18.99               iOttie Easy View 2 Car Black Support   \n",
       "2                 72.19  Apple 85W MagSafe 2 charger MacBook Pro screen...   \n",
       "3                 60.90                 (Open) Crucial 240GB SSD 7mm BX200   \n",
       "4                142.49                 Pebble Smartwatch Time Steel Black   \n",
       "...                 ...                                                ...   \n",
       "53226              9.99  Apple Lightning Cable Connector to USB 1m Whit...   \n",
       "53227             19.98  Apple Lightning Cable Connector to USB 1m Whit...   \n",
       "53228             19.98  Apple Lightning Cable Connector to USB 1m Whit...   \n",
       "53229             29.97  Apple Lightning Cable Connector to USB 1m Whit...   \n",
       "53230              9.99  Apple Lightning Cable Connector to USB 1m Whit...   \n",
       "\n",
       "                                                    desc   price  in_stock  \\\n",
       "0      Kit temperature sensor for HDD iMac 21 inch an...   60.99         1   \n",
       "1      IPhone car holder 7 plus / 7/6 Plus / 6 / 5s /...   22.95         0   \n",
       "2      Apple MagSafe 2 Charger for MacBook Pro 15-inc...   89.00         1   \n",
       "3      SSD hard drive and high-speed performance with...   76.99         0   \n",
       "4      Bluetooth Smart Watch with steel case leather ...  299.99         0   \n",
       "...                                                  ...     ...       ...   \n",
       "53226  Apple Lightning USB Cable 1 meter to charge an...   25.00         1   \n",
       "53227  Apple Lightning USB Cable 1 meter to charge an...   25.00         1   \n",
       "53228  Apple Lightning USB Cable 1 meter to charge an...   25.00         1   \n",
       "53229  Apple Lightning USB Cable 1 meter to charge an...   25.00         1   \n",
       "53230  Apple Lightning USB Cable 1 meter to charge an...   25.00         1   \n",
       "\n",
       "           type    brand  discount  %_discount  total_discount  \n",
       "0      12755395      OWC     13.50   22.134776           13.50  \n",
       "1          5720   iOttie      3.96   17.254902            3.96  \n",
       "2      13005399    Apple     16.81   18.887640           16.81  \n",
       "3          1298  Crucial     16.09   20.898818           16.09  \n",
       "4      11905404   Pebble    157.50   52.501750          157.50  \n",
       "...         ...      ...       ...         ...             ...  \n",
       "53226      1230    Apple     15.01   60.040000           15.01  \n",
       "53227      1230    Apple     15.01   60.040000           30.02  \n",
       "53228      1230    Apple     15.01   60.040000           30.02  \n",
       "53229      1230    Apple     15.01   60.040000           45.03  \n",
       "53230      1230    Apple     15.01   60.040000           15.01  \n",
       "\n",
       "[53231 rows x 15 columns]"
      ]
     },
     "execution_count": 34,
     "metadata": {},
     "output_type": "execute_result"
    }
   ],
   "source": [
    "ol_pro_m[\"total_discount\"] = ol_pro_m.discount * ol_pro_m.product_quantity\n",
    "ol_pro_m"
   ]
  },
  {
   "cell_type": "markdown",
   "metadata": {
    "id": "w2uFvba63LY_"
   },
   "source": [
    "# 3rd merge"
   ]
  },
  {
   "cell_type": "markdown",
   "metadata": {
    "id": "KpaZTU9x3P0H"
   },
   "source": [
    "## merging `orders` with already-merged `orderlines`, `products` and `brands`"
   ]
  },
  {
   "cell_type": "code",
   "execution_count": 35,
   "metadata": {
    "colab": {
     "base_uri": "https://localhost:8080/",
     "height": 762
    },
    "id": "K3RxIuBPZYs0",
    "outputId": "ffc7b90d-d702-46e7-fa35-e82b17c78632"
   },
   "outputs": [
    {
     "data": {
      "text/html": [
       "<div>\n",
       "<style scoped>\n",
       "    .dataframe tbody tr th:only-of-type {\n",
       "        vertical-align: middle;\n",
       "    }\n",
       "\n",
       "    .dataframe tbody tr th {\n",
       "        vertical-align: top;\n",
       "    }\n",
       "\n",
       "    .dataframe thead th {\n",
       "        text-align: right;\n",
       "    }\n",
       "</style>\n",
       "<table border=\"1\" class=\"dataframe\">\n",
       "  <thead>\n",
       "    <tr style=\"text-align: right;\">\n",
       "      <th></th>\n",
       "      <th>order_id</th>\n",
       "      <th>product_quantity</th>\n",
       "      <th>sku</th>\n",
       "      <th>unit_price</th>\n",
       "      <th>date</th>\n",
       "      <th>unit_price_total</th>\n",
       "      <th>name</th>\n",
       "      <th>desc</th>\n",
       "      <th>price</th>\n",
       "      <th>in_stock</th>\n",
       "      <th>type</th>\n",
       "      <th>brand</th>\n",
       "      <th>discount</th>\n",
       "      <th>%_discount</th>\n",
       "      <th>total_discount</th>\n",
       "      <th>created_date</th>\n",
       "      <th>total_paid</th>\n",
       "      <th>state</th>\n",
       "    </tr>\n",
       "  </thead>\n",
       "  <tbody>\n",
       "    <tr>\n",
       "      <th>0</th>\n",
       "      <td>299545</td>\n",
       "      <td>1</td>\n",
       "      <td>OWC0100</td>\n",
       "      <td>47.49</td>\n",
       "      <td>2017-01-01 01:46:16</td>\n",
       "      <td>47.49</td>\n",
       "      <td>OWC In-line Digital Temperature Sensor Kit HDD...</td>\n",
       "      <td>Kit temperature sensor for HDD iMac 21 inch an...</td>\n",
       "      <td>60.99</td>\n",
       "      <td>1</td>\n",
       "      <td>12755395</td>\n",
       "      <td>OWC</td>\n",
       "      <td>13.50</td>\n",
       "      <td>22.134776</td>\n",
       "      <td>13.50</td>\n",
       "      <td>2017-01-01 01:51:47</td>\n",
       "      <td>51.48</td>\n",
       "      <td>Completed</td>\n",
       "    </tr>\n",
       "    <tr>\n",
       "      <th>1</th>\n",
       "      <td>299546</td>\n",
       "      <td>1</td>\n",
       "      <td>IOT0014</td>\n",
       "      <td>18.99</td>\n",
       "      <td>2017-01-01 01:50:34</td>\n",
       "      <td>18.99</td>\n",
       "      <td>iOttie Easy View 2 Car Black Support</td>\n",
       "      <td>IPhone car holder 7 plus / 7/6 Plus / 6 / 5s /...</td>\n",
       "      <td>22.95</td>\n",
       "      <td>0</td>\n",
       "      <td>5720</td>\n",
       "      <td>iOttie</td>\n",
       "      <td>3.96</td>\n",
       "      <td>17.254902</td>\n",
       "      <td>3.96</td>\n",
       "      <td>2017-01-01 01:57:34</td>\n",
       "      <td>18.99</td>\n",
       "      <td>Completed</td>\n",
       "    </tr>\n",
       "    <tr>\n",
       "      <th>2</th>\n",
       "      <td>295347</td>\n",
       "      <td>1</td>\n",
       "      <td>APP0700</td>\n",
       "      <td>72.19</td>\n",
       "      <td>2017-01-01 01:54:11</td>\n",
       "      <td>72.19</td>\n",
       "      <td>Apple 85W MagSafe 2 charger MacBook Pro screen...</td>\n",
       "      <td>Apple MagSafe 2 Charger for MacBook Pro 15-inc...</td>\n",
       "      <td>89.00</td>\n",
       "      <td>1</td>\n",
       "      <td>13005399</td>\n",
       "      <td>Apple</td>\n",
       "      <td>16.81</td>\n",
       "      <td>18.887640</td>\n",
       "      <td>16.81</td>\n",
       "      <td>2017-01-01 02:02:38</td>\n",
       "      <td>72.19</td>\n",
       "      <td>Completed</td>\n",
       "    </tr>\n",
       "    <tr>\n",
       "      <th>3</th>\n",
       "      <td>299556</td>\n",
       "      <td>1</td>\n",
       "      <td>CRU0039-A</td>\n",
       "      <td>60.90</td>\n",
       "      <td>2017-01-01 02:20:14</td>\n",
       "      <td>60.90</td>\n",
       "      <td>(Open) Crucial 240GB SSD 7mm BX200</td>\n",
       "      <td>SSD hard drive and high-speed performance with...</td>\n",
       "      <td>76.99</td>\n",
       "      <td>0</td>\n",
       "      <td>1298</td>\n",
       "      <td>Crucial</td>\n",
       "      <td>16.09</td>\n",
       "      <td>20.898818</td>\n",
       "      <td>16.09</td>\n",
       "      <td>2017-01-01 02:30:08</td>\n",
       "      <td>65.89</td>\n",
       "      <td>Completed</td>\n",
       "    </tr>\n",
       "    <tr>\n",
       "      <th>4</th>\n",
       "      <td>299561</td>\n",
       "      <td>1</td>\n",
       "      <td>PEB0015</td>\n",
       "      <td>142.49</td>\n",
       "      <td>2017-01-01 02:38:50</td>\n",
       "      <td>142.49</td>\n",
       "      <td>Pebble Smartwatch Time Steel Black</td>\n",
       "      <td>Bluetooth Smart Watch with steel case leather ...</td>\n",
       "      <td>299.99</td>\n",
       "      <td>0</td>\n",
       "      <td>11905404</td>\n",
       "      <td>Pebble</td>\n",
       "      <td>157.50</td>\n",
       "      <td>52.501750</td>\n",
       "      <td>157.50</td>\n",
       "      <td>2017-01-01 02:39:47</td>\n",
       "      <td>154.48</td>\n",
       "      <td>Completed</td>\n",
       "    </tr>\n",
       "    <tr>\n",
       "      <th>...</th>\n",
       "      <td>...</td>\n",
       "      <td>...</td>\n",
       "      <td>...</td>\n",
       "      <td>...</td>\n",
       "      <td>...</td>\n",
       "      <td>...</td>\n",
       "      <td>...</td>\n",
       "      <td>...</td>\n",
       "      <td>...</td>\n",
       "      <td>...</td>\n",
       "      <td>...</td>\n",
       "      <td>...</td>\n",
       "      <td>...</td>\n",
       "      <td>...</td>\n",
       "      <td>...</td>\n",
       "      <td>...</td>\n",
       "      <td>...</td>\n",
       "      <td>...</td>\n",
       "    </tr>\n",
       "    <tr>\n",
       "      <th>53226</th>\n",
       "      <td>527035</td>\n",
       "      <td>1</td>\n",
       "      <td>APP0698</td>\n",
       "      <td>9.99</td>\n",
       "      <td>2018-03-14 11:42:41</td>\n",
       "      <td>9.99</td>\n",
       "      <td>Apple Lightning Cable Connector to USB 1m Whit...</td>\n",
       "      <td>Apple Lightning USB Cable 1 meter to charge an...</td>\n",
       "      <td>25.00</td>\n",
       "      <td>1</td>\n",
       "      <td>1230</td>\n",
       "      <td>Apple</td>\n",
       "      <td>15.01</td>\n",
       "      <td>60.040000</td>\n",
       "      <td>15.01</td>\n",
       "      <td>2018-03-14 11:44:34</td>\n",
       "      <td>37.98</td>\n",
       "      <td>Completed</td>\n",
       "    </tr>\n",
       "    <tr>\n",
       "      <th>53227</th>\n",
       "      <td>527070</td>\n",
       "      <td>2</td>\n",
       "      <td>APP0698</td>\n",
       "      <td>9.99</td>\n",
       "      <td>2018-03-14 11:49:01</td>\n",
       "      <td>19.98</td>\n",
       "      <td>Apple Lightning Cable Connector to USB 1m Whit...</td>\n",
       "      <td>Apple Lightning USB Cable 1 meter to charge an...</td>\n",
       "      <td>25.00</td>\n",
       "      <td>1</td>\n",
       "      <td>1230</td>\n",
       "      <td>Apple</td>\n",
       "      <td>15.01</td>\n",
       "      <td>60.040000</td>\n",
       "      <td>30.02</td>\n",
       "      <td>2018-03-14 11:50:48</td>\n",
       "      <td>24.97</td>\n",
       "      <td>Completed</td>\n",
       "    </tr>\n",
       "    <tr>\n",
       "      <th>53228</th>\n",
       "      <td>527074</td>\n",
       "      <td>2</td>\n",
       "      <td>APP0698</td>\n",
       "      <td>9.99</td>\n",
       "      <td>2018-03-14 11:49:36</td>\n",
       "      <td>19.98</td>\n",
       "      <td>Apple Lightning Cable Connector to USB 1m Whit...</td>\n",
       "      <td>Apple Lightning USB Cable 1 meter to charge an...</td>\n",
       "      <td>25.00</td>\n",
       "      <td>1</td>\n",
       "      <td>1230</td>\n",
       "      <td>Apple</td>\n",
       "      <td>15.01</td>\n",
       "      <td>60.040000</td>\n",
       "      <td>30.02</td>\n",
       "      <td>2018-03-14 11:51:42</td>\n",
       "      <td>24.97</td>\n",
       "      <td>Completed</td>\n",
       "    </tr>\n",
       "    <tr>\n",
       "      <th>53229</th>\n",
       "      <td>527096</td>\n",
       "      <td>3</td>\n",
       "      <td>APP0698</td>\n",
       "      <td>9.99</td>\n",
       "      <td>2018-03-14 11:54:35</td>\n",
       "      <td>29.97</td>\n",
       "      <td>Apple Lightning Cable Connector to USB 1m Whit...</td>\n",
       "      <td>Apple Lightning USB Cable 1 meter to charge an...</td>\n",
       "      <td>25.00</td>\n",
       "      <td>1</td>\n",
       "      <td>1230</td>\n",
       "      <td>Apple</td>\n",
       "      <td>15.01</td>\n",
       "      <td>60.040000</td>\n",
       "      <td>45.03</td>\n",
       "      <td>2018-03-14 11:58:40</td>\n",
       "      <td>34.96</td>\n",
       "      <td>Completed</td>\n",
       "    </tr>\n",
       "    <tr>\n",
       "      <th>53230</th>\n",
       "      <td>527112</td>\n",
       "      <td>1</td>\n",
       "      <td>APP0698</td>\n",
       "      <td>9.99</td>\n",
       "      <td>2018-03-14 11:58:13</td>\n",
       "      <td>9.99</td>\n",
       "      <td>Apple Lightning Cable Connector to USB 1m Whit...</td>\n",
       "      <td>Apple Lightning USB Cable 1 meter to charge an...</td>\n",
       "      <td>25.00</td>\n",
       "      <td>1</td>\n",
       "      <td>1230</td>\n",
       "      <td>Apple</td>\n",
       "      <td>15.01</td>\n",
       "      <td>60.040000</td>\n",
       "      <td>15.01</td>\n",
       "      <td>2018-03-14 12:03:52</td>\n",
       "      <td>14.98</td>\n",
       "      <td>Completed</td>\n",
       "    </tr>\n",
       "  </tbody>\n",
       "</table>\n",
       "<p>53231 rows × 18 columns</p>\n",
       "</div>"
      ],
      "text/plain": [
       "       order_id  product_quantity        sku  unit_price                date  \\\n",
       "0        299545                 1    OWC0100       47.49 2017-01-01 01:46:16   \n",
       "1        299546                 1    IOT0014       18.99 2017-01-01 01:50:34   \n",
       "2        295347                 1    APP0700       72.19 2017-01-01 01:54:11   \n",
       "3        299556                 1  CRU0039-A       60.90 2017-01-01 02:20:14   \n",
       "4        299561                 1    PEB0015      142.49 2017-01-01 02:38:50   \n",
       "...         ...               ...        ...         ...                 ...   \n",
       "53226    527035                 1    APP0698        9.99 2018-03-14 11:42:41   \n",
       "53227    527070                 2    APP0698        9.99 2018-03-14 11:49:01   \n",
       "53228    527074                 2    APP0698        9.99 2018-03-14 11:49:36   \n",
       "53229    527096                 3    APP0698        9.99 2018-03-14 11:54:35   \n",
       "53230    527112                 1    APP0698        9.99 2018-03-14 11:58:13   \n",
       "\n",
       "       unit_price_total                                               name  \\\n",
       "0                 47.49  OWC In-line Digital Temperature Sensor Kit HDD...   \n",
       "1                 18.99               iOttie Easy View 2 Car Black Support   \n",
       "2                 72.19  Apple 85W MagSafe 2 charger MacBook Pro screen...   \n",
       "3                 60.90                 (Open) Crucial 240GB SSD 7mm BX200   \n",
       "4                142.49                 Pebble Smartwatch Time Steel Black   \n",
       "...                 ...                                                ...   \n",
       "53226              9.99  Apple Lightning Cable Connector to USB 1m Whit...   \n",
       "53227             19.98  Apple Lightning Cable Connector to USB 1m Whit...   \n",
       "53228             19.98  Apple Lightning Cable Connector to USB 1m Whit...   \n",
       "53229             29.97  Apple Lightning Cable Connector to USB 1m Whit...   \n",
       "53230              9.99  Apple Lightning Cable Connector to USB 1m Whit...   \n",
       "\n",
       "                                                    desc   price  in_stock  \\\n",
       "0      Kit temperature sensor for HDD iMac 21 inch an...   60.99         1   \n",
       "1      IPhone car holder 7 plus / 7/6 Plus / 6 / 5s /...   22.95         0   \n",
       "2      Apple MagSafe 2 Charger for MacBook Pro 15-inc...   89.00         1   \n",
       "3      SSD hard drive and high-speed performance with...   76.99         0   \n",
       "4      Bluetooth Smart Watch with steel case leather ...  299.99         0   \n",
       "...                                                  ...     ...       ...   \n",
       "53226  Apple Lightning USB Cable 1 meter to charge an...   25.00         1   \n",
       "53227  Apple Lightning USB Cable 1 meter to charge an...   25.00         1   \n",
       "53228  Apple Lightning USB Cable 1 meter to charge an...   25.00         1   \n",
       "53229  Apple Lightning USB Cable 1 meter to charge an...   25.00         1   \n",
       "53230  Apple Lightning USB Cable 1 meter to charge an...   25.00         1   \n",
       "\n",
       "           type    brand  discount  %_discount  total_discount  \\\n",
       "0      12755395      OWC     13.50   22.134776           13.50   \n",
       "1          5720   iOttie      3.96   17.254902            3.96   \n",
       "2      13005399    Apple     16.81   18.887640           16.81   \n",
       "3          1298  Crucial     16.09   20.898818           16.09   \n",
       "4      11905404   Pebble    157.50   52.501750          157.50   \n",
       "...         ...      ...       ...         ...             ...   \n",
       "53226      1230    Apple     15.01   60.040000           15.01   \n",
       "53227      1230    Apple     15.01   60.040000           30.02   \n",
       "53228      1230    Apple     15.01   60.040000           30.02   \n",
       "53229      1230    Apple     15.01   60.040000           45.03   \n",
       "53230      1230    Apple     15.01   60.040000           15.01   \n",
       "\n",
       "             created_date  total_paid      state  \n",
       "0     2017-01-01 01:51:47       51.48  Completed  \n",
       "1     2017-01-01 01:57:34       18.99  Completed  \n",
       "2     2017-01-01 02:02:38       72.19  Completed  \n",
       "3     2017-01-01 02:30:08       65.89  Completed  \n",
       "4     2017-01-01 02:39:47      154.48  Completed  \n",
       "...                   ...         ...        ...  \n",
       "53226 2018-03-14 11:44:34       37.98  Completed  \n",
       "53227 2018-03-14 11:50:48       24.97  Completed  \n",
       "53228 2018-03-14 11:51:42       24.97  Completed  \n",
       "53229 2018-03-14 11:58:40       34.96  Completed  \n",
       "53230 2018-03-14 12:03:52       14.98  Completed  \n",
       "\n",
       "[53231 rows x 18 columns]"
      ]
     },
     "execution_count": 35,
     "metadata": {},
     "output_type": "execute_result"
    }
   ],
   "source": [
    "#merging ol_pro_m with orders_c\n",
    "o_ol_pro_m = ol_pro_m.merge(orders_c, on=\"order_id\", how=\"left\")\n",
    "o_ol_pro_m"
   ]
  },
  {
   "cell_type": "code",
   "execution_count": 36,
   "metadata": {
    "colab": {
     "base_uri": "https://localhost:8080/",
     "height": 354
    },
    "id": "cBkvYFDKZ_cx",
    "outputId": "0da58224-be79-4b8f-ace4-9c768f7b658e"
   },
   "outputs": [
    {
     "data": {
      "text/html": [
       "<div>\n",
       "<style scoped>\n",
       "    .dataframe tbody tr th:only-of-type {\n",
       "        vertical-align: middle;\n",
       "    }\n",
       "\n",
       "    .dataframe tbody tr th {\n",
       "        vertical-align: top;\n",
       "    }\n",
       "\n",
       "    .dataframe thead th {\n",
       "        text-align: right;\n",
       "    }\n",
       "</style>\n",
       "<table border=\"1\" class=\"dataframe\">\n",
       "  <thead>\n",
       "    <tr style=\"text-align: right;\">\n",
       "      <th></th>\n",
       "      <th>order_id</th>\n",
       "      <th>product_quantity</th>\n",
       "      <th>sku</th>\n",
       "      <th>unit_price</th>\n",
       "      <th>date</th>\n",
       "      <th>unit_price_total</th>\n",
       "      <th>name</th>\n",
       "      <th>desc</th>\n",
       "      <th>price</th>\n",
       "      <th>in_stock</th>\n",
       "      <th>type</th>\n",
       "      <th>brand</th>\n",
       "      <th>discount</th>\n",
       "      <th>%_discount</th>\n",
       "      <th>total_discount</th>\n",
       "      <th>created_date</th>\n",
       "      <th>total_paid</th>\n",
       "      <th>state</th>\n",
       "    </tr>\n",
       "  </thead>\n",
       "  <tbody>\n",
       "    <tr>\n",
       "      <th>0</th>\n",
       "      <td>299545</td>\n",
       "      <td>1</td>\n",
       "      <td>OWC0100</td>\n",
       "      <td>47.49</td>\n",
       "      <td>2017-01-01 01:46:16</td>\n",
       "      <td>47.49</td>\n",
       "      <td>OWC In-line Digital Temperature Sensor Kit HDD...</td>\n",
       "      <td>Kit temperature sensor for HDD iMac 21 inch an...</td>\n",
       "      <td>60.99</td>\n",
       "      <td>1</td>\n",
       "      <td>12755395</td>\n",
       "      <td>OWC</td>\n",
       "      <td>13.50</td>\n",
       "      <td>22.134776</td>\n",
       "      <td>13.50</td>\n",
       "      <td>2017-01-01 01:51:47</td>\n",
       "      <td>51.48</td>\n",
       "      <td>Completed</td>\n",
       "    </tr>\n",
       "    <tr>\n",
       "      <th>1</th>\n",
       "      <td>299546</td>\n",
       "      <td>1</td>\n",
       "      <td>IOT0014</td>\n",
       "      <td>18.99</td>\n",
       "      <td>2017-01-01 01:50:34</td>\n",
       "      <td>18.99</td>\n",
       "      <td>iOttie Easy View 2 Car Black Support</td>\n",
       "      <td>IPhone car holder 7 plus / 7/6 Plus / 6 / 5s /...</td>\n",
       "      <td>22.95</td>\n",
       "      <td>0</td>\n",
       "      <td>5720</td>\n",
       "      <td>iOttie</td>\n",
       "      <td>3.96</td>\n",
       "      <td>17.254902</td>\n",
       "      <td>3.96</td>\n",
       "      <td>2017-01-01 01:57:34</td>\n",
       "      <td>18.99</td>\n",
       "      <td>Completed</td>\n",
       "    </tr>\n",
       "    <tr>\n",
       "      <th>2</th>\n",
       "      <td>295347</td>\n",
       "      <td>1</td>\n",
       "      <td>APP0700</td>\n",
       "      <td>72.19</td>\n",
       "      <td>2017-01-01 01:54:11</td>\n",
       "      <td>72.19</td>\n",
       "      <td>Apple 85W MagSafe 2 charger MacBook Pro screen...</td>\n",
       "      <td>Apple MagSafe 2 Charger for MacBook Pro 15-inc...</td>\n",
       "      <td>89.00</td>\n",
       "      <td>1</td>\n",
       "      <td>13005399</td>\n",
       "      <td>Apple</td>\n",
       "      <td>16.81</td>\n",
       "      <td>18.887640</td>\n",
       "      <td>16.81</td>\n",
       "      <td>2017-01-01 02:02:38</td>\n",
       "      <td>72.19</td>\n",
       "      <td>Completed</td>\n",
       "    </tr>\n",
       "    <tr>\n",
       "      <th>3</th>\n",
       "      <td>299556</td>\n",
       "      <td>1</td>\n",
       "      <td>CRU0039-A</td>\n",
       "      <td>60.90</td>\n",
       "      <td>2017-01-01 02:20:14</td>\n",
       "      <td>60.90</td>\n",
       "      <td>(Open) Crucial 240GB SSD 7mm BX200</td>\n",
       "      <td>SSD hard drive and high-speed performance with...</td>\n",
       "      <td>76.99</td>\n",
       "      <td>0</td>\n",
       "      <td>1298</td>\n",
       "      <td>Crucial</td>\n",
       "      <td>16.09</td>\n",
       "      <td>20.898818</td>\n",
       "      <td>16.09</td>\n",
       "      <td>2017-01-01 02:30:08</td>\n",
       "      <td>65.89</td>\n",
       "      <td>Completed</td>\n",
       "    </tr>\n",
       "    <tr>\n",
       "      <th>4</th>\n",
       "      <td>299561</td>\n",
       "      <td>1</td>\n",
       "      <td>PEB0015</td>\n",
       "      <td>142.49</td>\n",
       "      <td>2017-01-01 02:38:50</td>\n",
       "      <td>142.49</td>\n",
       "      <td>Pebble Smartwatch Time Steel Black</td>\n",
       "      <td>Bluetooth Smart Watch with steel case leather ...</td>\n",
       "      <td>299.99</td>\n",
       "      <td>0</td>\n",
       "      <td>11905404</td>\n",
       "      <td>Pebble</td>\n",
       "      <td>157.50</td>\n",
       "      <td>52.501750</td>\n",
       "      <td>157.50</td>\n",
       "      <td>2017-01-01 02:39:47</td>\n",
       "      <td>154.48</td>\n",
       "      <td>Completed</td>\n",
       "    </tr>\n",
       "  </tbody>\n",
       "</table>\n",
       "</div>"
      ],
      "text/plain": [
       "   order_id  product_quantity        sku  unit_price                date  \\\n",
       "0    299545                 1    OWC0100       47.49 2017-01-01 01:46:16   \n",
       "1    299546                 1    IOT0014       18.99 2017-01-01 01:50:34   \n",
       "2    295347                 1    APP0700       72.19 2017-01-01 01:54:11   \n",
       "3    299556                 1  CRU0039-A       60.90 2017-01-01 02:20:14   \n",
       "4    299561                 1    PEB0015      142.49 2017-01-01 02:38:50   \n",
       "\n",
       "   unit_price_total                                               name  \\\n",
       "0             47.49  OWC In-line Digital Temperature Sensor Kit HDD...   \n",
       "1             18.99               iOttie Easy View 2 Car Black Support   \n",
       "2             72.19  Apple 85W MagSafe 2 charger MacBook Pro screen...   \n",
       "3             60.90                 (Open) Crucial 240GB SSD 7mm BX200   \n",
       "4            142.49                 Pebble Smartwatch Time Steel Black   \n",
       "\n",
       "                                                desc   price  in_stock  \\\n",
       "0  Kit temperature sensor for HDD iMac 21 inch an...   60.99         1   \n",
       "1  IPhone car holder 7 plus / 7/6 Plus / 6 / 5s /...   22.95         0   \n",
       "2  Apple MagSafe 2 Charger for MacBook Pro 15-inc...   89.00         1   \n",
       "3  SSD hard drive and high-speed performance with...   76.99         0   \n",
       "4  Bluetooth Smart Watch with steel case leather ...  299.99         0   \n",
       "\n",
       "       type    brand  discount  %_discount  total_discount  \\\n",
       "0  12755395      OWC     13.50   22.134776           13.50   \n",
       "1      5720   iOttie      3.96   17.254902            3.96   \n",
       "2  13005399    Apple     16.81   18.887640           16.81   \n",
       "3      1298  Crucial     16.09   20.898818           16.09   \n",
       "4  11905404   Pebble    157.50   52.501750          157.50   \n",
       "\n",
       "         created_date  total_paid      state  \n",
       "0 2017-01-01 01:51:47       51.48  Completed  \n",
       "1 2017-01-01 01:57:34       18.99  Completed  \n",
       "2 2017-01-01 02:02:38       72.19  Completed  \n",
       "3 2017-01-01 02:30:08       65.89  Completed  \n",
       "4 2017-01-01 02:39:47      154.48  Completed  "
      ]
     },
     "execution_count": 36,
     "metadata": {},
     "output_type": "execute_result"
    }
   ],
   "source": [
    "o_ol_pro_m.head(5)"
   ]
  },
  {
   "cell_type": "markdown",
   "metadata": {
    "id": "uoEAzljv_riw"
   },
   "source": [
    "# Slide 1: Revenue and Discount"
   ]
  },
  {
   "cell_type": "markdown",
   "metadata": {
    "id": "V-wrFy5AKy2B"
   },
   "source": [
    "All analysis done **with** outliers, minimal difference without outliers"
   ]
  },
  {
   "cell_type": "markdown",
   "metadata": {
    "id": "LPa3b24F_lmO"
   },
   "source": [
    "## total revenue and total number of products sold"
   ]
  },
  {
   "cell_type": "code",
   "execution_count": 37,
   "metadata": {
    "colab": {
     "base_uri": "https://localhost:8080/"
    },
    "id": "wLuErsk4_lDR",
    "outputId": "87c89005-5702-47c3-ae54-58fcec7657a8"
   },
   "outputs": [
    {
     "data": {
      "text/plain": [
       "(7817204.4, 60011)"
      ]
     },
     "execution_count": 37,
     "metadata": {},
     "output_type": "execute_result"
    }
   ],
   "source": [
    "# using `unit_price_total` instead of `total_paid`(duplicated)\n",
    "o_ol_pro_m.unit_price_total.sum(), o_ol_pro_m.product_quantity.sum()"
   ]
  },
  {
   "cell_type": "markdown",
   "metadata": {
    "id": "1Lz9KZEKBO3A"
   },
   "source": [
    "## total discount"
   ]
  },
  {
   "cell_type": "code",
   "execution_count": 38,
   "metadata": {
    "colab": {
     "base_uri": "https://localhost:8080/"
    },
    "id": "orkNDUZzBUMY",
    "outputId": "cb2de9f5-353a-4ed5-bfb0-6568b63007e0"
   },
   "outputs": [
    {
     "data": {
      "text/plain": [
       "1525222.46"
      ]
     },
     "execution_count": 38,
     "metadata": {},
     "output_type": "execute_result"
    }
   ],
   "source": [
    "o_ol_pro_m.total_discount.sum()"
   ]
  },
  {
   "cell_type": "markdown",
   "metadata": {
    "id": "ix5A5nsxE7wt"
   },
   "source": [
    "## % total discounts represent"
   ]
  },
  {
   "cell_type": "code",
   "execution_count": 39,
   "metadata": {
    "colab": {
     "base_uri": "https://localhost:8080/"
    },
    "id": "CQWAAQLKFAlA",
    "outputId": "86657e1f-be28-4054-9a6f-06b6a52cc948"
   },
   "outputs": [
    {
     "data": {
      "text/plain": [
       "19.511098622418007"
      ]
     },
     "execution_count": 39,
     "metadata": {},
     "output_type": "execute_result"
    }
   ],
   "source": [
    "(o_ol_pro_m.total_discount.sum() / o_ol_pro_m.unit_price_total.sum()) * 100"
   ]
  },
  {
   "cell_type": "code",
   "execution_count": 40,
   "metadata": {
    "colab": {
     "base_uri": "https://localhost:8080/"
    },
    "id": "2zsvsQKbNgAb",
    "outputId": "0db46e3e-f4b4-4515-8385-a90b974a9516"
   },
   "outputs": [
    {
     "data": {
      "text/plain": [
       "total_discount\n",
       " 0.00     2256\n",
       " 10.00    1276\n",
       " 5.00      940\n",
       " 3.00      915\n",
       " 20.00     780\n",
       " 2.00      591\n",
       " 25.00     502\n",
       " 7.00      499\n",
       " 60.00     465\n",
       " 19.00     451\n",
       " 4.00      449\n",
       " 14.00     437\n",
       " 6.00      426\n",
       " 13.00     420\n",
       "-0.04      405\n",
       " 1.00      389\n",
       " 15.00     372\n",
       " 11.00     345\n",
       " 16.00     322\n",
       " 8.00      298\n",
       "Name: order_id, dtype: int64"
      ]
     },
     "execution_count": 40,
     "metadata": {},
     "output_type": "execute_result"
    }
   ],
   "source": [
    "o_ol_pro_m.groupby(\"total_discount\").order_id.count().nlargest(20)"
   ]
  },
  {
   "cell_type": "markdown",
   "metadata": {
    "id": "8DUgZtynKcrZ"
   },
   "source": [
    "# Other"
   ]
  },
  {
   "cell_type": "code",
   "execution_count": 41,
   "metadata": {
    "colab": {
     "base_uri": "https://localhost:8080/",
     "height": 423
    },
    "id": "DxegUNDMaOBO",
    "outputId": "e3537fd2-3861-41ea-80ea-c5843945ce5f"
   },
   "outputs": [
    {
     "data": {
      "text/html": [
       "<div>\n",
       "<style scoped>\n",
       "    .dataframe tbody tr th:only-of-type {\n",
       "        vertical-align: middle;\n",
       "    }\n",
       "\n",
       "    .dataframe tbody tr th {\n",
       "        vertical-align: top;\n",
       "    }\n",
       "\n",
       "    .dataframe thead th {\n",
       "        text-align: right;\n",
       "    }\n",
       "</style>\n",
       "<table border=\"1\" class=\"dataframe\">\n",
       "  <thead>\n",
       "    <tr style=\"text-align: right;\">\n",
       "      <th></th>\n",
       "      <th>created_date</th>\n",
       "      <th>total_paid</th>\n",
       "    </tr>\n",
       "  </thead>\n",
       "  <tbody>\n",
       "    <tr>\n",
       "      <th>0</th>\n",
       "      <td>2017-01-01</td>\n",
       "      <td>22391.11</td>\n",
       "    </tr>\n",
       "    <tr>\n",
       "      <th>1</th>\n",
       "      <td>2017-01-02</td>\n",
       "      <td>58470.93</td>\n",
       "    </tr>\n",
       "    <tr>\n",
       "      <th>2</th>\n",
       "      <td>2017-01-03</td>\n",
       "      <td>44216.90</td>\n",
       "    </tr>\n",
       "    <tr>\n",
       "      <th>3</th>\n",
       "      <td>2017-01-04</td>\n",
       "      <td>22009.28</td>\n",
       "    </tr>\n",
       "    <tr>\n",
       "      <th>4</th>\n",
       "      <td>2017-01-05</td>\n",
       "      <td>17692.90</td>\n",
       "    </tr>\n",
       "    <tr>\n",
       "      <th>...</th>\n",
       "      <td>...</td>\n",
       "      <td>...</td>\n",
       "    </tr>\n",
       "    <tr>\n",
       "      <th>433</th>\n",
       "      <td>2018-03-10</td>\n",
       "      <td>13835.51</td>\n",
       "    </tr>\n",
       "    <tr>\n",
       "      <th>434</th>\n",
       "      <td>2018-03-11</td>\n",
       "      <td>11683.15</td>\n",
       "    </tr>\n",
       "    <tr>\n",
       "      <th>435</th>\n",
       "      <td>2018-03-12</td>\n",
       "      <td>29385.24</td>\n",
       "    </tr>\n",
       "    <tr>\n",
       "      <th>436</th>\n",
       "      <td>2018-03-13</td>\n",
       "      <td>19298.67</td>\n",
       "    </tr>\n",
       "    <tr>\n",
       "      <th>437</th>\n",
       "      <td>2018-03-14</td>\n",
       "      <td>2293.65</td>\n",
       "    </tr>\n",
       "  </tbody>\n",
       "</table>\n",
       "<p>438 rows × 2 columns</p>\n",
       "</div>"
      ],
      "text/plain": [
       "    created_date  total_paid\n",
       "0     2017-01-01    22391.11\n",
       "1     2017-01-02    58470.93\n",
       "2     2017-01-03    44216.90\n",
       "3     2017-01-04    22009.28\n",
       "4     2017-01-05    17692.90\n",
       "..           ...         ...\n",
       "433   2018-03-10    13835.51\n",
       "434   2018-03-11    11683.15\n",
       "435   2018-03-12    29385.24\n",
       "436   2018-03-13    19298.67\n",
       "437   2018-03-14     2293.65\n",
       "\n",
       "[438 rows x 2 columns]"
      ]
     },
     "execution_count": 41,
     "metadata": {},
     "output_type": "execute_result"
    }
   ],
   "source": [
    "#revenue vs time\n",
    "total_revenue = o_ol_pro_m.resample(\"D\", on=\"created_date\").total_paid.sum().reset_index()\n",
    "total_revenue"
   ]
  },
  {
   "cell_type": "code",
   "execution_count": 42,
   "metadata": {
    "colab": {
     "base_uri": "https://localhost:8080/",
     "height": 423
    },
    "id": "36bMflluc8cd",
    "outputId": "71627ba5-5604-4bcd-caff-790b58e88a50"
   },
   "outputs": [
    {
     "data": {
      "text/html": [
       "<div>\n",
       "<style scoped>\n",
       "    .dataframe tbody tr th:only-of-type {\n",
       "        vertical-align: middle;\n",
       "    }\n",
       "\n",
       "    .dataframe tbody tr th {\n",
       "        vertical-align: top;\n",
       "    }\n",
       "\n",
       "    .dataframe thead th {\n",
       "        text-align: right;\n",
       "    }\n",
       "</style>\n",
       "<table border=\"1\" class=\"dataframe\">\n",
       "  <thead>\n",
       "    <tr style=\"text-align: right;\">\n",
       "      <th></th>\n",
       "      <th>created_date</th>\n",
       "      <th>discount</th>\n",
       "    </tr>\n",
       "  </thead>\n",
       "  <tbody>\n",
       "    <tr>\n",
       "      <th>0</th>\n",
       "      <td>2017-01-01</td>\n",
       "      <td>2979.98</td>\n",
       "    </tr>\n",
       "    <tr>\n",
       "      <th>1</th>\n",
       "      <td>2017-01-02</td>\n",
       "      <td>6096.82</td>\n",
       "    </tr>\n",
       "    <tr>\n",
       "      <th>2</th>\n",
       "      <td>2017-01-03</td>\n",
       "      <td>5446.50</td>\n",
       "    </tr>\n",
       "    <tr>\n",
       "      <th>3</th>\n",
       "      <td>2017-01-04</td>\n",
       "      <td>2061.41</td>\n",
       "    </tr>\n",
       "    <tr>\n",
       "      <th>4</th>\n",
       "      <td>2017-01-05</td>\n",
       "      <td>7983.89</td>\n",
       "    </tr>\n",
       "    <tr>\n",
       "      <th>...</th>\n",
       "      <td>...</td>\n",
       "      <td>...</td>\n",
       "    </tr>\n",
       "    <tr>\n",
       "      <th>433</th>\n",
       "      <td>2018-03-10</td>\n",
       "      <td>2164.64</td>\n",
       "    </tr>\n",
       "    <tr>\n",
       "      <th>434</th>\n",
       "      <td>2018-03-11</td>\n",
       "      <td>2221.20</td>\n",
       "    </tr>\n",
       "    <tr>\n",
       "      <th>435</th>\n",
       "      <td>2018-03-12</td>\n",
       "      <td>4120.85</td>\n",
       "    </tr>\n",
       "    <tr>\n",
       "      <th>436</th>\n",
       "      <td>2018-03-13</td>\n",
       "      <td>2566.76</td>\n",
       "    </tr>\n",
       "    <tr>\n",
       "      <th>437</th>\n",
       "      <td>2018-03-14</td>\n",
       "      <td>933.13</td>\n",
       "    </tr>\n",
       "  </tbody>\n",
       "</table>\n",
       "<p>438 rows × 2 columns</p>\n",
       "</div>"
      ],
      "text/plain": [
       "    created_date  discount\n",
       "0     2017-01-01   2979.98\n",
       "1     2017-01-02   6096.82\n",
       "2     2017-01-03   5446.50\n",
       "3     2017-01-04   2061.41\n",
       "4     2017-01-05   7983.89\n",
       "..           ...       ...\n",
       "433   2018-03-10   2164.64\n",
       "434   2018-03-11   2221.20\n",
       "435   2018-03-12   4120.85\n",
       "436   2018-03-13   2566.76\n",
       "437   2018-03-14    933.13\n",
       "\n",
       "[438 rows x 2 columns]"
      ]
     },
     "execution_count": 42,
     "metadata": {},
     "output_type": "execute_result"
    }
   ],
   "source": [
    "total_discount = o_ol_pro_m.resample(\"D\", on=\"created_date\").discount.sum().reset_index()\n",
    "total_discount"
   ]
  },
  {
   "cell_type": "code",
   "execution_count": 43,
   "metadata": {
    "colab": {
     "base_uri": "https://localhost:8080/",
     "height": 265
    },
    "id": "bV2Ef5DlbtYL",
    "outputId": "dfd67d7b-23ad-452b-8121-fed7f4060238"
   },
   "outputs": [
    {
     "data": {
      "image/png": "[encoded data removed]",
      "text/plain": [
       "<Figure size 432x288 with 1 Axes>"
      ]
     },
     "metadata": {
      "needs_background": "light"
     },
     "output_type": "display_data"
    }
   ],
   "source": [
    "plt.plot(total_revenue[\"created_date\"], total_revenue[\"total_paid\"]);\n",
    "plt.plot(total_discount[\"created_date\"], total_discount[\"discount\"]);"
   ]
  },
  {
   "cell_type": "code",
   "execution_count": 44,
   "metadata": {},
   "outputs": [
    {
     "data": {
      "image/png": "[encoded data removed]",
      "text/plain": [
       "<Figure size 432x288 with 1 Axes>"
      ]
     },
     "metadata": {
      "needs_background": "light"
     },
     "output_type": "display_data"
    }
   ],
   "source": [
    "\n",
    "plt.plot(total_revenue[\"created_date\"], total_revenue[\"total_paid\"]);\n",
    "plt.plot(total_discount[\"created_date\"], total_discount[\"discount\"]);"
   ]
  },
  {
   "cell_type": "code",
   "execution_count": 45,
   "metadata": {
    "id": "jNnOzuzLcJRR"
   },
   "outputs": [],
   "source": [
    "#plt.plot(dataFrame[\"Reg_Price\"], dataFrame[\"Units\"])"
   ]
  },
  {
   "cell_type": "code",
   "execution_count": 46,
   "metadata": {
    "id": "LMEyDd-fajlh"
   },
   "outputs": [],
   "source": [
    "#o_total_paid_daily_avg = orders_qu.resample(\"D\", on=\"created_date\").total_paid.mean().reset_index()"
   ]
  },
  {
   "cell_type": "code",
   "execution_count": 47,
   "metadata": {
    "id": "Bey7K7Njat3o"
   },
   "outputs": [],
   "source": [
    "#brands_10_most_sold_df = (\n",
    "#                         ol_with_brands_df.groupby(\"long\", as_index=False)\n",
    "#                         [\"product_quantity\"].sum()\n",
    "#                         .nlargest(10, \"product_quantity\")\n",
    "#                         )\n",
    "#brands_10_most_sold_df"
   ]
  },
  {
   "cell_type": "code",
   "execution_count": 48,
   "metadata": {
    "id": "z7gH6O5Rayxp"
   },
   "outputs": [],
   "source": [
    "#sns.set(font_scale=1.5) #increasing fontsize\n",
    "#sns.relplot(kind=\"line\",\n",
    "#            data=o_total_paid_daily_avg,\n",
    "#            x=\"created_date\",\n",
    "#            y=\"total_paid\",\n",
    "#            height=6,\n",
    "#            aspect=3).set(title=\"Daily average order cost\"); #adding title"
   ]
  },
  {
   "cell_type": "code",
   "execution_count": 49,
   "metadata": {
    "id": "kOI0K-wrbAxI"
   },
   "outputs": [],
   "source": [
    "#import seaborn as sns\n",
    "#import warnings\n",
    "#warnings.filterwarnings(\"ignore\")"
   ]
  },
  {
   "cell_type": "code",
   "execution_count": 50,
   "metadata": {
    "id": "KeOq9PY4KndV"
   },
   "outputs": [],
   "source": [
    "#pro_bra_m = pro_bra_m.drop(labels=\"short\", axis=1)"
   ]
  },
  {
   "cell_type": "code",
   "execution_count": 51,
   "metadata": {
    "id": "Cv0kiUG6BD08"
   },
   "outputs": [],
   "source": [
    "#df = df.merge(df2[['Key_Column','Target_Column']],on='Key_Column', how='left')"
   ]
  },
  {
   "cell_type": "code",
   "execution_count": 52,
   "metadata": {
    "id": "3C7PpU2fKwDk"
   },
   "outputs": [],
   "source": [
    "#pro_bra_m[[\"sku\", \"name\", \"price\", \"in_stock\", \"brand\"]]"
   ]
  },
  {
   "cell_type": "markdown",
   "metadata": {
    "id": "f8Nvv94KIJYd"
   },
   "source": [
    "# Without Outliers"
   ]
  },
  {
   "cell_type": "code",
   "execution_count": 53,
   "metadata": {
    "id": "MkFMJDSBICCE"
   },
   "outputs": [],
   "source": [
    "#getting rid of outliers\n",
    "\n",
    "# your code here\n",
    "# calculate the quartiles\n",
    "Q1 = o_ol_pro_m.total_discount.quantile(0.25)\n",
    "Q3 = o_ol_pro_m.total_discount.quantile(0.75)\n",
    "\n",
    "# calculates the IQR\n",
    "IQR = Q3 - Q1\n",
    "\n",
    "# keep only the differences that are within Q1-1.5*IQR  and Q3-1.5*IQR\n",
    "\n",
    "o_ol_pro_m_ql_1 = o_ol_pro_m.loc[(o_ol_pro_m.total_discount >= (Q1 - 4.5*IQR)) & (o_ol_pro_m.total_discount<= (Q3 + 4.5*IQR)), :].copy()\n",
    "\n",
    "o_ol_pro_m_ql_2 = o_ol_pro_m.loc[(o_ol_pro_m.total_discount >= (Q1 - 1.5*IQR)) & (o_ol_pro_m.total_discount<= (Q3 + 4.5*IQR)), :].copy()"
   ]
  },
  {
   "cell_type": "markdown",
   "metadata": {
    "id": "ktQs1vp5J4oe"
   },
   "source": [
    "## revenue and discount with 1.5/4.5"
   ]
  },
  {
   "cell_type": "code",
   "execution_count": 54,
   "metadata": {
    "colab": {
     "base_uri": "https://localhost:8080/"
    },
    "id": "KRUTIqfVJI66",
    "outputId": "4d9925e9-edb7-4d8f-bb7d-5cf3e37a32aa"
   },
   "outputs": [
    {
     "data": {
      "text/plain": [
       "7067416.319999999"
      ]
     },
     "execution_count": 54,
     "metadata": {},
     "output_type": "execute_result"
    }
   ],
   "source": [
    "o_ol_pro_m_ql_2.unit_price_total.sum()"
   ]
  },
  {
   "cell_type": "code",
   "execution_count": 55,
   "metadata": {
    "colab": {
     "base_uri": "https://localhost:8080/"
    },
    "id": "T9auJyN3JNwc",
    "outputId": "71eeedfe-3093-4de3-d48a-80ff4b886971"
   },
   "outputs": [
    {
     "data": {
      "text/plain": [
       "1284356.6300000001"
      ]
     },
     "execution_count": 55,
     "metadata": {},
     "output_type": "execute_result"
    }
   ],
   "source": [
    "o_ol_pro_m_ql_2.total_discount.sum()"
   ]
  },
  {
   "cell_type": "code",
   "execution_count": 56,
   "metadata": {
    "colab": {
     "base_uri": "https://localhost:8080/"
    },
    "id": "8gIQ1P1TJZ_w",
    "outputId": "1748a2d6-0358-444e-ed31-43cc2694649b"
   },
   "outputs": [
    {
     "data": {
      "text/plain": [
       "18.172930132407995"
      ]
     },
     "execution_count": 56,
     "metadata": {},
     "output_type": "execute_result"
    }
   ],
   "source": [
    "(o_ol_pro_m_ql_2.total_discount.sum() / o_ol_pro_m_ql_2.unit_price_total.sum()) * 100"
   ]
  },
  {
   "cell_type": "markdown",
   "metadata": {
    "id": "eZJjDtMeJ_pu"
   },
   "source": [
    "## revenue and discount with 4.5/4.5"
   ]
  },
  {
   "cell_type": "code",
   "execution_count": 57,
   "metadata": {
    "colab": {
     "base_uri": "https://localhost:8080/"
    },
    "id": "88lumvbOJie2",
    "outputId": "3abe3751-b71a-4326-8ce1-836e525c47fa"
   },
   "outputs": [
    {
     "data": {
      "text/plain": [
       "7144187.21"
      ]
     },
     "execution_count": 57,
     "metadata": {},
     "output_type": "execute_result"
    }
   ],
   "source": [
    "o_ol_pro_m_ql_1.unit_price_total.sum()"
   ]
  },
  {
   "cell_type": "code",
   "execution_count": 58,
   "metadata": {
    "colab": {
     "base_uri": "https://localhost:8080/"
    },
    "id": "iE8XJwQhKEQ6",
    "outputId": "34ed7d53-0329-4e77-e288-397c0fa10a0e"
   },
   "outputs": [
    {
     "data": {
      "text/plain": [
       "1274418.63"
      ]
     },
     "execution_count": 58,
     "metadata": {},
     "output_type": "execute_result"
    }
   ],
   "source": [
    "o_ol_pro_m_ql_1.total_discount.sum()"
   ]
  },
  {
   "cell_type": "code",
   "execution_count": 59,
   "metadata": {
    "colab": {
     "base_uri": "https://localhost:8080/"
    },
    "id": "N85XiPyAKFhl",
    "outputId": "3445b75c-06ae-4244-c576-1541ca030f8a"
   },
   "outputs": [
    {
     "data": {
      "text/plain": [
       "17.83853911633427"
      ]
     },
     "execution_count": 59,
     "metadata": {},
     "output_type": "execute_result"
    }
   ],
   "source": [
    "(o_ol_pro_m_ql_1.total_discount.sum() / o_ol_pro_m_ql_1.unit_price_total.sum()) * 100"
   ]
  },
  {
   "cell_type": "code",
   "execution_count": 60,
   "metadata": {
    "colab": {
     "base_uri": "https://localhost:8080/"
    },
    "id": "zABh_VcyMMNq",
    "outputId": "2ed6088e-b7ee-4b15-e107-e6198ba8d808"
   },
   "outputs": [
    {
     "data": {
      "text/plain": [
       "product_quantity\n",
       "1     49087\n",
       "2      3175\n",
       "3       460\n",
       "4       271\n",
       "5        87\n",
       "6        49\n",
       "7        13\n",
       "8        19\n",
       "9         9\n",
       "10       27\n",
       "11        1\n",
       "12        5\n",
       "13        1\n",
       "14        2\n",
       "15        2\n",
       "16        2\n",
       "18        3\n",
       "20        4\n",
       "21        2\n",
       "27        3\n",
       "30        1\n",
       "32        2\n",
       "33        1\n",
       "35        2\n",
       "37        1\n",
       "50        1\n",
       "72        1\n",
       "Name: order_id, dtype: int64"
      ]
     },
     "execution_count": 60,
     "metadata": {},
     "output_type": "execute_result"
    }
   ],
   "source": [
    "o_ol_pro_m.groupby(\"product_quantity\").order_id.count()"
   ]
  },
  {
   "cell_type": "markdown",
   "metadata": {
    "id": "DLfr_VvrMVQY"
   },
   "source": [
    "## Looking at types\n"
   ]
  },
  {
   "cell_type": "code",
   "execution_count": 61,
   "metadata": {},
   "outputs": [],
   "source": [
    "category_type_df = o_ol_pro_m.copy()"
   ]
  },
  {
   "cell_type": "code",
   "execution_count": 62,
   "metadata": {},
   "outputs": [
    {
     "data": {
      "text/html": [
       "<div>\n",
       "<style scoped>\n",
       "    .dataframe tbody tr th:only-of-type {\n",
       "        vertical-align: middle;\n",
       "    }\n",
       "\n",
       "    .dataframe tbody tr th {\n",
       "        vertical-align: top;\n",
       "    }\n",
       "\n",
       "    .dataframe thead th {\n",
       "        text-align: right;\n",
       "    }\n",
       "</style>\n",
       "<table border=\"1\" class=\"dataframe\">\n",
       "  <thead>\n",
       "    <tr style=\"text-align: right;\">\n",
       "      <th></th>\n",
       "      <th>order_id</th>\n",
       "      <th>product_quantity</th>\n",
       "      <th>sku</th>\n",
       "      <th>unit_price</th>\n",
       "      <th>date</th>\n",
       "      <th>unit_price_total</th>\n",
       "      <th>name</th>\n",
       "      <th>desc</th>\n",
       "      <th>price</th>\n",
       "      <th>in_stock</th>\n",
       "      <th>brand</th>\n",
       "      <th>discount</th>\n",
       "      <th>%_discount</th>\n",
       "      <th>total_discount</th>\n",
       "      <th>created_date</th>\n",
       "      <th>total_paid</th>\n",
       "      <th>state</th>\n",
       "    </tr>\n",
       "    <tr>\n",
       "      <th>type</th>\n",
       "      <th></th>\n",
       "      <th></th>\n",
       "      <th></th>\n",
       "      <th></th>\n",
       "      <th></th>\n",
       "      <th></th>\n",
       "      <th></th>\n",
       "      <th></th>\n",
       "      <th></th>\n",
       "      <th></th>\n",
       "      <th></th>\n",
       "      <th></th>\n",
       "      <th></th>\n",
       "      <th></th>\n",
       "      <th></th>\n",
       "      <th></th>\n",
       "      <th></th>\n",
       "    </tr>\n",
       "  </thead>\n",
       "  <tbody>\n",
       "    <tr>\n",
       "      <th>11865403</th>\n",
       "      <td>4374</td>\n",
       "      <td>4374</td>\n",
       "      <td>4374</td>\n",
       "      <td>4374</td>\n",
       "      <td>4374</td>\n",
       "      <td>4374</td>\n",
       "      <td>4374</td>\n",
       "      <td>4374</td>\n",
       "      <td>4374</td>\n",
       "      <td>4374</td>\n",
       "      <td>4373</td>\n",
       "      <td>4374</td>\n",
       "      <td>4374</td>\n",
       "      <td>4374</td>\n",
       "      <td>4374</td>\n",
       "      <td>4374</td>\n",
       "      <td>4374</td>\n",
       "    </tr>\n",
       "    <tr>\n",
       "      <th>11935397</th>\n",
       "      <td>3872</td>\n",
       "      <td>3872</td>\n",
       "      <td>3872</td>\n",
       "      <td>3872</td>\n",
       "      <td>3872</td>\n",
       "      <td>3872</td>\n",
       "      <td>3872</td>\n",
       "      <td>3872</td>\n",
       "      <td>3872</td>\n",
       "      <td>3872</td>\n",
       "      <td>3872</td>\n",
       "      <td>3872</td>\n",
       "      <td>3872</td>\n",
       "      <td>3872</td>\n",
       "      <td>3872</td>\n",
       "      <td>3872</td>\n",
       "      <td>3872</td>\n",
       "    </tr>\n",
       "    <tr>\n",
       "      <th>11905404</th>\n",
       "      <td>3145</td>\n",
       "      <td>3145</td>\n",
       "      <td>3145</td>\n",
       "      <td>3145</td>\n",
       "      <td>3145</td>\n",
       "      <td>3145</td>\n",
       "      <td>3145</td>\n",
       "      <td>3145</td>\n",
       "      <td>3145</td>\n",
       "      <td>3145</td>\n",
       "      <td>3123</td>\n",
       "      <td>3145</td>\n",
       "      <td>3145</td>\n",
       "      <td>3145</td>\n",
       "      <td>3145</td>\n",
       "      <td>3145</td>\n",
       "      <td>3145</td>\n",
       "    </tr>\n",
       "    <tr>\n",
       "      <th>1364</th>\n",
       "      <td>3136</td>\n",
       "      <td>3136</td>\n",
       "      <td>3136</td>\n",
       "      <td>3136</td>\n",
       "      <td>3136</td>\n",
       "      <td>3136</td>\n",
       "      <td>3136</td>\n",
       "      <td>3136</td>\n",
       "      <td>3136</td>\n",
       "      <td>3136</td>\n",
       "      <td>3135</td>\n",
       "      <td>3136</td>\n",
       "      <td>3136</td>\n",
       "      <td>3136</td>\n",
       "      <td>3136</td>\n",
       "      <td>3136</td>\n",
       "      <td>3136</td>\n",
       "    </tr>\n",
       "    <tr>\n",
       "      <th>5384</th>\n",
       "      <td>2319</td>\n",
       "      <td>2319</td>\n",
       "      <td>2319</td>\n",
       "      <td>2319</td>\n",
       "      <td>2319</td>\n",
       "      <td>2319</td>\n",
       "      <td>2319</td>\n",
       "      <td>2319</td>\n",
       "      <td>2319</td>\n",
       "      <td>2319</td>\n",
       "      <td>2319</td>\n",
       "      <td>2319</td>\n",
       "      <td>2319</td>\n",
       "      <td>2319</td>\n",
       "      <td>2319</td>\n",
       "      <td>2319</td>\n",
       "      <td>2319</td>\n",
       "    </tr>\n",
       "    <tr>\n",
       "      <th>12215397</th>\n",
       "      <td>1982</td>\n",
       "      <td>1982</td>\n",
       "      <td>1982</td>\n",
       "      <td>1982</td>\n",
       "      <td>1982</td>\n",
       "      <td>1982</td>\n",
       "      <td>1982</td>\n",
       "      <td>1982</td>\n",
       "      <td>1982</td>\n",
       "      <td>1982</td>\n",
       "      <td>1982</td>\n",
       "      <td>1982</td>\n",
       "      <td>1982</td>\n",
       "      <td>1982</td>\n",
       "      <td>1982</td>\n",
       "      <td>1982</td>\n",
       "      <td>1982</td>\n",
       "    </tr>\n",
       "    <tr>\n",
       "      <th>12655397</th>\n",
       "      <td>1832</td>\n",
       "      <td>1832</td>\n",
       "      <td>1832</td>\n",
       "      <td>1832</td>\n",
       "      <td>1832</td>\n",
       "      <td>1832</td>\n",
       "      <td>1832</td>\n",
       "      <td>1832</td>\n",
       "      <td>1832</td>\n",
       "      <td>1832</td>\n",
       "      <td>1832</td>\n",
       "      <td>1832</td>\n",
       "      <td>1832</td>\n",
       "      <td>1832</td>\n",
       "      <td>1832</td>\n",
       "      <td>1832</td>\n",
       "      <td>1832</td>\n",
       "    </tr>\n",
       "    <tr>\n",
       "      <th>12585395</th>\n",
       "      <td>1815</td>\n",
       "      <td>1815</td>\n",
       "      <td>1815</td>\n",
       "      <td>1815</td>\n",
       "      <td>1815</td>\n",
       "      <td>1815</td>\n",
       "      <td>1815</td>\n",
       "      <td>1815</td>\n",
       "      <td>1815</td>\n",
       "      <td>1815</td>\n",
       "      <td>1815</td>\n",
       "      <td>1815</td>\n",
       "      <td>1815</td>\n",
       "      <td>1815</td>\n",
       "      <td>1815</td>\n",
       "      <td>1815</td>\n",
       "      <td>1815</td>\n",
       "    </tr>\n",
       "    <tr>\n",
       "      <th>1296</th>\n",
       "      <td>1489</td>\n",
       "      <td>1489</td>\n",
       "      <td>1489</td>\n",
       "      <td>1489</td>\n",
       "      <td>1489</td>\n",
       "      <td>1489</td>\n",
       "      <td>1489</td>\n",
       "      <td>1489</td>\n",
       "      <td>1489</td>\n",
       "      <td>1489</td>\n",
       "      <td>1489</td>\n",
       "      <td>1489</td>\n",
       "      <td>1489</td>\n",
       "      <td>1489</td>\n",
       "      <td>1489</td>\n",
       "      <td>1489</td>\n",
       "      <td>1489</td>\n",
       "    </tr>\n",
       "    <tr>\n",
       "      <th>1230</th>\n",
       "      <td>1409</td>\n",
       "      <td>1409</td>\n",
       "      <td>1409</td>\n",
       "      <td>1409</td>\n",
       "      <td>1409</td>\n",
       "      <td>1409</td>\n",
       "      <td>1409</td>\n",
       "      <td>1409</td>\n",
       "      <td>1409</td>\n",
       "      <td>1409</td>\n",
       "      <td>1409</td>\n",
       "      <td>1409</td>\n",
       "      <td>1409</td>\n",
       "      <td>1409</td>\n",
       "      <td>1409</td>\n",
       "      <td>1409</td>\n",
       "      <td>1409</td>\n",
       "    </tr>\n",
       "  </tbody>\n",
       "</table>\n",
       "</div>"
      ],
      "text/plain": [
       "          order_id  product_quantity   sku  unit_price  date  \\\n",
       "type                                                           \n",
       "11865403      4374              4374  4374        4374  4374   \n",
       "11935397      3872              3872  3872        3872  3872   \n",
       "11905404      3145              3145  3145        3145  3145   \n",
       "1364          3136              3136  3136        3136  3136   \n",
       "5384          2319              2319  2319        2319  2319   \n",
       "12215397      1982              1982  1982        1982  1982   \n",
       "12655397      1832              1832  1832        1832  1832   \n",
       "12585395      1815              1815  1815        1815  1815   \n",
       "1296          1489              1489  1489        1489  1489   \n",
       "1230          1409              1409  1409        1409  1409   \n",
       "\n",
       "          unit_price_total  name  desc  price  in_stock  brand  discount  \\\n",
       "type                                                                       \n",
       "11865403              4374  4374  4374   4374      4374   4373      4374   \n",
       "11935397              3872  3872  3872   3872      3872   3872      3872   \n",
       "11905404              3145  3145  3145   3145      3145   3123      3145   \n",
       "1364                  3136  3136  3136   3136      3136   3135      3136   \n",
       "5384                  2319  2319  2319   2319      2319   2319      2319   \n",
       "12215397              1982  1982  1982   1982      1982   1982      1982   \n",
       "12655397              1832  1832  1832   1832      1832   1832      1832   \n",
       "12585395              1815  1815  1815   1815      1815   1815      1815   \n",
       "1296                  1489  1489  1489   1489      1489   1489      1489   \n",
       "1230                  1409  1409  1409   1409      1409   1409      1409   \n",
       "\n",
       "          %_discount  total_discount  created_date  total_paid  state  \n",
       "type                                                                   \n",
       "11865403        4374            4374          4374        4374   4374  \n",
       "11935397        3872            3872          3872        3872   3872  \n",
       "11905404        3145            3145          3145        3145   3145  \n",
       "1364            3136            3136          3136        3136   3136  \n",
       "5384            2319            2319          2319        2319   2319  \n",
       "12215397        1982            1982          1982        1982   1982  \n",
       "12655397        1832            1832          1832        1832   1832  \n",
       "12585395        1815            1815          1815        1815   1815  \n",
       "1296            1489            1489          1489        1489   1489  \n",
       "1230            1409            1409          1409        1409   1409  "
      ]
     },
     "execution_count": 62,
     "metadata": {},
     "output_type": "execute_result"
    }
   ],
   "source": [
    "category_type_df.groupby(\"type\").count().nlargest(10, \"sku\")"
   ]
  },
  {
   "cell_type": "code",
   "execution_count": 108,
   "metadata": {},
   "outputs": [
    {
     "data": {
      "text/html": [
       "<div>\n",
       "<style scoped>\n",
       "    .dataframe tbody tr th:only-of-type {\n",
       "        vertical-align: middle;\n",
       "    }\n",
       "\n",
       "    .dataframe tbody tr th {\n",
       "        vertical-align: top;\n",
       "    }\n",
       "\n",
       "    .dataframe thead th {\n",
       "        text-align: right;\n",
       "    }\n",
       "</style>\n",
       "<table border=\"1\" class=\"dataframe\">\n",
       "  <thead>\n",
       "    <tr style=\"text-align: right;\">\n",
       "      <th></th>\n",
       "      <th>type</th>\n",
       "      <th>order_id</th>\n",
       "      <th>product_quantity</th>\n",
       "      <th>sku</th>\n",
       "      <th>unit_price</th>\n",
       "      <th>unit_price_total</th>\n",
       "    </tr>\n",
       "  </thead>\n",
       "  <tbody>\n",
       "    <tr>\n",
       "      <th>0</th>\n",
       "      <td>11935397</td>\n",
       "      <td>1</td>\n",
       "      <td>4324</td>\n",
       "      <td>1</td>\n",
       "      <td>179.653592</td>\n",
       "      <td>738576.55</td>\n",
       "    </tr>\n",
       "    <tr>\n",
       "      <th>1</th>\n",
       "      <td>1296</td>\n",
       "      <td>1</td>\n",
       "      <td>1722</td>\n",
       "      <td>1</td>\n",
       "      <td>388.565702</td>\n",
       "      <td>656947.12</td>\n",
       "    </tr>\n",
       "    <tr>\n",
       "      <th>2</th>\n",
       "      <td>12175397</td>\n",
       "      <td>1</td>\n",
       "      <td>1114</td>\n",
       "      <td>1</td>\n",
       "      <td>414.371272</td>\n",
       "      <td>460434.85</td>\n",
       "    </tr>\n",
       "    <tr>\n",
       "      <th>3</th>\n",
       "      <td>12215397</td>\n",
       "      <td>1</td>\n",
       "      <td>2322</td>\n",
       "      <td>1</td>\n",
       "      <td>199.908174</td>\n",
       "      <td>451277.53</td>\n",
       "    </tr>\n",
       "    <tr>\n",
       "      <th>4</th>\n",
       "      <td>1364</td>\n",
       "      <td>1</td>\n",
       "      <td>3822</td>\n",
       "      <td>1</td>\n",
       "      <td>109.024238</td>\n",
       "      <td>387748.96</td>\n",
       "    </tr>\n",
       "    <tr>\n",
       "      <th>5</th>\n",
       "      <td>12655397</td>\n",
       "      <td>1</td>\n",
       "      <td>2807</td>\n",
       "      <td>1</td>\n",
       "      <td>133.165546</td>\n",
       "      <td>385262.34</td>\n",
       "    </tr>\n",
       "    <tr>\n",
       "      <th>6</th>\n",
       "      <td>51601716</td>\n",
       "      <td>1</td>\n",
       "      <td>804</td>\n",
       "      <td>1</td>\n",
       "      <td>386.182739</td>\n",
       "      <td>310634.64</td>\n",
       "    </tr>\n",
       "    <tr>\n",
       "      <th>7</th>\n",
       "      <td>11905404</td>\n",
       "      <td>1</td>\n",
       "      <td>3723</td>\n",
       "      <td>1</td>\n",
       "      <td>81.741561</td>\n",
       "      <td>284288.31</td>\n",
       "    </tr>\n",
       "    <tr>\n",
       "      <th>8</th>\n",
       "      <td>5384</td>\n",
       "      <td>1</td>\n",
       "      <td>2541</td>\n",
       "      <td>1</td>\n",
       "      <td>106.468361</td>\n",
       "      <td>257855.65</td>\n",
       "    </tr>\n",
       "    <tr>\n",
       "      <th>9</th>\n",
       "      <td>1405</td>\n",
       "      <td>1</td>\n",
       "      <td>1317</td>\n",
       "      <td>1</td>\n",
       "      <td>195.831176</td>\n",
       "      <td>248143.27</td>\n",
       "    </tr>\n",
       "  </tbody>\n",
       "</table>\n",
       "</div>"
      ],
      "text/plain": [
       "       type  order_id  product_quantity  sku  unit_price  unit_price_total\n",
       "0  11935397         1              4324    1  179.653592         738576.55\n",
       "1      1296         1              1722    1  388.565702         656947.12\n",
       "2  12175397         1              1114    1  414.371272         460434.85\n",
       "3  12215397         1              2322    1  199.908174         451277.53\n",
       "4      1364         1              3822    1  109.024238         387748.96\n",
       "5  12655397         1              2807    1  133.165546         385262.34\n",
       "6  51601716         1               804    1  386.182739         310634.64\n",
       "7  11905404         1              3723    1   81.741561         284288.31\n",
       "8      5384         1              2541    1  106.468361         257855.65\n",
       "9      1405         1              1317    1  195.831176         248143.27"
      ]
     },
     "execution_count": 108,
     "metadata": {},
     "output_type": "execute_result"
    }
   ],
   "source": [
    "category_type_df = category_type_df.groupby(\"type\").agg({\"order_id\": \"count\", \"product_quantity\": \"sum\", \"sku\": \"count\", \"unit_price\": \"mean\", \"unit_price_total\": \"sum\"}).sort_values(by= \"unit_price_total\", ascending=False)\n",
    "\n",
    "category_type_df = category_type_df.reset_index()\n",
    "\n",
    "category_type_df.head(10)#.unit_price_total.sum()\n"
   ]
  },
  {
   "cell_type": "code",
   "execution_count": 109,
   "metadata": {},
   "outputs": [
    {
     "data": {
      "text/html": [
       "<div>\n",
       "<style scoped>\n",
       "    .dataframe tbody tr th:only-of-type {\n",
       "        vertical-align: middle;\n",
       "    }\n",
       "\n",
       "    .dataframe tbody tr th {\n",
       "        vertical-align: top;\n",
       "    }\n",
       "\n",
       "    .dataframe thead th {\n",
       "        text-align: right;\n",
       "    }\n",
       "</style>\n",
       "<table border=\"1\" class=\"dataframe\">\n",
       "  <thead>\n",
       "    <tr style=\"text-align: right;\">\n",
       "      <th></th>\n",
       "      <th>name</th>\n",
       "      <th>desc</th>\n",
       "      <th>brand</th>\n",
       "      <th>sku</th>\n",
       "      <th>unit_price</th>\n",
       "    </tr>\n",
       "  </thead>\n",
       "  <tbody>\n",
       "    <tr>\n",
       "      <th>2004</th>\n",
       "      <td>iPhone 5 battery repair</td>\n",
       "      <td>Repair service including parts and labor for i...</td>\n",
       "      <td>Repair</td>\n",
       "      <td>REP0151</td>\n",
       "      <td>49.90</td>\n",
       "    </tr>\n",
       "    <tr>\n",
       "      <th>272</th>\n",
       "      <td>Full screen repair iPhone 5</td>\n",
       "      <td>Repair service including parts and labor for i...</td>\n",
       "      <td>Repair</td>\n",
       "      <td>REP0134</td>\n",
       "      <td>89.99</td>\n",
       "    </tr>\n",
       "    <tr>\n",
       "      <th>27058</th>\n",
       "      <td>Full Screen Repair iPhone 6</td>\n",
       "      <td>Repair service including parts and labor for i...</td>\n",
       "      <td>Repair</td>\n",
       "      <td>REP0238</td>\n",
       "      <td>99.99</td>\n",
       "    </tr>\n",
       "    <tr>\n",
       "      <th>8724</th>\n",
       "      <td>Load Connector Repair iPhone 6</td>\n",
       "      <td>Repair service including parts and labor for i...</td>\n",
       "      <td>Repair</td>\n",
       "      <td>REP0241</td>\n",
       "      <td>59.99</td>\n",
       "    </tr>\n",
       "    <tr>\n",
       "      <th>14302</th>\n",
       "      <td>Full Screen Repair iPhone 6</td>\n",
       "      <td>Repair service including parts and labor for i...</td>\n",
       "      <td>Repair</td>\n",
       "      <td>REP0238</td>\n",
       "      <td>99.99</td>\n",
       "    </tr>\n",
       "    <tr>\n",
       "      <th>42449</th>\n",
       "      <td>Home button repair iPhone 6</td>\n",
       "      <td>Repair service including parts and labor for i...</td>\n",
       "      <td>Repair</td>\n",
       "      <td>REP0240</td>\n",
       "      <td>39.00</td>\n",
       "    </tr>\n",
       "    <tr>\n",
       "      <th>20147</th>\n",
       "      <td>iPhone 5 battery repair</td>\n",
       "      <td>Repair service including parts and labor for i...</td>\n",
       "      <td>Repair</td>\n",
       "      <td>REP0151</td>\n",
       "      <td>49.99</td>\n",
       "    </tr>\n",
       "    <tr>\n",
       "      <th>51051</th>\n",
       "      <td>Full screen repair iPhone 5s</td>\n",
       "      <td>Repair service including parts and labor for i...</td>\n",
       "      <td>Repair</td>\n",
       "      <td>REP0208</td>\n",
       "      <td>59.99</td>\n",
       "    </tr>\n",
       "    <tr>\n",
       "      <th>28988</th>\n",
       "      <td>battery repair iPhone 6</td>\n",
       "      <td>Repair service including parts and labor for i...</td>\n",
       "      <td>Repair</td>\n",
       "      <td>REP0239</td>\n",
       "      <td>59.90</td>\n",
       "    </tr>\n",
       "    <tr>\n",
       "      <th>46907</th>\n",
       "      <td>Full Screen Repair iPhone 6</td>\n",
       "      <td>Repair service including parts and labor for i...</td>\n",
       "      <td>Repair</td>\n",
       "      <td>REP0238</td>\n",
       "      <td>99.99</td>\n",
       "    </tr>\n",
       "  </tbody>\n",
       "</table>\n",
       "</div>"
      ],
      "text/plain": [
       "                                 name  \\\n",
       "2004          iPhone 5 battery repair   \n",
       "272       Full screen repair iPhone 5   \n",
       "27058     Full Screen Repair iPhone 6   \n",
       "8724   Load Connector Repair iPhone 6   \n",
       "14302     Full Screen Repair iPhone 6   \n",
       "42449     Home button repair iPhone 6   \n",
       "20147         iPhone 5 battery repair   \n",
       "51051    Full screen repair iPhone 5s   \n",
       "28988         battery repair iPhone 6   \n",
       "46907     Full Screen Repair iPhone 6   \n",
       "\n",
       "                                                    desc   brand      sku  \\\n",
       "2004   Repair service including parts and labor for i...  Repair  REP0151   \n",
       "272    Repair service including parts and labor for i...  Repair  REP0134   \n",
       "27058  Repair service including parts and labor for i...  Repair  REP0238   \n",
       "8724   Repair service including parts and labor for i...  Repair  REP0241   \n",
       "14302  Repair service including parts and labor for i...  Repair  REP0238   \n",
       "42449  Repair service including parts and labor for i...  Repair  REP0240   \n",
       "20147  Repair service including parts and labor for i...  Repair  REP0151   \n",
       "51051  Repair service including parts and labor for i...  Repair  REP0208   \n",
       "28988  Repair service including parts and labor for i...  Repair  REP0239   \n",
       "46907  Repair service including parts and labor for i...  Repair  REP0238   \n",
       "\n",
       "       unit_price  \n",
       "2004        49.90  \n",
       "272         89.99  \n",
       "27058       99.99  \n",
       "8724        59.99  \n",
       "14302       99.99  \n",
       "42449       39.00  \n",
       "20147       49.99  \n",
       "51051       59.99  \n",
       "28988       59.90  \n",
       "46907       99.99  "
      ]
     },
     "execution_count": 109,
     "metadata": {},
     "output_type": "execute_result"
    }
   ],
   "source": [
    "o_ol_pro_m.loc[o_ol_pro_m.type == \"1,44E+11\", [\"name\", \"desc\", \"brand\", \"sku\", \"unit_price\"]].sample(10)"
   ]
  },
  {
   "cell_type": "markdown",
   "metadata": {},
   "source": [
    "## Assigning categories"
   ]
  },
  {
   "cell_type": "code",
   "execution_count": 66,
   "metadata": {},
   "outputs": [],
   "source": [
    "o_ol_pro_m[\"category\"] = \"Other\"\n"
   ]
  },
  {
   "cell_type": "code",
   "execution_count": 67,
   "metadata": {},
   "outputs": [],
   "source": [
    "o_ol_pro_m.loc[o_ol_pro_m[\"name\"].str.lower().str.contains(\"new iphone|apple iphone 7|new iphone se|^.{0,11}apple iphone|apple iphone 32gb|like new - apple iphone\"), \"category\"] = \"iPhone\""
   ]
  },
  {
   "cell_type": "code",
   "execution_count": 68,
   "metadata": {},
   "outputs": [],
   "source": [
    "\n",
    "o_ol_pro_m.loc[o_ol_pro_m[\"desc\"].str.contains(\"Repair service including parts and labor\"), \"category\"] = \"Service\"\n"
   ]
  },
  {
   "cell_type": "code",
   "execution_count": 69,
   "metadata": {},
   "outputs": [],
   "source": [
    "o_ol_pro_m.loc[o_ol_pro_m[\"name\"].str.contains(\"Dodocool Sports Wireless Stereo Headphones Black\"), \"category\"] = \"Headphones\""
   ]
  },
  {
   "cell_type": "code",
   "execution_count": 70,
   "metadata": {},
   "outputs": [],
   "source": [
    "o_ol_pro_m.loc[o_ol_pro_m.type.isin([\"11935397\", \"12215397\", \"12655397\", \"1433\"]), \"category\"] = \"Harddrive\""
   ]
  },
  {
   "cell_type": "code",
   "execution_count": 71,
   "metadata": {},
   "outputs": [],
   "source": [
    "o_ol_pro_m.loc[o_ol_pro_m.type.isin([\"85651716\", \"21561716\", \"113291716\", \"85641716\", \"113281716\", \"51601716\", \"24821716\", \"24811716\", \"12575403\"]), \"category\"] = \"iPhone\""
   ]
  },
  {
   "cell_type": "code",
   "execution_count": 72,
   "metadata": {},
   "outputs": [],
   "source": [
    "o_ol_pro_m.loc[o_ol_pro_m.type.isin([\"12585395\", \"11865403\", \"13555403\", \"12995397\", \"1230\", \"1229\"]), \"category\"] = \"Accessories\""
   ]
  },
  {
   "cell_type": "code",
   "execution_count": 73,
   "metadata": {},
   "outputs": [],
   "source": [
    "o_ol_pro_m.loc[o_ol_pro_m.type.isin([\"106431714\", \"1714\", \"13621714\", \"12141714\", \"1405\", \"51871714\"]), \"category\"] = \"Tablet\""
   ]
  },
  {
   "cell_type": "code",
   "execution_count": 74,
   "metadata": {},
   "outputs": [],
   "source": [
    "o_ol_pro_m.loc[o_ol_pro_m.type == \"1296\", \"category\"] = \"Monitor\""
   ]
  },
  {
   "cell_type": "code",
   "execution_count": 75,
   "metadata": {},
   "outputs": [],
   "source": [
    "o_ol_pro_m.loc[o_ol_pro_m.type.isin([\"12175397\", \"1282\"]), \"category\"] = \"Computer\""
   ]
  },
  {
   "cell_type": "code",
   "execution_count": 76,
   "metadata": {},
   "outputs": [],
   "source": [
    "o_ol_pro_m.loc[o_ol_pro_m.type == \"5398\", \"category\"] = \"Speakers\"\n"
   ]
  },
  {
   "cell_type": "code",
   "execution_count": 77,
   "metadata": {},
   "outputs": [],
   "source": [
    "o_ol_pro_m.loc[o_ol_pro_m.type == \"1364\", \"category\"] = \"RAM\""
   ]
  },
  {
   "cell_type": "code",
   "execution_count": 78,
   "metadata": {},
   "outputs": [],
   "source": [
    "o_ol_pro_m.loc[o_ol_pro_m.type.isin([\"24895185\", \"24885185\"]), \"category\"] = \"Apple_Watch\""
   ]
  },
  {
   "cell_type": "code",
   "execution_count": 79,
   "metadata": {},
   "outputs": [],
   "source": [
    "\n",
    "o_ol_pro_m.loc[o_ol_pro_m.type == \"5384\", \"category\"] = \"Headphones\""
   ]
  },
  {
   "cell_type": "code",
   "execution_count": 80,
   "metadata": {},
   "outputs": [],
   "source": [
    "o_ol_pro_m.loc[o_ol_pro_m.type == \"2,17E+11\", \"category\"] = \"MacBook\""
   ]
  },
  {
   "cell_type": "code",
   "execution_count": 81,
   "metadata": {},
   "outputs": [],
   "source": [
    "o_ol_pro_m.loc[o_ol_pro_m.type == \"1515\", \"category\"] = \"Powerbank\""
   ]
  },
  {
   "cell_type": "code",
   "execution_count": 82,
   "metadata": {},
   "outputs": [],
   "source": [
    "o_ol_pro_m.loc[o_ol_pro_m.type.isin([\"1231\", \"1,44E+11\"]), \"category\"] = \"Service\""
   ]
  },
  {
   "cell_type": "code",
   "execution_count": 83,
   "metadata": {},
   "outputs": [],
   "source": [
    "o_ol_pro_m.loc[o_ol_pro_m.type.isin([\"11821715\", \"11821715\"]), \"category\"] = \"iPod\"\n"
   ]
  },
  {
   "cell_type": "code",
   "execution_count": 84,
   "metadata": {},
   "outputs": [],
   "source": [
    "o_ol_pro_m.loc[o_ol_pro_m.type == \"1387\", \"category\"] = \"Mouse\""
   ]
  },
  {
   "cell_type": "code",
   "execution_count": 85,
   "metadata": {},
   "outputs": [],
   "source": [
    "o_ol_pro_m.loc[o_ol_pro_m.type == \"42945397\", \"category\"] = \"Flashdrive\"\n"
   ]
  },
  {
   "cell_type": "code",
   "execution_count": 86,
   "metadata": {},
   "outputs": [],
   "source": [
    "o_ol_pro_m.loc[o_ol_pro_m.type.isin([\"13005399\", \"10142\"]), \"category\"] = \"Batteries\"\n"
   ]
  },
  {
   "cell_type": "code",
   "execution_count": 87,
   "metadata": {},
   "outputs": [],
   "source": [
    "o_ol_pro_m.loc[o_ol_pro_m.type.isin([\"11905404\", \"12575403\", \"13855401\", \"5401\", \"12635403\", \"5403\", \"1298\", \"8696\", \"13835403\", \"54025401\", \"12085400\"]), \"category\"] = \"Keyboard\""
   ]
  },
  {
   "cell_type": "code",
   "execution_count": 88,
   "metadata": {},
   "outputs": [],
   "source": [
    "o_ol_pro_m.loc[o_ol_pro_m[\"name\"].str.lower().str.contains(\"apple watch|watch\"), \"category\"] = \"Watches\""
   ]
  },
  {
   "cell_type": "code",
   "execution_count": 89,
   "metadata": {},
   "outputs": [],
   "source": [
    "o_ol_pro_m.loc[o_ol_pro_m[\"desc\"].str.lower().str.contains(\"keyboard\"), \"category\"] = \"Keyboard\""
   ]
  },
  {
   "cell_type": "code",
   "execution_count": 90,
   "metadata": {},
   "outputs": [],
   "source": [
    "o_ol_pro_m.loc[o_ol_pro_m[\"name\"].str.lower().str.contains(\"like new|second hand - \"), \"category\"] = \"Second-Hand\""
   ]
  },
  {
   "cell_type": "code",
   "execution_count": 91,
   "metadata": {},
   "outputs": [],
   "source": [
    "o_ol_pro_m.loc[o_ol_pro_m.type.isin([\"5,44E+11\", \"5,43E+15\", \"5,72E+15\"]), \"category\"] = \"Second-Hand\"\n"
   ]
  },
  {
   "cell_type": "code",
   "execution_count": 92,
   "metadata": {},
   "outputs": [
    {
     "data": {
      "text/plain": [
       "category\n",
       "Harddrive      1733447.32\n",
       "iPhone         1116436.70\n",
       "Monitor         656947.12\n",
       "Tablet          591652.89\n",
       "Keyboard        558321.94\n",
       "Computer        555103.11\n",
       "Accessories     414159.96\n",
       "RAM             387748.96\n",
       "Other           369984.89\n",
       "Watches         364017.12\n",
       "Second-Hand     334418.40\n",
       "Headphones      170932.08\n",
       "Speakers        143835.08\n",
       "Batteries       141494.72\n",
       "Service          98715.17\n",
       "MacBook          75748.06\n",
       "Flashdrive       47969.60\n",
       "Mouse            30508.28\n",
       "iPod             13082.07\n",
       "Powerbank        12680.93\n",
       "Name: unit_price_total, dtype: float64"
      ]
     },
     "execution_count": 92,
     "metadata": {},
     "output_type": "execute_result"
    }
   ],
   "source": [
    "o_ol_pro_m.groupby(\"category\").unit_price_total.sum().sort_values(ascending=False)"
   ]
  },
  {
   "cell_type": "markdown",
   "metadata": {},
   "source": [
    "## looking at category \"other\""
   ]
  },
  {
   "cell_type": "code",
   "execution_count": 93,
   "metadata": {},
   "outputs": [
    {
     "data": {
      "text/html": [
       "<div>\n",
       "<style scoped>\n",
       "    .dataframe tbody tr th:only-of-type {\n",
       "        vertical-align: middle;\n",
       "    }\n",
       "\n",
       "    .dataframe tbody tr th {\n",
       "        vertical-align: top;\n",
       "    }\n",
       "\n",
       "    .dataframe thead th {\n",
       "        text-align: right;\n",
       "    }\n",
       "</style>\n",
       "<table border=\"1\" class=\"dataframe\">\n",
       "  <thead>\n",
       "    <tr style=\"text-align: right;\">\n",
       "      <th></th>\n",
       "      <th>name</th>\n",
       "      <th>desc</th>\n",
       "      <th>brand</th>\n",
       "      <th>sku</th>\n",
       "      <th>unit_price</th>\n",
       "    </tr>\n",
       "  </thead>\n",
       "  <tbody>\n",
       "    <tr>\n",
       "      <th>46476</th>\n",
       "      <td>Second hand - Apple Mac mini Core 2 Duo 24GHz ...</td>\n",
       "      <td>Computer Refurbished Mac mini Core 2 Duo | 4GB...</td>\n",
       "      <td>Pack</td>\n",
       "      <td>PAC2285</td>\n",
       "      <td>398.59</td>\n",
       "    </tr>\n",
       "    <tr>\n",
       "      <th>51438</th>\n",
       "      <td>Second hand - Apple Mac mini Core 2 Duo 24GHz ...</td>\n",
       "      <td>Computer Refurbished Mac mini Core 2 Duo | 4GB...</td>\n",
       "      <td>Pack</td>\n",
       "      <td>PAC2285</td>\n",
       "      <td>398.59</td>\n",
       "    </tr>\n",
       "    <tr>\n",
       "      <th>44982</th>\n",
       "      <td>Second hand - Apple Mac mini Core 2 Duo 24GHz ...</td>\n",
       "      <td>Computer Refurbished Mac mini Core 2 Duo | 4GB...</td>\n",
       "      <td>Pack</td>\n",
       "      <td>PAC2285</td>\n",
       "      <td>398.59</td>\n",
       "    </tr>\n",
       "  </tbody>\n",
       "</table>\n",
       "</div>"
      ],
      "text/plain": [
       "                                                    name  \\\n",
       "46476  Second hand - Apple Mac mini Core 2 Duo 24GHz ...   \n",
       "51438  Second hand - Apple Mac mini Core 2 Duo 24GHz ...   \n",
       "44982  Second hand - Apple Mac mini Core 2 Duo 24GHz ...   \n",
       "\n",
       "                                                    desc brand      sku  \\\n",
       "46476  Computer Refurbished Mac mini Core 2 Duo | 4GB...  Pack  PAC2285   \n",
       "51438  Computer Refurbished Mac mini Core 2 Duo | 4GB...  Pack  PAC2285   \n",
       "44982  Computer Refurbished Mac mini Core 2 Duo | 4GB...  Pack  PAC2285   \n",
       "\n",
       "       unit_price  \n",
       "46476      398.59  \n",
       "51438      398.59  \n",
       "44982      398.59  "
      ]
     },
     "execution_count": 93,
     "metadata": {},
     "output_type": "execute_result"
    }
   ],
   "source": [
    "o_ol_pro_m.loc[o_ol_pro_m.type == \"5,45E+15\", [\"name\", \"desc\", \"brand\", \"sku\", \"unit_price\"]].sample(3)"
   ]
  },
  {
   "cell_type": "code",
   "execution_count": 94,
   "metadata": {},
   "outputs": [],
   "source": [
    "cat_type_other = o_ol_pro_m.loc[o_ol_pro_m.category == \"Other\", :].copy()"
   ]
  },
  {
   "cell_type": "code",
   "execution_count": 95,
   "metadata": {},
   "outputs": [
    {
     "data": {
      "text/plain": [
       "type\n",
       "57445397     38395.13\n",
       "1325         34527.79\n",
       "1334         34454.64\n",
       "12755395     34061.56\n",
       "9094         23063.41\n",
       "1392         20054.88\n",
       "13615399     16506.43\n",
       "12645406     15303.44\n",
       "5395         14084.67\n",
       "14305406     12965.29\n",
       "5399         12473.89\n",
       "5404         10831.18\n",
       "1276          8607.93\n",
       "21485407      7197.54\n",
       "10230         7042.96\n",
       "1404          6786.33\n",
       "1375          6151.78\n",
       "42931714      5841.90\n",
       "14365395      5719.78\n",
       "24861714      5422.58\n",
       "4259          5076.92\n",
       "5720          4918.71\n",
       "1280          4683.71\n",
       "51861714      4631.62\n",
       "5,49E+11      4453.13\n",
       "1424          3457.43\n",
       "1416          3323.20\n",
       "1216          3259.78\n",
       "12355400      2202.63\n",
       "54085407      2168.36\n",
       "101781405     2000.54\n",
       "2,16E+11      1859.59\n",
       "5405          1658.96\n",
       "14035403      1402.50\n",
       "20642062      1119.83\n",
       "2449           916.99\n",
       "11859          593.11\n",
       "21535407       583.68\n",
       "12051714       481.81\n",
       "1716           329.00\n",
       "54864259       326.01\n",
       "15435404       213.96\n",
       "113464259      181.04\n",
       "11434          167.99\n",
       "5407           163.59\n",
       "12285400       109.47\n",
       "13955395        70.00\n",
       "5406            46.23\n",
       "Name: unit_price_total, dtype: float64"
      ]
     },
     "execution_count": 95,
     "metadata": {},
     "output_type": "execute_result"
    }
   ],
   "source": [
    "cat_type_other.groupby(\"type\").unit_price_total.sum().sort_values(ascending=False)"
   ]
  },
  {
   "cell_type": "markdown",
   "metadata": {},
   "source": [
    "## Check Null values of column \"Type\"\n"
   ]
  },
  {
   "cell_type": "code",
   "execution_count": 96,
   "metadata": {},
   "outputs": [
    {
     "data": {
      "text/html": [
       "<div>\n",
       "<style scoped>\n",
       "    .dataframe tbody tr th:only-of-type {\n",
       "        vertical-align: middle;\n",
       "    }\n",
       "\n",
       "    .dataframe tbody tr th {\n",
       "        vertical-align: top;\n",
       "    }\n",
       "\n",
       "    .dataframe thead th {\n",
       "        text-align: right;\n",
       "    }\n",
       "</style>\n",
       "<table border=\"1\" class=\"dataframe\">\n",
       "  <thead>\n",
       "    <tr style=\"text-align: right;\">\n",
       "      <th></th>\n",
       "      <th>name</th>\n",
       "      <th>desc</th>\n",
       "      <th>brand</th>\n",
       "      <th>sku</th>\n",
       "      <th>unit_price</th>\n",
       "      <th>category</th>\n",
       "      <th>type</th>\n",
       "    </tr>\n",
       "  </thead>\n",
       "  <tbody>\n",
       "    <tr>\n",
       "      <th>82</th>\n",
       "      <td>Apple iPhone 64GB Silver</td>\n",
       "      <td>New iPhone SE with 4-inch screen 64 free GB.</td>\n",
       "      <td>Apple</td>\n",
       "      <td>APP1482</td>\n",
       "      <td>549.00</td>\n",
       "      <td>iPhone</td>\n",
       "      <td>NaN</td>\n",
       "    </tr>\n",
       "    <tr>\n",
       "      <th>762</th>\n",
       "      <td>Apple iPhone 6s Plus 128GB Gold</td>\n",
       "      <td>New iPhone 6s Plus 128GB Libre.</td>\n",
       "      <td>Apple</td>\n",
       "      <td>APP1188</td>\n",
       "      <td>879.00</td>\n",
       "      <td>iPhone</td>\n",
       "      <td>NaN</td>\n",
       "    </tr>\n",
       "    <tr>\n",
       "      <th>782</th>\n",
       "      <td>Apple iPhone 16GB Rose Gold</td>\n",
       "      <td>New iPhone SE with 4 inch 16GB free.</td>\n",
       "      <td>Apple</td>\n",
       "      <td>APP1480</td>\n",
       "      <td>489.00</td>\n",
       "      <td>iPhone</td>\n",
       "      <td>NaN</td>\n",
       "    </tr>\n",
       "    <tr>\n",
       "      <th>3015</th>\n",
       "      <td>Apple iPhone 16GB Gold</td>\n",
       "      <td>New iPhone SE with 4 inch 16GB free.</td>\n",
       "      <td>Apple</td>\n",
       "      <td>APP1479</td>\n",
       "      <td>489.00</td>\n",
       "      <td>iPhone</td>\n",
       "      <td>NaN</td>\n",
       "    </tr>\n",
       "    <tr>\n",
       "      <th>8308</th>\n",
       "      <td>Apple iPhone 16GB Rose Gold</td>\n",
       "      <td>New iPhone SE with 4 inch 16GB free.</td>\n",
       "      <td>Apple</td>\n",
       "      <td>APP1480</td>\n",
       "      <td>479.22</td>\n",
       "      <td>iPhone</td>\n",
       "      <td>NaN</td>\n",
       "    </tr>\n",
       "    <tr>\n",
       "      <th>8400</th>\n",
       "      <td>Apple iPhone 64GB Silver</td>\n",
       "      <td>New iPhone SE with 4-inch screen 64 free GB.</td>\n",
       "      <td>Apple</td>\n",
       "      <td>APP1482</td>\n",
       "      <td>515.99</td>\n",
       "      <td>iPhone</td>\n",
       "      <td>NaN</td>\n",
       "    </tr>\n",
       "    <tr>\n",
       "      <th>12201</th>\n",
       "      <td>Apple iPhone 6s Plus 128GB Space Gray</td>\n",
       "      <td>New iPhone 6s Plus 128GB Libre.</td>\n",
       "      <td>Apple</td>\n",
       "      <td>APP1187</td>\n",
       "      <td>879.00</td>\n",
       "      <td>iPhone</td>\n",
       "      <td>NaN</td>\n",
       "    </tr>\n",
       "    <tr>\n",
       "      <th>13977</th>\n",
       "      <td>Apple iPhone 6s Plus 128GB Rose Gold</td>\n",
       "      <td>New iPhone 6s Plus 128GB Libre.</td>\n",
       "      <td>Apple</td>\n",
       "      <td>APP1189</td>\n",
       "      <td>879.00</td>\n",
       "      <td>iPhone</td>\n",
       "      <td>NaN</td>\n",
       "    </tr>\n",
       "    <tr>\n",
       "      <th>16921</th>\n",
       "      <td>Apple iPhone 6s Plus 128GB Silver</td>\n",
       "      <td>New iPhone 6s Plus 128GB Libre.</td>\n",
       "      <td>Apple</td>\n",
       "      <td>APP1186</td>\n",
       "      <td>879.00</td>\n",
       "      <td>iPhone</td>\n",
       "      <td>NaN</td>\n",
       "    </tr>\n",
       "    <tr>\n",
       "      <th>40037</th>\n",
       "      <td>Elgato Video Capture Mac</td>\n",
       "      <td>Mac USB analog video recorder hardware.</td>\n",
       "      <td>Elgato</td>\n",
       "      <td>ELG0014</td>\n",
       "      <td>91.99</td>\n",
       "      <td>Other</td>\n",
       "      <td>NaN</td>\n",
       "    </tr>\n",
       "    <tr>\n",
       "      <th>50333</th>\n",
       "      <td>Dodocool Sports Wireless Stereo Headphones Black</td>\n",
       "      <td>Wireless stereo headphones with remote control...</td>\n",
       "      <td>Dodocool</td>\n",
       "      <td>DOD0010</td>\n",
       "      <td>21.99</td>\n",
       "      <td>Headphones</td>\n",
       "      <td>NaN</td>\n",
       "    </tr>\n",
       "  </tbody>\n",
       "</table>\n",
       "</div>"
      ],
      "text/plain": [
       "                                                   name  \\\n",
       "82                             Apple iPhone 64GB Silver   \n",
       "762                     Apple iPhone 6s Plus 128GB Gold   \n",
       "782                         Apple iPhone 16GB Rose Gold   \n",
       "3015                             Apple iPhone 16GB Gold   \n",
       "8308                        Apple iPhone 16GB Rose Gold   \n",
       "8400                           Apple iPhone 64GB Silver   \n",
       "12201             Apple iPhone 6s Plus 128GB Space Gray   \n",
       "13977              Apple iPhone 6s Plus 128GB Rose Gold   \n",
       "16921                 Apple iPhone 6s Plus 128GB Silver   \n",
       "40037                          Elgato Video Capture Mac   \n",
       "50333  Dodocool Sports Wireless Stereo Headphones Black   \n",
       "\n",
       "                                                    desc     brand      sku  \\\n",
       "82          New iPhone SE with 4-inch screen 64 free GB.     Apple  APP1482   \n",
       "762                      New iPhone 6s Plus 128GB Libre.     Apple  APP1188   \n",
       "782                 New iPhone SE with 4 inch 16GB free.     Apple  APP1480   \n",
       "3015                New iPhone SE with 4 inch 16GB free.     Apple  APP1479   \n",
       "8308                New iPhone SE with 4 inch 16GB free.     Apple  APP1480   \n",
       "8400        New iPhone SE with 4-inch screen 64 free GB.     Apple  APP1482   \n",
       "12201                    New iPhone 6s Plus 128GB Libre.     Apple  APP1187   \n",
       "13977                    New iPhone 6s Plus 128GB Libre.     Apple  APP1189   \n",
       "16921                    New iPhone 6s Plus 128GB Libre.     Apple  APP1186   \n",
       "40037            Mac USB analog video recorder hardware.    Elgato  ELG0014   \n",
       "50333  Wireless stereo headphones with remote control...  Dodocool  DOD0010   \n",
       "\n",
       "       unit_price    category type  \n",
       "82         549.00      iPhone  NaN  \n",
       "762        879.00      iPhone  NaN  \n",
       "782        489.00      iPhone  NaN  \n",
       "3015       489.00      iPhone  NaN  \n",
       "8308       479.22      iPhone  NaN  \n",
       "8400       515.99      iPhone  NaN  \n",
       "12201      879.00      iPhone  NaN  \n",
       "13977      879.00      iPhone  NaN  \n",
       "16921      879.00      iPhone  NaN  \n",
       "40037       91.99       Other  NaN  \n",
       "50333       21.99  Headphones  NaN  "
      ]
     },
     "execution_count": 96,
     "metadata": {},
     "output_type": "execute_result"
    }
   ],
   "source": [
    "o_ol_pro_m.loc[o_ol_pro_m.type.isna(), [\"name\", \"desc\", \"brand\", \"sku\", \"unit_price\", \"category\", \"type\"]]"
   ]
  },
  {
   "cell_type": "markdown",
   "metadata": {},
   "source": [
    "## Broad_categories"
   ]
  },
  {
   "cell_type": "code",
   "execution_count": 97,
   "metadata": {},
   "outputs": [],
   "source": [
    "o_ol_pro_m[\"broad_category\"] = \"\""
   ]
  },
  {
   "cell_type": "code",
   "execution_count": 98,
   "metadata": {},
   "outputs": [
    {
     "data": {
      "text/html": [
       "<div>\n",
       "<style scoped>\n",
       "    .dataframe tbody tr th:only-of-type {\n",
       "        vertical-align: middle;\n",
       "    }\n",
       "\n",
       "    .dataframe tbody tr th {\n",
       "        vertical-align: top;\n",
       "    }\n",
       "\n",
       "    .dataframe thead th {\n",
       "        text-align: right;\n",
       "    }\n",
       "</style>\n",
       "<table border=\"1\" class=\"dataframe\">\n",
       "  <thead>\n",
       "    <tr style=\"text-align: right;\">\n",
       "      <th></th>\n",
       "      <th>order_id</th>\n",
       "      <th>product_quantity</th>\n",
       "      <th>sku</th>\n",
       "      <th>unit_price</th>\n",
       "      <th>date</th>\n",
       "      <th>unit_price_total</th>\n",
       "      <th>name</th>\n",
       "      <th>desc</th>\n",
       "      <th>price</th>\n",
       "      <th>in_stock</th>\n",
       "      <th>type</th>\n",
       "      <th>brand</th>\n",
       "      <th>discount</th>\n",
       "      <th>%_discount</th>\n",
       "      <th>total_discount</th>\n",
       "      <th>created_date</th>\n",
       "      <th>total_paid</th>\n",
       "      <th>state</th>\n",
       "      <th>category</th>\n",
       "      <th>broad_category</th>\n",
       "    </tr>\n",
       "  </thead>\n",
       "  <tbody>\n",
       "    <tr>\n",
       "      <th>0</th>\n",
       "      <td>299545</td>\n",
       "      <td>1</td>\n",
       "      <td>OWC0100</td>\n",
       "      <td>47.49</td>\n",
       "      <td>2017-01-01 01:46:16</td>\n",
       "      <td>47.49</td>\n",
       "      <td>OWC In-line Digital Temperature Sensor Kit HDD...</td>\n",
       "      <td>Kit temperature sensor for HDD iMac 21 inch an...</td>\n",
       "      <td>60.99</td>\n",
       "      <td>1</td>\n",
       "      <td>12755395</td>\n",
       "      <td>OWC</td>\n",
       "      <td>13.50</td>\n",
       "      <td>22.134776</td>\n",
       "      <td>13.50</td>\n",
       "      <td>2017-01-01 01:51:47</td>\n",
       "      <td>51.48</td>\n",
       "      <td>Completed</td>\n",
       "      <td>Other</td>\n",
       "      <td></td>\n",
       "    </tr>\n",
       "    <tr>\n",
       "      <th>1</th>\n",
       "      <td>299546</td>\n",
       "      <td>1</td>\n",
       "      <td>IOT0014</td>\n",
       "      <td>18.99</td>\n",
       "      <td>2017-01-01 01:50:34</td>\n",
       "      <td>18.99</td>\n",
       "      <td>iOttie Easy View 2 Car Black Support</td>\n",
       "      <td>IPhone car holder 7 plus / 7/6 Plus / 6 / 5s /...</td>\n",
       "      <td>22.95</td>\n",
       "      <td>0</td>\n",
       "      <td>5720</td>\n",
       "      <td>iOttie</td>\n",
       "      <td>3.96</td>\n",
       "      <td>17.254902</td>\n",
       "      <td>3.96</td>\n",
       "      <td>2017-01-01 01:57:34</td>\n",
       "      <td>18.99</td>\n",
       "      <td>Completed</td>\n",
       "      <td>Other</td>\n",
       "      <td></td>\n",
       "    </tr>\n",
       "    <tr>\n",
       "      <th>2</th>\n",
       "      <td>295347</td>\n",
       "      <td>1</td>\n",
       "      <td>APP0700</td>\n",
       "      <td>72.19</td>\n",
       "      <td>2017-01-01 01:54:11</td>\n",
       "      <td>72.19</td>\n",
       "      <td>Apple 85W MagSafe 2 charger MacBook Pro screen...</td>\n",
       "      <td>Apple MagSafe 2 Charger for MacBook Pro 15-inc...</td>\n",
       "      <td>89.00</td>\n",
       "      <td>1</td>\n",
       "      <td>13005399</td>\n",
       "      <td>Apple</td>\n",
       "      <td>16.81</td>\n",
       "      <td>18.887640</td>\n",
       "      <td>16.81</td>\n",
       "      <td>2017-01-01 02:02:38</td>\n",
       "      <td>72.19</td>\n",
       "      <td>Completed</td>\n",
       "      <td>Batteries</td>\n",
       "      <td></td>\n",
       "    </tr>\n",
       "    <tr>\n",
       "      <th>3</th>\n",
       "      <td>299556</td>\n",
       "      <td>1</td>\n",
       "      <td>CRU0039-A</td>\n",
       "      <td>60.90</td>\n",
       "      <td>2017-01-01 02:20:14</td>\n",
       "      <td>60.90</td>\n",
       "      <td>(Open) Crucial 240GB SSD 7mm BX200</td>\n",
       "      <td>SSD hard drive and high-speed performance with...</td>\n",
       "      <td>76.99</td>\n",
       "      <td>0</td>\n",
       "      <td>1298</td>\n",
       "      <td>Crucial</td>\n",
       "      <td>16.09</td>\n",
       "      <td>20.898818</td>\n",
       "      <td>16.09</td>\n",
       "      <td>2017-01-01 02:30:08</td>\n",
       "      <td>65.89</td>\n",
       "      <td>Completed</td>\n",
       "      <td>Keyboard</td>\n",
       "      <td></td>\n",
       "    </tr>\n",
       "    <tr>\n",
       "      <th>4</th>\n",
       "      <td>299561</td>\n",
       "      <td>1</td>\n",
       "      <td>PEB0015</td>\n",
       "      <td>142.49</td>\n",
       "      <td>2017-01-01 02:38:50</td>\n",
       "      <td>142.49</td>\n",
       "      <td>Pebble Smartwatch Time Steel Black</td>\n",
       "      <td>Bluetooth Smart Watch with steel case leather ...</td>\n",
       "      <td>299.99</td>\n",
       "      <td>0</td>\n",
       "      <td>11905404</td>\n",
       "      <td>Pebble</td>\n",
       "      <td>157.50</td>\n",
       "      <td>52.501750</td>\n",
       "      <td>157.50</td>\n",
       "      <td>2017-01-01 02:39:47</td>\n",
       "      <td>154.48</td>\n",
       "      <td>Completed</td>\n",
       "      <td>Watches</td>\n",
       "      <td></td>\n",
       "    </tr>\n",
       "  </tbody>\n",
       "</table>\n",
       "</div>"
      ],
      "text/plain": [
       "   order_id  product_quantity        sku  unit_price                date  \\\n",
       "0    299545                 1    OWC0100       47.49 2017-01-01 01:46:16   \n",
       "1    299546                 1    IOT0014       18.99 2017-01-01 01:50:34   \n",
       "2    295347                 1    APP0700       72.19 2017-01-01 01:54:11   \n",
       "3    299556                 1  CRU0039-A       60.90 2017-01-01 02:20:14   \n",
       "4    299561                 1    PEB0015      142.49 2017-01-01 02:38:50   \n",
       "\n",
       "   unit_price_total                                               name  \\\n",
       "0             47.49  OWC In-line Digital Temperature Sensor Kit HDD...   \n",
       "1             18.99               iOttie Easy View 2 Car Black Support   \n",
       "2             72.19  Apple 85W MagSafe 2 charger MacBook Pro screen...   \n",
       "3             60.90                 (Open) Crucial 240GB SSD 7mm BX200   \n",
       "4            142.49                 Pebble Smartwatch Time Steel Black   \n",
       "\n",
       "                                                desc   price  in_stock  \\\n",
       "0  Kit temperature sensor for HDD iMac 21 inch an...   60.99         1   \n",
       "1  IPhone car holder 7 plus / 7/6 Plus / 6 / 5s /...   22.95         0   \n",
       "2  Apple MagSafe 2 Charger for MacBook Pro 15-inc...   89.00         1   \n",
       "3  SSD hard drive and high-speed performance with...   76.99         0   \n",
       "4  Bluetooth Smart Watch with steel case leather ...  299.99         0   \n",
       "\n",
       "       type    brand  discount  %_discount  total_discount  \\\n",
       "0  12755395      OWC     13.50   22.134776           13.50   \n",
       "1      5720   iOttie      3.96   17.254902            3.96   \n",
       "2  13005399    Apple     16.81   18.887640           16.81   \n",
       "3      1298  Crucial     16.09   20.898818           16.09   \n",
       "4  11905404   Pebble    157.50   52.501750          157.50   \n",
       "\n",
       "         created_date  total_paid      state   category broad_category  \n",
       "0 2017-01-01 01:51:47       51.48  Completed      Other                 \n",
       "1 2017-01-01 01:57:34       18.99  Completed      Other                 \n",
       "2 2017-01-01 02:02:38       72.19  Completed  Batteries                 \n",
       "3 2017-01-01 02:30:08       65.89  Completed   Keyboard                 \n",
       "4 2017-01-01 02:39:47      154.48  Completed    Watches                 "
      ]
     },
     "execution_count": 98,
     "metadata": {},
     "output_type": "execute_result"
    }
   ],
   "source": [
    "o_ol_pro_m.head()"
   ]
  },
  {
   "cell_type": "code",
   "execution_count": 99,
   "metadata": {},
   "outputs": [],
   "source": [
    "o_ol_pro_m.loc[o_ol_pro_m.category.isin([\"iPhone\", \"Tablet\"]), \"broad_category\"] = \"iPhones_Tablets\""
   ]
  },
  {
   "cell_type": "code",
   "execution_count": 100,
   "metadata": {},
   "outputs": [],
   "source": [
    "o_ol_pro_m.loc[o_ol_pro_m.category.isin([\"Harddrive\", \"Flashdrive\", \"RAM\"]), \"broad_category\"] = \"Harddrives_Flashdrives\""
   ]
  },
  {
   "cell_type": "code",
   "execution_count": 101,
   "metadata": {},
   "outputs": [],
   "source": [
    "o_ol_pro_m.loc[o_ol_pro_m.category.isin([\"Mouse\", \"iPod\", \"Powerbank\", \"Speakers\", \"Headphones\", \"Watches\", \"Accessories\", \"Keyboard\"]), \"broad_category\"] = \"Accessories\""
   ]
  },
  {
   "cell_type": "code",
   "execution_count": 102,
   "metadata": {},
   "outputs": [],
   "source": [
    "o_ol_pro_m.loc[o_ol_pro_m.category.isin([\"Monitor\", \"MacBook\", \"Computer\"]), \"broad_category\"] = \"Monitors_Laptops_Computers\""
   ]
  },
  {
   "cell_type": "code",
   "execution_count": 103,
   "metadata": {},
   "outputs": [],
   "source": [
    "o_ol_pro_m.loc[o_ol_pro_m.category.isin([\"Service\", \"Other\", \"Batteries\", \"Second-Hand\"]), \"broad_category\"] = \"Service_Used_Others\""
   ]
  },
  {
   "cell_type": "code",
   "execution_count": 107,
   "metadata": {},
   "outputs": [
    {
     "data": {
      "text/plain": [
       "broad_category\n",
       "Harddrives_Flashdrives        2169165.88\n",
       "iPhones_Tablets               1708089.59\n",
       "Accessories                   1707537.46\n",
       "Monitors_Laptops_Computers    1287798.29\n",
       "Service_Used_Others            944613.18\n",
       "Name: unit_price_total, dtype: float64"
      ]
     },
     "execution_count": 107,
     "metadata": {},
     "output_type": "execute_result"
    }
   ],
   "source": [
    "o_ol_pro_m.groupby([\"broad_category\"]).unit_price_total.sum().sort_values(ascending=False)\n"
   ]
  },
  {
   "cell_type": "code",
   "execution_count": null,
   "metadata": {},
   "outputs": [],
   "source": []
  },
  {
   "cell_type": "markdown",
   "metadata": {},
   "source": [
    "## Save File"
   ]
  },
  {
   "cell_type": "code",
   "execution_count": 105,
   "metadata": {},
   "outputs": [],
   "source": [
    "#Save to csv\n",
    "o_ol_pro_m.to_csv(\"o_ol_pro_m.csv\", index=False)\n",
    "\n"
   ]
  },
  {
   "cell_type": "code",
   "execution_count": null,
   "metadata": {},
   "outputs": [],
   "source": []
  },
  {
   "cell_type": "code",
   "execution_count": null,
   "metadata": {},
   "outputs": [],
   "source": []
  },
  {
   "cell_type": "code",
   "execution_count": null,
   "metadata": {},
   "outputs": [],
   "source": []
  },
  {
   "cell_type": "code",
   "execution_count": null,
   "metadata": {},
   "outputs": [],
   "source": []
  }
 ],
 "metadata": {
  "colab": {
   "collapsed_sections": [
    "cu7i6nj50Z61",
    "qf2doJf707zf",
    "9uAtf3tp0zRj",
    "bqg3e5ws03gu",
    "lRISrVCCw4qS",
    "I14ohioO1D-C",
    "-kQ-eTW21HnP",
    "HcRy-r8t1KHp",
    "hSqq5NH51U1Z",
    "oMXruQ2w1_CT",
    "1Qi4yoFO1Zze",
    "YOBi3-D91loy",
    "MIwoEO_x1zIF",
    "ngzFg6rQ2B2e",
    "cW44vFRf2OPc",
    "smiU1ypz2dzI",
    "YJLG6T642oPY",
    "MPz0xRjR24NT"
   ],
   "provenance": [],
   "toc_visible": true
  },
  "kernelspec": {
   "display_name": "Python 3",
   "language": "python",
   "name": "python3"
  },
  "language_info": {
   "codemirror_mode": {
    "name": "ipython",
    "version": 3
   },
   "file_extension": ".py",
   "mimetype": "text/x-python",
   "name": "python",
   "nbconvert_exporter": "python",
   "pygments_lexer": "ipython3",
   "version": "3.8.8"
  }
 },
 "nbformat": 4,
 "nbformat_minor": 4
}
