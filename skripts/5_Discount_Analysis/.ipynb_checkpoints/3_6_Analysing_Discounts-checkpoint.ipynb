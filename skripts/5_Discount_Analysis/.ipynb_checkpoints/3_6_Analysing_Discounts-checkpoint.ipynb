{
 "cells": [
  {
   "cell_type": "code",
   "execution_count": 1,
   "id": "fb183c12-ee13-4da6-8784-1a3ce907cc80",
   "metadata": {},
   "outputs": [],
   "source": [
    "import pandas as pd"
   ]
  },
  {
   "cell_type": "markdown",
   "id": "803ee154-fdc8-40a5-b5c1-ba6b389a0364",
   "metadata": {},
   "source": [
    "# Analysing Discounts"
   ]
  },
  {
   "cell_type": "code",
   "execution_count": 2,
   "id": "df16caf9-79d2-4923-963f-d9c537493d98",
   "metadata": {},
   "outputs": [],
   "source": [
    "# orders_ql.csv\n",
    "url = \"https://drive.google.com/file/d/1QAF56fIWKBjyEE52NZe-TMG4eVF54m6o/view\" \n",
    "path = \"https://drive.google.com/uc?export=download&id=\"+url.split(\"/\")[-2]\n",
    "orders_ql = pd.read_csv(path)\n",
    "\n",
    "# orderlines_ql.csv\n",
    "url = \"https://drive.google.com/file/d/143QNOYeuErSPosnLqC7uQkB4yBAV1zES/view\" \n",
    "path = \"https://drive.google.com/uc?export=download&id=\"+url.split(\"/\")[-2]\n",
    "orderlines_ql = pd.read_csv(path)\n",
    "\n",
    "# products_cl.csv\n",
    "url = \"https://drive.google.com/file/d/1s7Lai4NSlsYjGEPg1QSOUJobNYVsZBOJ/view?usp=sharing\" \n",
    "path = \"https://drive.google.com/uc?export=download&id=\"+url.split(\"/\")[-2]\n",
    "products_ql = pd.read_csv(path)\n",
    "\n",
    "# brands.csv\n",
    "url = \"https://drive.google.com/file/d/1m1ThDDIYRTTii-rqM5SEQjJ8McidJskD/view?usp=sharing\" \n",
    "path = \"https://drive.google.com/uc?export=download&id=\"+url.split(\"/\")[-2]\n",
    "brands_ql = pd.read_csv(path)\n",
    "\n"
   ]
  },
  {
   "cell_type": "code",
   "execution_count": 3,
   "id": "5d27d323-d4aa-40af-9318-7aaaaed992bb",
   "metadata": {},
   "outputs": [],
   "source": [
    "# making copies\n",
    "orders_c = orders_ql.copy()\n",
    "orderlines_c = orderlines_ql.copy()\n",
    "products_c = products_ql.copy()\n",
    "brands_c = brands_ql.copy()"
   ]
  },
  {
   "cell_type": "markdown",
   "id": "7ba1155b-17f0-4f03-bf0c-7274aa24d6f9",
   "metadata": {},
   "source": [
    "**`date` should be format datetime**"
   ]
  },
  {
   "cell_type": "code",
   "execution_count": 5,
   "id": "8e59667d-06dc-4483-8689-7c51fb4f2fde",
   "metadata": {},
   "outputs": [
    {
     "name": "stdout",
     "output_type": "stream",
     "text": [
      "<class 'pandas.core.frame.DataFrame'>\n",
      "RangeIndex: 53231 entries, 0 to 53230\n",
      "Data columns (total 8 columns):\n",
      " #   Column            Non-Null Count  Dtype         \n",
      "---  ------            --------------  -----         \n",
      " 0   id                53231 non-null  int64         \n",
      " 1   order_id          53231 non-null  int64         \n",
      " 2   product_id        53231 non-null  int64         \n",
      " 3   product_quantity  53231 non-null  int64         \n",
      " 4   sku               53231 non-null  object        \n",
      " 5   unit_price        53231 non-null  float64       \n",
      " 6   date              53231 non-null  datetime64[ns]\n",
      " 7   unit_price_total  53231 non-null  float64       \n",
      "dtypes: datetime64[ns](1), float64(2), int64(4), object(1)\n",
      "memory usage: 3.2+ MB\n"
     ]
    }
   ],
   "source": [
    "orderlines_c[\"date\"] = pd.to_datetime(orderlines_c[\"date\"])\n",
    "orderlines_c.info()"
   ]
  },
  {
   "cell_type": "markdown",
   "id": "8242c3d4-a1b1-4a9b-88fd-810d6cdd4338",
   "metadata": {},
   "source": [
    "**`created_date` should be datetime**"
   ]
  },
  {
   "cell_type": "code",
   "execution_count": 6,
   "id": "144cf33e-0277-4f36-9fdf-09dc62711807",
   "metadata": {},
   "outputs": [
    {
     "name": "stdout",
     "output_type": "stream",
     "text": [
      "<class 'pandas.core.frame.DataFrame'>\n",
      "RangeIndex: 40985 entries, 0 to 40984\n",
      "Data columns (total 4 columns):\n",
      " #   Column        Non-Null Count  Dtype         \n",
      "---  ------        --------------  -----         \n",
      " 0   order_id      40985 non-null  int64         \n",
      " 1   created_date  40985 non-null  datetime64[ns]\n",
      " 2   total_paid    40985 non-null  float64       \n",
      " 3   state         40985 non-null  object        \n",
      "dtypes: datetime64[ns](1), float64(1), int64(1), object(1)\n",
      "memory usage: 1.3+ MB\n"
     ]
    }
   ],
   "source": [
    "orders_c[\"created_date\"] = pd.to_datetime(orders_c[\"created_date\"])\n",
    "orders_c.info()"
   ]
  },
  {
   "cell_type": "markdown",
   "id": "2cfc0050-e527-421d-85ba-305489d194c0",
   "metadata": {},
   "source": [
    "## 1. Create Output Table (like LMS)"
   ]
  },
  {
   "cell_type": "markdown",
   "id": "53f6e0e0-83f5-49a3-a610-58970aa56e18",
   "metadata": {},
   "source": [
    "### 1.1. Join `Brands` and `Products` "
   ]
  },
  {
   "cell_type": "markdown",
   "id": "d553ad69-f0b8-437d-bb03-e339e890ca0d",
   "metadata": {},
   "source": [
    "**new column `short`to merge brands and products**"
   ]
  },
  {
   "cell_type": "code",
   "execution_count": 7,
   "id": "a5db3445-0a94-4a80-b461-6f9748d3f5cc",
   "metadata": {},
   "outputs": [
    {
     "name": "stdout",
     "output_type": "stream",
     "text": [
      "<class 'pandas.core.frame.DataFrame'>\n",
      "Int64Index: 9992 entries, 0 to 9991\n",
      "Data columns (total 8 columns):\n",
      " #   Column    Non-Null Count  Dtype  \n",
      "---  ------    --------------  -----  \n",
      " 0   sku       9992 non-null   object \n",
      " 1   name      9992 non-null   object \n",
      " 2   desc      9992 non-null   object \n",
      " 3   price     9992 non-null   float64\n",
      " 4   in_stock  9992 non-null   int64  \n",
      " 5   type      9946 non-null   object \n",
      " 6   short     9992 non-null   object \n",
      " 7   long      9806 non-null   object \n",
      "dtypes: float64(1), int64(1), object(6)\n",
      "memory usage: 702.6+ KB\n"
     ]
    }
   ],
   "source": [
    "products_c['short'] = products_c.sku.str[:3]\n",
    "\n",
    "pro_bra_m = products_c.merge(brands_c, on='short', how='left')\n",
    "pro_bra_m.info()"
   ]
  },
  {
   "cell_type": "markdown",
   "id": "61d7f723-6d61-4d4a-9b6b-e71e4699aa61",
   "metadata": {},
   "source": [
    "**`short` can be deleted - it is no longer needed**"
   ]
  },
  {
   "cell_type": "code",
   "execution_count": 8,
   "id": "16ff7f1b-b669-4f98-ac5a-dc35dacb9058",
   "metadata": {},
   "outputs": [
    {
     "name": "stdout",
     "output_type": "stream",
     "text": [
      "<class 'pandas.core.frame.DataFrame'>\n",
      "Int64Index: 9992 entries, 0 to 9991\n",
      "Data columns (total 7 columns):\n",
      " #   Column    Non-Null Count  Dtype  \n",
      "---  ------    --------------  -----  \n",
      " 0   sku       9992 non-null   object \n",
      " 1   name      9992 non-null   object \n",
      " 2   desc      9992 non-null   object \n",
      " 3   price     9992 non-null   float64\n",
      " 4   in_stock  9992 non-null   int64  \n",
      " 5   type      9946 non-null   object \n",
      " 6   long      9806 non-null   object \n",
      "dtypes: float64(1), int64(1), object(5)\n",
      "memory usage: 624.5+ KB\n"
     ]
    }
   ],
   "source": [
    "pro_bra_m = pro_bra_m.drop(labels=\"short\", axis=1)\n",
    "pro_bra_m.info()"
   ]
  },
  {
   "cell_type": "markdown",
   "id": "643db32d-85a9-422b-a21e-73c8419dc875",
   "metadata": {},
   "source": [
    "**`long` is renamed to `brand`**"
   ]
  },
  {
   "cell_type": "code",
   "execution_count": 9,
   "id": "aacc7109-0243-4c1a-9e81-79aa17b07291",
   "metadata": {},
   "outputs": [
    {
     "data": {
      "text/html": [
       "<div>\n",
       "<style scoped>\n",
       "    .dataframe tbody tr th:only-of-type {\n",
       "        vertical-align: middle;\n",
       "    }\n",
       "\n",
       "    .dataframe tbody tr th {\n",
       "        vertical-align: top;\n",
       "    }\n",
       "\n",
       "    .dataframe thead th {\n",
       "        text-align: right;\n",
       "    }\n",
       "</style>\n",
       "<table border=\"1\" class=\"dataframe\">\n",
       "  <thead>\n",
       "    <tr style=\"text-align: right;\">\n",
       "      <th></th>\n",
       "      <th>sku</th>\n",
       "      <th>name</th>\n",
       "      <th>desc</th>\n",
       "      <th>price</th>\n",
       "      <th>in_stock</th>\n",
       "      <th>type</th>\n",
       "      <th>brand</th>\n",
       "    </tr>\n",
       "  </thead>\n",
       "  <tbody>\n",
       "    <tr>\n",
       "      <th>0</th>\n",
       "      <td>RAI0007</td>\n",
       "      <td>Silver Rain Design mStand Support</td>\n",
       "      <td>Aluminum support compatible with all MacBook</td>\n",
       "      <td>59.99</td>\n",
       "      <td>1</td>\n",
       "      <td>8696</td>\n",
       "      <td>Rain Design</td>\n",
       "    </tr>\n",
       "    <tr>\n",
       "      <th>1</th>\n",
       "      <td>APP0023</td>\n",
       "      <td>Apple Mac Keyboard Keypad Spanish</td>\n",
       "      <td>USB ultrathin keyboard Apple Mac Spanish.</td>\n",
       "      <td>59.00</td>\n",
       "      <td>0</td>\n",
       "      <td>13855401</td>\n",
       "      <td>Apple</td>\n",
       "    </tr>\n",
       "    <tr>\n",
       "      <th>2</th>\n",
       "      <td>APP0025</td>\n",
       "      <td>Mighty Mouse Apple Mouse for Mac</td>\n",
       "      <td>mouse Apple USB cable.</td>\n",
       "      <td>59.00</td>\n",
       "      <td>0</td>\n",
       "      <td>1387</td>\n",
       "      <td>Apple</td>\n",
       "    </tr>\n",
       "    <tr>\n",
       "      <th>3</th>\n",
       "      <td>APP0072</td>\n",
       "      <td>Apple Dock to USB Cable iPhone and iPod white</td>\n",
       "      <td>IPhone dock and USB Cable Apple iPod.</td>\n",
       "      <td>25.00</td>\n",
       "      <td>0</td>\n",
       "      <td>1230</td>\n",
       "      <td>Apple</td>\n",
       "    </tr>\n",
       "    <tr>\n",
       "      <th>4</th>\n",
       "      <td>KIN0007</td>\n",
       "      <td>Mac Memory Kingston 2GB 667MHz DDR2 SO-DIMM</td>\n",
       "      <td>2GB RAM Mac mini and iMac (2006/07) MacBook Pr...</td>\n",
       "      <td>34.99</td>\n",
       "      <td>1</td>\n",
       "      <td>1364</td>\n",
       "      <td>Kingston</td>\n",
       "    </tr>\n",
       "  </tbody>\n",
       "</table>\n",
       "</div>"
      ],
      "text/plain": [
       "       sku                                           name  \\\n",
       "0  RAI0007              Silver Rain Design mStand Support   \n",
       "1  APP0023              Apple Mac Keyboard Keypad Spanish   \n",
       "2  APP0025               Mighty Mouse Apple Mouse for Mac   \n",
       "3  APP0072  Apple Dock to USB Cable iPhone and iPod white   \n",
       "4  KIN0007    Mac Memory Kingston 2GB 667MHz DDR2 SO-DIMM   \n",
       "\n",
       "                                                desc  price  in_stock  \\\n",
       "0       Aluminum support compatible with all MacBook  59.99         1   \n",
       "1          USB ultrathin keyboard Apple Mac Spanish.  59.00         0   \n",
       "2                             mouse Apple USB cable.  59.00         0   \n",
       "3              IPhone dock and USB Cable Apple iPod.  25.00         0   \n",
       "4  2GB RAM Mac mini and iMac (2006/07) MacBook Pr...  34.99         1   \n",
       "\n",
       "       type        brand  \n",
       "0      8696  Rain Design  \n",
       "1  13855401        Apple  \n",
       "2      1387        Apple  \n",
       "3      1230        Apple  \n",
       "4      1364     Kingston  "
      ]
     },
     "execution_count": 9,
     "metadata": {},
     "output_type": "execute_result"
    }
   ],
   "source": [
    "pro_bra_m.rename(columns={\"long\":\"brand\"}, inplace=True)\n",
    "pro_bra_m.head()"
   ]
  },
  {
   "cell_type": "code",
   "execution_count": 10,
   "id": "4ea6cc77-83f6-4375-b083-68bd73ce5e78",
   "metadata": {},
   "outputs": [],
   "source": [
    "#changing column \"in_store\" to boolean"
   ]
  },
  {
   "cell_type": "markdown",
   "id": "3e7bda50-3f8d-4d46-84b2-4fb3bbb8e244",
   "metadata": {},
   "source": [
    "### 1.2. Join `Products` and `Orderlines`"
   ]
  },
  {
   "cell_type": "markdown",
   "id": "619f6070-8261-4d1a-b39a-9330d9c70f2d",
   "metadata": {},
   "source": [
    "**Merge oderlines with products and drop columns not needed**"
   ]
  },
  {
   "cell_type": "code",
   "execution_count": 11,
   "id": "086caa73-f372-4586-b640-65a98a4bfbcc",
   "metadata": {},
   "outputs": [
    {
     "data": {
      "text/html": [
       "<div>\n",
       "<style scoped>\n",
       "    .dataframe tbody tr th:only-of-type {\n",
       "        vertical-align: middle;\n",
       "    }\n",
       "\n",
       "    .dataframe tbody tr th {\n",
       "        vertical-align: top;\n",
       "    }\n",
       "\n",
       "    .dataframe thead th {\n",
       "        text-align: right;\n",
       "    }\n",
       "</style>\n",
       "<table border=\"1\" class=\"dataframe\">\n",
       "  <thead>\n",
       "    <tr style=\"text-align: right;\">\n",
       "      <th></th>\n",
       "      <th>order_id</th>\n",
       "      <th>product_quantity</th>\n",
       "      <th>sku</th>\n",
       "      <th>unit_price</th>\n",
       "      <th>date</th>\n",
       "      <th>unit_price_total</th>\n",
       "      <th>name</th>\n",
       "      <th>price</th>\n",
       "      <th>in_stock</th>\n",
       "      <th>type</th>\n",
       "      <th>brand</th>\n",
       "    </tr>\n",
       "  </thead>\n",
       "  <tbody>\n",
       "    <tr>\n",
       "      <th>0</th>\n",
       "      <td>299545</td>\n",
       "      <td>1</td>\n",
       "      <td>OWC0100</td>\n",
       "      <td>47.49</td>\n",
       "      <td>2017-01-01 01:46:16</td>\n",
       "      <td>47.49</td>\n",
       "      <td>OWC In-line Digital Temperature Sensor Kit HDD...</td>\n",
       "      <td>60.99</td>\n",
       "      <td>1</td>\n",
       "      <td>12755395</td>\n",
       "      <td>OWC</td>\n",
       "    </tr>\n",
       "    <tr>\n",
       "      <th>1</th>\n",
       "      <td>299546</td>\n",
       "      <td>1</td>\n",
       "      <td>IOT0014</td>\n",
       "      <td>18.99</td>\n",
       "      <td>2017-01-01 01:50:34</td>\n",
       "      <td>18.99</td>\n",
       "      <td>iOttie Easy View 2 Car Black Support</td>\n",
       "      <td>22.95</td>\n",
       "      <td>0</td>\n",
       "      <td>5720</td>\n",
       "      <td>iOttie</td>\n",
       "    </tr>\n",
       "    <tr>\n",
       "      <th>2</th>\n",
       "      <td>295347</td>\n",
       "      <td>1</td>\n",
       "      <td>APP0700</td>\n",
       "      <td>72.19</td>\n",
       "      <td>2017-01-01 01:54:11</td>\n",
       "      <td>72.19</td>\n",
       "      <td>Apple 85W MagSafe 2 charger MacBook Pro screen...</td>\n",
       "      <td>89.00</td>\n",
       "      <td>1</td>\n",
       "      <td>13005399</td>\n",
       "      <td>Apple</td>\n",
       "    </tr>\n",
       "    <tr>\n",
       "      <th>3</th>\n",
       "      <td>299556</td>\n",
       "      <td>1</td>\n",
       "      <td>CRU0039-A</td>\n",
       "      <td>60.90</td>\n",
       "      <td>2017-01-01 02:20:14</td>\n",
       "      <td>60.90</td>\n",
       "      <td>(Open) Crucial 240GB SSD 7mm BX200</td>\n",
       "      <td>76.99</td>\n",
       "      <td>0</td>\n",
       "      <td>1298</td>\n",
       "      <td>Crucial</td>\n",
       "    </tr>\n",
       "    <tr>\n",
       "      <th>4</th>\n",
       "      <td>299561</td>\n",
       "      <td>1</td>\n",
       "      <td>PEB0015</td>\n",
       "      <td>142.49</td>\n",
       "      <td>2017-01-01 02:38:50</td>\n",
       "      <td>142.49</td>\n",
       "      <td>Pebble Smartwatch Time Steel Black</td>\n",
       "      <td>299.99</td>\n",
       "      <td>0</td>\n",
       "      <td>11905404</td>\n",
       "      <td>Pebble</td>\n",
       "    </tr>\n",
       "  </tbody>\n",
       "</table>\n",
       "</div>"
      ],
      "text/plain": [
       "   order_id  product_quantity        sku  unit_price                date  \\\n",
       "0    299545                 1    OWC0100       47.49 2017-01-01 01:46:16   \n",
       "1    299546                 1    IOT0014       18.99 2017-01-01 01:50:34   \n",
       "2    295347                 1    APP0700       72.19 2017-01-01 01:54:11   \n",
       "3    299556                 1  CRU0039-A       60.90 2017-01-01 02:20:14   \n",
       "4    299561                 1    PEB0015      142.49 2017-01-01 02:38:50   \n",
       "\n",
       "   unit_price_total                                               name  \\\n",
       "0             47.49  OWC In-line Digital Temperature Sensor Kit HDD...   \n",
       "1             18.99               iOttie Easy View 2 Car Black Support   \n",
       "2             72.19  Apple 85W MagSafe 2 charger MacBook Pro screen...   \n",
       "3             60.90                 (Open) Crucial 240GB SSD 7mm BX200   \n",
       "4            142.49                 Pebble Smartwatch Time Steel Black   \n",
       "\n",
       "    price  in_stock      type    brand  \n",
       "0   60.99         1  12755395      OWC  \n",
       "1   22.95         0      5720   iOttie  \n",
       "2   89.00         1  13005399    Apple  \n",
       "3   76.99         0      1298  Crucial  \n",
       "4  299.99         0  11905404   Pebble  "
      ]
     },
     "execution_count": 11,
     "metadata": {},
     "output_type": "execute_result"
    }
   ],
   "source": [
    "ol_pro_m = orderlines_c.merge(pro_bra_m[[\"sku\", \"name\", \"price\", \"in_stock\", \"type\", \"brand\"]], on=\"sku\", how=\"left\")\n",
    "\n",
    "ol_pro_m = ol_pro_m.drop(labels=[\"id\", \"product_id\"], axis=1)\n",
    "ol_pro_m.head()"
   ]
  },
  {
   "cell_type": "markdown",
   "id": "465ca571-fd61-4098-8804-f70e26da2619",
   "metadata": {},
   "source": [
    "### 1.3. Create `discount`"
   ]
  },
  {
   "cell_type": "code",
   "execution_count": 12,
   "id": "1a5fa2f5-7d4a-4753-802f-6336f45927f5",
   "metadata": {},
   "outputs": [
    {
     "data": {
      "text/html": [
       "<div>\n",
       "<style scoped>\n",
       "    .dataframe tbody tr th:only-of-type {\n",
       "        vertical-align: middle;\n",
       "    }\n",
       "\n",
       "    .dataframe tbody tr th {\n",
       "        vertical-align: top;\n",
       "    }\n",
       "\n",
       "    .dataframe thead th {\n",
       "        text-align: right;\n",
       "    }\n",
       "</style>\n",
       "<table border=\"1\" class=\"dataframe\">\n",
       "  <thead>\n",
       "    <tr style=\"text-align: right;\">\n",
       "      <th></th>\n",
       "      <th>order_id</th>\n",
       "      <th>product_quantity</th>\n",
       "      <th>sku</th>\n",
       "      <th>unit_price</th>\n",
       "      <th>date</th>\n",
       "      <th>unit_price_total</th>\n",
       "      <th>name</th>\n",
       "      <th>price</th>\n",
       "      <th>in_stock</th>\n",
       "      <th>type</th>\n",
       "      <th>brand</th>\n",
       "      <th>discount</th>\n",
       "    </tr>\n",
       "  </thead>\n",
       "  <tbody>\n",
       "    <tr>\n",
       "      <th>0</th>\n",
       "      <td>299545</td>\n",
       "      <td>1</td>\n",
       "      <td>OWC0100</td>\n",
       "      <td>47.49</td>\n",
       "      <td>2017-01-01 01:46:16</td>\n",
       "      <td>47.49</td>\n",
       "      <td>OWC In-line Digital Temperature Sensor Kit HDD...</td>\n",
       "      <td>60.99</td>\n",
       "      <td>1</td>\n",
       "      <td>12755395</td>\n",
       "      <td>OWC</td>\n",
       "      <td>13.50</td>\n",
       "    </tr>\n",
       "    <tr>\n",
       "      <th>1</th>\n",
       "      <td>299546</td>\n",
       "      <td>1</td>\n",
       "      <td>IOT0014</td>\n",
       "      <td>18.99</td>\n",
       "      <td>2017-01-01 01:50:34</td>\n",
       "      <td>18.99</td>\n",
       "      <td>iOttie Easy View 2 Car Black Support</td>\n",
       "      <td>22.95</td>\n",
       "      <td>0</td>\n",
       "      <td>5720</td>\n",
       "      <td>iOttie</td>\n",
       "      <td>3.96</td>\n",
       "    </tr>\n",
       "    <tr>\n",
       "      <th>2</th>\n",
       "      <td>295347</td>\n",
       "      <td>1</td>\n",
       "      <td>APP0700</td>\n",
       "      <td>72.19</td>\n",
       "      <td>2017-01-01 01:54:11</td>\n",
       "      <td>72.19</td>\n",
       "      <td>Apple 85W MagSafe 2 charger MacBook Pro screen...</td>\n",
       "      <td>89.00</td>\n",
       "      <td>1</td>\n",
       "      <td>13005399</td>\n",
       "      <td>Apple</td>\n",
       "      <td>16.81</td>\n",
       "    </tr>\n",
       "    <tr>\n",
       "      <th>3</th>\n",
       "      <td>299556</td>\n",
       "      <td>1</td>\n",
       "      <td>CRU0039-A</td>\n",
       "      <td>60.90</td>\n",
       "      <td>2017-01-01 02:20:14</td>\n",
       "      <td>60.90</td>\n",
       "      <td>(Open) Crucial 240GB SSD 7mm BX200</td>\n",
       "      <td>76.99</td>\n",
       "      <td>0</td>\n",
       "      <td>1298</td>\n",
       "      <td>Crucial</td>\n",
       "      <td>16.09</td>\n",
       "    </tr>\n",
       "    <tr>\n",
       "      <th>4</th>\n",
       "      <td>299561</td>\n",
       "      <td>1</td>\n",
       "      <td>PEB0015</td>\n",
       "      <td>142.49</td>\n",
       "      <td>2017-01-01 02:38:50</td>\n",
       "      <td>142.49</td>\n",
       "      <td>Pebble Smartwatch Time Steel Black</td>\n",
       "      <td>299.99</td>\n",
       "      <td>0</td>\n",
       "      <td>11905404</td>\n",
       "      <td>Pebble</td>\n",
       "      <td>157.50</td>\n",
       "    </tr>\n",
       "  </tbody>\n",
       "</table>\n",
       "</div>"
      ],
      "text/plain": [
       "   order_id  product_quantity        sku  unit_price                date  \\\n",
       "0    299545                 1    OWC0100       47.49 2017-01-01 01:46:16   \n",
       "1    299546                 1    IOT0014       18.99 2017-01-01 01:50:34   \n",
       "2    295347                 1    APP0700       72.19 2017-01-01 01:54:11   \n",
       "3    299556                 1  CRU0039-A       60.90 2017-01-01 02:20:14   \n",
       "4    299561                 1    PEB0015      142.49 2017-01-01 02:38:50   \n",
       "\n",
       "   unit_price_total                                               name  \\\n",
       "0             47.49  OWC In-line Digital Temperature Sensor Kit HDD...   \n",
       "1             18.99               iOttie Easy View 2 Car Black Support   \n",
       "2             72.19  Apple 85W MagSafe 2 charger MacBook Pro screen...   \n",
       "3             60.90                 (Open) Crucial 240GB SSD 7mm BX200   \n",
       "4            142.49                 Pebble Smartwatch Time Steel Black   \n",
       "\n",
       "    price  in_stock      type    brand  discount  \n",
       "0   60.99         1  12755395      OWC     13.50  \n",
       "1   22.95         0      5720   iOttie      3.96  \n",
       "2   89.00         1  13005399    Apple     16.81  \n",
       "3   76.99         0      1298  Crucial     16.09  \n",
       "4  299.99         0  11905404   Pebble    157.50  "
      ]
     },
     "execution_count": 12,
     "metadata": {},
     "output_type": "execute_result"
    }
   ],
   "source": [
    "#create a new column 'discount'\n",
    "ol_pro_m[\"discount\"] = ol_pro_m[\"price\"] - ol_pro_m[\"unit_price\"]\n",
    "ol_pro_m.head()"
   ]
  },
  {
   "cell_type": "code",
   "execution_count": 89,
   "id": "6536b718-6287-4c0c-8ee6-035df1673ff8",
   "metadata": {},
   "outputs": [
    {
     "data": {
      "text/plain": [
       "count    53231.000000\n",
       "mean        26.116673\n",
       "std         45.545881\n",
       "min       -170.990000\n",
       "25%          5.250000\n",
       "50%         15.000000\n",
       "75%         31.000000\n",
       "max       1320.000000\n",
       "Name: discount, dtype: float64"
      ]
     },
     "execution_count": 89,
     "metadata": {},
     "output_type": "execute_result"
    },
    {
     "data": {
      "image/png": "[encoded data removed]",
      "text/plain": [
       "<Figure size 1080x864 with 1 Axes>"
      ]
     },
     "metadata": {
      "needs_background": "light"
     },
     "output_type": "display_data"
    }
   ],
   "source": [
    "#look at discounts\n",
    "ol_pro_m.discount.hist(bins=100, figsize=(15,12))\n",
    "ol_pro_m.discount.describe()\n",
    "#ol_pro_m.groupby(\"order_id\").discount.mean().nsmallest(40)"
   ]
  },
  {
   "cell_type": "code",
   "execution_count": 55,
   "id": "1a9bd41d-6734-4bcf-8206-31d82c15693f",
   "metadata": {},
   "outputs": [
    {
     "data": {
      "text/plain": [
       "40985"
      ]
     },
     "execution_count": 55,
     "metadata": {},
     "output_type": "execute_result"
    }
   ],
   "source": [
    "ol_pro_m.order_id.nunique()"
   ]
  },
  {
   "cell_type": "code",
   "execution_count": 57,
   "id": "85babe92-9a53-4401-be85-3c44f83b683b",
   "metadata": {},
   "outputs": [
    {
     "data": {
      "text/plain": [
       "53231"
      ]
     },
     "execution_count": 57,
     "metadata": {},
     "output_type": "execute_result"
    }
   ],
   "source": [
    "ol_pro_m.discount.count()"
   ]
  },
  {
   "cell_type": "markdown",
   "id": "af9dad38-4aba-404e-97b2-2ab5101d9701",
   "metadata": {},
   "source": [
    "**There are crazy values such as 1320EUR discount and -170EUR discount (which means that the customer payed 170EUR more than it was worth.**\n",
    "Thus we decided to remove the outliers -- in total 4436 orderlines. "
   ]
  },
  {
   "cell_type": "code",
   "execution_count": 82,
   "id": "5afa3f79-fe27-411c-ba34-5d56e7e0e784",
   "metadata": {},
   "outputs": [],
   "source": [
    "#getting rid of outliers\n",
    "\n",
    "# your code here\n",
    "# calculate the quartiles\n",
    "Q1 = ol_pro_m.discount.quantile(0.25)\n",
    "Q3 = ol_pro_m.discount.quantile(0.75)\n",
    "\n",
    "# calculates the IQR\n",
    "IQR = Q3 - Q1\n",
    "\n",
    "# keep only the differences that are within Q1-1.5*IQR  and Q3-1.5*IQR\n",
    "ol_pro_m_ql = ol_pro_m.loc[(ol_pro_m.discount >= (Q1 - 1.5*IQR)) & (ol_pro_m.discount<= (Q3 + 1.5*IQR)), :].copy()\n",
    "\n",
    "ol_pro_m_ql_2 = ol_pro_m.loc[(ol_pro_m.discount >= (Q1 - 1.5*IQR)) & (ol_pro_m.discount<= (Q3 + 2.5*IQR)), :].copy()\n",
    "\n",
    "ol_pro_m_ql_3 = ol_pro_m.loc[(ol_pro_m.discount >= (Q1 - 1.5*IQR)) & (ol_pro_m.discount<= (Q3 + 3.5*IQR)), :].copy()\n",
    "\n",
    "ol_pro_m_ql_4 = ol_pro_m.loc[(ol_pro_m.discount >= (Q1 - 4.5*IQR)) & (ol_pro_m.discount<= (Q3 + 4.5*IQR)), :].copy()"
   ]
  },
  {
   "cell_type": "code",
   "execution_count": 45,
   "id": "d9a877ea-f40e-4ccc-9a8c-520a69a8091e",
   "metadata": {},
   "outputs": [
    {
     "data": {
      "text/html": [
       "<div>\n",
       "<style scoped>\n",
       "    .dataframe tbody tr th:only-of-type {\n",
       "        vertical-align: middle;\n",
       "    }\n",
       "\n",
       "    .dataframe tbody tr th {\n",
       "        vertical-align: top;\n",
       "    }\n",
       "\n",
       "    .dataframe thead th {\n",
       "        text-align: right;\n",
       "    }\n",
       "</style>\n",
       "<table border=\"1\" class=\"dataframe\">\n",
       "  <thead>\n",
       "    <tr style=\"text-align: right;\">\n",
       "      <th></th>\n",
       "      <th>order_id</th>\n",
       "      <th>product_quantity</th>\n",
       "      <th>unit_price</th>\n",
       "      <th>unit_price_total</th>\n",
       "      <th>price</th>\n",
       "      <th>in_stock</th>\n",
       "      <th>discount</th>\n",
       "    </tr>\n",
       "  </thead>\n",
       "  <tbody>\n",
       "    <tr>\n",
       "      <th>count</th>\n",
       "      <td>48795.000000</td>\n",
       "      <td>48795.000000</td>\n",
       "      <td>48795.000000</td>\n",
       "      <td>48795.000000</td>\n",
       "      <td>48795.000000</td>\n",
       "      <td>48795.000000</td>\n",
       "      <td>48795.000000</td>\n",
       "    </tr>\n",
       "    <tr>\n",
       "      <th>mean</th>\n",
       "      <td>413669.460006</td>\n",
       "      <td>1.130895</td>\n",
       "      <td>112.548440</td>\n",
       "      <td>122.771959</td>\n",
       "      <td>130.413499</td>\n",
       "      <td>0.594958</td>\n",
       "      <td>17.865059</td>\n",
       "    </tr>\n",
       "    <tr>\n",
       "      <th>std</th>\n",
       "      <td>65437.783961</td>\n",
       "      <td>0.825950</td>\n",
       "      <td>152.600086</td>\n",
       "      <td>180.186603</td>\n",
       "      <td>159.205906</td>\n",
       "      <td>0.490905</td>\n",
       "      <td>16.983087</td>\n",
       "    </tr>\n",
       "    <tr>\n",
       "      <th>min</th>\n",
       "      <td>241423.000000</td>\n",
       "      <td>1.000000</td>\n",
       "      <td>1.990000</td>\n",
       "      <td>1.990000</td>\n",
       "      <td>2.990000</td>\n",
       "      <td>0.000000</td>\n",
       "      <td>-33.000000</td>\n",
       "    </tr>\n",
       "    <tr>\n",
       "      <th>25%</th>\n",
       "      <td>361680.500000</td>\n",
       "      <td>1.000000</td>\n",
       "      <td>24.990000</td>\n",
       "      <td>26.340000</td>\n",
       "      <td>35.000000</td>\n",
       "      <td>0.000000</td>\n",
       "      <td>5.000000</td>\n",
       "    </tr>\n",
       "    <tr>\n",
       "      <th>50%</th>\n",
       "      <td>415838.000000</td>\n",
       "      <td>1.000000</td>\n",
       "      <td>56.310000</td>\n",
       "      <td>59.990000</td>\n",
       "      <td>73.980000</td>\n",
       "      <td>1.000000</td>\n",
       "      <td>13.200000</td>\n",
       "    </tr>\n",
       "    <tr>\n",
       "      <th>75%</th>\n",
       "      <td>469264.000000</td>\n",
       "      <td>1.000000</td>\n",
       "      <td>129.000000</td>\n",
       "      <td>139.990000</td>\n",
       "      <td>154.990000</td>\n",
       "      <td>1.000000</td>\n",
       "      <td>25.000000</td>\n",
       "    </tr>\n",
       "    <tr>\n",
       "      <th>max</th>\n",
       "      <td>527112.000000</td>\n",
       "      <td>72.000000</td>\n",
       "      <td>999.990000</td>\n",
       "      <td>6876.800000</td>\n",
       "      <td>1059.000000</td>\n",
       "      <td>1.000000</td>\n",
       "      <td>69.460000</td>\n",
       "    </tr>\n",
       "  </tbody>\n",
       "</table>\n",
       "</div>"
      ],
      "text/plain": [
       "            order_id  product_quantity    unit_price  unit_price_total  \\\n",
       "count   48795.000000      48795.000000  48795.000000      48795.000000   \n",
       "mean   413669.460006          1.130895    112.548440        122.771959   \n",
       "std     65437.783961          0.825950    152.600086        180.186603   \n",
       "min    241423.000000          1.000000      1.990000          1.990000   \n",
       "25%    361680.500000          1.000000     24.990000         26.340000   \n",
       "50%    415838.000000          1.000000     56.310000         59.990000   \n",
       "75%    469264.000000          1.000000    129.000000        139.990000   \n",
       "max    527112.000000         72.000000    999.990000       6876.800000   \n",
       "\n",
       "              price      in_stock      discount  \n",
       "count  48795.000000  48795.000000  48795.000000  \n",
       "mean     130.413499      0.594958     17.865059  \n",
       "std      159.205906      0.490905     16.983087  \n",
       "min        2.990000      0.000000    -33.000000  \n",
       "25%       35.000000      0.000000      5.000000  \n",
       "50%       73.980000      1.000000     13.200000  \n",
       "75%      154.990000      1.000000     25.000000  \n",
       "max     1059.000000      1.000000     69.460000  "
      ]
     },
     "execution_count": 45,
     "metadata": {},
     "output_type": "execute_result"
    }
   ],
   "source": [
    "ol_pro_m_ql.describe()"
   ]
  },
  {
   "cell_type": "markdown",
   "id": "69029411-188d-4ca1-bb5e-241cb703d112",
   "metadata": {},
   "source": [
    "### 1.3.1. discount-outliers"
   ]
  },
  {
   "cell_type": "code",
   "execution_count": 52,
   "id": "7cf13b99-68de-4d79-b4a3-d49b72bd91a8",
   "metadata": {},
   "outputs": [],
   "source": [
    "ol_pro_m_deleted_outliers = ol_pro_m.loc[((ol_pro_m.discount >= (Q1 - 1.5*IQR)) & (ol_pro_m.discount<= (Q3 + 1.5*IQR))) == False , :].copy()\n"
   ]
  },
  {
   "cell_type": "code",
   "execution_count": 72,
   "id": "e54cb6f3-add6-4196-84bd-87eabc979151",
   "metadata": {},
   "outputs": [],
   "source": [
    "ol_pro_m_deleted_outliers_2 = ol_pro_m.loc[((ol_pro_m.discount >= (Q1 - 1.5*IQR)) & (ol_pro_m.discount<= (Q3 + 2.5*IQR))) == False , :].copy()\n"
   ]
  },
  {
   "cell_type": "code",
   "execution_count": 75,
   "id": "6eb13c8c-a83f-416b-9aa8-e7e087fdd292",
   "metadata": {},
   "outputs": [],
   "source": [
    "ol_pro_m_deleted_outliers_3 = ol_pro_m.loc[((ol_pro_m.discount >= (Q1 - 1.5*IQR)) & (ol_pro_m.discount<= (Q3 + 3.5*IQR))) == False , :].copy()\n"
   ]
  },
  {
   "cell_type": "code",
   "execution_count": 83,
   "id": "25e52034-e628-4ad6-9a9f-ebebdfa121fc",
   "metadata": {},
   "outputs": [],
   "source": [
    "ol_pro_m_deleted_outliers_4 = ol_pro_m.loc[((ol_pro_m.discount >= (Q1 - 4.5*IQR)) & (ol_pro_m.discount<= (Q3 + 4.5*IQR))) == False , :].copy()\n"
   ]
  },
  {
   "cell_type": "code",
   "execution_count": 54,
   "id": "dfb9b8b7-5485-4037-86f1-92f599decaab",
   "metadata": {},
   "outputs": [
    {
     "data": {
      "text/plain": [
       "<AxesSubplot:>"
      ]
     },
     "execution_count": 54,
     "metadata": {},
     "output_type": "execute_result"
    },
    {
     "data": {
      "image/png": "[encoded data removed]",
      "text/plain": [
       "<Figure size 864x720 with 1 Axes>"
      ]
     },
     "metadata": {
      "needs_background": "light"
     },
     "output_type": "display_data"
    }
   ],
   "source": [
    "#ol_pro_m_deleted_outliers.order_ids.describe()\n",
    "ol_pro_m_deleted_outliers.discount.hist(bins=200, figsize=(12,10))"
   ]
  },
  {
   "cell_type": "code",
   "execution_count": 73,
   "id": "eb2d79f8-c77d-489e-bc9d-5e5ac961c14e",
   "metadata": {},
   "outputs": [
    {
     "data": {
      "text/plain": [
       "<AxesSubplot:>"
      ]
     },
     "execution_count": 73,
     "metadata": {},
     "output_type": "execute_result"
    },
    {
     "data": {
      "image/png": "[encoded data removed]",
      "text/plain": [
       "<Figure size 864x720 with 1 Axes>"
      ]
     },
     "metadata": {
      "needs_background": "light"
     },
     "output_type": "display_data"
    }
   ],
   "source": [
    "ol_pro_m_deleted_outliers_2.discount.hist(bins=200, figsize=(12,10))"
   ]
  },
  {
   "cell_type": "code",
   "execution_count": 76,
   "id": "77e0f548-b57d-454e-a419-c079f20a676a",
   "metadata": {},
   "outputs": [
    {
     "data": {
      "text/plain": [
       "<AxesSubplot:>"
      ]
     },
     "execution_count": 76,
     "metadata": {},
     "output_type": "execute_result"
    },
    {
     "data": {
      "image/png": "[encoded data removed]",
      "text/plain": [
       "<Figure size 864x720 with 1 Axes>"
      ]
     },
     "metadata": {
      "needs_background": "light"
     },
     "output_type": "display_data"
    }
   ],
   "source": [
    "ol_pro_m_deleted_outliers_3.discount.hist(bins=200, figsize=(12,10))"
   ]
  },
  {
   "cell_type": "code",
   "execution_count": 84,
   "id": "6c8fd38a-7c3c-4139-910a-f7b1476af0e0",
   "metadata": {},
   "outputs": [
    {
     "data": {
      "text/plain": [
       "<AxesSubplot:>"
      ]
     },
     "execution_count": 84,
     "metadata": {},
     "output_type": "execute_result"
    },
    {
     "data": {
      "image/png": "[encoded data removed]",
      "text/plain": [
       "<Figure size 864x720 with 1 Axes>"
      ]
     },
     "metadata": {
      "needs_background": "light"
     },
     "output_type": "display_data"
    }
   ],
   "source": [
    "ol_pro_m_deleted_outliers_4.discount.hist(bins=200, figsize=(12,10))"
   ]
  },
  {
   "cell_type": "code",
   "execution_count": 68,
   "id": "4496926d-c9f8-4e24-98f8-b4687b6ac377",
   "metadata": {},
   "outputs": [
    {
     "data": {
      "text/plain": [
       "<AxesSubplot:>"
      ]
     },
     "execution_count": 68,
     "metadata": {},
     "output_type": "execute_result"
    },
    {
     "data": {
      "image/png": "[encoded data removed]",
      "text/plain": [
       "<Figure size 864x720 with 1 Axes>"
      ]
     },
     "metadata": {
      "needs_background": "light"
     },
     "output_type": "display_data"
    }
   ],
   "source": [
    "ol_pro_m_ql.discount.hist(bins=50, figsize=(12,10))"
   ]
  },
  {
   "cell_type": "code",
   "execution_count": 77,
   "id": "8b29d005-05f8-404e-be4a-92d3fe52eaf0",
   "metadata": {},
   "outputs": [
    {
     "data": {
      "text/plain": [
       "<AxesSubplot:>"
      ]
     },
     "execution_count": 77,
     "metadata": {},
     "output_type": "execute_result"
    },
    {
     "data": {
      "image/png": "[encoded data removed]",
      "text/plain": [
       "<Figure size 864x720 with 1 Axes>"
      ]
     },
     "metadata": {
      "needs_background": "light"
     },
     "output_type": "display_data"
    }
   ],
   "source": [
    "ol_pro_m_ql_3.discount.hist(bins=50, figsize=(12,10))"
   ]
  },
  {
   "cell_type": "code",
   "execution_count": 85,
   "id": "c127c571-9baa-4ebf-a590-b07abc9161e5",
   "metadata": {},
   "outputs": [
    {
     "data": {
      "text/plain": [
       "<AxesSubplot:>"
      ]
     },
     "execution_count": 85,
     "metadata": {},
     "output_type": "execute_result"
    },
    {
     "data": {
      "image/png": "[encoded data removed]",
      "text/plain": [
       "<Figure size 864x720 with 1 Axes>"
      ]
     },
     "metadata": {
      "needs_background": "light"
     },
     "output_type": "display_data"
    }
   ],
   "source": [
    "ol_pro_m_ql_4.discount.hist(bins=50, figsize=(12,10))"
   ]
  },
  {
   "cell_type": "markdown",
   "id": "585375e3-bbae-4881-be1a-d46bf4208ea4",
   "metadata": {},
   "source": [
    "### 1.4. Create Column `discount_percentage`"
   ]
  },
  {
   "cell_type": "code",
   "execution_count": 16,
   "id": "0ecaee1c-5dc4-444b-b760-41dcbf84decd",
   "metadata": {},
   "outputs": [],
   "source": [
    "ol_pro_m_ql[\"discount_percentage\"] = ol_pro_m[\"discount\"] / ol_pro_m[\"price\"] *100"
   ]
  },
  {
   "cell_type": "code",
   "execution_count": 17,
   "id": "7804ab16-471e-4bcb-970d-ba5531ef3474",
   "metadata": {},
   "outputs": [
    {
     "data": {
      "text/plain": [
       "count    48795.000000\n",
       "mean        20.675015\n",
       "std         17.536674\n",
       "min       -212.265332\n",
       "25%          8.335186\n",
       "50%         16.795995\n",
       "75%         27.785496\n",
       "max         97.140815\n",
       "Name: discount_percentage, dtype: float64"
      ]
     },
     "execution_count": 17,
     "metadata": {},
     "output_type": "execute_result"
    },
    {
     "data": {
      "image/png": "[encoded data removed]",
      "text/plain": [
       "<Figure size 432x288 with 1 Axes>"
      ]
     },
     "metadata": {
      "needs_background": "light"
     },
     "output_type": "display_data"
    }
   ],
   "source": [
    "ol_pro_m_ql.discount_percentage.hist(bins=50)\n",
    "ol_pro_m_ql.discount_percentage.describe()\n",
    "\n"
   ]
  },
  {
   "cell_type": "markdown",
   "id": "54d78c15-9136-4f31-a7f1-7aa850714fdc",
   "metadata": {},
   "source": [
    "**INFO**\n",
    "* We will not remove outliers for discount_percentage, because the actual value (associated with it) is not that high."
   ]
  },
  {
   "cell_type": "code",
   "execution_count": 40,
   "id": "6dc4a41e-8aa4-49ac-b67d-10244c3fa5fe",
   "metadata": {},
   "outputs": [
    {
     "data": {
      "text/plain": [
       "count      1342.000000\n",
       "mean     386007.683308\n",
       "std       62570.895541\n",
       "min      267375.000000\n",
       "25%      327531.000000\n",
       "50%      376229.000000\n",
       "75%      420466.500000\n",
       "max      524782.000000\n",
       "Name: order_id, dtype: float64"
      ]
     },
     "execution_count": 40,
     "metadata": {},
     "output_type": "execute_result"
    }
   ],
   "source": [
    "ol_pro_m_ql.loc[ol_pro_m_ql.discount_percentage < 0, :].order_id.describe()"
   ]
  },
  {
   "cell_type": "code",
   "execution_count": 18,
   "id": "392efd12-0c16-4e66-992f-c6fb2f73a642",
   "metadata": {},
   "outputs": [
    {
     "data": {
      "text/plain": [
       "type\n",
       "21485407   -212.265332\n",
       "1,44E+11    -50.012503\n",
       "11905404    -34.114114\n",
       "11935397    -34.024126\n",
       "57445397    -30.792918\n",
       "               ...    \n",
       "21561716     13.130661\n",
       "12031714     19.442907\n",
       "2434         19.879760\n",
       "79201715     25.142241\n",
       "54025401     29.469941\n",
       "Name: discount_percentage, Length: 103, dtype: float64"
      ]
     },
     "execution_count": 18,
     "metadata": {},
     "output_type": "execute_result"
    }
   ],
   "source": [
    "ol_pro_m_ql.groupby(\"type\").discount_percentage.min().sort_values() #loc[ol_pro_m_ql.discount_percentage < 0, :]"
   ]
  },
  {
   "cell_type": "code",
   "execution_count": 19,
   "id": "0b90ce45-f768-4d2e-8b02-07d250e8dfbd",
   "metadata": {},
   "outputs": [
    {
     "data": {
      "image/png": "[encoded data removed]",
      "text/plain": [
       "<Figure size 864x576 with 1 Axes>"
      ]
     },
     "metadata": {
      "needs_background": "light"
     },
     "output_type": "display_data"
    }
   ],
   "source": [
    "ol_pro_m_ql.resample(\"D\", on=\"date\")[\"discount_percentage\"].mean().plot(figsize=(12,8), kind=\"line\"); \n"
   ]
  },
  {
   "cell_type": "code",
   "execution_count": 28,
   "id": "3fbdbc10-81ec-4049-b033-c2cd0d2ef25a",
   "metadata": {},
   "outputs": [
    {
     "data": {
      "image/png": "[encoded data removed]",
      "text/plain": [
       "<Figure size 864x576 with 1 Axes>"
      ]
     },
     "metadata": {
      "needs_background": "light"
     },
     "output_type": "display_data"
    }
   ],
   "source": [
    "ol_pro_m_ql.resample(\"D\", on=\"date\")[\"discount\"].mean().plot(figsize=(12,8), kind=\"line\"); \n"
   ]
  },
  {
   "cell_type": "code",
   "execution_count": 21,
   "id": "e7cd2224-6875-4c04-b5eb-a39461bb31c4",
   "metadata": {},
   "outputs": [],
   "source": [
    "#grouping by quantity and calculating discount\n",
    "#how many items have 0 discount\n",
    "#month wise discount\n",
    "#year wise discount\n",
    "#counting values which have negative discount"
   ]
  },
  {
   "cell_type": "markdown",
   "id": "b6f08203-aa7b-40e0-ab90-29fe4f4828d9",
   "metadata": {},
   "source": [
    "## 2. Comparison between df with discount-outliers and df without-outliers"
   ]
  },
  {
   "cell_type": "markdown",
   "id": "ebc4ba22-d434-402a-ad44-9ff7e970a671",
   "metadata": {},
   "source": [
    "## 2.1. Values from the dataframe with outliers"
   ]
  },
  {
   "cell_type": "code",
   "execution_count": 63,
   "id": "652d7812-b61b-45de-a170-32d6028b02ed",
   "metadata": {},
   "outputs": [
    {
     "data": {
      "text/plain": [
       "order_id            1571\n",
       "product_quantity    1571\n",
       "sku                 1571\n",
       "unit_price          1571\n",
       "date                1571\n",
       "unit_price_total    1571\n",
       "name                1571\n",
       "price               1571\n",
       "in_stock            1571\n",
       "type                1567\n",
       "brand               1571\n",
       "discount            1571\n",
       "dtype: int64"
      ]
     },
     "execution_count": 63,
     "metadata": {},
     "output_type": "execute_result"
    }
   ],
   "source": [
    "ol_pro_m.loc[ol_pro_m.discount < 0, :].count()"
   ]
  },
  {
   "cell_type": "code",
   "execution_count": 64,
   "id": "fed57109-974a-4579-ab99-75ec0173f823",
   "metadata": {},
   "outputs": [
    {
     "data": {
      "text/plain": [
       "1509"
      ]
     },
     "execution_count": 64,
     "metadata": {},
     "output_type": "execute_result"
    }
   ],
   "source": [
    "ol_pro_m.loc[ol_pro_m.discount < 0, :].order_id.nunique()"
   ]
  },
  {
   "cell_type": "code",
   "execution_count": 65,
   "id": "06d11b9b-b0d2-4321-aa02-000cc3e27e07",
   "metadata": {},
   "outputs": [
    {
     "data": {
      "text/html": [
       "<div>\n",
       "<style scoped>\n",
       "    .dataframe tbody tr th:only-of-type {\n",
       "        vertical-align: middle;\n",
       "    }\n",
       "\n",
       "    .dataframe tbody tr th {\n",
       "        vertical-align: top;\n",
       "    }\n",
       "\n",
       "    .dataframe thead th {\n",
       "        text-align: right;\n",
       "    }\n",
       "</style>\n",
       "<table border=\"1\" class=\"dataframe\">\n",
       "  <thead>\n",
       "    <tr style=\"text-align: right;\">\n",
       "      <th></th>\n",
       "      <th>order_id</th>\n",
       "      <th>product_quantity</th>\n",
       "      <th>unit_price</th>\n",
       "      <th>unit_price_total</th>\n",
       "      <th>price</th>\n",
       "      <th>in_stock</th>\n",
       "      <th>discount</th>\n",
       "    </tr>\n",
       "  </thead>\n",
       "  <tbody>\n",
       "    <tr>\n",
       "      <th>count</th>\n",
       "      <td>53231.000000</td>\n",
       "      <td>53231.000000</td>\n",
       "      <td>53231.000000</td>\n",
       "      <td>53231.000000</td>\n",
       "      <td>53231.000000</td>\n",
       "      <td>53231.000000</td>\n",
       "      <td>53231.000000</td>\n",
       "    </tr>\n",
       "    <tr>\n",
       "      <th>mean</th>\n",
       "      <td>414086.772369</td>\n",
       "      <td>1.127369</td>\n",
       "      <td>135.484903</td>\n",
       "      <td>146.854359</td>\n",
       "      <td>161.601576</td>\n",
       "      <td>0.574045</td>\n",
       "      <td>26.116673</td>\n",
       "    </tr>\n",
       "    <tr>\n",
       "      <th>std</th>\n",
       "      <td>65584.817961</td>\n",
       "      <td>0.815204</td>\n",
       "      <td>180.719645</td>\n",
       "      <td>209.287555</td>\n",
       "      <td>202.493100</td>\n",
       "      <td>0.494492</td>\n",
       "      <td>45.545881</td>\n",
       "    </tr>\n",
       "    <tr>\n",
       "      <th>min</th>\n",
       "      <td>241423.000000</td>\n",
       "      <td>1.000000</td>\n",
       "      <td>1.990000</td>\n",
       "      <td>1.990000</td>\n",
       "      <td>2.990000</td>\n",
       "      <td>0.000000</td>\n",
       "      <td>-170.990000</td>\n",
       "    </tr>\n",
       "    <tr>\n",
       "      <th>25%</th>\n",
       "      <td>362219.500000</td>\n",
       "      <td>1.000000</td>\n",
       "      <td>26.990000</td>\n",
       "      <td>29.740000</td>\n",
       "      <td>35.990000</td>\n",
       "      <td>0.000000</td>\n",
       "      <td>5.250000</td>\n",
       "    </tr>\n",
       "    <tr>\n",
       "      <th>50%</th>\n",
       "      <td>416762.000000</td>\n",
       "      <td>1.000000</td>\n",
       "      <td>64.990000</td>\n",
       "      <td>69.950000</td>\n",
       "      <td>87.980000</td>\n",
       "      <td>1.000000</td>\n",
       "      <td>15.000000</td>\n",
       "    </tr>\n",
       "    <tr>\n",
       "      <th>75%</th>\n",
       "      <td>469651.500000</td>\n",
       "      <td>1.000000</td>\n",
       "      <td>154.000000</td>\n",
       "      <td>166.140000</td>\n",
       "      <td>179.990000</td>\n",
       "      <td>1.000000</td>\n",
       "      <td>31.000000</td>\n",
       "    </tr>\n",
       "    <tr>\n",
       "      <th>max</th>\n",
       "      <td>527112.000000</td>\n",
       "      <td>72.000000</td>\n",
       "      <td>999.990000</td>\n",
       "      <td>6876.800000</td>\n",
       "      <td>1799.000000</td>\n",
       "      <td>1.000000</td>\n",
       "      <td>1320.000000</td>\n",
       "    </tr>\n",
       "  </tbody>\n",
       "</table>\n",
       "</div>"
      ],
      "text/plain": [
       "            order_id  product_quantity    unit_price  unit_price_total  \\\n",
       "count   53231.000000      53231.000000  53231.000000      53231.000000   \n",
       "mean   414086.772369          1.127369    135.484903        146.854359   \n",
       "std     65584.817961          0.815204    180.719645        209.287555   \n",
       "min    241423.000000          1.000000      1.990000          1.990000   \n",
       "25%    362219.500000          1.000000     26.990000         29.740000   \n",
       "50%    416762.000000          1.000000     64.990000         69.950000   \n",
       "75%    469651.500000          1.000000    154.000000        166.140000   \n",
       "max    527112.000000         72.000000    999.990000       6876.800000   \n",
       "\n",
       "              price      in_stock      discount  \n",
       "count  53231.000000  53231.000000  53231.000000  \n",
       "mean     161.601576      0.574045     26.116673  \n",
       "std      202.493100      0.494492     45.545881  \n",
       "min        2.990000      0.000000   -170.990000  \n",
       "25%       35.990000      0.000000      5.250000  \n",
       "50%       87.980000      1.000000     15.000000  \n",
       "75%      179.990000      1.000000     31.000000  \n",
       "max     1799.000000      1.000000   1320.000000  "
      ]
     },
     "execution_count": 65,
     "metadata": {},
     "output_type": "execute_result"
    }
   ],
   "source": [
    "ol_pro_m.describe()"
   ]
  },
  {
   "cell_type": "code",
   "execution_count": 67,
   "id": "53134488-4419-4c8e-b127-c08f2e3592d8",
   "metadata": {},
   "outputs": [
    {
     "data": {
      "text/plain": [
       "order_id            40985\n",
       "product_quantity       27\n",
       "sku                  5098\n",
       "unit_price           4342\n",
       "date                52840\n",
       "unit_price_total     5479\n",
       "name                 5058\n",
       "price                1025\n",
       "in_stock                2\n",
       "type                  114\n",
       "brand                 176\n",
       "discount             5723\n",
       "dtype: int64"
      ]
     },
     "execution_count": 67,
     "metadata": {},
     "output_type": "execute_result"
    }
   ],
   "source": [
    "ol_pro_m.nunique()"
   ]
  },
  {
   "cell_type": "markdown",
   "id": "768449d7-f2de-4fdf-a9eb-f4417729e716",
   "metadata": {},
   "source": [
    "**There is 3.75 % of orders where the customer paid more than unit-price**"
   ]
  },
  {
   "cell_type": "markdown",
   "id": "ec55eb3f-f354-4f1b-afbd-172813dd20ce",
   "metadata": {},
   "source": [
    "### **TODO- Make new dataframes of orders corresponding to outliers**"
   ]
  },
  {
   "cell_type": "markdown",
   "id": "9cf88251-c6ae-400e-9a06-fa3c170b151b",
   "metadata": {},
   "source": [
    "We could make bins of 0-10%, 10-20% , 30-40%  etc."
   ]
  },
  {
   "cell_type": "markdown",
   "id": "c340fa99-945c-4bae-9356-0806c2f4a669",
   "metadata": {},
   "source": [
    "get the revenue and compare to the discounts"
   ]
  },
  {
   "cell_type": "markdown",
   "id": "e5c92db6-3e19-479f-9014-8b8f989e9ac9",
   "metadata": {},
   "source": [
    "open questions from discord (jorge and Sai)"
   ]
  },
  {
   "cell_type": "code",
   "execution_count": null,
   "id": "1b9e1bdc-2deb-4e8c-b573-de24b30b8f72",
   "metadata": {},
   "outputs": [],
   "source": [
    "#grouping by quantity and calculating discount\n",
    "#how many items have 0 discount\n",
    "#month wise discount\n",
    "#year wise discount\n",
    "#counting values which have negative discount"
   ]
  },
  {
   "cell_type": "markdown",
   "id": "18dc6a8f-99d4-48db-a9e2-c3f7fa7514e2",
   "metadata": {},
   "source": [
    "**Make several groups an analyse them**"
   ]
  },
  {
   "cell_type": "markdown",
   "id": "f5d7562e-391f-4852-8b43-b0e801358f16",
   "metadata": {},
   "source": [
    "## 3. Analysing Extreme Discounts"
   ]
  },
  {
   "cell_type": "markdown",
   "id": "a60614a7-eeb1-48b0-8f9e-b088012c2c63",
   "metadata": {},
   "source": [
    "### 3.1. Negative Discounts <-100 (where customers paid more than the product price)"
   ]
  },
  {
   "cell_type": "code",
   "execution_count": 124,
   "id": "c5f95ee4-24e8-438c-bbb2-642da25f0e93",
   "metadata": {},
   "outputs": [
    {
     "data": {
      "text/html": [
       "<div>\n",
       "<style scoped>\n",
       "    .dataframe tbody tr th:only-of-type {\n",
       "        vertical-align: middle;\n",
       "    }\n",
       "\n",
       "    .dataframe tbody tr th {\n",
       "        vertical-align: top;\n",
       "    }\n",
       "\n",
       "    .dataframe thead th {\n",
       "        text-align: right;\n",
       "    }\n",
       "</style>\n",
       "<table border=\"1\" class=\"dataframe\">\n",
       "  <thead>\n",
       "    <tr style=\"text-align: right;\">\n",
       "      <th></th>\n",
       "      <th></th>\n",
       "      <th>order_id</th>\n",
       "      <th>product_quantity</th>\n",
       "      <th>sku</th>\n",
       "      <th>unit_price</th>\n",
       "      <th>date</th>\n",
       "      <th>unit_price_total</th>\n",
       "      <th>price</th>\n",
       "      <th>in_stock</th>\n",
       "      <th>brand</th>\n",
       "      <th>discount</th>\n",
       "    </tr>\n",
       "    <tr>\n",
       "      <th>type</th>\n",
       "      <th>name</th>\n",
       "      <th></th>\n",
       "      <th></th>\n",
       "      <th></th>\n",
       "      <th></th>\n",
       "      <th></th>\n",
       "      <th></th>\n",
       "      <th></th>\n",
       "      <th></th>\n",
       "      <th></th>\n",
       "      <th></th>\n",
       "    </tr>\n",
       "  </thead>\n",
       "  <tbody>\n",
       "    <tr>\n",
       "      <th rowspan=\"2\" valign=\"top\">11935397</th>\n",
       "      <th>12TB LaCie 2big Thunderbolt 2</th>\n",
       "      <td>2</td>\n",
       "      <td>2</td>\n",
       "      <td>2</td>\n",
       "      <td>2</td>\n",
       "      <td>2</td>\n",
       "      <td>2</td>\n",
       "      <td>2</td>\n",
       "      <td>2</td>\n",
       "      <td>2</td>\n",
       "      <td>2</td>\n",
       "    </tr>\n",
       "    <tr>\n",
       "      <th>G-Technology G-DRIVE 10TB Hard Drive 7200rpm USB 3.0 Thunderbolt</th>\n",
       "      <td>1</td>\n",
       "      <td>1</td>\n",
       "      <td>1</td>\n",
       "      <td>1</td>\n",
       "      <td>1</td>\n",
       "      <td>1</td>\n",
       "      <td>1</td>\n",
       "      <td>1</td>\n",
       "      <td>1</td>\n",
       "      <td>1</td>\n",
       "    </tr>\n",
       "    <tr>\n",
       "      <th>1296</th>\n",
       "      <th>PD2710QC BenQ Monitor 27 \"QHD Design Professional USB-C</th>\n",
       "      <td>3</td>\n",
       "      <td>3</td>\n",
       "      <td>3</td>\n",
       "      <td>3</td>\n",
       "      <td>3</td>\n",
       "      <td>3</td>\n",
       "      <td>3</td>\n",
       "      <td>3</td>\n",
       "      <td>3</td>\n",
       "      <td>3</td>\n",
       "    </tr>\n",
       "    <tr>\n",
       "      <th>1364</th>\n",
       "      <th>Mac memory Kingston 32GB (4x8GB) SO-DIMM DDR3 1867MHz</th>\n",
       "      <td>2</td>\n",
       "      <td>2</td>\n",
       "      <td>2</td>\n",
       "      <td>2</td>\n",
       "      <td>2</td>\n",
       "      <td>2</td>\n",
       "      <td>2</td>\n",
       "      <td>2</td>\n",
       "      <td>2</td>\n",
       "      <td>2</td>\n",
       "    </tr>\n",
       "    <tr>\n",
       "      <th rowspan=\"3\" valign=\"top\">24811716</th>\n",
       "      <th>Apple iPhone 6s Plus 32GB Rose Gold</th>\n",
       "      <td>1</td>\n",
       "      <td>1</td>\n",
       "      <td>1</td>\n",
       "      <td>1</td>\n",
       "      <td>1</td>\n",
       "      <td>1</td>\n",
       "      <td>1</td>\n",
       "      <td>1</td>\n",
       "      <td>1</td>\n",
       "      <td>1</td>\n",
       "    </tr>\n",
       "    <tr>\n",
       "      <th>Apple iPhone 6s Plus 32GB Silver</th>\n",
       "      <td>1</td>\n",
       "      <td>1</td>\n",
       "      <td>1</td>\n",
       "      <td>1</td>\n",
       "      <td>1</td>\n",
       "      <td>1</td>\n",
       "      <td>1</td>\n",
       "      <td>1</td>\n",
       "      <td>1</td>\n",
       "      <td>1</td>\n",
       "    </tr>\n",
       "    <tr>\n",
       "      <th>Apple iPhone 6s Plus 32GB Space Gray</th>\n",
       "      <td>5</td>\n",
       "      <td>5</td>\n",
       "      <td>5</td>\n",
       "      <td>5</td>\n",
       "      <td>5</td>\n",
       "      <td>5</td>\n",
       "      <td>5</td>\n",
       "      <td>5</td>\n",
       "      <td>5</td>\n",
       "      <td>5</td>\n",
       "    </tr>\n",
       "    <tr>\n",
       "      <th rowspan=\"6\" valign=\"top\">24821716</th>\n",
       "      <th>32GB Apple iPhone 6s Rose Gold</th>\n",
       "      <td>2</td>\n",
       "      <td>2</td>\n",
       "      <td>2</td>\n",
       "      <td>2</td>\n",
       "      <td>2</td>\n",
       "      <td>2</td>\n",
       "      <td>2</td>\n",
       "      <td>2</td>\n",
       "      <td>2</td>\n",
       "      <td>2</td>\n",
       "    </tr>\n",
       "    <tr>\n",
       "      <th>Apple iPhone 6s 128GB Rose Gold</th>\n",
       "      <td>2</td>\n",
       "      <td>2</td>\n",
       "      <td>2</td>\n",
       "      <td>2</td>\n",
       "      <td>2</td>\n",
       "      <td>2</td>\n",
       "      <td>2</td>\n",
       "      <td>2</td>\n",
       "      <td>2</td>\n",
       "      <td>2</td>\n",
       "    </tr>\n",
       "    <tr>\n",
       "      <th>Apple iPhone 6s 128GB Space Gray</th>\n",
       "      <td>3</td>\n",
       "      <td>3</td>\n",
       "      <td>3</td>\n",
       "      <td>3</td>\n",
       "      <td>3</td>\n",
       "      <td>3</td>\n",
       "      <td>3</td>\n",
       "      <td>3</td>\n",
       "      <td>3</td>\n",
       "      <td>3</td>\n",
       "    </tr>\n",
       "    <tr>\n",
       "      <th>Apple iPhone 6s 32GB Gold</th>\n",
       "      <td>4</td>\n",
       "      <td>4</td>\n",
       "      <td>4</td>\n",
       "      <td>4</td>\n",
       "      <td>4</td>\n",
       "      <td>4</td>\n",
       "      <td>4</td>\n",
       "      <td>4</td>\n",
       "      <td>4</td>\n",
       "      <td>4</td>\n",
       "    </tr>\n",
       "    <tr>\n",
       "      <th>Apple iPhone 6s 32GB Silver</th>\n",
       "      <td>1</td>\n",
       "      <td>1</td>\n",
       "      <td>1</td>\n",
       "      <td>1</td>\n",
       "      <td>1</td>\n",
       "      <td>1</td>\n",
       "      <td>1</td>\n",
       "      <td>1</td>\n",
       "      <td>1</td>\n",
       "      <td>1</td>\n",
       "    </tr>\n",
       "    <tr>\n",
       "      <th>Apple iPhone 6s 32GB Space Gray</th>\n",
       "      <td>7</td>\n",
       "      <td>7</td>\n",
       "      <td>7</td>\n",
       "      <td>7</td>\n",
       "      <td>7</td>\n",
       "      <td>7</td>\n",
       "      <td>7</td>\n",
       "      <td>7</td>\n",
       "      <td>7</td>\n",
       "      <td>7</td>\n",
       "    </tr>\n",
       "    <tr>\n",
       "      <th>5404</th>\n",
       "      <th>GoPro HERO 6 Black</th>\n",
       "      <td>1</td>\n",
       "      <td>1</td>\n",
       "      <td>1</td>\n",
       "      <td>1</td>\n",
       "      <td>1</td>\n",
       "      <td>1</td>\n",
       "      <td>1</td>\n",
       "      <td>1</td>\n",
       "      <td>1</td>\n",
       "      <td>1</td>\n",
       "    </tr>\n",
       "    <tr>\n",
       "      <th rowspan=\"9\" valign=\"top\">85641716</th>\n",
       "      <th>Apple iPhone 32GB Gold 7</th>\n",
       "      <td>4</td>\n",
       "      <td>4</td>\n",
       "      <td>4</td>\n",
       "      <td>4</td>\n",
       "      <td>4</td>\n",
       "      <td>4</td>\n",
       "      <td>4</td>\n",
       "      <td>4</td>\n",
       "      <td>4</td>\n",
       "      <td>4</td>\n",
       "    </tr>\n",
       "    <tr>\n",
       "      <th>Apple iPhone 32GB Rose Gold 7</th>\n",
       "      <td>4</td>\n",
       "      <td>4</td>\n",
       "      <td>4</td>\n",
       "      <td>4</td>\n",
       "      <td>4</td>\n",
       "      <td>4</td>\n",
       "      <td>4</td>\n",
       "      <td>4</td>\n",
       "      <td>4</td>\n",
       "      <td>4</td>\n",
       "    </tr>\n",
       "    <tr>\n",
       "      <th>Apple iPhone 7 128GB Black</th>\n",
       "      <td>5</td>\n",
       "      <td>5</td>\n",
       "      <td>5</td>\n",
       "      <td>5</td>\n",
       "      <td>5</td>\n",
       "      <td>5</td>\n",
       "      <td>5</td>\n",
       "      <td>5</td>\n",
       "      <td>5</td>\n",
       "      <td>5</td>\n",
       "    </tr>\n",
       "    <tr>\n",
       "      <th>Apple iPhone 7 128GB Black Bright</th>\n",
       "      <td>7</td>\n",
       "      <td>7</td>\n",
       "      <td>7</td>\n",
       "      <td>7</td>\n",
       "      <td>7</td>\n",
       "      <td>7</td>\n",
       "      <td>7</td>\n",
       "      <td>7</td>\n",
       "      <td>7</td>\n",
       "      <td>7</td>\n",
       "    </tr>\n",
       "    <tr>\n",
       "      <th>Apple iPhone 7 128GB Gold</th>\n",
       "      <td>3</td>\n",
       "      <td>3</td>\n",
       "      <td>3</td>\n",
       "      <td>3</td>\n",
       "      <td>3</td>\n",
       "      <td>3</td>\n",
       "      <td>3</td>\n",
       "      <td>3</td>\n",
       "      <td>3</td>\n",
       "      <td>3</td>\n",
       "    </tr>\n",
       "    <tr>\n",
       "      <th>Apple iPhone 7 128GB Gold Rosa</th>\n",
       "      <td>3</td>\n",
       "      <td>3</td>\n",
       "      <td>3</td>\n",
       "      <td>3</td>\n",
       "      <td>3</td>\n",
       "      <td>3</td>\n",
       "      <td>3</td>\n",
       "      <td>3</td>\n",
       "      <td>3</td>\n",
       "      <td>3</td>\n",
       "    </tr>\n",
       "    <tr>\n",
       "      <th>Apple iPhone 7 128GB Silver</th>\n",
       "      <td>5</td>\n",
       "      <td>5</td>\n",
       "      <td>5</td>\n",
       "      <td>5</td>\n",
       "      <td>5</td>\n",
       "      <td>5</td>\n",
       "      <td>5</td>\n",
       "      <td>5</td>\n",
       "      <td>5</td>\n",
       "      <td>5</td>\n",
       "    </tr>\n",
       "    <tr>\n",
       "      <th>Apple iPhone 7 32GB Black</th>\n",
       "      <td>8</td>\n",
       "      <td>8</td>\n",
       "      <td>8</td>\n",
       "      <td>8</td>\n",
       "      <td>8</td>\n",
       "      <td>8</td>\n",
       "      <td>8</td>\n",
       "      <td>8</td>\n",
       "      <td>8</td>\n",
       "      <td>8</td>\n",
       "    </tr>\n",
       "    <tr>\n",
       "      <th>Apple iPhone 7 32GB Silver</th>\n",
       "      <td>10</td>\n",
       "      <td>10</td>\n",
       "      <td>10</td>\n",
       "      <td>10</td>\n",
       "      <td>10</td>\n",
       "      <td>10</td>\n",
       "      <td>10</td>\n",
       "      <td>10</td>\n",
       "      <td>10</td>\n",
       "      <td>10</td>\n",
       "    </tr>\n",
       "    <tr>\n",
       "      <th rowspan=\"7\" valign=\"top\">85651716</th>\n",
       "      <th>Apple iPhone 7 Plus 128GB Black Bright</th>\n",
       "      <td>1</td>\n",
       "      <td>1</td>\n",
       "      <td>1</td>\n",
       "      <td>1</td>\n",
       "      <td>1</td>\n",
       "      <td>1</td>\n",
       "      <td>1</td>\n",
       "      <td>1</td>\n",
       "      <td>1</td>\n",
       "      <td>1</td>\n",
       "    </tr>\n",
       "    <tr>\n",
       "      <th>Apple iPhone 7 Plus 128GB Gold</th>\n",
       "      <td>1</td>\n",
       "      <td>1</td>\n",
       "      <td>1</td>\n",
       "      <td>1</td>\n",
       "      <td>1</td>\n",
       "      <td>1</td>\n",
       "      <td>1</td>\n",
       "      <td>1</td>\n",
       "      <td>1</td>\n",
       "      <td>1</td>\n",
       "    </tr>\n",
       "    <tr>\n",
       "      <th>Apple iPhone 7 Plus 128GB Rose Gold</th>\n",
       "      <td>2</td>\n",
       "      <td>2</td>\n",
       "      <td>2</td>\n",
       "      <td>2</td>\n",
       "      <td>2</td>\n",
       "      <td>2</td>\n",
       "      <td>2</td>\n",
       "      <td>2</td>\n",
       "      <td>2</td>\n",
       "      <td>2</td>\n",
       "    </tr>\n",
       "    <tr>\n",
       "      <th>Apple iPhone 7 Plus 32GB Black</th>\n",
       "      <td>3</td>\n",
       "      <td>3</td>\n",
       "      <td>3</td>\n",
       "      <td>3</td>\n",
       "      <td>3</td>\n",
       "      <td>3</td>\n",
       "      <td>3</td>\n",
       "      <td>3</td>\n",
       "      <td>3</td>\n",
       "      <td>3</td>\n",
       "    </tr>\n",
       "    <tr>\n",
       "      <th>Apple iPhone 7 Plus 32GB Gold</th>\n",
       "      <td>3</td>\n",
       "      <td>3</td>\n",
       "      <td>3</td>\n",
       "      <td>3</td>\n",
       "      <td>3</td>\n",
       "      <td>3</td>\n",
       "      <td>3</td>\n",
       "      <td>3</td>\n",
       "      <td>3</td>\n",
       "      <td>3</td>\n",
       "    </tr>\n",
       "    <tr>\n",
       "      <th>Apple iPhone 7 Plus 32GB Rose Gold</th>\n",
       "      <td>4</td>\n",
       "      <td>4</td>\n",
       "      <td>4</td>\n",
       "      <td>4</td>\n",
       "      <td>4</td>\n",
       "      <td>4</td>\n",
       "      <td>4</td>\n",
       "      <td>4</td>\n",
       "      <td>4</td>\n",
       "      <td>4</td>\n",
       "    </tr>\n",
       "    <tr>\n",
       "      <th>Apple iPhone 7 Plus 32GB Silver</th>\n",
       "      <td>4</td>\n",
       "      <td>4</td>\n",
       "      <td>4</td>\n",
       "      <td>4</td>\n",
       "      <td>4</td>\n",
       "      <td>4</td>\n",
       "      <td>4</td>\n",
       "      <td>4</td>\n",
       "      <td>4</td>\n",
       "      <td>4</td>\n",
       "    </tr>\n",
       "  </tbody>\n",
       "</table>\n",
       "</div>"
      ],
      "text/plain": [
       "                                                             order_id  \\\n",
       "type     name                                                           \n",
       "11935397 12TB LaCie 2big Thunderbolt 2                              2   \n",
       "         G-Technology G-DRIVE 10TB Hard Drive 7200rpm US...         1   \n",
       "1296     PD2710QC BenQ Monitor 27 \"QHD Design Profession...         3   \n",
       "1364     Mac memory Kingston 32GB (4x8GB) SO-DIMM DDR3 1...         2   \n",
       "24811716 Apple iPhone 6s Plus 32GB Rose Gold                        1   \n",
       "         Apple iPhone 6s Plus 32GB Silver                           1   \n",
       "         Apple iPhone 6s Plus 32GB Space Gray                       5   \n",
       "24821716 32GB Apple iPhone 6s Rose Gold                             2   \n",
       "         Apple iPhone 6s 128GB Rose Gold                            2   \n",
       "         Apple iPhone 6s 128GB Space Gray                           3   \n",
       "         Apple iPhone 6s 32GB Gold                                  4   \n",
       "         Apple iPhone 6s 32GB Silver                                1   \n",
       "         Apple iPhone 6s 32GB Space Gray                            7   \n",
       "5404     GoPro HERO 6 Black                                         1   \n",
       "85641716 Apple iPhone 32GB Gold 7                                   4   \n",
       "         Apple iPhone 32GB Rose Gold 7                              4   \n",
       "         Apple iPhone 7 128GB Black                                 5   \n",
       "         Apple iPhone 7 128GB Black Bright                          7   \n",
       "         Apple iPhone 7 128GB Gold                                  3   \n",
       "         Apple iPhone 7 128GB Gold Rosa                             3   \n",
       "         Apple iPhone 7 128GB Silver                                5   \n",
       "         Apple iPhone 7 32GB Black                                  8   \n",
       "         Apple iPhone 7 32GB Silver                                10   \n",
       "85651716 Apple iPhone 7 Plus 128GB Black Bright                     1   \n",
       "         Apple iPhone 7 Plus 128GB Gold                             1   \n",
       "         Apple iPhone 7 Plus 128GB Rose Gold                        2   \n",
       "         Apple iPhone 7 Plus 32GB Black                             3   \n",
       "         Apple iPhone 7 Plus 32GB Gold                              3   \n",
       "         Apple iPhone 7 Plus 32GB Rose Gold                         4   \n",
       "         Apple iPhone 7 Plus 32GB Silver                            4   \n",
       "\n",
       "                                                             product_quantity  \\\n",
       "type     name                                                                   \n",
       "11935397 12TB LaCie 2big Thunderbolt 2                                      2   \n",
       "         G-Technology G-DRIVE 10TB Hard Drive 7200rpm US...                 1   \n",
       "1296     PD2710QC BenQ Monitor 27 \"QHD Design Profession...                 3   \n",
       "1364     Mac memory Kingston 32GB (4x8GB) SO-DIMM DDR3 1...                 2   \n",
       "24811716 Apple iPhone 6s Plus 32GB Rose Gold                                1   \n",
       "         Apple iPhone 6s Plus 32GB Silver                                   1   \n",
       "         Apple iPhone 6s Plus 32GB Space Gray                               5   \n",
       "24821716 32GB Apple iPhone 6s Rose Gold                                     2   \n",
       "         Apple iPhone 6s 128GB Rose Gold                                    2   \n",
       "         Apple iPhone 6s 128GB Space Gray                                   3   \n",
       "         Apple iPhone 6s 32GB Gold                                          4   \n",
       "         Apple iPhone 6s 32GB Silver                                        1   \n",
       "         Apple iPhone 6s 32GB Space Gray                                    7   \n",
       "5404     GoPro HERO 6 Black                                                 1   \n",
       "85641716 Apple iPhone 32GB Gold 7                                           4   \n",
       "         Apple iPhone 32GB Rose Gold 7                                      4   \n",
       "         Apple iPhone 7 128GB Black                                         5   \n",
       "         Apple iPhone 7 128GB Black Bright                                  7   \n",
       "         Apple iPhone 7 128GB Gold                                          3   \n",
       "         Apple iPhone 7 128GB Gold Rosa                                     3   \n",
       "         Apple iPhone 7 128GB Silver                                        5   \n",
       "         Apple iPhone 7 32GB Black                                          8   \n",
       "         Apple iPhone 7 32GB Silver                                        10   \n",
       "85651716 Apple iPhone 7 Plus 128GB Black Bright                             1   \n",
       "         Apple iPhone 7 Plus 128GB Gold                                     1   \n",
       "         Apple iPhone 7 Plus 128GB Rose Gold                                2   \n",
       "         Apple iPhone 7 Plus 32GB Black                                     3   \n",
       "         Apple iPhone 7 Plus 32GB Gold                                      3   \n",
       "         Apple iPhone 7 Plus 32GB Rose Gold                                 4   \n",
       "         Apple iPhone 7 Plus 32GB Silver                                    4   \n",
       "\n",
       "                                                             sku  unit_price  \\\n",
       "type     name                                                                  \n",
       "11935397 12TB LaCie 2big Thunderbolt 2                         2           2   \n",
       "         G-Technology G-DRIVE 10TB Hard Drive 7200rpm US...    1           1   \n",
       "1296     PD2710QC BenQ Monitor 27 \"QHD Design Profession...    3           3   \n",
       "1364     Mac memory Kingston 32GB (4x8GB) SO-DIMM DDR3 1...    2           2   \n",
       "24811716 Apple iPhone 6s Plus 32GB Rose Gold                   1           1   \n",
       "         Apple iPhone 6s Plus 32GB Silver                      1           1   \n",
       "         Apple iPhone 6s Plus 32GB Space Gray                  5           5   \n",
       "24821716 32GB Apple iPhone 6s Rose Gold                        2           2   \n",
       "         Apple iPhone 6s 128GB Rose Gold                       2           2   \n",
       "         Apple iPhone 6s 128GB Space Gray                      3           3   \n",
       "         Apple iPhone 6s 32GB Gold                             4           4   \n",
       "         Apple iPhone 6s 32GB Silver                           1           1   \n",
       "         Apple iPhone 6s 32GB Space Gray                       7           7   \n",
       "5404     GoPro HERO 6 Black                                    1           1   \n",
       "85641716 Apple iPhone 32GB Gold 7                              4           4   \n",
       "         Apple iPhone 32GB Rose Gold 7                         4           4   \n",
       "         Apple iPhone 7 128GB Black                            5           5   \n",
       "         Apple iPhone 7 128GB Black Bright                     7           7   \n",
       "         Apple iPhone 7 128GB Gold                             3           3   \n",
       "         Apple iPhone 7 128GB Gold Rosa                        3           3   \n",
       "         Apple iPhone 7 128GB Silver                           5           5   \n",
       "         Apple iPhone 7 32GB Black                             8           8   \n",
       "         Apple iPhone 7 32GB Silver                           10          10   \n",
       "85651716 Apple iPhone 7 Plus 128GB Black Bright                1           1   \n",
       "         Apple iPhone 7 Plus 128GB Gold                        1           1   \n",
       "         Apple iPhone 7 Plus 128GB Rose Gold                   2           2   \n",
       "         Apple iPhone 7 Plus 32GB Black                        3           3   \n",
       "         Apple iPhone 7 Plus 32GB Gold                         3           3   \n",
       "         Apple iPhone 7 Plus 32GB Rose Gold                    4           4   \n",
       "         Apple iPhone 7 Plus 32GB Silver                       4           4   \n",
       "\n",
       "                                                             date  \\\n",
       "type     name                                                       \n",
       "11935397 12TB LaCie 2big Thunderbolt 2                          2   \n",
       "         G-Technology G-DRIVE 10TB Hard Drive 7200rpm US...     1   \n",
       "1296     PD2710QC BenQ Monitor 27 \"QHD Design Profession...     3   \n",
       "1364     Mac memory Kingston 32GB (4x8GB) SO-DIMM DDR3 1...     2   \n",
       "24811716 Apple iPhone 6s Plus 32GB Rose Gold                    1   \n",
       "         Apple iPhone 6s Plus 32GB Silver                       1   \n",
       "         Apple iPhone 6s Plus 32GB Space Gray                   5   \n",
       "24821716 32GB Apple iPhone 6s Rose Gold                         2   \n",
       "         Apple iPhone 6s 128GB Rose Gold                        2   \n",
       "         Apple iPhone 6s 128GB Space Gray                       3   \n",
       "         Apple iPhone 6s 32GB Gold                              4   \n",
       "         Apple iPhone 6s 32GB Silver                            1   \n",
       "         Apple iPhone 6s 32GB Space Gray                        7   \n",
       "5404     GoPro HERO 6 Black                                     1   \n",
       "85641716 Apple iPhone 32GB Gold 7                               4   \n",
       "         Apple iPhone 32GB Rose Gold 7                          4   \n",
       "         Apple iPhone 7 128GB Black                             5   \n",
       "         Apple iPhone 7 128GB Black Bright                      7   \n",
       "         Apple iPhone 7 128GB Gold                              3   \n",
       "         Apple iPhone 7 128GB Gold Rosa                         3   \n",
       "         Apple iPhone 7 128GB Silver                            5   \n",
       "         Apple iPhone 7 32GB Black                              8   \n",
       "         Apple iPhone 7 32GB Silver                            10   \n",
       "85651716 Apple iPhone 7 Plus 128GB Black Bright                 1   \n",
       "         Apple iPhone 7 Plus 128GB Gold                         1   \n",
       "         Apple iPhone 7 Plus 128GB Rose Gold                    2   \n",
       "         Apple iPhone 7 Plus 32GB Black                         3   \n",
       "         Apple iPhone 7 Plus 32GB Gold                          3   \n",
       "         Apple iPhone 7 Plus 32GB Rose Gold                     4   \n",
       "         Apple iPhone 7 Plus 32GB Silver                        4   \n",
       "\n",
       "                                                             unit_price_total  \\\n",
       "type     name                                                                   \n",
       "11935397 12TB LaCie 2big Thunderbolt 2                                      2   \n",
       "         G-Technology G-DRIVE 10TB Hard Drive 7200rpm US...                 1   \n",
       "1296     PD2710QC BenQ Monitor 27 \"QHD Design Profession...                 3   \n",
       "1364     Mac memory Kingston 32GB (4x8GB) SO-DIMM DDR3 1...                 2   \n",
       "24811716 Apple iPhone 6s Plus 32GB Rose Gold                                1   \n",
       "         Apple iPhone 6s Plus 32GB Silver                                   1   \n",
       "         Apple iPhone 6s Plus 32GB Space Gray                               5   \n",
       "24821716 32GB Apple iPhone 6s Rose Gold                                     2   \n",
       "         Apple iPhone 6s 128GB Rose Gold                                    2   \n",
       "         Apple iPhone 6s 128GB Space Gray                                   3   \n",
       "         Apple iPhone 6s 32GB Gold                                          4   \n",
       "         Apple iPhone 6s 32GB Silver                                        1   \n",
       "         Apple iPhone 6s 32GB Space Gray                                    7   \n",
       "5404     GoPro HERO 6 Black                                                 1   \n",
       "85641716 Apple iPhone 32GB Gold 7                                           4   \n",
       "         Apple iPhone 32GB Rose Gold 7                                      4   \n",
       "         Apple iPhone 7 128GB Black                                         5   \n",
       "         Apple iPhone 7 128GB Black Bright                                  7   \n",
       "         Apple iPhone 7 128GB Gold                                          3   \n",
       "         Apple iPhone 7 128GB Gold Rosa                                     3   \n",
       "         Apple iPhone 7 128GB Silver                                        5   \n",
       "         Apple iPhone 7 32GB Black                                          8   \n",
       "         Apple iPhone 7 32GB Silver                                        10   \n",
       "85651716 Apple iPhone 7 Plus 128GB Black Bright                             1   \n",
       "         Apple iPhone 7 Plus 128GB Gold                                     1   \n",
       "         Apple iPhone 7 Plus 128GB Rose Gold                                2   \n",
       "         Apple iPhone 7 Plus 32GB Black                                     3   \n",
       "         Apple iPhone 7 Plus 32GB Gold                                      3   \n",
       "         Apple iPhone 7 Plus 32GB Rose Gold                                 4   \n",
       "         Apple iPhone 7 Plus 32GB Silver                                    4   \n",
       "\n",
       "                                                             price  in_stock  \\\n",
       "type     name                                                                  \n",
       "11935397 12TB LaCie 2big Thunderbolt 2                           2         2   \n",
       "         G-Technology G-DRIVE 10TB Hard Drive 7200rpm US...      1         1   \n",
       "1296     PD2710QC BenQ Monitor 27 \"QHD Design Profession...      3         3   \n",
       "1364     Mac memory Kingston 32GB (4x8GB) SO-DIMM DDR3 1...      2         2   \n",
       "24811716 Apple iPhone 6s Plus 32GB Rose Gold                     1         1   \n",
       "         Apple iPhone 6s Plus 32GB Silver                        1         1   \n",
       "         Apple iPhone 6s Plus 32GB Space Gray                    5         5   \n",
       "24821716 32GB Apple iPhone 6s Rose Gold                          2         2   \n",
       "         Apple iPhone 6s 128GB Rose Gold                         2         2   \n",
       "         Apple iPhone 6s 128GB Space Gray                        3         3   \n",
       "         Apple iPhone 6s 32GB Gold                               4         4   \n",
       "         Apple iPhone 6s 32GB Silver                             1         1   \n",
       "         Apple iPhone 6s 32GB Space Gray                         7         7   \n",
       "5404     GoPro HERO 6 Black                                      1         1   \n",
       "85641716 Apple iPhone 32GB Gold 7                                4         4   \n",
       "         Apple iPhone 32GB Rose Gold 7                           4         4   \n",
       "         Apple iPhone 7 128GB Black                              5         5   \n",
       "         Apple iPhone 7 128GB Black Bright                       7         7   \n",
       "         Apple iPhone 7 128GB Gold                               3         3   \n",
       "         Apple iPhone 7 128GB Gold Rosa                          3         3   \n",
       "         Apple iPhone 7 128GB Silver                             5         5   \n",
       "         Apple iPhone 7 32GB Black                               8         8   \n",
       "         Apple iPhone 7 32GB Silver                             10        10   \n",
       "85651716 Apple iPhone 7 Plus 128GB Black Bright                  1         1   \n",
       "         Apple iPhone 7 Plus 128GB Gold                          1         1   \n",
       "         Apple iPhone 7 Plus 128GB Rose Gold                     2         2   \n",
       "         Apple iPhone 7 Plus 32GB Black                          3         3   \n",
       "         Apple iPhone 7 Plus 32GB Gold                           3         3   \n",
       "         Apple iPhone 7 Plus 32GB Rose Gold                      4         4   \n",
       "         Apple iPhone 7 Plus 32GB Silver                         4         4   \n",
       "\n",
       "                                                             brand  discount  \n",
       "type     name                                                                 \n",
       "11935397 12TB LaCie 2big Thunderbolt 2                           2         2  \n",
       "         G-Technology G-DRIVE 10TB Hard Drive 7200rpm US...      1         1  \n",
       "1296     PD2710QC BenQ Monitor 27 \"QHD Design Profession...      3         3  \n",
       "1364     Mac memory Kingston 32GB (4x8GB) SO-DIMM DDR3 1...      2         2  \n",
       "24811716 Apple iPhone 6s Plus 32GB Rose Gold                     1         1  \n",
       "         Apple iPhone 6s Plus 32GB Silver                        1         1  \n",
       "         Apple iPhone 6s Plus 32GB Space Gray                    5         5  \n",
       "24821716 32GB Apple iPhone 6s Rose Gold                          2         2  \n",
       "         Apple iPhone 6s 128GB Rose Gold                         2         2  \n",
       "         Apple iPhone 6s 128GB Space Gray                        3         3  \n",
       "         Apple iPhone 6s 32GB Gold                               4         4  \n",
       "         Apple iPhone 6s 32GB Silver                             1         1  \n",
       "         Apple iPhone 6s 32GB Space Gray                         7         7  \n",
       "5404     GoPro HERO 6 Black                                      1         1  \n",
       "85641716 Apple iPhone 32GB Gold 7                                4         4  \n",
       "         Apple iPhone 32GB Rose Gold 7                           4         4  \n",
       "         Apple iPhone 7 128GB Black                              5         5  \n",
       "         Apple iPhone 7 128GB Black Bright                       7         7  \n",
       "         Apple iPhone 7 128GB Gold                               3         3  \n",
       "         Apple iPhone 7 128GB Gold Rosa                          3         3  \n",
       "         Apple iPhone 7 128GB Silver                             5         5  \n",
       "         Apple iPhone 7 32GB Black                               8         8  \n",
       "         Apple iPhone 7 32GB Silver                             10        10  \n",
       "85651716 Apple iPhone 7 Plus 128GB Black Bright                  1         1  \n",
       "         Apple iPhone 7 Plus 128GB Gold                          1         1  \n",
       "         Apple iPhone 7 Plus 128GB Rose Gold                     2         2  \n",
       "         Apple iPhone 7 Plus 32GB Black                          3         3  \n",
       "         Apple iPhone 7 Plus 32GB Gold                           3         3  \n",
       "         Apple iPhone 7 Plus 32GB Rose Gold                      4         4  \n",
       "         Apple iPhone 7 Plus 32GB Silver                         4         4  "
      ]
     },
     "execution_count": 124,
     "metadata": {},
     "output_type": "execute_result"
    }
   ],
   "source": [
    "negative_discounts = ol_pro_m.loc[ol_pro_m.discount <-100, :]\n",
    "negative_discounts.groupby([\"type\", \"name\"]).count()\n",
    "\n",
    "#negative_discounts.type.unique()\n",
    "\n",
    "\n",
    "#<0 --> 1571 rows\n",
    "#<-10 --> 421 rows\n",
    "#<-50 --> 183 rows\n",
    "#<-100 --> 106 rows"
   ]
  },
  {
   "cell_type": "markdown",
   "id": "c44054fa-4a6f-4076-8759-aaa43323ea88",
   "metadata": {},
   "source": [
    "**People have paid more than the actual price for iphones - 6s and 7. (106 orderlines) (majority in Q1-Q3 2017)**\n",
    "\n",
    "--> It makes sense, that the phones have been sold at a higher price while new iphones were launched.\n",
    "\n",
    "When have they been launched?\n",
    "* 6s and 6s plus - September 2015\n",
    "* 7 and 7 plus - April 2017 in Spain (Eniac)\n",
    "\n",
    "That's why we look at the timeframe now:\n",
    "* From January to March 2017 most people bought iPhone 7 and 7 Plus\n",
    "* From Mai to September 2017 most people bought iPhone 7, 7Plus, 6 and 6Plus "
   ]
  },
  {
   "cell_type": "code",
   "execution_count": 127,
   "id": "453f3bb2-aaab-4679-ac8b-a1c15a1946e4",
   "metadata": {},
   "outputs": [
    {
     "data": {
      "text/html": [
       "<div>\n",
       "<style scoped>\n",
       "    .dataframe tbody tr th:only-of-type {\n",
       "        vertical-align: middle;\n",
       "    }\n",
       "\n",
       "    .dataframe tbody tr th {\n",
       "        vertical-align: top;\n",
       "    }\n",
       "\n",
       "    .dataframe thead th {\n",
       "        text-align: right;\n",
       "    }\n",
       "</style>\n",
       "<table border=\"1\" class=\"dataframe\">\n",
       "  <thead>\n",
       "    <tr style=\"text-align: right;\">\n",
       "      <th></th>\n",
       "      <th>order_id</th>\n",
       "      <th>product_quantity</th>\n",
       "      <th>sku</th>\n",
       "      <th>unit_price</th>\n",
       "      <th>date</th>\n",
       "      <th>unit_price_total</th>\n",
       "      <th>name</th>\n",
       "      <th>price</th>\n",
       "      <th>in_stock</th>\n",
       "      <th>type</th>\n",
       "      <th>brand</th>\n",
       "      <th>discount</th>\n",
       "    </tr>\n",
       "  </thead>\n",
       "  <tbody>\n",
       "    <tr>\n",
       "      <th>10986</th>\n",
       "      <td>351962</td>\n",
       "      <td>1</td>\n",
       "      <td>APP1642</td>\n",
       "      <td>909.00</td>\n",
       "      <td>2017-05-04 12:58:49</td>\n",
       "      <td>909.00</td>\n",
       "      <td>Apple iPhone 7 Plus 32GB Gold</td>\n",
       "      <td>779.00</td>\n",
       "      <td>0</td>\n",
       "      <td>85651716</td>\n",
       "      <td>Apple</td>\n",
       "      <td>-130.00</td>\n",
       "    </tr>\n",
       "    <tr>\n",
       "      <th>11231</th>\n",
       "      <td>353622</td>\n",
       "      <td>1</td>\n",
       "      <td>APP1645</td>\n",
       "      <td>769.00</td>\n",
       "      <td>2017-05-07 23:58:57</td>\n",
       "      <td>769.00</td>\n",
       "      <td>Apple iPhone 7 32GB Silver</td>\n",
       "      <td>639.00</td>\n",
       "      <td>1</td>\n",
       "      <td>85641716</td>\n",
       "      <td>Apple</td>\n",
       "      <td>-130.00</td>\n",
       "    </tr>\n",
       "    <tr>\n",
       "      <th>11984</th>\n",
       "      <td>355471</td>\n",
       "      <td>1</td>\n",
       "      <td>APP1664</td>\n",
       "      <td>659.00</td>\n",
       "      <td>2017-05-17 20:11:36</td>\n",
       "      <td>659.00</td>\n",
       "      <td>Apple iPhone 6s 32GB Gold</td>\n",
       "      <td>529.00</td>\n",
       "      <td>0</td>\n",
       "      <td>24821716</td>\n",
       "      <td>Apple</td>\n",
       "      <td>-130.00</td>\n",
       "    </tr>\n",
       "    <tr>\n",
       "      <th>12201</th>\n",
       "      <td>358030</td>\n",
       "      <td>1</td>\n",
       "      <td>APP1187</td>\n",
       "      <td>879.00</td>\n",
       "      <td>2017-05-22 16:33:58</td>\n",
       "      <td>879.00</td>\n",
       "      <td>Apple iPhone 6s Plus 128GB Space Gray</td>\n",
       "      <td>749.00</td>\n",
       "      <td>0</td>\n",
       "      <td>NaN</td>\n",
       "      <td>Apple</td>\n",
       "      <td>-130.00</td>\n",
       "    </tr>\n",
       "    <tr>\n",
       "      <th>12599</th>\n",
       "      <td>360093</td>\n",
       "      <td>2</td>\n",
       "      <td>KIN0125-4</td>\n",
       "      <td>349.99</td>\n",
       "      <td>2017-05-29 10:54:19</td>\n",
       "      <td>699.98</td>\n",
       "      <td>Mac memory Kingston 32GB (4x8GB) SO-DIMM DDR3 ...</td>\n",
       "      <td>239.97</td>\n",
       "      <td>0</td>\n",
       "      <td>1364</td>\n",
       "      <td>Kingston</td>\n",
       "      <td>-110.02</td>\n",
       "    </tr>\n",
       "  </tbody>\n",
       "</table>\n",
       "</div>"
      ],
      "text/plain": [
       "       order_id  product_quantity        sku  unit_price                date  \\\n",
       "10986    351962                 1    APP1642      909.00 2017-05-04 12:58:49   \n",
       "11231    353622                 1    APP1645      769.00 2017-05-07 23:58:57   \n",
       "11984    355471                 1    APP1664      659.00 2017-05-17 20:11:36   \n",
       "12201    358030                 1    APP1187      879.00 2017-05-22 16:33:58   \n",
       "12599    360093                 2  KIN0125-4      349.99 2017-05-29 10:54:19   \n",
       "\n",
       "       unit_price_total                                               name  \\\n",
       "10986            909.00                      Apple iPhone 7 Plus 32GB Gold   \n",
       "11231            769.00                         Apple iPhone 7 32GB Silver   \n",
       "11984            659.00                          Apple iPhone 6s 32GB Gold   \n",
       "12201            879.00              Apple iPhone 6s Plus 128GB Space Gray   \n",
       "12599            699.98  Mac memory Kingston 32GB (4x8GB) SO-DIMM DDR3 ...   \n",
       "\n",
       "        price  in_stock      type     brand  discount  \n",
       "10986  779.00         0  85651716     Apple   -130.00  \n",
       "11231  639.00         1  85641716     Apple   -130.00  \n",
       "11984  529.00         0  24821716     Apple   -130.00  \n",
       "12201  749.00         0       NaN     Apple   -130.00  \n",
       "12599  239.97         0      1364  Kingston   -110.02  "
      ]
     },
     "execution_count": 127,
     "metadata": {},
     "output_type": "execute_result"
    },
    {
     "data": {
      "image/png": "[encoded data removed]",
      "text/plain": [
       "<Figure size 864x576 with 1 Axes>"
      ]
     },
     "metadata": {
      "needs_background": "light"
     },
     "output_type": "display_data"
    }
   ],
   "source": [
    "negative_discounts.resample(\"W\", on=\"date\")[\"discount\"].count().plot(figsize=(12,8), kind=\"line\"); \n",
    "\n",
    "negative_discounts.loc[negative_discounts.date.between(\"2017-05-01\", \"2017-09-01\")].head()"
   ]
  },
  {
   "cell_type": "code",
   "execution_count": null,
   "id": "953cf0de-861a-468b-a2f0-ff9ba0c59780",
   "metadata": {},
   "outputs": [],
   "source": []
  },
  {
   "cell_type": "markdown",
   "id": "717d0b32-299b-41f5-b6b0-1fd7a4d3dbd7",
   "metadata": {},
   "source": [
    "### 3.2. Big Discounts >=700 EUR"
   ]
  },
  {
   "cell_type": "code",
   "execution_count": 137,
   "id": "3f99ec16-6f4a-4c86-b322-12a69e078284",
   "metadata": {},
   "outputs": [
    {
     "data": {
      "text/html": [
       "<div>\n",
       "<style scoped>\n",
       "    .dataframe tbody tr th:only-of-type {\n",
       "        vertical-align: middle;\n",
       "    }\n",
       "\n",
       "    .dataframe tbody tr th {\n",
       "        vertical-align: top;\n",
       "    }\n",
       "\n",
       "    .dataframe thead th {\n",
       "        text-align: right;\n",
       "    }\n",
       "</style>\n",
       "<table border=\"1\" class=\"dataframe\">\n",
       "  <thead>\n",
       "    <tr style=\"text-align: right;\">\n",
       "      <th></th>\n",
       "      <th></th>\n",
       "      <th>order_id</th>\n",
       "      <th>product_quantity</th>\n",
       "      <th>sku</th>\n",
       "      <th>unit_price</th>\n",
       "      <th>date</th>\n",
       "      <th>unit_price_total</th>\n",
       "      <th>price</th>\n",
       "      <th>in_stock</th>\n",
       "      <th>brand</th>\n",
       "      <th>discount</th>\n",
       "    </tr>\n",
       "    <tr>\n",
       "      <th>type</th>\n",
       "      <th>name</th>\n",
       "      <th></th>\n",
       "      <th></th>\n",
       "      <th></th>\n",
       "      <th></th>\n",
       "      <th></th>\n",
       "      <th></th>\n",
       "      <th></th>\n",
       "      <th></th>\n",
       "      <th></th>\n",
       "      <th></th>\n",
       "    </tr>\n",
       "  </thead>\n",
       "  <tbody>\n",
       "    <tr>\n",
       "      <th rowspan=\"3\" valign=\"top\">1282</th>\n",
       "      <th>Second hand - Apple iMac 20 \"Core 2 Duo 24GHz | 3GB RAM | 250GB HDD | Early 2008</th>\n",
       "      <td>1</td>\n",
       "      <td>1</td>\n",
       "      <td>1</td>\n",
       "      <td>1</td>\n",
       "      <td>1</td>\n",
       "      <td>1</td>\n",
       "      <td>1</td>\n",
       "      <td>1</td>\n",
       "      <td>1</td>\n",
       "      <td>1</td>\n",
       "    </tr>\n",
       "    <tr>\n",
       "      <th>Second hand - Apple iMac 24 \"Core 2 Duo 28 GHz | 4GB RAM | 500GB HDD</th>\n",
       "      <td>3</td>\n",
       "      <td>3</td>\n",
       "      <td>3</td>\n",
       "      <td>3</td>\n",
       "      <td>3</td>\n",
       "      <td>3</td>\n",
       "      <td>3</td>\n",
       "      <td>3</td>\n",
       "      <td>3</td>\n",
       "      <td>3</td>\n",
       "    </tr>\n",
       "    <tr>\n",
       "      <th>Second hand - Apple iMac 27 \"Core i5 Quad-Core 27GHz | 4GB RAM | 1TB HDD | Mid 2011 (MC813LL / A)</th>\n",
       "      <td>1</td>\n",
       "      <td>1</td>\n",
       "      <td>1</td>\n",
       "      <td>1</td>\n",
       "      <td>1</td>\n",
       "      <td>1</td>\n",
       "      <td>1</td>\n",
       "      <td>1</td>\n",
       "      <td>1</td>\n",
       "      <td>1</td>\n",
       "    </tr>\n",
       "    <tr>\n",
       "      <th rowspan=\"2\" valign=\"top\">24895185</th>\n",
       "      <th>Apple Watch the 1st Gen. 42mm Case Stainless steel strap Silver</th>\n",
       "      <td>3</td>\n",
       "      <td>3</td>\n",
       "      <td>3</td>\n",
       "      <td>3</td>\n",
       "      <td>3</td>\n",
       "      <td>3</td>\n",
       "      <td>3</td>\n",
       "      <td>3</td>\n",
       "      <td>3</td>\n",
       "      <td>3</td>\n",
       "    </tr>\n",
       "    <tr>\n",
       "      <th>The 1st Gen. 42mm Apple Watch Stainless Steel Case Black Strap Stainless Steel Black Space</th>\n",
       "      <td>3</td>\n",
       "      <td>3</td>\n",
       "      <td>3</td>\n",
       "      <td>3</td>\n",
       "      <td>3</td>\n",
       "      <td>3</td>\n",
       "      <td>3</td>\n",
       "      <td>3</td>\n",
       "      <td>3</td>\n",
       "      <td>3</td>\n",
       "    </tr>\n",
       "    <tr>\n",
       "      <th rowspan=\"4\" valign=\"top\">5,43E+15</th>\n",
       "      <th>Second hand - Apple iMac 20 \"Core 2 Duo 226GHz | 2GB RAM | 160GB HDD</th>\n",
       "      <td>15</td>\n",
       "      <td>15</td>\n",
       "      <td>15</td>\n",
       "      <td>15</td>\n",
       "      <td>15</td>\n",
       "      <td>15</td>\n",
       "      <td>15</td>\n",
       "      <td>15</td>\n",
       "      <td>15</td>\n",
       "      <td>15</td>\n",
       "    </tr>\n",
       "    <tr>\n",
       "      <th>Second hand - Apple iMac 20 \"Core 2 Duo 24GHz | 2GB RAM | 250GB HDD</th>\n",
       "      <td>3</td>\n",
       "      <td>3</td>\n",
       "      <td>3</td>\n",
       "      <td>3</td>\n",
       "      <td>3</td>\n",
       "      <td>3</td>\n",
       "      <td>3</td>\n",
       "      <td>3</td>\n",
       "      <td>3</td>\n",
       "      <td>3</td>\n",
       "    </tr>\n",
       "    <tr>\n",
       "      <th>Second hand - Apple iMac 20 \"Core 2 Duo 24GHz | 4GB RAM | 250GB HDD</th>\n",
       "      <td>1</td>\n",
       "      <td>1</td>\n",
       "      <td>1</td>\n",
       "      <td>1</td>\n",
       "      <td>1</td>\n",
       "      <td>1</td>\n",
       "      <td>1</td>\n",
       "      <td>1</td>\n",
       "      <td>1</td>\n",
       "      <td>1</td>\n",
       "    </tr>\n",
       "    <tr>\n",
       "      <th>Second hand - Apple iMac 20 \"Core 2 Duo 266GHz | 4GB RAM | 500GB HDD</th>\n",
       "      <td>2</td>\n",
       "      <td>2</td>\n",
       "      <td>2</td>\n",
       "      <td>2</td>\n",
       "      <td>2</td>\n",
       "      <td>2</td>\n",
       "      <td>2</td>\n",
       "      <td>2</td>\n",
       "      <td>2</td>\n",
       "      <td>2</td>\n",
       "    </tr>\n",
       "    <tr>\n",
       "      <th rowspan=\"4\" valign=\"top\">51882158</th>\n",
       "      <th>Second hand - Apple iMac 20 \"Core 2 Duo 226GHz | 4GB RAM | 500GB HDD</th>\n",
       "      <td>2</td>\n",
       "      <td>2</td>\n",
       "      <td>2</td>\n",
       "      <td>2</td>\n",
       "      <td>2</td>\n",
       "      <td>2</td>\n",
       "      <td>2</td>\n",
       "      <td>2</td>\n",
       "      <td>2</td>\n",
       "      <td>2</td>\n",
       "    </tr>\n",
       "    <tr>\n",
       "      <th>Second hand - Apple iMac 20 \"Core 2 Duo 266GHz | 4GB RAM | 250GB HDD</th>\n",
       "      <td>1</td>\n",
       "      <td>1</td>\n",
       "      <td>1</td>\n",
       "      <td>1</td>\n",
       "      <td>1</td>\n",
       "      <td>1</td>\n",
       "      <td>1</td>\n",
       "      <td>1</td>\n",
       "      <td>1</td>\n",
       "      <td>1</td>\n",
       "    </tr>\n",
       "    <tr>\n",
       "      <th>Second hand - Apple iMac 20 \"Core 2 Duo 266GHz | 4GB RAM | 250GB HDD |</th>\n",
       "      <td>3</td>\n",
       "      <td>3</td>\n",
       "      <td>3</td>\n",
       "      <td>3</td>\n",
       "      <td>3</td>\n",
       "      <td>3</td>\n",
       "      <td>3</td>\n",
       "      <td>3</td>\n",
       "      <td>3</td>\n",
       "      <td>3</td>\n",
       "    </tr>\n",
       "    <tr>\n",
       "      <th>Second hand - Apple iMac 20 \"Core 2 Duo 266GHz | 4GB RAM | 500GB HDD</th>\n",
       "      <td>2</td>\n",
       "      <td>2</td>\n",
       "      <td>2</td>\n",
       "      <td>2</td>\n",
       "      <td>2</td>\n",
       "      <td>2</td>\n",
       "      <td>2</td>\n",
       "      <td>2</td>\n",
       "      <td>2</td>\n",
       "      <td>2</td>\n",
       "    </tr>\n",
       "  </tbody>\n",
       "</table>\n",
       "</div>"
      ],
      "text/plain": [
       "                                                             order_id  \\\n",
       "type     name                                                           \n",
       "1282     Second hand - Apple iMac 20 \"Core 2 Duo 24GHz |...         1   \n",
       "         Second hand - Apple iMac 24 \"Core 2 Duo 28 GHz ...         3   \n",
       "         Second hand - Apple iMac 27 \"Core i5 Quad-Core ...         1   \n",
       "24895185 Apple Watch the 1st Gen. 42mm Case Stainless st...         3   \n",
       "         The 1st Gen. 42mm Apple Watch Stainless Steel C...         3   \n",
       "5,43E+15 Second hand - Apple iMac 20 \"Core 2 Duo 226GHz ...        15   \n",
       "         Second hand - Apple iMac 20 \"Core 2 Duo 24GHz |...         3   \n",
       "         Second hand - Apple iMac 20 \"Core 2 Duo 24GHz |...         1   \n",
       "         Second hand - Apple iMac 20 \"Core 2 Duo 266GHz ...         2   \n",
       "51882158 Second hand - Apple iMac 20 \"Core 2 Duo 226GHz ...         2   \n",
       "         Second hand - Apple iMac 20 \"Core 2 Duo 266GHz ...         1   \n",
       "         Second hand - Apple iMac 20 \"Core 2 Duo 266GHz ...         3   \n",
       "         Second hand - Apple iMac 20 \"Core 2 Duo 266GHz ...         2   \n",
       "\n",
       "                                                             product_quantity  \\\n",
       "type     name                                                                   \n",
       "1282     Second hand - Apple iMac 20 \"Core 2 Duo 24GHz |...                 1   \n",
       "         Second hand - Apple iMac 24 \"Core 2 Duo 28 GHz ...                 3   \n",
       "         Second hand - Apple iMac 27 \"Core i5 Quad-Core ...                 1   \n",
       "24895185 Apple Watch the 1st Gen. 42mm Case Stainless st...                 3   \n",
       "         The 1st Gen. 42mm Apple Watch Stainless Steel C...                 3   \n",
       "5,43E+15 Second hand - Apple iMac 20 \"Core 2 Duo 226GHz ...                15   \n",
       "         Second hand - Apple iMac 20 \"Core 2 Duo 24GHz |...                 3   \n",
       "         Second hand - Apple iMac 20 \"Core 2 Duo 24GHz |...                 1   \n",
       "         Second hand - Apple iMac 20 \"Core 2 Duo 266GHz ...                 2   \n",
       "51882158 Second hand - Apple iMac 20 \"Core 2 Duo 226GHz ...                 2   \n",
       "         Second hand - Apple iMac 20 \"Core 2 Duo 266GHz ...                 1   \n",
       "         Second hand - Apple iMac 20 \"Core 2 Duo 266GHz ...                 3   \n",
       "         Second hand - Apple iMac 20 \"Core 2 Duo 266GHz ...                 2   \n",
       "\n",
       "                                                             sku  unit_price  \\\n",
       "type     name                                                                  \n",
       "1282     Second hand - Apple iMac 20 \"Core 2 Duo 24GHz |...    1           1   \n",
       "         Second hand - Apple iMac 24 \"Core 2 Duo 28 GHz ...    3           3   \n",
       "         Second hand - Apple iMac 27 \"Core i5 Quad-Core ...    1           1   \n",
       "24895185 Apple Watch the 1st Gen. 42mm Case Stainless st...    3           3   \n",
       "         The 1st Gen. 42mm Apple Watch Stainless Steel C...    3           3   \n",
       "5,43E+15 Second hand - Apple iMac 20 \"Core 2 Duo 226GHz ...   15          15   \n",
       "         Second hand - Apple iMac 20 \"Core 2 Duo 24GHz |...    3           3   \n",
       "         Second hand - Apple iMac 20 \"Core 2 Duo 24GHz |...    1           1   \n",
       "         Second hand - Apple iMac 20 \"Core 2 Duo 266GHz ...    2           2   \n",
       "51882158 Second hand - Apple iMac 20 \"Core 2 Duo 226GHz ...    2           2   \n",
       "         Second hand - Apple iMac 20 \"Core 2 Duo 266GHz ...    1           1   \n",
       "         Second hand - Apple iMac 20 \"Core 2 Duo 266GHz ...    3           3   \n",
       "         Second hand - Apple iMac 20 \"Core 2 Duo 266GHz ...    2           2   \n",
       "\n",
       "                                                             date  \\\n",
       "type     name                                                       \n",
       "1282     Second hand - Apple iMac 20 \"Core 2 Duo 24GHz |...     1   \n",
       "         Second hand - Apple iMac 24 \"Core 2 Duo 28 GHz ...     3   \n",
       "         Second hand - Apple iMac 27 \"Core i5 Quad-Core ...     1   \n",
       "24895185 Apple Watch the 1st Gen. 42mm Case Stainless st...     3   \n",
       "         The 1st Gen. 42mm Apple Watch Stainless Steel C...     3   \n",
       "5,43E+15 Second hand - Apple iMac 20 \"Core 2 Duo 226GHz ...    15   \n",
       "         Second hand - Apple iMac 20 \"Core 2 Duo 24GHz |...     3   \n",
       "         Second hand - Apple iMac 20 \"Core 2 Duo 24GHz |...     1   \n",
       "         Second hand - Apple iMac 20 \"Core 2 Duo 266GHz ...     2   \n",
       "51882158 Second hand - Apple iMac 20 \"Core 2 Duo 226GHz ...     2   \n",
       "         Second hand - Apple iMac 20 \"Core 2 Duo 266GHz ...     1   \n",
       "         Second hand - Apple iMac 20 \"Core 2 Duo 266GHz ...     3   \n",
       "         Second hand - Apple iMac 20 \"Core 2 Duo 266GHz ...     2   \n",
       "\n",
       "                                                             unit_price_total  \\\n",
       "type     name                                                                   \n",
       "1282     Second hand - Apple iMac 20 \"Core 2 Duo 24GHz |...                 1   \n",
       "         Second hand - Apple iMac 24 \"Core 2 Duo 28 GHz ...                 3   \n",
       "         Second hand - Apple iMac 27 \"Core i5 Quad-Core ...                 1   \n",
       "24895185 Apple Watch the 1st Gen. 42mm Case Stainless st...                 3   \n",
       "         The 1st Gen. 42mm Apple Watch Stainless Steel C...                 3   \n",
       "5,43E+15 Second hand - Apple iMac 20 \"Core 2 Duo 226GHz ...                15   \n",
       "         Second hand - Apple iMac 20 \"Core 2 Duo 24GHz |...                 3   \n",
       "         Second hand - Apple iMac 20 \"Core 2 Duo 24GHz |...                 1   \n",
       "         Second hand - Apple iMac 20 \"Core 2 Duo 266GHz ...                 2   \n",
       "51882158 Second hand - Apple iMac 20 \"Core 2 Duo 226GHz ...                 2   \n",
       "         Second hand - Apple iMac 20 \"Core 2 Duo 266GHz ...                 1   \n",
       "         Second hand - Apple iMac 20 \"Core 2 Duo 266GHz ...                 3   \n",
       "         Second hand - Apple iMac 20 \"Core 2 Duo 266GHz ...                 2   \n",
       "\n",
       "                                                             price  in_stock  \\\n",
       "type     name                                                                  \n",
       "1282     Second hand - Apple iMac 20 \"Core 2 Duo 24GHz |...      1         1   \n",
       "         Second hand - Apple iMac 24 \"Core 2 Duo 28 GHz ...      3         3   \n",
       "         Second hand - Apple iMac 27 \"Core i5 Quad-Core ...      1         1   \n",
       "24895185 Apple Watch the 1st Gen. 42mm Case Stainless st...      3         3   \n",
       "         The 1st Gen. 42mm Apple Watch Stainless Steel C...      3         3   \n",
       "5,43E+15 Second hand - Apple iMac 20 \"Core 2 Duo 226GHz ...     15        15   \n",
       "         Second hand - Apple iMac 20 \"Core 2 Duo 24GHz |...      3         3   \n",
       "         Second hand - Apple iMac 20 \"Core 2 Duo 24GHz |...      1         1   \n",
       "         Second hand - Apple iMac 20 \"Core 2 Duo 266GHz ...      2         2   \n",
       "51882158 Second hand - Apple iMac 20 \"Core 2 Duo 226GHz ...      2         2   \n",
       "         Second hand - Apple iMac 20 \"Core 2 Duo 266GHz ...      1         1   \n",
       "         Second hand - Apple iMac 20 \"Core 2 Duo 266GHz ...      3         3   \n",
       "         Second hand - Apple iMac 20 \"Core 2 Duo 266GHz ...      2         2   \n",
       "\n",
       "                                                             brand  discount  \n",
       "type     name                                                                 \n",
       "1282     Second hand - Apple iMac 20 \"Core 2 Duo 24GHz |...      1         1  \n",
       "         Second hand - Apple iMac 24 \"Core 2 Duo 28 GHz ...      3         3  \n",
       "         Second hand - Apple iMac 27 \"Core i5 Quad-Core ...      1         1  \n",
       "24895185 Apple Watch the 1st Gen. 42mm Case Stainless st...      3         3  \n",
       "         The 1st Gen. 42mm Apple Watch Stainless Steel C...      3         3  \n",
       "5,43E+15 Second hand - Apple iMac 20 \"Core 2 Duo 226GHz ...     15        15  \n",
       "         Second hand - Apple iMac 20 \"Core 2 Duo 24GHz |...      3         3  \n",
       "         Second hand - Apple iMac 20 \"Core 2 Duo 24GHz |...      1         1  \n",
       "         Second hand - Apple iMac 20 \"Core 2 Duo 266GHz ...      2         2  \n",
       "51882158 Second hand - Apple iMac 20 \"Core 2 Duo 226GHz ...      2         2  \n",
       "         Second hand - Apple iMac 20 \"Core 2 Duo 266GHz ...      1         1  \n",
       "         Second hand - Apple iMac 20 \"Core 2 Duo 266GHz ...      3         3  \n",
       "         Second hand - Apple iMac 20 \"Core 2 Duo 266GHz ...      2         2  "
      ]
     },
     "execution_count": 137,
     "metadata": {},
     "output_type": "execute_result"
    }
   ],
   "source": [
    "big_discounts = ol_pro_m.loc[ol_pro_m.discount >=700, :]\n",
    "big_discounts.groupby([\"type\", \"name\"]).count()\n"
   ]
  },
  {
   "cell_type": "markdown",
   "id": "af4fb32a-4347-4090-8987-bfb29baf2f79",
   "metadata": {},
   "source": [
    "**Big discounts come from second-hand imacs (majority in Q2-Q4 2017)**\n",
    "\n",
    "* All of the discounts >= 1000€ are second-hand iMacs (9 orderlines)**\n",
    "* Most of the discounts between 700€ and 1000€ are second-hand iMacs (26 out of 31 orderlines).**\n",
    "* There are 6 apple-watches with a discount in the same range."
   ]
  },
  {
   "cell_type": "code",
   "execution_count": 138,
   "id": "9e6872c8-dfc5-46c3-a81b-04fe8e05d715",
   "metadata": {},
   "outputs": [
    {
     "data": {
      "image/png": "[encoded data removed]",
      "text/plain": [
       "<Figure size 864x576 with 1 Axes>"
      ]
     },
     "metadata": {
      "needs_background": "light"
     },
     "output_type": "display_data"
    }
   ],
   "source": [
    "big_discounts.resample(\"D\", on=\"date\")[\"discount\"].count().plot(figsize=(12,8), kind=\"line\"); "
   ]
  },
  {
   "cell_type": "markdown",
   "id": "667890f0-2f20-4a3c-a8dc-61a5156a5cf6",
   "metadata": {},
   "source": []
  },
  {
   "cell_type": "code",
   "execution_count": null,
   "id": "a265dc24-b8a9-461e-9d1d-1bfda2c576af",
   "metadata": {},
   "outputs": [],
   "source": []
  },
  {
   "cell_type": "code",
   "execution_count": null,
   "id": "e50f6410-f298-4462-bd75-254a2f1b48ab",
   "metadata": {},
   "outputs": [],
   "source": []
  },
  {
   "cell_type": "code",
   "execution_count": null,
   "id": "1acfd478-8d23-44f2-8cf3-5da9bfa375b7",
   "metadata": {},
   "outputs": [],
   "source": []
  }
 ],
 "metadata": {
  "kernelspec": {
   "display_name": "Python 3",
   "language": "python",
   "name": "python3"
  },
  "language_info": {
   "codemirror_mode": {
    "name": "ipython",
    "version": 3
   },
   "file_extension": ".py",
   "mimetype": "text/x-python",
   "name": "python",
   "nbconvert_exporter": "python",
   "pygments_lexer": "ipython3",
   "version": "3.8.8"
  }
 },
 "nbformat": 4,
 "nbformat_minor": 5
}
