{
 "cells": [
  {
   "cell_type": "markdown",
   "metadata": {
    "id": "bbaehNmt73fv"
   },
   "source": [
    "# Searching for the category"
   ]
  },
  {
   "cell_type": "markdown",
   "metadata": {
    "id": "JZNKAkEMOa3w"
   },
   "source": [
    "For this code along we are only going to use the products DataFrame. However, if you believe there is information in other tables that can help to create categories, please feel free to explore."
   ]
  },
  {
   "cell_type": "code",
   "execution_count": 1,
   "metadata": {
    "id": "ViZQTGKntHE9"
   },
   "outputs": [],
   "source": [
    "import pandas as pd"
   ]
  },
  {
   "cell_type": "code",
   "execution_count": 2,
   "metadata": {
    "id": "7QfwQmvrrI1y"
   },
   "outputs": [],
   "source": [
    "# products_cl.csv\n",
    "url = \"https://drive.google.com/file/d/1s7Lai4NSlsYjGEPg1QSOUJobNYVsZBOJ/view?usp=sharing\" \n",
    "path = \"https://drive.google.com/uc?export=download&id=\"+url.split(\"/\")[-2]\n",
    "products_cl = pd.read_csv(path)"
   ]
  },
  {
   "cell_type": "code",
   "execution_count": 3,
   "metadata": {
    "id": "V3YcuBBQlN0O"
   },
   "outputs": [],
   "source": [
    "product_category_df = products_cl.copy()"
   ]
  },
  {
   "cell_type": "code",
   "execution_count": 4,
   "metadata": {
    "id": "eEychOC1tIzh"
   },
   "outputs": [
    {
     "data": {
      "text/html": [
       "<div>\n",
       "<style scoped>\n",
       "    .dataframe tbody tr th:only-of-type {\n",
       "        vertical-align: middle;\n",
       "    }\n",
       "\n",
       "    .dataframe tbody tr th {\n",
       "        vertical-align: top;\n",
       "    }\n",
       "\n",
       "    .dataframe thead th {\n",
       "        text-align: right;\n",
       "    }\n",
       "</style>\n",
       "<table border=\"1\" class=\"dataframe\">\n",
       "  <thead>\n",
       "    <tr style=\"text-align: right;\">\n",
       "      <th></th>\n",
       "      <th>sku</th>\n",
       "      <th>name</th>\n",
       "      <th>desc</th>\n",
       "      <th>price</th>\n",
       "      <th>in_stock</th>\n",
       "      <th>type</th>\n",
       "    </tr>\n",
       "  </thead>\n",
       "  <tbody>\n",
       "    <tr>\n",
       "      <th>0</th>\n",
       "      <td>RAI0007</td>\n",
       "      <td>Silver Rain Design mStand Support</td>\n",
       "      <td>Aluminum support compatible with all MacBook</td>\n",
       "      <td>59.99</td>\n",
       "      <td>1</td>\n",
       "      <td>8696</td>\n",
       "    </tr>\n",
       "    <tr>\n",
       "      <th>1</th>\n",
       "      <td>APP0023</td>\n",
       "      <td>Apple Mac Keyboard Keypad Spanish</td>\n",
       "      <td>USB ultrathin keyboard Apple Mac Spanish.</td>\n",
       "      <td>59.00</td>\n",
       "      <td>0</td>\n",
       "      <td>13855401</td>\n",
       "    </tr>\n",
       "    <tr>\n",
       "      <th>2</th>\n",
       "      <td>APP0025</td>\n",
       "      <td>Mighty Mouse Apple Mouse for Mac</td>\n",
       "      <td>mouse Apple USB cable.</td>\n",
       "      <td>59.00</td>\n",
       "      <td>0</td>\n",
       "      <td>1387</td>\n",
       "    </tr>\n",
       "    <tr>\n",
       "      <th>3</th>\n",
       "      <td>APP0072</td>\n",
       "      <td>Apple Dock to USB Cable iPhone and iPod white</td>\n",
       "      <td>IPhone dock and USB Cable Apple iPod.</td>\n",
       "      <td>25.00</td>\n",
       "      <td>0</td>\n",
       "      <td>1230</td>\n",
       "    </tr>\n",
       "    <tr>\n",
       "      <th>4</th>\n",
       "      <td>KIN0007</td>\n",
       "      <td>Mac Memory Kingston 2GB 667MHz DDR2 SO-DIMM</td>\n",
       "      <td>2GB RAM Mac mini and iMac (2006/07) MacBook Pr...</td>\n",
       "      <td>34.99</td>\n",
       "      <td>1</td>\n",
       "      <td>1364</td>\n",
       "    </tr>\n",
       "  </tbody>\n",
       "</table>\n",
       "</div>"
      ],
      "text/plain": [
       "       sku                                           name  \\\n",
       "0  RAI0007              Silver Rain Design mStand Support   \n",
       "1  APP0023              Apple Mac Keyboard Keypad Spanish   \n",
       "2  APP0025               Mighty Mouse Apple Mouse for Mac   \n",
       "3  APP0072  Apple Dock to USB Cable iPhone and iPod white   \n",
       "4  KIN0007    Mac Memory Kingston 2GB 667MHz DDR2 SO-DIMM   \n",
       "\n",
       "                                                desc  price  in_stock  \\\n",
       "0       Aluminum support compatible with all MacBook  59.99         1   \n",
       "1          USB ultrathin keyboard Apple Mac Spanish.  59.00         0   \n",
       "2                             mouse Apple USB cable.  59.00         0   \n",
       "3              IPhone dock and USB Cable Apple iPod.  25.00         0   \n",
       "4  2GB RAM Mac mini and iMac (2006/07) MacBook Pr...  34.99         1   \n",
       "\n",
       "       type  \n",
       "0      8696  \n",
       "1  13855401  \n",
       "2      1387  \n",
       "3      1230  \n",
       "4      1364  "
      ]
     },
     "execution_count": 4,
     "metadata": {},
     "output_type": "execute_result"
    }
   ],
   "source": [
    "product_category_df.head()"
   ]
  },
  {
   "cell_type": "markdown",
   "metadata": {
    "id": "ll6nfKeqtUSb"
   },
   "source": [
    "## 1.&nbsp; Category creation by search term\n",
    "Let's start by creating a column `category`. For now we'll fill this column with a blank string `\"\"`."
   ]
  },
  {
   "cell_type": "code",
   "execution_count": 5,
   "metadata": {
    "id": "V0gB1AgftceZ"
   },
   "outputs": [
    {
     "data": {
      "text/html": [
       "<div>\n",
       "<style scoped>\n",
       "    .dataframe tbody tr th:only-of-type {\n",
       "        vertical-align: middle;\n",
       "    }\n",
       "\n",
       "    .dataframe tbody tr th {\n",
       "        vertical-align: top;\n",
       "    }\n",
       "\n",
       "    .dataframe thead th {\n",
       "        text-align: right;\n",
       "    }\n",
       "</style>\n",
       "<table border=\"1\" class=\"dataframe\">\n",
       "  <thead>\n",
       "    <tr style=\"text-align: right;\">\n",
       "      <th></th>\n",
       "      <th>sku</th>\n",
       "      <th>name</th>\n",
       "      <th>desc</th>\n",
       "      <th>price</th>\n",
       "      <th>in_stock</th>\n",
       "      <th>type</th>\n",
       "      <th>category</th>\n",
       "    </tr>\n",
       "  </thead>\n",
       "  <tbody>\n",
       "    <tr>\n",
       "      <th>0</th>\n",
       "      <td>RAI0007</td>\n",
       "      <td>Silver Rain Design mStand Support</td>\n",
       "      <td>Aluminum support compatible with all MacBook</td>\n",
       "      <td>59.99</td>\n",
       "      <td>1</td>\n",
       "      <td>8696</td>\n",
       "      <td></td>\n",
       "    </tr>\n",
       "    <tr>\n",
       "      <th>1</th>\n",
       "      <td>APP0023</td>\n",
       "      <td>Apple Mac Keyboard Keypad Spanish</td>\n",
       "      <td>USB ultrathin keyboard Apple Mac Spanish.</td>\n",
       "      <td>59.00</td>\n",
       "      <td>0</td>\n",
       "      <td>13855401</td>\n",
       "      <td></td>\n",
       "    </tr>\n",
       "    <tr>\n",
       "      <th>2</th>\n",
       "      <td>APP0025</td>\n",
       "      <td>Mighty Mouse Apple Mouse for Mac</td>\n",
       "      <td>mouse Apple USB cable.</td>\n",
       "      <td>59.00</td>\n",
       "      <td>0</td>\n",
       "      <td>1387</td>\n",
       "      <td></td>\n",
       "    </tr>\n",
       "    <tr>\n",
       "      <th>3</th>\n",
       "      <td>APP0072</td>\n",
       "      <td>Apple Dock to USB Cable iPhone and iPod white</td>\n",
       "      <td>IPhone dock and USB Cable Apple iPod.</td>\n",
       "      <td>25.00</td>\n",
       "      <td>0</td>\n",
       "      <td>1230</td>\n",
       "      <td></td>\n",
       "    </tr>\n",
       "    <tr>\n",
       "      <th>4</th>\n",
       "      <td>KIN0007</td>\n",
       "      <td>Mac Memory Kingston 2GB 667MHz DDR2 SO-DIMM</td>\n",
       "      <td>2GB RAM Mac mini and iMac (2006/07) MacBook Pr...</td>\n",
       "      <td>34.99</td>\n",
       "      <td>1</td>\n",
       "      <td>1364</td>\n",
       "      <td></td>\n",
       "    </tr>\n",
       "  </tbody>\n",
       "</table>\n",
       "</div>"
      ],
      "text/plain": [
       "       sku                                           name  \\\n",
       "0  RAI0007              Silver Rain Design mStand Support   \n",
       "1  APP0023              Apple Mac Keyboard Keypad Spanish   \n",
       "2  APP0025               Mighty Mouse Apple Mouse for Mac   \n",
       "3  APP0072  Apple Dock to USB Cable iPhone and iPod white   \n",
       "4  KIN0007    Mac Memory Kingston 2GB 667MHz DDR2 SO-DIMM   \n",
       "\n",
       "                                                desc  price  in_stock  \\\n",
       "0       Aluminum support compatible with all MacBook  59.99         1   \n",
       "1          USB ultrathin keyboard Apple Mac Spanish.  59.00         0   \n",
       "2                             mouse Apple USB cable.  59.00         0   \n",
       "3              IPhone dock and USB Cable Apple iPod.  25.00         0   \n",
       "4  2GB RAM Mac mini and iMac (2006/07) MacBook Pr...  34.99         1   \n",
       "\n",
       "       type category  \n",
       "0      8696           \n",
       "1  13855401           \n",
       "2      1387           \n",
       "3      1230           \n",
       "4      1364           "
      ]
     },
     "execution_count": 5,
     "metadata": {},
     "output_type": "execute_result"
    }
   ],
   "source": [
    "product_category_df[\"category\"] = \"\"\n",
    "product_category_df.head()"
   ]
  },
  {
   "cell_type": "markdown",
   "metadata": {
    "id": "4V2cUNdoPK_4"
   },
   "source": [
    "We can find all the products with certain words in their `description` using `.loc[]` and `.str.contains()`. Here we'll look at all the items that have the word `keyboard` in their description."
   ]
  },
  {
   "cell_type": "code",
   "execution_count": 6,
   "metadata": {
    "id": "o1VQXWPFBqPd"
   },
   "outputs": [
    {
     "data": {
      "text/html": [
       "<div>\n",
       "<style scoped>\n",
       "    .dataframe tbody tr th:only-of-type {\n",
       "        vertical-align: middle;\n",
       "    }\n",
       "\n",
       "    .dataframe tbody tr th {\n",
       "        vertical-align: top;\n",
       "    }\n",
       "\n",
       "    .dataframe thead th {\n",
       "        text-align: right;\n",
       "    }\n",
       "</style>\n",
       "<table border=\"1\" class=\"dataframe\">\n",
       "  <thead>\n",
       "    <tr style=\"text-align: right;\">\n",
       "      <th></th>\n",
       "      <th>sku</th>\n",
       "      <th>name</th>\n",
       "      <th>desc</th>\n",
       "      <th>price</th>\n",
       "      <th>in_stock</th>\n",
       "      <th>type</th>\n",
       "      <th>category</th>\n",
       "    </tr>\n",
       "  </thead>\n",
       "  <tbody>\n",
       "    <tr>\n",
       "      <th>1</th>\n",
       "      <td>APP0023</td>\n",
       "      <td>Apple Mac Keyboard Keypad Spanish</td>\n",
       "      <td>USB ultrathin keyboard Apple Mac Spanish.</td>\n",
       "      <td>59.00</td>\n",
       "      <td>0</td>\n",
       "      <td>13855401</td>\n",
       "      <td></td>\n",
       "    </tr>\n",
       "    <tr>\n",
       "      <th>15</th>\n",
       "      <td>MOS0021</td>\n",
       "      <td>Clearguard Moshi MacBook Pro and Air</td>\n",
       "      <td>Keyboard Protector MacBook Pro 13-inch Retina ...</td>\n",
       "      <td>24.95</td>\n",
       "      <td>0</td>\n",
       "      <td>13835403</td>\n",
       "      <td></td>\n",
       "    </tr>\n",
       "    <tr>\n",
       "      <th>24</th>\n",
       "      <td>APP0277</td>\n",
       "      <td>Apple Wireless Keyboard Keyboard (OEM) Mac</td>\n",
       "      <td>Ultrathin keyboard Apple Bluetooth Spanish (un...</td>\n",
       "      <td>79.00</td>\n",
       "      <td>0</td>\n",
       "      <td>13855401</td>\n",
       "      <td></td>\n",
       "    </tr>\n",
       "    <tr>\n",
       "      <th>64</th>\n",
       "      <td>HGD0012</td>\n",
       "      <td>Henge Docks Click keyboard support iMac</td>\n",
       "      <td>Base to hold the Apple Magic TrackPad and Wire...</td>\n",
       "      <td>29.00</td>\n",
       "      <td>0</td>\n",
       "      <td>8696</td>\n",
       "      <td></td>\n",
       "    </tr>\n",
       "    <tr>\n",
       "      <th>365</th>\n",
       "      <td>LOG0084</td>\n",
       "      <td>Logitech Ultrathin Keyboard Cover Keyboard Cov...</td>\n",
       "      <td>Ultrathin cover and cover with Bluetooth keybo...</td>\n",
       "      <td>89.99</td>\n",
       "      <td>0</td>\n",
       "      <td>12575403</td>\n",
       "      <td></td>\n",
       "    </tr>\n",
       "    <tr>\n",
       "      <th>...</th>\n",
       "      <td>...</td>\n",
       "      <td>...</td>\n",
       "      <td>...</td>\n",
       "      <td>...</td>\n",
       "      <td>...</td>\n",
       "      <td>...</td>\n",
       "      <td>...</td>\n",
       "    </tr>\n",
       "    <tr>\n",
       "      <th>9720</th>\n",
       "      <td>PAC2508</td>\n",
       "      <td>Replacement Magic Wireless Keyboard by Matias ...</td>\n",
       "      <td>Keyboard replacement service at the time of pu...</td>\n",
       "      <td>119.99</td>\n",
       "      <td>1</td>\n",
       "      <td>13855401</td>\n",
       "      <td></td>\n",
       "    </tr>\n",
       "    <tr>\n",
       "      <th>9751</th>\n",
       "      <td>MTF0008</td>\n",
       "      <td>Mistify Clean Screens Natural 500ml.</td>\n",
       "      <td>Spray cleaning screens and keyboards.</td>\n",
       "      <td>14.99</td>\n",
       "      <td>1</td>\n",
       "      <td>12085400</td>\n",
       "      <td></td>\n",
       "    </tr>\n",
       "    <tr>\n",
       "      <th>9796</th>\n",
       "      <td>ZAG0026-A</td>\n",
       "      <td>Open - Zagg Rugged Keyboard Folio iPad Messeng...</td>\n",
       "      <td>Case reconditioned keyboard and adjustable pos...</td>\n",
       "      <td>99.99</td>\n",
       "      <td>0</td>\n",
       "      <td>12575403</td>\n",
       "      <td></td>\n",
       "    </tr>\n",
       "    <tr>\n",
       "      <th>9932</th>\n",
       "      <td>APP1472</td>\n",
       "      <td>Apple Magic Keyboard English International</td>\n",
       "      <td>English keyboard Mac and Apple iPad Ultrathin ...</td>\n",
       "      <td>119.00</td>\n",
       "      <td>1</td>\n",
       "      <td>13855401</td>\n",
       "      <td></td>\n",
       "    </tr>\n",
       "    <tr>\n",
       "      <th>9945</th>\n",
       "      <td>TWS0106-A</td>\n",
       "      <td>Open - Twelve South Bridge Magic Keyboard for ...</td>\n",
       "      <td>Light reconditioned support to hold the Keyboa...</td>\n",
       "      <td>48.00</td>\n",
       "      <td>0</td>\n",
       "      <td>8696</td>\n",
       "      <td></td>\n",
       "    </tr>\n",
       "  </tbody>\n",
       "</table>\n",
       "<p>89 rows × 7 columns</p>\n",
       "</div>"
      ],
      "text/plain": [
       "            sku                                               name  \\\n",
       "1       APP0023                  Apple Mac Keyboard Keypad Spanish   \n",
       "15      MOS0021               Clearguard Moshi MacBook Pro and Air   \n",
       "24      APP0277         Apple Wireless Keyboard Keyboard (OEM) Mac   \n",
       "64      HGD0012            Henge Docks Click keyboard support iMac   \n",
       "365     LOG0084  Logitech Ultrathin Keyboard Cover Keyboard Cov...   \n",
       "...         ...                                                ...   \n",
       "9720    PAC2508  Replacement Magic Wireless Keyboard by Matias ...   \n",
       "9751    MTF0008               Mistify Clean Screens Natural 500ml.   \n",
       "9796  ZAG0026-A  Open - Zagg Rugged Keyboard Folio iPad Messeng...   \n",
       "9932    APP1472         Apple Magic Keyboard English International   \n",
       "9945  TWS0106-A  Open - Twelve South Bridge Magic Keyboard for ...   \n",
       "\n",
       "                                                   desc   price  in_stock  \\\n",
       "1             USB ultrathin keyboard Apple Mac Spanish.   59.00         0   \n",
       "15    Keyboard Protector MacBook Pro 13-inch Retina ...   24.95         0   \n",
       "24    Ultrathin keyboard Apple Bluetooth Spanish (un...   79.00         0   \n",
       "64    Base to hold the Apple Magic TrackPad and Wire...   29.00         0   \n",
       "365   Ultrathin cover and cover with Bluetooth keybo...   89.99         0   \n",
       "...                                                 ...     ...       ...   \n",
       "9720  Keyboard replacement service at the time of pu...  119.99         1   \n",
       "9751              Spray cleaning screens and keyboards.   14.99         1   \n",
       "9796  Case reconditioned keyboard and adjustable pos...   99.99         0   \n",
       "9932  English keyboard Mac and Apple iPad Ultrathin ...  119.00         1   \n",
       "9945  Light reconditioned support to hold the Keyboa...   48.00         0   \n",
       "\n",
       "          type category  \n",
       "1     13855401           \n",
       "15    13835403           \n",
       "24    13855401           \n",
       "64        8696           \n",
       "365   12575403           \n",
       "...        ...      ...  \n",
       "9720  13855401           \n",
       "9751  12085400           \n",
       "9796  12575403           \n",
       "9932  13855401           \n",
       "9945      8696           \n",
       "\n",
       "[89 rows x 7 columns]"
      ]
     },
     "execution_count": 6,
     "metadata": {},
     "output_type": "execute_result"
    }
   ],
   "source": [
    "product_category_df.loc[product_category_df[\"desc\"].str.lower().str.contains(\"keyboard\"), :]"
   ]
  },
  {
   "cell_type": "markdown",
   "metadata": {
    "id": "hdNa39muPhvh"
   },
   "source": [
    "Next, we change the value in the category column to `keyboard` for all of these keyboard products. "
   ]
  },
  {
   "cell_type": "code",
   "execution_count": 7,
   "metadata": {
    "id": "WTbebBR63Khc"
   },
   "outputs": [],
   "source": [
    "product_category_df.loc[product_category_df[\"desc\"].str.lower().str.contains(\"keyboard\"), \"category\"] = \"keyboard\""
   ]
  },
  {
   "cell_type": "markdown",
   "metadata": {
    "id": "fcYoD6dbPzK9"
   },
   "source": [
    "Let's take a look at the effect that had on the `category` column."
   ]
  },
  {
   "cell_type": "code",
   "execution_count": 8,
   "metadata": {
    "id": "YhHJzCs83Mgp"
   },
   "outputs": [
    {
     "data": {
      "text/plain": [
       "            9903\n",
       "keyboard      89\n",
       "Name: category, dtype: int64"
      ]
     },
     "execution_count": 8,
     "metadata": {},
     "output_type": "execute_result"
    }
   ],
   "source": [
    "product_category_df[\"category\"].value_counts()"
   ]
  },
  {
   "cell_type": "markdown",
   "metadata": {
    "id": "zKmy1xNjtcOr"
   },
   "source": [
    "## 2.&nbsp; Category creation using regex\n",
    "We can also use a product's `name` to select products for our categories."
   ]
  },
  {
   "cell_type": "code",
   "execution_count": 9,
   "metadata": {
    "id": "MApPzEVM3N6g"
   },
   "outputs": [
    {
     "data": {
      "text/html": [
       "<div>\n",
       "<style scoped>\n",
       "    .dataframe tbody tr th:only-of-type {\n",
       "        vertical-align: middle;\n",
       "    }\n",
       "\n",
       "    .dataframe tbody tr th {\n",
       "        vertical-align: top;\n",
       "    }\n",
       "\n",
       "    .dataframe thead th {\n",
       "        text-align: right;\n",
       "    }\n",
       "</style>\n",
       "<table border=\"1\" class=\"dataframe\">\n",
       "  <thead>\n",
       "    <tr style=\"text-align: right;\">\n",
       "      <th></th>\n",
       "      <th>sku</th>\n",
       "      <th>name</th>\n",
       "      <th>desc</th>\n",
       "      <th>price</th>\n",
       "      <th>in_stock</th>\n",
       "      <th>type</th>\n",
       "      <th>category</th>\n",
       "    </tr>\n",
       "  </thead>\n",
       "  <tbody>\n",
       "    <tr>\n",
       "      <th>35</th>\n",
       "      <td>APP0308</td>\n",
       "      <td>AV Cable Adapter Apple iPhone iPad and iPod white</td>\n",
       "      <td>IPhone iPad iPod adapter and AV cable.</td>\n",
       "      <td>45.00</td>\n",
       "      <td>0</td>\n",
       "      <td>1230</td>\n",
       "      <td></td>\n",
       "    </tr>\n",
       "    <tr>\n",
       "      <th>214</th>\n",
       "      <td>REP0100</td>\n",
       "      <td>Color change to White Apple iPhone 4</td>\n",
       "      <td>It is including parts and labor..</td>\n",
       "      <td>94.21</td>\n",
       "      <td>0</td>\n",
       "      <td>1,44E+11</td>\n",
       "      <td></td>\n",
       "    </tr>\n",
       "    <tr>\n",
       "      <th>215</th>\n",
       "      <td>REP0052</td>\n",
       "      <td>Color change to White Apple iPhone 4</td>\n",
       "      <td>It is including parts and labor..</td>\n",
       "      <td>94.21</td>\n",
       "      <td>0</td>\n",
       "      <td>1,44E+11</td>\n",
       "      <td></td>\n",
       "    </tr>\n",
       "    <tr>\n",
       "      <th>579</th>\n",
       "      <td>APP0675</td>\n",
       "      <td>Apple iPhone 5S 32GB Space Gray</td>\n",
       "      <td>New Free iPhone 5S 32GB (ME435Y / A).</td>\n",
       "      <td>559.00</td>\n",
       "      <td>0</td>\n",
       "      <td>NaN</td>\n",
       "      <td></td>\n",
       "    </tr>\n",
       "    <tr>\n",
       "      <th>956</th>\n",
       "      <td>APP0823</td>\n",
       "      <td>Apple iPhone 6 16GB Silver</td>\n",
       "      <td>New iPhone 6 16GB Free (MG482QL / A).</td>\n",
       "      <td>639.00</td>\n",
       "      <td>0</td>\n",
       "      <td>NaN</td>\n",
       "      <td></td>\n",
       "    </tr>\n",
       "    <tr>\n",
       "      <th>...</th>\n",
       "      <td>...</td>\n",
       "      <td>...</td>\n",
       "      <td>...</td>\n",
       "      <td>...</td>\n",
       "      <td>...</td>\n",
       "      <td>...</td>\n",
       "      <td>...</td>\n",
       "    </tr>\n",
       "    <tr>\n",
       "      <th>9790</th>\n",
       "      <td>AP20455</td>\n",
       "      <td>Like new - Apple iPhone 8 256GB Gold</td>\n",
       "      <td>Apple iPhone 8 reconditioned 256GB in Gold rea...</td>\n",
       "      <td>979.00</td>\n",
       "      <td>0</td>\n",
       "      <td>113291716</td>\n",
       "      <td></td>\n",
       "    </tr>\n",
       "    <tr>\n",
       "      <th>9794</th>\n",
       "      <td>APP2482-A</td>\n",
       "      <td>Open - Apple iPhone 8 Plus 256GB Gold</td>\n",
       "      <td>Refurbished Apple iPhone 8 Plus 256GB Free Gold</td>\n",
       "      <td>1089.00</td>\n",
       "      <td>0</td>\n",
       "      <td>113281716</td>\n",
       "      <td></td>\n",
       "    </tr>\n",
       "    <tr>\n",
       "      <th>9929</th>\n",
       "      <td>APP2477-A</td>\n",
       "      <td>Open - Apple iPhone 8 Plus 64GB Space Gray</td>\n",
       "      <td>Apple iPhone 8 Plus 64GB Space Gray</td>\n",
       "      <td>919.00</td>\n",
       "      <td>0</td>\n",
       "      <td>113281716</td>\n",
       "      <td></td>\n",
       "    </tr>\n",
       "    <tr>\n",
       "      <th>9958</th>\n",
       "      <td>AP20467</td>\n",
       "      <td>Like new - Apple iPhone Silicone Case Cover 7 ...</td>\n",
       "      <td>Reconditioned silicone sleeve microfiber Apple...</td>\n",
       "      <td>45.00</td>\n",
       "      <td>0</td>\n",
       "      <td>11865403</td>\n",
       "      <td></td>\n",
       "    </tr>\n",
       "    <tr>\n",
       "      <th>9969</th>\n",
       "      <td>AP20468</td>\n",
       "      <td>Like new - Apple iPhone Black Lightning Dock</td>\n",
       "      <td>Support base and refitted with dock connector ...</td>\n",
       "      <td>59.00</td>\n",
       "      <td>0</td>\n",
       "      <td>13615399</td>\n",
       "      <td></td>\n",
       "    </tr>\n",
       "  </tbody>\n",
       "</table>\n",
       "<p>424 rows × 7 columns</p>\n",
       "</div>"
      ],
      "text/plain": [
       "            sku                                               name  \\\n",
       "35      APP0308  AV Cable Adapter Apple iPhone iPad and iPod white   \n",
       "214     REP0100               Color change to White Apple iPhone 4   \n",
       "215     REP0052               Color change to White Apple iPhone 4   \n",
       "579     APP0675                    Apple iPhone 5S 32GB Space Gray   \n",
       "956     APP0823                         Apple iPhone 6 16GB Silver   \n",
       "...         ...                                                ...   \n",
       "9790    AP20455               Like new - Apple iPhone 8 256GB Gold   \n",
       "9794  APP2482-A              Open - Apple iPhone 8 Plus 256GB Gold   \n",
       "9929  APP2477-A         Open - Apple iPhone 8 Plus 64GB Space Gray   \n",
       "9958    AP20467  Like new - Apple iPhone Silicone Case Cover 7 ...   \n",
       "9969    AP20468       Like new - Apple iPhone Black Lightning Dock   \n",
       "\n",
       "                                                   desc    price  in_stock  \\\n",
       "35               IPhone iPad iPod adapter and AV cable.    45.00         0   \n",
       "214                   It is including parts and labor..    94.21         0   \n",
       "215                   It is including parts and labor..    94.21         0   \n",
       "579               New Free iPhone 5S 32GB (ME435Y / A).   559.00         0   \n",
       "956               New iPhone 6 16GB Free (MG482QL / A).   639.00         0   \n",
       "...                                                 ...      ...       ...   \n",
       "9790  Apple iPhone 8 reconditioned 256GB in Gold rea...   979.00         0   \n",
       "9794    Refurbished Apple iPhone 8 Plus 256GB Free Gold  1089.00         0   \n",
       "9929                Apple iPhone 8 Plus 64GB Space Gray   919.00         0   \n",
       "9958  Reconditioned silicone sleeve microfiber Apple...    45.00         0   \n",
       "9969  Support base and refitted with dock connector ...    59.00         0   \n",
       "\n",
       "           type category  \n",
       "35         1230           \n",
       "214    1,44E+11           \n",
       "215    1,44E+11           \n",
       "579         NaN           \n",
       "956         NaN           \n",
       "...         ...      ...  \n",
       "9790  113291716           \n",
       "9794  113281716           \n",
       "9929  113281716           \n",
       "9958   11865403           \n",
       "9969   13615399           \n",
       "\n",
       "[424 rows x 7 columns]"
      ]
     },
     "execution_count": 9,
     "metadata": {},
     "output_type": "execute_result"
    }
   ],
   "source": [
    "product_category_df.loc[product_category_df[\"name\"].str.lower().str.contains(\"apple iphone\"), :]"
   ]
  },
  {
   "cell_type": "markdown",
   "metadata": {
    "id": "aai7zoKNQSxX"
   },
   "source": [
    "Looks like we get a lot of accessories included in this search. We can refine this using a little regex. Here, we will add `.{0,7}` at the beginning of the search: this means we will find all `apple iphone`s that have 7 or less characters preceding the term \"apple iphone\" - if there's 8 characters preceding the search term, it won't be found. This should help refine our search by using the nomenclature of the DataFrame to our advantage.\n",
    "\n",
    "If you feel unsure about regex, please use [regex101](https://regex101.com/). It's really useful for checking your code, and parts of other people's code that you're unsure about."
   ]
  },
  {
   "cell_type": "code",
   "execution_count": 10,
   "metadata": {
    "id": "mxVST68uCjp4"
   },
   "outputs": [
    {
     "data": {
      "text/html": [
       "<div>\n",
       "<style scoped>\n",
       "    .dataframe tbody tr th:only-of-type {\n",
       "        vertical-align: middle;\n",
       "    }\n",
       "\n",
       "    .dataframe tbody tr th {\n",
       "        vertical-align: top;\n",
       "    }\n",
       "\n",
       "    .dataframe thead th {\n",
       "        text-align: right;\n",
       "    }\n",
       "</style>\n",
       "<table border=\"1\" class=\"dataframe\">\n",
       "  <thead>\n",
       "    <tr style=\"text-align: right;\">\n",
       "      <th></th>\n",
       "      <th>sku</th>\n",
       "      <th>name</th>\n",
       "      <th>desc</th>\n",
       "      <th>price</th>\n",
       "      <th>in_stock</th>\n",
       "      <th>type</th>\n",
       "      <th>category</th>\n",
       "    </tr>\n",
       "  </thead>\n",
       "  <tbody>\n",
       "    <tr>\n",
       "      <th>579</th>\n",
       "      <td>APP0675</td>\n",
       "      <td>Apple iPhone 5S 32GB Space Gray</td>\n",
       "      <td>New Free iPhone 5S 32GB (ME435Y / A).</td>\n",
       "      <td>559.0</td>\n",
       "      <td>0</td>\n",
       "      <td>NaN</td>\n",
       "      <td></td>\n",
       "    </tr>\n",
       "    <tr>\n",
       "      <th>956</th>\n",
       "      <td>APP0823</td>\n",
       "      <td>Apple iPhone 6 16GB Silver</td>\n",
       "      <td>New iPhone 6 16GB Free (MG482QL / A).</td>\n",
       "      <td>639.0</td>\n",
       "      <td>0</td>\n",
       "      <td>NaN</td>\n",
       "      <td></td>\n",
       "    </tr>\n",
       "    <tr>\n",
       "      <th>961</th>\n",
       "      <td>APP0829</td>\n",
       "      <td>Apple iPhone 6 Plus 16GB Silver</td>\n",
       "      <td>New iPhone 6 Plus 16G Free (MGA92QL / A).</td>\n",
       "      <td>749.0</td>\n",
       "      <td>0</td>\n",
       "      <td>NaN</td>\n",
       "      <td></td>\n",
       "    </tr>\n",
       "    <tr>\n",
       "      <th>962</th>\n",
       "      <td>APP0822</td>\n",
       "      <td>Apple iPhone 6 16GB Space Gray</td>\n",
       "      <td>New iPhone 6 16GB Free (MG472QL / A).</td>\n",
       "      <td>639.0</td>\n",
       "      <td>0</td>\n",
       "      <td>NaN</td>\n",
       "      <td></td>\n",
       "    </tr>\n",
       "    <tr>\n",
       "      <th>963</th>\n",
       "      <td>APP0825</td>\n",
       "      <td>Apple iPhone 6 64GB Space Gray</td>\n",
       "      <td>New iPhone 6 64GB Free (MG4F2QL / A).</td>\n",
       "      <td>749.0</td>\n",
       "      <td>0</td>\n",
       "      <td>NaN</td>\n",
       "      <td></td>\n",
       "    </tr>\n",
       "    <tr>\n",
       "      <th>...</th>\n",
       "      <td>...</td>\n",
       "      <td>...</td>\n",
       "      <td>...</td>\n",
       "      <td>...</td>\n",
       "      <td>...</td>\n",
       "      <td>...</td>\n",
       "      <td>...</td>\n",
       "    </tr>\n",
       "    <tr>\n",
       "      <th>9585</th>\n",
       "      <td>APP1634-A</td>\n",
       "      <td>Open - Apple iPhone 7 Plus 32GB Black</td>\n",
       "      <td>New 32GB Apple iPhone 7 Plus Free Black</td>\n",
       "      <td>779.0</td>\n",
       "      <td>0</td>\n",
       "      <td>85651716</td>\n",
       "      <td></td>\n",
       "    </tr>\n",
       "    <tr>\n",
       "      <th>9587</th>\n",
       "      <td>APP2540-A</td>\n",
       "      <td>Open - Apple iPhone Leather Folio X Baya</td>\n",
       "      <td>Leather case with box and official cover Apple</td>\n",
       "      <td>109.0</td>\n",
       "      <td>0</td>\n",
       "      <td>11865403</td>\n",
       "      <td></td>\n",
       "    </tr>\n",
       "    <tr>\n",
       "      <th>9714</th>\n",
       "      <td>APP2562-A</td>\n",
       "      <td>Open - Apple iPhone Leather Case Cover Red</td>\n",
       "      <td>Reconditioned skin sheath official Apple desig...</td>\n",
       "      <td>45.0</td>\n",
       "      <td>0</td>\n",
       "      <td>11865403</td>\n",
       "      <td></td>\n",
       "    </tr>\n",
       "    <tr>\n",
       "      <th>9794</th>\n",
       "      <td>APP2482-A</td>\n",
       "      <td>Open - Apple iPhone 8 Plus 256GB Gold</td>\n",
       "      <td>Refurbished Apple iPhone 8 Plus 256GB Free Gold</td>\n",
       "      <td>1089.0</td>\n",
       "      <td>0</td>\n",
       "      <td>113281716</td>\n",
       "      <td></td>\n",
       "    </tr>\n",
       "    <tr>\n",
       "      <th>9929</th>\n",
       "      <td>APP2477-A</td>\n",
       "      <td>Open - Apple iPhone 8 Plus 64GB Space Gray</td>\n",
       "      <td>Apple iPhone 8 Plus 64GB Space Gray</td>\n",
       "      <td>919.0</td>\n",
       "      <td>0</td>\n",
       "      <td>113281716</td>\n",
       "      <td></td>\n",
       "    </tr>\n",
       "  </tbody>\n",
       "</table>\n",
       "<p>269 rows × 7 columns</p>\n",
       "</div>"
      ],
      "text/plain": [
       "            sku                                        name  \\\n",
       "579     APP0675             Apple iPhone 5S 32GB Space Gray   \n",
       "956     APP0823                  Apple iPhone 6 16GB Silver   \n",
       "961     APP0829             Apple iPhone 6 Plus 16GB Silver   \n",
       "962     APP0822              Apple iPhone 6 16GB Space Gray   \n",
       "963     APP0825              Apple iPhone 6 64GB Space Gray   \n",
       "...         ...                                         ...   \n",
       "9585  APP1634-A       Open - Apple iPhone 7 Plus 32GB Black   \n",
       "9587  APP2540-A    Open - Apple iPhone Leather Folio X Baya   \n",
       "9714  APP2562-A  Open - Apple iPhone Leather Case Cover Red   \n",
       "9794  APP2482-A       Open - Apple iPhone 8 Plus 256GB Gold   \n",
       "9929  APP2477-A  Open - Apple iPhone 8 Plus 64GB Space Gray   \n",
       "\n",
       "                                                   desc   price  in_stock  \\\n",
       "579               New Free iPhone 5S 32GB (ME435Y / A).   559.0         0   \n",
       "956               New iPhone 6 16GB Free (MG482QL / A).   639.0         0   \n",
       "961           New iPhone 6 Plus 16G Free (MGA92QL / A).   749.0         0   \n",
       "962               New iPhone 6 16GB Free (MG472QL / A).   639.0         0   \n",
       "963               New iPhone 6 64GB Free (MG4F2QL / A).   749.0         0   \n",
       "...                                                 ...     ...       ...   \n",
       "9585            New 32GB Apple iPhone 7 Plus Free Black   779.0         0   \n",
       "9587     Leather case with box and official cover Apple   109.0         0   \n",
       "9714  Reconditioned skin sheath official Apple desig...    45.0         0   \n",
       "9794    Refurbished Apple iPhone 8 Plus 256GB Free Gold  1089.0         0   \n",
       "9929                Apple iPhone 8 Plus 64GB Space Gray   919.0         0   \n",
       "\n",
       "           type category  \n",
       "579         NaN           \n",
       "956         NaN           \n",
       "961         NaN           \n",
       "962         NaN           \n",
       "963         NaN           \n",
       "...         ...      ...  \n",
       "9585   85651716           \n",
       "9587   11865403           \n",
       "9714   11865403           \n",
       "9794  113281716           \n",
       "9929  113281716           \n",
       "\n",
       "[269 rows x 7 columns]"
      ]
     },
     "execution_count": 10,
     "metadata": {},
     "output_type": "execute_result"
    }
   ],
   "source": [
    "product_category_df.loc[product_category_df[\"name\"].str.lower().str.contains(\"^.{0,7}apple iphone\"), :]"
   ]
  },
  {
   "cell_type": "markdown",
   "metadata": {
    "id": "CYyrvQ2qSLuZ"
   },
   "source": [
    "Now we can use the same trick as before to set the category - selecting the `category` column and setting it to the string of our choice."
   ]
  },
  {
   "cell_type": "code",
   "execution_count": 11,
   "metadata": {
    "id": "yTCbUyK0BMb4"
   },
   "outputs": [],
   "source": [
    "product_category_df.loc[product_category_df[\"name\"].str.lower().str.contains(\"^.{0,7}apple iphone\"), \"category\"] = \"smartphone\""
   ]
  },
  {
   "cell_type": "code",
   "execution_count": 12,
   "metadata": {
    "id": "3TTuCTuW3YeL"
   },
   "outputs": [
    {
     "data": {
      "text/plain": [
       "              9634\n",
       "smartphone     269\n",
       "keyboard        89\n",
       "Name: category, dtype: int64"
      ]
     },
     "execution_count": 12,
     "metadata": {},
     "output_type": "execute_result"
    }
   ],
   "source": [
    "product_category_df[\"category\"].value_counts()"
   ]
  },
  {
   "cell_type": "markdown",
   "metadata": {
    "id": "foWHV_NItf_Z"
   },
   "source": [
    "## 3.&nbsp; One product with multiple categories\n",
    "A product may fit into multiple categories. To help us create multiple categories for one product, we will use the python addition assignment `+=`. The addition assignment is a shorthand way to add something (number, string, etc...) to a variable without changing the variable name. \n",
    "\n",
    "Let's have a look at a couple of examples."
   ]
  },
  {
   "cell_type": "code",
   "execution_count": 13,
   "metadata": {
    "id": "GDAclDOIourZ"
   },
   "outputs": [
    {
     "data": {
      "text/plain": [
       "15"
      ]
     },
     "execution_count": 13,
     "metadata": {},
     "output_type": "execute_result"
    }
   ],
   "source": [
    "a = 10\n",
    "a = a + 5\n",
    "a"
   ]
  },
  {
   "cell_type": "code",
   "execution_count": 14,
   "metadata": {
    "id": "hwZIQWTKpEBP"
   },
   "outputs": [
    {
     "data": {
      "text/plain": [
       "15"
      ]
     },
     "execution_count": 14,
     "metadata": {},
     "output_type": "execute_result"
    }
   ],
   "source": [
    "a = 10\n",
    "a += 5\n",
    "a"
   ]
  },
  {
   "cell_type": "code",
   "execution_count": 15,
   "metadata": {
    "id": "ftaB_cw8o_25"
   },
   "outputs": [
    {
     "data": {
      "text/plain": [
       "'Tyrannosaurus rex'"
      ]
     },
     "execution_count": 15,
     "metadata": {},
     "output_type": "execute_result"
    }
   ],
   "source": [
    "b = \"Tyrannosaurus\"\n",
    "b = b + \" rex\"\n",
    "b"
   ]
  },
  {
   "cell_type": "code",
   "execution_count": 16,
   "metadata": {
    "id": "5Tv19vbdpZLO"
   },
   "outputs": [
    {
     "data": {
      "text/plain": [
       "'Tyrannosaurus rex'"
      ]
     },
     "execution_count": 16,
     "metadata": {},
     "output_type": "execute_result"
    }
   ],
   "source": [
    "b = \"Tyrannosaurus\"\n",
    "b += \" rex\"\n",
    "b"
   ]
  },
  {
   "cell_type": "markdown",
   "metadata": {
    "id": "V3q9xza6q3MZ"
   },
   "source": [
    "Now let's look at how this can help us in our category creation.\n",
    "\n",
    "First, we'll reset all the values in the category column to an empty string `\"\"`."
   ]
  },
  {
   "cell_type": "code",
   "execution_count": 17,
   "metadata": {
    "id": "zYQeeC6E86T_"
   },
   "outputs": [],
   "source": [
    "product_category_df[\"category\"] = \"\""
   ]
  },
  {
   "cell_type": "markdown",
   "metadata": {
    "id": "LYGZ67rnrLU8"
   },
   "source": [
    "Now, let's create some categories and utilise the addition assignment."
   ]
  },
  {
   "cell_type": "code",
   "execution_count": 28,
   "metadata": {
    "id": "ZOtQHJqsn3Qv"
   },
   "outputs": [],
   "source": [
    "product_category_df.loc[product_category_df[\"desc\"].str.lower().str.contains(\"keyboard\"), \"category\"] += \", keyboard\"\n",
    "product_category_df.loc[product_category_df[\"name\"].str.lower().str.contains(\"^.{0,7}apple iphone\"), \"category\"] += \", smartphone\"\n",
    "product_category_df.loc[product_category_df[\"name\"].str.lower().str.contains(\"^.{0,7}apple ipod\"), \"category\"] += \", ipod\"\n",
    "product_category_df.loc[product_category_df[\"name\"].str.lower().str.contains(\"^.{0,7}apple ipad|tablet\"), \"category\"] += \", tablet\"\n",
    "product_category_df.loc[product_category_df[\"name\"].str.lower().str.contains(\"imac|mac mini|mac pro\"), \"category\"] += \", desktop\""
   ]
  },
  {
   "cell_type": "code",
   "execution_count": 19,
   "metadata": {
    "id": "EAS_yezTn4m_"
   },
   "outputs": [
    {
     "data": {
      "text/plain": [
       "                       8362\n",
       ", desktop               923\n",
       ", tablet                307\n",
       ", smartphone            269\n",
       ", keyboard               83\n",
       ", ipod                   42\n",
       ", keyboard, tablet        4\n",
       ", keyboard, desktop       2\n",
       "Name: category, dtype: int64"
      ]
     },
     "execution_count": 19,
     "metadata": {},
     "output_type": "execute_result"
    }
   ],
   "source": [
    "product_category_df[\"category\"].value_counts()"
   ]
  },
  {
   "cell_type": "markdown",
   "metadata": {
    "id": "tZktZ5udrTQn"
   },
   "source": [
    "As you can see, some products now have 2 categories instead of just one. At the end, you can use your skills with string to tidy up the opening comma and space in the `category` column."
   ]
  },
  {
   "cell_type": "markdown",
   "metadata": {
    "id": "0c7iUc3J87_b"
   },
   "source": [
    "# Challenge. Your categories\n",
    "Now it's your turn. We'll reset the Dataframe so that no categories exist, and it's up to you to create the categories based on keywords in the name and description. Feel free to go wild and make as many categories as you like.\n",
    "* Remember you can also use regex to refine your searches.\n",
    "* Remember you can use the or operator `|` to search for multiple terms at once.\n",
    "* Remember to tidy up any untidy strings at the end."
   ]
  },
  {
   "cell_type": "code",
   "execution_count": 20,
   "metadata": {
    "id": "LPcqdik6sEwA"
   },
   "outputs": [],
   "source": [
    "# your code here"
   ]
  },
  {
   "cell_type": "markdown",
   "metadata": {
    "id": "RZmoYd6-tsvG"
   },
   "source": [
    "## 4.&nbsp; [BONUS] Using `type` to create categories\n",
    "There could be another way to create categories, but this one you'll have to explore this one alone.\n",
    "\n",
    "We have the mysterious column `type` in the `products` table. This could potentially be ready-made categories labelled with numbers instead of words. Let's investigate."
   ]
  },
  {
   "cell_type": "code",
   "execution_count": 21,
   "metadata": {
    "id": "K5HJA7_M2nzw"
   },
   "outputs": [],
   "source": [
    "category_type_df = products_cl.copy()"
   ]
  },
  {
   "cell_type": "markdown",
   "metadata": {
    "id": "rqjhiJiE3Xbm"
   },
   "source": [
    "Here are the `type`s that have the most products."
   ]
  },
  {
   "cell_type": "code",
   "execution_count": 22,
   "metadata": {
    "id": "OwzkbYnvNDnu"
   },
   "outputs": [
    {
     "data": {
      "text/html": [
       "<div>\n",
       "<style scoped>\n",
       "    .dataframe tbody tr th:only-of-type {\n",
       "        vertical-align: middle;\n",
       "    }\n",
       "\n",
       "    .dataframe tbody tr th {\n",
       "        vertical-align: top;\n",
       "    }\n",
       "\n",
       "    .dataframe thead th {\n",
       "        text-align: right;\n",
       "    }\n",
       "</style>\n",
       "<table border=\"1\" class=\"dataframe\">\n",
       "  <thead>\n",
       "    <tr style=\"text-align: right;\">\n",
       "      <th></th>\n",
       "      <th>sku</th>\n",
       "      <th>name</th>\n",
       "      <th>desc</th>\n",
       "      <th>price</th>\n",
       "      <th>in_stock</th>\n",
       "    </tr>\n",
       "    <tr>\n",
       "      <th>type</th>\n",
       "      <th></th>\n",
       "      <th></th>\n",
       "      <th></th>\n",
       "      <th></th>\n",
       "      <th></th>\n",
       "    </tr>\n",
       "  </thead>\n",
       "  <tbody>\n",
       "    <tr>\n",
       "      <th>11865403</th>\n",
       "      <td>1057</td>\n",
       "      <td>1057</td>\n",
       "      <td>1057</td>\n",
       "      <td>1057</td>\n",
       "      <td>1057</td>\n",
       "    </tr>\n",
       "    <tr>\n",
       "      <th>12175397</th>\n",
       "      <td>939</td>\n",
       "      <td>939</td>\n",
       "      <td>939</td>\n",
       "      <td>939</td>\n",
       "      <td>939</td>\n",
       "    </tr>\n",
       "    <tr>\n",
       "      <th>1298</th>\n",
       "      <td>783</td>\n",
       "      <td>783</td>\n",
       "      <td>783</td>\n",
       "      <td>783</td>\n",
       "      <td>783</td>\n",
       "    </tr>\n",
       "    <tr>\n",
       "      <th>11935397</th>\n",
       "      <td>562</td>\n",
       "      <td>562</td>\n",
       "      <td>562</td>\n",
       "      <td>562</td>\n",
       "      <td>562</td>\n",
       "    </tr>\n",
       "    <tr>\n",
       "      <th>11905404</th>\n",
       "      <td>454</td>\n",
       "      <td>454</td>\n",
       "      <td>454</td>\n",
       "      <td>454</td>\n",
       "      <td>454</td>\n",
       "    </tr>\n",
       "    <tr>\n",
       "      <th>1282</th>\n",
       "      <td>373</td>\n",
       "      <td>373</td>\n",
       "      <td>373</td>\n",
       "      <td>373</td>\n",
       "      <td>373</td>\n",
       "    </tr>\n",
       "    <tr>\n",
       "      <th>12635403</th>\n",
       "      <td>362</td>\n",
       "      <td>362</td>\n",
       "      <td>362</td>\n",
       "      <td>362</td>\n",
       "      <td>362</td>\n",
       "    </tr>\n",
       "    <tr>\n",
       "      <th>13835403</th>\n",
       "      <td>269</td>\n",
       "      <td>269</td>\n",
       "      <td>269</td>\n",
       "      <td>269</td>\n",
       "      <td>269</td>\n",
       "    </tr>\n",
       "    <tr>\n",
       "      <th>5,74E+15</th>\n",
       "      <td>247</td>\n",
       "      <td>247</td>\n",
       "      <td>247</td>\n",
       "      <td>247</td>\n",
       "      <td>247</td>\n",
       "    </tr>\n",
       "    <tr>\n",
       "      <th>1364</th>\n",
       "      <td>216</td>\n",
       "      <td>216</td>\n",
       "      <td>216</td>\n",
       "      <td>216</td>\n",
       "      <td>216</td>\n",
       "    </tr>\n",
       "  </tbody>\n",
       "</table>\n",
       "</div>"
      ],
      "text/plain": [
       "           sku  name  desc  price  in_stock\n",
       "type                                       \n",
       "11865403  1057  1057  1057   1057      1057\n",
       "12175397   939   939   939    939       939\n",
       "1298       783   783   783    783       783\n",
       "11935397   562   562   562    562       562\n",
       "11905404   454   454   454    454       454\n",
       "1282       373   373   373    373       373\n",
       "12635403   362   362   362    362       362\n",
       "13835403   269   269   269    269       269\n",
       "5,74E+15   247   247   247    247       247\n",
       "1364       216   216   216    216       216"
      ]
     },
     "execution_count": 22,
     "metadata": {},
     "output_type": "execute_result"
    }
   ],
   "source": [
    "category_type_df.groupby(\"type\").count().nlargest(10, \"sku\")"
   ]
  },
  {
   "cell_type": "markdown",
   "metadata": {
    "id": "gxkXWt9K3lAl"
   },
   "source": [
    "Let's have a look at the first `type` to see if we can make categories from this column."
   ]
  },
  {
   "cell_type": "code",
   "execution_count": 27,
   "metadata": {
    "id": "qDcnQEXo3_2Q"
   },
   "outputs": [
    {
     "data": {
      "text/html": [
       "<div>\n",
       "<style scoped>\n",
       "    .dataframe tbody tr th:only-of-type {\n",
       "        vertical-align: middle;\n",
       "    }\n",
       "\n",
       "    .dataframe tbody tr th {\n",
       "        vertical-align: top;\n",
       "    }\n",
       "\n",
       "    .dataframe thead th {\n",
       "        text-align: right;\n",
       "    }\n",
       "</style>\n",
       "<table border=\"1\" class=\"dataframe\">\n",
       "  <thead>\n",
       "    <tr style=\"text-align: right;\">\n",
       "      <th></th>\n",
       "      <th>sku</th>\n",
       "      <th>name</th>\n",
       "      <th>desc</th>\n",
       "      <th>price</th>\n",
       "      <th>in_stock</th>\n",
       "      <th>type</th>\n",
       "    </tr>\n",
       "  </thead>\n",
       "  <tbody>\n",
       "    <tr>\n",
       "      <th>4614</th>\n",
       "      <td>OTT0136</td>\n",
       "      <td>Otterbox iPhone Case Symmetry 2.0 SE / 5s / 5 ...</td>\n",
       "      <td>resistant cover and thin beveled edges for iPh...</td>\n",
       "      <td>34.99</td>\n",
       "      <td>0</td>\n",
       "      <td>11865403</td>\n",
       "    </tr>\n",
       "    <tr>\n",
       "      <th>5135</th>\n",
       "      <td>UAG0052</td>\n",
       "      <td>Urban Armor Gear Case iPhone 7 Plus Pathfinder...</td>\n",
       "      <td>resistant cover bumps and drops iPhone 7 Plus</td>\n",
       "      <td>34.95</td>\n",
       "      <td>0</td>\n",
       "      <td>11865403</td>\n",
       "    </tr>\n",
       "    <tr>\n",
       "      <th>1409</th>\n",
       "      <td>KUA0017</td>\n",
       "      <td>Support Kukaclip car + Funda iPhone 6 / 6S Red</td>\n",
       "      <td>Magnetic car holder with 360 degrees rotating ...</td>\n",
       "      <td>24.99</td>\n",
       "      <td>0</td>\n",
       "      <td>11865403</td>\n",
       "    </tr>\n",
       "    <tr>\n",
       "      <th>7795</th>\n",
       "      <td>AP20202</td>\n",
       "      <td>Like new - Apple Leather Case Cover iPhone 6 /...</td>\n",
       "      <td>Reconditioned ultrathin leather case and micro...</td>\n",
       "      <td>55.00</td>\n",
       "      <td>0</td>\n",
       "      <td>11865403</td>\n",
       "    </tr>\n",
       "    <tr>\n",
       "      <th>7425</th>\n",
       "      <td>APP2093</td>\n",
       "      <td>Apple iPhone Silicone Case Cover 7 Blue Haze</td>\n",
       "      <td>Ultrathin silicone case and microfiber premium...</td>\n",
       "      <td>39.00</td>\n",
       "      <td>0</td>\n",
       "      <td>11865403</td>\n",
       "    </tr>\n",
       "    <tr>\n",
       "      <th>8402</th>\n",
       "      <td>APP2535</td>\n",
       "      <td>Apple iPhone leather case Leather Case 8 Plus ...</td>\n",
       "      <td>ultrathin leather case and microfibre premium ...</td>\n",
       "      <td>59.00</td>\n",
       "      <td>0</td>\n",
       "      <td>11865403</td>\n",
       "    </tr>\n",
       "    <tr>\n",
       "      <th>3045</th>\n",
       "      <td>TUC0234</td>\n",
       "      <td>Housing Flex Elektro Tucano iPhone 6 / 6S Plus...</td>\n",
       "      <td>Cover for iPhone 6 / 6S Plus.</td>\n",
       "      <td>19.90</td>\n",
       "      <td>0</td>\n",
       "      <td>11865403</td>\n",
       "    </tr>\n",
       "    <tr>\n",
       "      <th>8754</th>\n",
       "      <td>APP2564</td>\n",
       "      <td>Apple Leather Case iPhone Case Fuchsia Pink X</td>\n",
       "      <td>Leather case Apple official</td>\n",
       "      <td>59.00</td>\n",
       "      <td>0</td>\n",
       "      <td>11865403</td>\n",
       "    </tr>\n",
       "    <tr>\n",
       "      <th>2597</th>\n",
       "      <td>LIF0084</td>\n",
       "      <td>LifeProof Fre iPhone 6 Black Waterproof Case</td>\n",
       "      <td>waterproof and extreme conditions for iPhone 6...</td>\n",
       "      <td>79.99</td>\n",
       "      <td>0</td>\n",
       "      <td>11865403</td>\n",
       "    </tr>\n",
       "    <tr>\n",
       "      <th>5457</th>\n",
       "      <td>GRT0448</td>\n",
       "      <td>Griffin Survivor iPhone Case Journey 8 Plus / ...</td>\n",
       "      <td>rugged case with shock dispersion system for i...</td>\n",
       "      <td>29.99</td>\n",
       "      <td>0</td>\n",
       "      <td>11865403</td>\n",
       "    </tr>\n",
       "  </tbody>\n",
       "</table>\n",
       "</div>"
      ],
      "text/plain": [
       "          sku                                               name  \\\n",
       "4614  OTT0136  Otterbox iPhone Case Symmetry 2.0 SE / 5s / 5 ...   \n",
       "5135  UAG0052  Urban Armor Gear Case iPhone 7 Plus Pathfinder...   \n",
       "1409  KUA0017     Support Kukaclip car + Funda iPhone 6 / 6S Red   \n",
       "7795  AP20202  Like new - Apple Leather Case Cover iPhone 6 /...   \n",
       "7425  APP2093       Apple iPhone Silicone Case Cover 7 Blue Haze   \n",
       "8402  APP2535  Apple iPhone leather case Leather Case 8 Plus ...   \n",
       "3045  TUC0234  Housing Flex Elektro Tucano iPhone 6 / 6S Plus...   \n",
       "8754  APP2564      Apple Leather Case iPhone Case Fuchsia Pink X   \n",
       "2597  LIF0084       LifeProof Fre iPhone 6 Black Waterproof Case   \n",
       "5457  GRT0448  Griffin Survivor iPhone Case Journey 8 Plus / ...   \n",
       "\n",
       "                                                   desc  price  in_stock  \\\n",
       "4614  resistant cover and thin beveled edges for iPh...  34.99         0   \n",
       "5135      resistant cover bumps and drops iPhone 7 Plus  34.95         0   \n",
       "1409  Magnetic car holder with 360 degrees rotating ...  24.99         0   \n",
       "7795  Reconditioned ultrathin leather case and micro...  55.00         0   \n",
       "7425  Ultrathin silicone case and microfiber premium...  39.00         0   \n",
       "8402  ultrathin leather case and microfibre premium ...  59.00         0   \n",
       "3045                      Cover for iPhone 6 / 6S Plus.  19.90         0   \n",
       "8754                        Leather case Apple official  59.00         0   \n",
       "2597  waterproof and extreme conditions for iPhone 6...  79.99         0   \n",
       "5457  rugged case with shock dispersion system for i...  29.99         0   \n",
       "\n",
       "          type  \n",
       "4614  11865403  \n",
       "5135  11865403  \n",
       "1409  11865403  \n",
       "7795  11865403  \n",
       "7425  11865403  \n",
       "8402  11865403  \n",
       "3045  11865403  \n",
       "8754  11865403  \n",
       "2597  11865403  \n",
       "5457  11865403  "
      ]
     },
     "execution_count": 27,
     "metadata": {},
     "output_type": "execute_result"
    }
   ],
   "source": [
    "category_type_df.loc[category_type_df[\"type\"] == \"11865403\", :].sample(10)"
   ]
  },
  {
   "cell_type": "markdown",
   "metadata": {
    "id": "8f4D6vx04EF-"
   },
   "source": [
    "Looks like this is a category of phone cases.\n",
    "\n",
    "Let's have a look at the 2nd largest type to see if that's also a clear category."
   ]
  },
  {
   "cell_type": "code",
   "execution_count": 24,
   "metadata": {
    "id": "iiP45DQQ4YHC"
   },
   "outputs": [
    {
     "data": {
      "text/html": [
       "<div>\n",
       "<style scoped>\n",
       "    .dataframe tbody tr th:only-of-type {\n",
       "        vertical-align: middle;\n",
       "    }\n",
       "\n",
       "    .dataframe tbody tr th {\n",
       "        vertical-align: top;\n",
       "    }\n",
       "\n",
       "    .dataframe thead th {\n",
       "        text-align: right;\n",
       "    }\n",
       "</style>\n",
       "<table border=\"1\" class=\"dataframe\">\n",
       "  <thead>\n",
       "    <tr style=\"text-align: right;\">\n",
       "      <th></th>\n",
       "      <th>sku</th>\n",
       "      <th>name</th>\n",
       "      <th>desc</th>\n",
       "      <th>price</th>\n",
       "      <th>in_stock</th>\n",
       "      <th>type</th>\n",
       "    </tr>\n",
       "  </thead>\n",
       "  <tbody>\n",
       "    <tr>\n",
       "      <th>4366</th>\n",
       "      <td>SYN0141</td>\n",
       "      <td>Synology DS916 + | 2GB RAM Mac and PC Server Nas</td>\n",
       "      <td>4-bay NAS server and 2GB of RAM for Mac iPad a...</td>\n",
       "      <td>580.80</td>\n",
       "      <td>0</td>\n",
       "      <td>12175397</td>\n",
       "    </tr>\n",
       "    <tr>\n",
       "      <th>3495</th>\n",
       "      <td>SYN0131</td>\n",
       "      <td>Synology DS416j NAS Server Mac and PC</td>\n",
       "      <td>Served NAS 4-bay RAID 5 and DLNA media center</td>\n",
       "      <td>314.99</td>\n",
       "      <td>0</td>\n",
       "      <td>12175397</td>\n",
       "    </tr>\n",
       "    <tr>\n",
       "      <th>9055</th>\n",
       "      <td>QNA0256</td>\n",
       "      <td>Qnap NAS server TS-431P2-1G</td>\n",
       "      <td>NAS server with 1GB of RAM memory 2 Gigabit po...</td>\n",
       "      <td>337.99</td>\n",
       "      <td>0</td>\n",
       "      <td>12175397</td>\n",
       "    </tr>\n",
       "    <tr>\n",
       "      <th>7766</th>\n",
       "      <td>PAC1695</td>\n",
       "      <td>Pack QNAP TS-251A NAS Server | 16GB RAM | Seag...</td>\n",
       "      <td>NAS with 16GB of RAM and 6TB (2x3TB) Seagate I...</td>\n",
       "      <td>771.65</td>\n",
       "      <td>0</td>\n",
       "      <td>12175397</td>\n",
       "    </tr>\n",
       "    <tr>\n",
       "      <th>4475</th>\n",
       "      <td>WDT0331</td>\n",
       "      <td>WD My Cloud DL4100 Mac and PC Server NAS</td>\n",
       "      <td>NAS 4-Bay Diskless for small business Mac and PC</td>\n",
       "      <td>469.99</td>\n",
       "      <td>0</td>\n",
       "      <td>12175397</td>\n",
       "    </tr>\n",
       "    <tr>\n",
       "      <th>8582</th>\n",
       "      <td>PAC2350</td>\n",
       "      <td>Synology DS718 + NAS Server | 16GB RAM | 24TB ...</td>\n",
       "      <td>Scalable NAS server with transcoding 4K: 4-cor...</td>\n",
       "      <td>1642.69</td>\n",
       "      <td>0</td>\n",
       "      <td>12175397</td>\n",
       "    </tr>\n",
       "    <tr>\n",
       "      <th>1323</th>\n",
       "      <td>PAC1529</td>\n",
       "      <td>Pack Synology DS1815 + NAS Server | 16GB RAM</td>\n",
       "      <td>NAS server with 16GB of RAM and 8 bays for Mac...</td>\n",
       "      <td>1094.57</td>\n",
       "      <td>0</td>\n",
       "      <td>12175397</td>\n",
       "    </tr>\n",
       "    <tr>\n",
       "      <th>7749</th>\n",
       "      <td>PAC2173</td>\n",
       "      <td>QNAP TS-251A-4G NAS Server | 4GB RAM | 20TB (2...</td>\n",
       "      <td>NAS with 4GB of RAM and two HDDs 10TB (2x10TB)...</td>\n",
       "      <td>1198.07</td>\n",
       "      <td>1</td>\n",
       "      <td>12175397</td>\n",
       "    </tr>\n",
       "    <tr>\n",
       "      <th>4364</th>\n",
       "      <td>PAC1856</td>\n",
       "      <td>Synology DS116 NAS Server | 8TB Seagate IronWolf</td>\n",
       "      <td>Synology DS116 + Seagate 8TB Hard Drive for Ma...</td>\n",
       "      <td>526.37</td>\n",
       "      <td>0</td>\n",
       "      <td>12175397</td>\n",
       "    </tr>\n",
       "    <tr>\n",
       "      <th>4356</th>\n",
       "      <td>PAC1439</td>\n",
       "      <td>Synology DS116 + Pack 2TB WD Red</td>\n",
       "      <td>1 bay NAS server + 2TB (1x2TB) Network Hard Dr...</td>\n",
       "      <td>265.38</td>\n",
       "      <td>0</td>\n",
       "      <td>12175397</td>\n",
       "    </tr>\n",
       "  </tbody>\n",
       "</table>\n",
       "</div>"
      ],
      "text/plain": [
       "          sku                                               name  \\\n",
       "4366  SYN0141   Synology DS916 + | 2GB RAM Mac and PC Server Nas   \n",
       "3495  SYN0131              Synology DS416j NAS Server Mac and PC   \n",
       "9055  QNA0256                        Qnap NAS server TS-431P2-1G   \n",
       "7766  PAC1695  Pack QNAP TS-251A NAS Server | 16GB RAM | Seag...   \n",
       "4475  WDT0331           WD My Cloud DL4100 Mac and PC Server NAS   \n",
       "8582  PAC2350  Synology DS718 + NAS Server | 16GB RAM | 24TB ...   \n",
       "1323  PAC1529       Pack Synology DS1815 + NAS Server | 16GB RAM   \n",
       "7749  PAC2173  QNAP TS-251A-4G NAS Server | 4GB RAM | 20TB (2...   \n",
       "4364  PAC1856   Synology DS116 NAS Server | 8TB Seagate IronWolf   \n",
       "4356  PAC1439                   Synology DS116 + Pack 2TB WD Red   \n",
       "\n",
       "                                                   desc    price  in_stock  \\\n",
       "4366  4-bay NAS server and 2GB of RAM for Mac iPad a...   580.80         0   \n",
       "3495      Served NAS 4-bay RAID 5 and DLNA media center   314.99         0   \n",
       "9055  NAS server with 1GB of RAM memory 2 Gigabit po...   337.99         0   \n",
       "7766  NAS with 16GB of RAM and 6TB (2x3TB) Seagate I...   771.65         0   \n",
       "4475   NAS 4-Bay Diskless for small business Mac and PC   469.99         0   \n",
       "8582  Scalable NAS server with transcoding 4K: 4-cor...  1642.69         0   \n",
       "1323  NAS server with 16GB of RAM and 8 bays for Mac...  1094.57         0   \n",
       "7749  NAS with 4GB of RAM and two HDDs 10TB (2x10TB)...  1198.07         1   \n",
       "4364  Synology DS116 + Seagate 8TB Hard Drive for Ma...   526.37         0   \n",
       "4356  1 bay NAS server + 2TB (1x2TB) Network Hard Dr...   265.38         0   \n",
       "\n",
       "          type  \n",
       "4366  12175397  \n",
       "3495  12175397  \n",
       "9055  12175397  \n",
       "7766  12175397  \n",
       "4475  12175397  \n",
       "8582  12175397  \n",
       "1323  12175397  \n",
       "7749  12175397  \n",
       "4364  12175397  \n",
       "4356  12175397  "
      ]
     },
     "execution_count": 24,
     "metadata": {},
     "output_type": "execute_result"
    }
   ],
   "source": [
    "category_type_df.loc[category_type_df[\"type\"] == \"12175397\", :].sample(10)"
   ]
  },
  {
   "cell_type": "markdown",
   "metadata": {
    "id": "rQq4i68T4i4Z"
   },
   "source": [
    "Looks like this category is full of servers.\n",
    "\n",
    "I wonder how many `type`s account for most of our products?"
   ]
  },
  {
   "cell_type": "code",
   "execution_count": 25,
   "metadata": {
    "id": "nvC72XNi5VUz"
   },
   "outputs": [
    {
     "name": "stdout",
     "output_type": "stream",
     "text": [
      "With the 30 largest types, we account for 78.4% of all products.\n"
     ]
    }
   ],
   "source": [
    "n = 30\n",
    "print(f\"With the {n} largest types, we account for {((category_type_df.groupby('type').count().nlargest(n, 'sku')['sku'].sum()) / (category_type_df.shape[0]) * 100).round(2)}% of all products.\")"
   ]
  },
  {
   "cell_type": "markdown",
   "metadata": {
    "id": "40a0ksM46UCi"
   },
   "source": [
    "Looks like we can simply investigate 30 types and set the categories, then the remaining 20% of products can have the category `other`.\n",
    "\n",
    "Use the skills you learnt above to change the category for each type."
   ]
  },
  {
   "cell_type": "code",
   "execution_count": 26,
   "metadata": {
    "id": "oVfMxn3y62sE"
   },
   "outputs": [
    {
     "ename": "KeyError",
     "evalue": "'unit_price_total'",
     "output_type": "error",
     "traceback": [
      "\u001b[0;31m---------------------------------------------------------------------------\u001b[0m",
      "\u001b[0;31mKeyError\u001b[0m                                  Traceback (most recent call last)",
      "\u001b[0;32m~/opt/anaconda3/lib/python3.8/site-packages/pandas/core/indexes/base.py\u001b[0m in \u001b[0;36mget_loc\u001b[0;34m(self, key, method, tolerance)\u001b[0m\n\u001b[1;32m   3079\u001b[0m             \u001b[0;32mtry\u001b[0m\u001b[0;34m:\u001b[0m\u001b[0;34m\u001b[0m\u001b[0;34m\u001b[0m\u001b[0m\n\u001b[0;32m-> 3080\u001b[0;31m                 \u001b[0;32mreturn\u001b[0m \u001b[0mself\u001b[0m\u001b[0;34m.\u001b[0m\u001b[0m_engine\u001b[0m\u001b[0;34m.\u001b[0m\u001b[0mget_loc\u001b[0m\u001b[0;34m(\u001b[0m\u001b[0mcasted_key\u001b[0m\u001b[0;34m)\u001b[0m\u001b[0;34m\u001b[0m\u001b[0;34m\u001b[0m\u001b[0m\n\u001b[0m\u001b[1;32m   3081\u001b[0m             \u001b[0;32mexcept\u001b[0m \u001b[0mKeyError\u001b[0m \u001b[0;32mas\u001b[0m \u001b[0merr\u001b[0m\u001b[0;34m:\u001b[0m\u001b[0;34m\u001b[0m\u001b[0;34m\u001b[0m\u001b[0m\n",
      "\u001b[0;32mpandas/_libs/index.pyx\u001b[0m in \u001b[0;36mpandas._libs.index.IndexEngine.get_loc\u001b[0;34m()\u001b[0m\n",
      "\u001b[0;32mpandas/_libs/index.pyx\u001b[0m in \u001b[0;36mpandas._libs.index.IndexEngine.get_loc\u001b[0;34m()\u001b[0m\n",
      "\u001b[0;32mpandas/_libs/hashtable_class_helper.pxi\u001b[0m in \u001b[0;36mpandas._libs.hashtable.PyObjectHashTable.get_item\u001b[0;34m()\u001b[0m\n",
      "\u001b[0;32mpandas/_libs/hashtable_class_helper.pxi\u001b[0m in \u001b[0;36mpandas._libs.hashtable.PyObjectHashTable.get_item\u001b[0;34m()\u001b[0m\n",
      "\u001b[0;31mKeyError\u001b[0m: 'unit_price_total'",
      "\nThe above exception was the direct cause of the following exception:\n",
      "\u001b[0;31mKeyError\u001b[0m                                  Traceback (most recent call last)",
      "\u001b[0;32m<ipython-input-26-a249782763cf>\u001b[0m in \u001b[0;36m<module>\u001b[0;34m\u001b[0m\n\u001b[1;32m      1\u001b[0m \u001b[0mn\u001b[0m \u001b[0;34m=\u001b[0m \u001b[0;36m30\u001b[0m\u001b[0;34m\u001b[0m\u001b[0;34m\u001b[0m\u001b[0m\n\u001b[0;32m----> 2\u001b[0;31m \u001b[0mprint\u001b[0m\u001b[0;34m(\u001b[0m\u001b[0;34mf\"With the {n} largest types, we account for {((category_type_df.groupby('type').count().nlargest(n, 'unit_price_total')['unit_price_total'].sum()) / (category_type_df.shape[0]) * 100).round(2)}% of all revenue.\"\u001b[0m\u001b[0;34m)\u001b[0m\u001b[0;34m\u001b[0m\u001b[0;34m\u001b[0m\u001b[0m\n\u001b[0m",
      "\u001b[0;32m~/opt/anaconda3/lib/python3.8/site-packages/pandas/core/frame.py\u001b[0m in \u001b[0;36mnlargest\u001b[0;34m(self, n, columns, keep)\u001b[0m\n\u001b[1;32m   5795\u001b[0m         \u001b[0mBrunei\u001b[0m      \u001b[0;36m434000\u001b[0m    \u001b[0;36m12128\u001b[0m      \u001b[0mBN\u001b[0m\u001b[0;34m\u001b[0m\u001b[0;34m\u001b[0m\u001b[0m\n\u001b[1;32m   5796\u001b[0m         \"\"\"\n\u001b[0;32m-> 5797\u001b[0;31m         \u001b[0;32mreturn\u001b[0m \u001b[0malgorithms\u001b[0m\u001b[0;34m.\u001b[0m\u001b[0mSelectNFrame\u001b[0m\u001b[0;34m(\u001b[0m\u001b[0mself\u001b[0m\u001b[0;34m,\u001b[0m \u001b[0mn\u001b[0m\u001b[0;34m=\u001b[0m\u001b[0mn\u001b[0m\u001b[0;34m,\u001b[0m \u001b[0mkeep\u001b[0m\u001b[0;34m=\u001b[0m\u001b[0mkeep\u001b[0m\u001b[0;34m,\u001b[0m \u001b[0mcolumns\u001b[0m\u001b[0;34m=\u001b[0m\u001b[0mcolumns\u001b[0m\u001b[0;34m)\u001b[0m\u001b[0;34m.\u001b[0m\u001b[0mnlargest\u001b[0m\u001b[0;34m(\u001b[0m\u001b[0;34m)\u001b[0m\u001b[0;34m\u001b[0m\u001b[0;34m\u001b[0m\u001b[0m\n\u001b[0m\u001b[1;32m   5798\u001b[0m \u001b[0;34m\u001b[0m\u001b[0m\n\u001b[1;32m   5799\u001b[0m     \u001b[0;32mdef\u001b[0m \u001b[0mnsmallest\u001b[0m\u001b[0;34m(\u001b[0m\u001b[0mself\u001b[0m\u001b[0;34m,\u001b[0m \u001b[0mn\u001b[0m\u001b[0;34m,\u001b[0m \u001b[0mcolumns\u001b[0m\u001b[0;34m,\u001b[0m \u001b[0mkeep\u001b[0m\u001b[0;34m=\u001b[0m\u001b[0;34m\"first\"\u001b[0m\u001b[0;34m)\u001b[0m \u001b[0;34m->\u001b[0m \u001b[0mDataFrame\u001b[0m\u001b[0;34m:\u001b[0m\u001b[0;34m\u001b[0m\u001b[0;34m\u001b[0m\u001b[0m\n",
      "\u001b[0;32m~/opt/anaconda3/lib/python3.8/site-packages/pandas/core/algorithms.py\u001b[0m in \u001b[0;36mnlargest\u001b[0;34m(self)\u001b[0m\n\u001b[1;32m   1181\u001b[0m \u001b[0;34m\u001b[0m\u001b[0m\n\u001b[1;32m   1182\u001b[0m     \u001b[0;32mdef\u001b[0m \u001b[0mnlargest\u001b[0m\u001b[0;34m(\u001b[0m\u001b[0mself\u001b[0m\u001b[0;34m)\u001b[0m\u001b[0;34m:\u001b[0m\u001b[0;34m\u001b[0m\u001b[0;34m\u001b[0m\u001b[0m\n\u001b[0;32m-> 1183\u001b[0;31m         \u001b[0;32mreturn\u001b[0m \u001b[0mself\u001b[0m\u001b[0;34m.\u001b[0m\u001b[0mcompute\u001b[0m\u001b[0;34m(\u001b[0m\u001b[0;34m\"nlargest\"\u001b[0m\u001b[0;34m)\u001b[0m\u001b[0;34m\u001b[0m\u001b[0;34m\u001b[0m\u001b[0m\n\u001b[0m\u001b[1;32m   1184\u001b[0m \u001b[0;34m\u001b[0m\u001b[0m\n\u001b[1;32m   1185\u001b[0m     \u001b[0;32mdef\u001b[0m \u001b[0mnsmallest\u001b[0m\u001b[0;34m(\u001b[0m\u001b[0mself\u001b[0m\u001b[0;34m)\u001b[0m\u001b[0;34m:\u001b[0m\u001b[0;34m\u001b[0m\u001b[0;34m\u001b[0m\u001b[0m\n",
      "\u001b[0;32m~/opt/anaconda3/lib/python3.8/site-packages/pandas/core/algorithms.py\u001b[0m in \u001b[0;36mcompute\u001b[0;34m(self, method)\u001b[0m\n\u001b[1;32m   1293\u001b[0m \u001b[0;34m\u001b[0m\u001b[0m\n\u001b[1;32m   1294\u001b[0m         \u001b[0;32mfor\u001b[0m \u001b[0mcolumn\u001b[0m \u001b[0;32min\u001b[0m \u001b[0mcolumns\u001b[0m\u001b[0;34m:\u001b[0m\u001b[0;34m\u001b[0m\u001b[0;34m\u001b[0m\u001b[0m\n\u001b[0;32m-> 1295\u001b[0;31m             \u001b[0mdtype\u001b[0m \u001b[0;34m=\u001b[0m \u001b[0mframe\u001b[0m\u001b[0;34m[\u001b[0m\u001b[0mcolumn\u001b[0m\u001b[0;34m]\u001b[0m\u001b[0;34m.\u001b[0m\u001b[0mdtype\u001b[0m\u001b[0;34m\u001b[0m\u001b[0;34m\u001b[0m\u001b[0m\n\u001b[0m\u001b[1;32m   1296\u001b[0m             \u001b[0;32mif\u001b[0m \u001b[0;32mnot\u001b[0m \u001b[0mself\u001b[0m\u001b[0;34m.\u001b[0m\u001b[0mis_valid_dtype_n_method\u001b[0m\u001b[0;34m(\u001b[0m\u001b[0mdtype\u001b[0m\u001b[0;34m)\u001b[0m\u001b[0;34m:\u001b[0m\u001b[0;34m\u001b[0m\u001b[0;34m\u001b[0m\u001b[0m\n\u001b[1;32m   1297\u001b[0m                 raise TypeError(\n",
      "\u001b[0;32m~/opt/anaconda3/lib/python3.8/site-packages/pandas/core/frame.py\u001b[0m in \u001b[0;36m__getitem__\u001b[0;34m(self, key)\u001b[0m\n\u001b[1;32m   3022\u001b[0m             \u001b[0;32mif\u001b[0m \u001b[0mself\u001b[0m\u001b[0;34m.\u001b[0m\u001b[0mcolumns\u001b[0m\u001b[0;34m.\u001b[0m\u001b[0mnlevels\u001b[0m \u001b[0;34m>\u001b[0m \u001b[0;36m1\u001b[0m\u001b[0;34m:\u001b[0m\u001b[0;34m\u001b[0m\u001b[0;34m\u001b[0m\u001b[0m\n\u001b[1;32m   3023\u001b[0m                 \u001b[0;32mreturn\u001b[0m \u001b[0mself\u001b[0m\u001b[0;34m.\u001b[0m\u001b[0m_getitem_multilevel\u001b[0m\u001b[0;34m(\u001b[0m\u001b[0mkey\u001b[0m\u001b[0;34m)\u001b[0m\u001b[0;34m\u001b[0m\u001b[0;34m\u001b[0m\u001b[0m\n\u001b[0;32m-> 3024\u001b[0;31m             \u001b[0mindexer\u001b[0m \u001b[0;34m=\u001b[0m \u001b[0mself\u001b[0m\u001b[0;34m.\u001b[0m\u001b[0mcolumns\u001b[0m\u001b[0;34m.\u001b[0m\u001b[0mget_loc\u001b[0m\u001b[0;34m(\u001b[0m\u001b[0mkey\u001b[0m\u001b[0;34m)\u001b[0m\u001b[0;34m\u001b[0m\u001b[0;34m\u001b[0m\u001b[0m\n\u001b[0m\u001b[1;32m   3025\u001b[0m             \u001b[0;32mif\u001b[0m \u001b[0mis_integer\u001b[0m\u001b[0;34m(\u001b[0m\u001b[0mindexer\u001b[0m\u001b[0;34m)\u001b[0m\u001b[0;34m:\u001b[0m\u001b[0;34m\u001b[0m\u001b[0;34m\u001b[0m\u001b[0m\n\u001b[1;32m   3026\u001b[0m                 \u001b[0mindexer\u001b[0m \u001b[0;34m=\u001b[0m \u001b[0;34m[\u001b[0m\u001b[0mindexer\u001b[0m\u001b[0;34m]\u001b[0m\u001b[0;34m\u001b[0m\u001b[0;34m\u001b[0m\u001b[0m\n",
      "\u001b[0;32m~/opt/anaconda3/lib/python3.8/site-packages/pandas/core/indexes/base.py\u001b[0m in \u001b[0;36mget_loc\u001b[0;34m(self, key, method, tolerance)\u001b[0m\n\u001b[1;32m   3080\u001b[0m                 \u001b[0;32mreturn\u001b[0m \u001b[0mself\u001b[0m\u001b[0;34m.\u001b[0m\u001b[0m_engine\u001b[0m\u001b[0;34m.\u001b[0m\u001b[0mget_loc\u001b[0m\u001b[0;34m(\u001b[0m\u001b[0mcasted_key\u001b[0m\u001b[0;34m)\u001b[0m\u001b[0;34m\u001b[0m\u001b[0;34m\u001b[0m\u001b[0m\n\u001b[1;32m   3081\u001b[0m             \u001b[0;32mexcept\u001b[0m \u001b[0mKeyError\u001b[0m \u001b[0;32mas\u001b[0m \u001b[0merr\u001b[0m\u001b[0;34m:\u001b[0m\u001b[0;34m\u001b[0m\u001b[0;34m\u001b[0m\u001b[0m\n\u001b[0;32m-> 3082\u001b[0;31m                 \u001b[0;32mraise\u001b[0m \u001b[0mKeyError\u001b[0m\u001b[0;34m(\u001b[0m\u001b[0mkey\u001b[0m\u001b[0;34m)\u001b[0m \u001b[0;32mfrom\u001b[0m \u001b[0merr\u001b[0m\u001b[0;34m\u001b[0m\u001b[0;34m\u001b[0m\u001b[0m\n\u001b[0m\u001b[1;32m   3083\u001b[0m \u001b[0;34m\u001b[0m\u001b[0m\n\u001b[1;32m   3084\u001b[0m         \u001b[0;32mif\u001b[0m \u001b[0mtolerance\u001b[0m \u001b[0;32mis\u001b[0m \u001b[0;32mnot\u001b[0m \u001b[0;32mNone\u001b[0m\u001b[0;34m:\u001b[0m\u001b[0;34m\u001b[0m\u001b[0;34m\u001b[0m\u001b[0m\n",
      "\u001b[0;31mKeyError\u001b[0m: 'unit_price_total'"
     ]
    }
   ],
   "source": [
    "n = 30\n",
    "print(f\"With the {n} largest types, we account for {((category_type_df.groupby('type').count().nlargest(n, 'unit_price_total')['unit_price_total'].sum()) / (category_type_df.shape[0]) * 100).round(2)}% of all revenue.\")"
   ]
  },
  {
   "cell_type": "code",
   "execution_count": null,
   "metadata": {},
   "outputs": [],
   "source": []
  }
 ],
 "metadata": {
  "colab": {
   "collapsed_sections": [],
   "provenance": []
  },
  "kernelspec": {
   "display_name": "Python 3",
   "language": "python",
   "name": "python3"
  },
  "language_info": {
   "codemirror_mode": {
    "name": "ipython",
    "version": 3
   },
   "file_extension": ".py",
   "mimetype": "text/x-python",
   "name": "python",
   "nbconvert_exporter": "python",
   "pygments_lexer": "ipython3",
   "version": "3.8.8"
  }
 },
 "nbformat": 4,
 "nbformat_minor": 4
}
