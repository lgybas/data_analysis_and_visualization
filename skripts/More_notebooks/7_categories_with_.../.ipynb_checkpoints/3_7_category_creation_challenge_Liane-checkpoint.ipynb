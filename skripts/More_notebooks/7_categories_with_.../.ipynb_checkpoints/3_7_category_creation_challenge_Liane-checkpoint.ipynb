{
  "nbformat": 4,
  "nbformat_minor": 0,
  "metadata": {
    "colab": {
      "provenance": [],
      "collapsed_sections": []
    },
    "kernelspec": {
      "name": "python3",
      "display_name": "Python 3"
    },
    "language_info": {
      "name": "python"
    }
  },
  "cells": [
    {
      "cell_type": "markdown",
      "source": [
        "# Searching for the category"
      ],
      "metadata": {
        "id": "bbaehNmt73fv"
      }
    },
    {
      "cell_type": "markdown",
      "source": [
        "For this code along we are only going to use the products DataFrame. However, if you believe there is information in other tables that can help to create categories, please feel free to explore."
      ],
      "metadata": {
        "id": "JZNKAkEMOa3w"
      }
    },
    {
      "cell_type": "code",
      "source": [
        "import pandas as pd"
      ],
      "metadata": {
        "id": "ViZQTGKntHE9"
      },
      "execution_count": null,
      "outputs": []
    },
    {
      "cell_type": "code",
      "execution_count": null,
      "metadata": {
        "id": "7QfwQmvrrI1y"
      },
      "outputs": [],
      "source": [
        "# products_cl.csv\n",
        "url = \"https://drive.google.com/file/d/1s7Lai4NSlsYjGEPg1QSOUJobNYVsZBOJ/view?usp=sharing\" \n",
        "path = \"https://drive.google.com/uc?export=download&id=\"+url.split(\"/\")[-2]\n",
        "products_cl = pd.read_csv(path)"
      ]
    },
    {
      "cell_type": "code",
      "source": [
        "product_category_df = products_cl.copy()"
      ],
      "metadata": {
        "id": "V3YcuBBQlN0O"
      },
      "execution_count": null,
      "outputs": []
    },
    {
      "cell_type": "code",
      "source": [
        "product_category_df.head()"
      ],
      "metadata": {
        "id": "eEychOC1tIzh"
      },
      "execution_count": null,
      "outputs": []
    },
    {
      "cell_type": "markdown",
      "source": [
        "## 1.&nbsp; Category creation by search term\n",
        "Let's start by creating a column `category`. For now we'll fill this column with a blank string `\"\"`."
      ],
      "metadata": {
        "id": "ll6nfKeqtUSb"
      }
    },
    {
      "cell_type": "code",
      "source": [
        "product_category_df[\"category\"] = \"\"\n",
        "product_category_df.head()"
      ],
      "metadata": {
        "id": "V0gB1AgftceZ"
      },
      "execution_count": null,
      "outputs": []
    },
    {
      "cell_type": "markdown",
      "source": [
        "We can find all the products with certain words in their `description` using `.loc[]` and `.str.contains()`. Here we'll look at all the items that have the word `keyboard` in their description."
      ],
      "metadata": {
        "id": "4V2cUNdoPK_4"
      }
    },
    {
      "cell_type": "code",
      "source": [
        "product_category_df.loc[product_category_df[\"desc\"].str.lower().str.contains(\"keyboard\"), :]"
      ],
      "metadata": {
        "id": "o1VQXWPFBqPd"
      },
      "execution_count": null,
      "outputs": []
    },
    {
      "cell_type": "markdown",
      "source": [
        "Next, we change the value in the category column to `keyboard` for all of these keyboard products. "
      ],
      "metadata": {
        "id": "hdNa39muPhvh"
      }
    },
    {
      "cell_type": "code",
      "source": [
        "product_category_df.loc[product_category_df[\"desc\"].str.lower().str.contains(\"keyboard\"), \"category\"] = \"keyboard\""
      ],
      "metadata": {
        "id": "WTbebBR63Khc"
      },
      "execution_count": null,
      "outputs": []
    },
    {
      "cell_type": "markdown",
      "source": [
        "Let's take a look at the effect that had on the `category` column."
      ],
      "metadata": {
        "id": "fcYoD6dbPzK9"
      }
    },
    {
      "cell_type": "code",
      "source": [
        "product_category_df[\"category\"].value_counts()"
      ],
      "metadata": {
        "id": "YhHJzCs83Mgp"
      },
      "execution_count": null,
      "outputs": []
    },
    {
      "cell_type": "markdown",
      "source": [
        "## 2.&nbsp; Category creation using regex\n",
        "We can also use a product's `name` to select products for our categories."
      ],
      "metadata": {
        "id": "zKmy1xNjtcOr"
      }
    },
    {
      "cell_type": "code",
      "source": [
        "product_category_df.loc[product_category_df[\"name\"].str.lower().str.contains(\"apple iphone\"), :]"
      ],
      "metadata": {
        "id": "MApPzEVM3N6g"
      },
      "execution_count": null,
      "outputs": []
    },
    {
      "cell_type": "markdown",
      "source": [
        "Looks like we get a lot of accessories included in this search. We can refine this using a little regex. Here, we will add `.{0,7}` at the beginning of the search: this means we will find all `apple iphone`s that have 7 or less characters preceding the term \"apple iphone\" - if there's 8 characters preceding the search term, it won't be found. This should help refine our search by using the nomenclature of the DataFrame to our advantage.\n",
        "\n",
        "If you feel unsure about regex, please use [regex101](https://regex101.com/). It's really useful for checking your code, and parts of other people's code that you're unsure about."
      ],
      "metadata": {
        "id": "aai7zoKNQSxX"
      }
    },
    {
      "cell_type": "code",
      "source": [
        "product_category_df.loc[product_category_df[\"name\"].str.lower().str.contains(\"^.{0,7}apple iphone\"), :]"
      ],
      "metadata": {
        "id": "mxVST68uCjp4"
      },
      "execution_count": null,
      "outputs": []
    },
    {
      "cell_type": "markdown",
      "source": [
        "Now we can use the same trick as before to set the category - selecting the `category` column and setting it to the string of our choice."
      ],
      "metadata": {
        "id": "CYyrvQ2qSLuZ"
      }
    },
    {
      "cell_type": "code",
      "source": [
        "product_category_df.loc[product_category_df[\"name\"].str.lower().str.contains(\"^.{0,7}apple iphone\"), \"category\"] = \"smartphone\""
      ],
      "metadata": {
        "id": "yTCbUyK0BMb4"
      },
      "execution_count": null,
      "outputs": []
    },
    {
      "cell_type": "code",
      "source": [
        "product_category_df[\"category\"].value_counts()"
      ],
      "metadata": {
        "id": "3TTuCTuW3YeL"
      },
      "execution_count": null,
      "outputs": []
    },
    {
      "cell_type": "markdown",
      "source": [
        "## 3.&nbsp; One product with multiple categories\n",
        "A product may fit into multiple categories. To help us create multiple categories for one product, we will use the python addition assignment `+=`. The addition assignment is a shorthand way to add something (number, string, etc...) to a variable without changing the variable name. \n",
        "\n",
        "Let's have a look at a couple of examples."
      ],
      "metadata": {
        "id": "foWHV_NItf_Z"
      }
    },
    {
      "cell_type": "code",
      "source": [
        "a = 10\n",
        "a = a + 5\n",
        "a"
      ],
      "metadata": {
        "id": "GDAclDOIourZ"
      },
      "execution_count": null,
      "outputs": []
    },
    {
      "cell_type": "code",
      "source": [
        "a = 10\n",
        "a += 5\n",
        "a"
      ],
      "metadata": {
        "id": "hwZIQWTKpEBP"
      },
      "execution_count": null,
      "outputs": []
    },
    {
      "cell_type": "code",
      "source": [
        "b = \"Tyrannosaurus\"\n",
        "b = b + \" rex\"\n",
        "b"
      ],
      "metadata": {
        "id": "ftaB_cw8o_25"
      },
      "execution_count": null,
      "outputs": []
    },
    {
      "cell_type": "code",
      "source": [
        "b = \"Tyrannosaurus\"\n",
        "b += \" rex\"\n",
        "b"
      ],
      "metadata": {
        "id": "5Tv19vbdpZLO"
      },
      "execution_count": null,
      "outputs": []
    },
    {
      "cell_type": "markdown",
      "source": [
        "Now let's look at how this can help us in our category creation.\n",
        "\n",
        "First, we'll reset all the values in the category column to an empty string `\"\"`."
      ],
      "metadata": {
        "id": "V3q9xza6q3MZ"
      }
    },
    {
      "cell_type": "code",
      "source": [
        "product_category_df[\"category\"] = \"\""
      ],
      "metadata": {
        "id": "zYQeeC6E86T_"
      },
      "execution_count": null,
      "outputs": []
    },
    {
      "cell_type": "markdown",
      "source": [
        "Now, let's create some categories and utilise the addition assignment."
      ],
      "metadata": {
        "id": "LYGZ67rnrLU8"
      }
    },
    {
      "cell_type": "code",
      "source": [
        "product_category_df.loc[product_category_df[\"desc\"].str.lower().str.contains(\"keyboard\"), \"category\"] += \", keyboard\"\n",
        "product_category_df.loc[product_category_df[\"name\"].str.lower().str.contains(\"^.{0,7}apple iphone\"), \"category\"] += \", smartphone\"\n",
        "product_category_df.loc[product_category_df[\"name\"].str.lower().str.contains(\"^.{0,7}apple ipod\"), \"category\"] += \", ipod\"\n",
        "product_category_df.loc[product_category_df[\"name\"].str.lower().str.contains(\"^.{0,7}apple ipad|tablet\"), \"category\"] += \", tablet\"\n",
        "product_category_df.loc[product_category_df[\"name\"].str.lower().str.contains(\"imac|mac mini|mac pro\"), \"category\"] += \", desktop\""
      ],
      "metadata": {
        "id": "ZOtQHJqsn3Qv"
      },
      "execution_count": null,
      "outputs": []
    },
    {
      "cell_type": "code",
      "source": [
        "product_category_df[\"category\"].value_counts()"
      ],
      "metadata": {
        "id": "EAS_yezTn4m_"
      },
      "execution_count": null,
      "outputs": []
    },
    {
      "cell_type": "markdown",
      "source": [
        "As you can see, some products now have 2 categories instead of just one. At the end, you can use your skills with string to tidy up the opening comma and space in the `category` column."
      ],
      "metadata": {
        "id": "tZktZ5udrTQn"
      }
    },
    {
      "cell_type": "markdown",
      "source": [
        "# Challenge. Your categories\n",
        "Now it's your turn. We'll reset the Dataframe so that no categories exist, and it's up to you to create the categories based on keywords in the name and description. Feel free to go wild and make as many categories as you like.\n",
        "* Remember you can also use regex to refine your searches.\n",
        "* Remember you can use the or operator `|` to search for multiple terms at once.\n",
        "* Remember to tidy up any untidy strings at the end."
      ],
      "metadata": {
        "id": "0c7iUc3J87_b"
      }
    },
    {
      "cell_type": "code",
      "source": [
        "# your code here"
      ],
      "metadata": {
        "id": "LPcqdik6sEwA"
      },
      "execution_count": null,
      "outputs": []
    },
    {
      "cell_type": "markdown",
      "source": [
        "## 4.&nbsp; [BONUS] Using `type` to create categories\n",
        "There could be another way to create categories, but this one you'll have to explore this one alone.\n",
        "\n",
        "We have the mysterious column `type` in the `products` table. This could potentially be ready-made categories labelled with numbers instead of words. Let's investigate."
      ],
      "metadata": {
        "id": "RZmoYd6-tsvG"
      }
    },
    {
      "cell_type": "code",
      "source": [
        "category_type_df = products_cl.copy()"
      ],
      "metadata": {
        "id": "K5HJA7_M2nzw"
      },
      "execution_count": null,
      "outputs": []
    },
    {
      "cell_type": "markdown",
      "source": [
        "Here are the `type`s that have the most products."
      ],
      "metadata": {
        "id": "rqjhiJiE3Xbm"
      }
    },
    {
      "cell_type": "code",
      "source": [
        "category_type_df.groupby(\"type\").count().nlargest(10, \"sku\")"
      ],
      "metadata": {
        "id": "OwzkbYnvNDnu"
      },
      "execution_count": null,
      "outputs": []
    },
    {
      "cell_type": "markdown",
      "source": [
        "Let's have a look at the first `type` to see if we can make categories from this column."
      ],
      "metadata": {
        "id": "gxkXWt9K3lAl"
      }
    },
    {
      "cell_type": "code",
      "source": [
        "category_type_df.loc[category_type_df[\"type\"] == \"11865403\", :].sample(10)"
      ],
      "metadata": {
        "id": "qDcnQEXo3_2Q"
      },
      "execution_count": null,
      "outputs": []
    },
    {
      "cell_type": "markdown",
      "source": [
        "Looks like this is a category of phone cases.\n",
        "\n",
        "Let's have a look at the 2nd largest type to see if that's also a clear category."
      ],
      "metadata": {
        "id": "8f4D6vx04EF-"
      }
    },
    {
      "cell_type": "code",
      "source": [
        "category_type_df.loc[category_type_df[\"type\"] == \"12175397\", :].sample(10)"
      ],
      "metadata": {
        "id": "iiP45DQQ4YHC"
      },
      "execution_count": null,
      "outputs": []
    },
    {
      "cell_type": "markdown",
      "source": [
        "Looks like this category is full of servers.\n",
        "\n",
        "I wonder how many `type`s account for most of our products?"
      ],
      "metadata": {
        "id": "rQq4i68T4i4Z"
      }
    },
    {
      "cell_type": "code",
      "source": [
        "n = 30\n",
        "print(f\"With the {n} largest types, we account for {((category_type_df.groupby('type').count().nlargest(n, 'sku')['sku'].sum()) / (category_type_df.shape[0]) * 100).round(2)}% of all products.\")"
      ],
      "metadata": {
        "id": "nvC72XNi5VUz"
      },
      "execution_count": null,
      "outputs": []
    },
    {
      "cell_type": "markdown",
      "source": [
        "Looks like we can simply investigate 30 types and set the categories, then the remaining 20% of products can have the category `other`.\n",
        "\n",
        "Use the skills you learnt above to change the category for each type."
      ],
      "metadata": {
        "id": "40a0ksM46UCi"
      }
    },
    {
      "cell_type": "code",
      "source": [],
      "metadata": {
        "id": "oVfMxn3y62sE"
      },
      "execution_count": null,
      "outputs": []
    }
  ]
}