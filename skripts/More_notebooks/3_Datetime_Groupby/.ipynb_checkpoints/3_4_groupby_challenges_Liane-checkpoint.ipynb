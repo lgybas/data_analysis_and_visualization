{
 "cells": [
  {
   "cell_type": "markdown",
   "metadata": {
    "id": "MGfHi2emuFvJ"
   },
   "source": [
    "# Grouping and aggregating data\n",
    "\n",
    "Most of the time, in pandas, we use `.groupby()` to group and aggregate data. This is a function that splits your data into certain categories, and then performs an aggregation, transformation, or filtration to those categories. Today we will only be looking at `.groupby()` and aggregations, and how they can help us to analyse our data. We will also learn about `resample()` as an alternative, more concise way to group dates and times.\n",
    "\n",
    "As always, let's start by reading the data:"
   ]
  },
  {
   "cell_type": "code",
   "execution_count": 1,
   "metadata": {
    "id": "Lq7zsZka4q2m"
   },
   "outputs": [],
   "source": [
    "import pandas as pd"
   ]
  },
  {
   "cell_type": "code",
   "execution_count": 2,
   "metadata": {
    "id": "30IJsE7t49Eu"
   },
   "outputs": [],
   "source": [
    "# orders_cl.csv\n",
    "url = \"https://drive.google.com/file/d/1Tla62vfu__kCqvgypZyVt2S9VuC016yH/view?usp=sharing\" \n",
    "path = \"https://drive.google.com/uc?export=download&id=\"+url.split(\"/\")[-2]\n",
    "orders_cl = pd.read_csv(path)\n",
    "\n",
    "# orderlines_cl.csv\n",
    "url = \"https://drive.google.com/file/d/1OhtkQS2fwOYdzfd-qPh7im35iLc-L9TA/view?usp=sharing\" \n",
    "path = \"https://drive.google.com/uc?export=download&id=\"+url.split(\"/\")[-2]\n",
    "orderlines_cl = pd.read_csv(path)\n",
    "\n",
    "# products_cl.csv\n",
    "url = \"https://drive.google.com/file/d/1s7Lai4NSlsYjGEPg1QSOUJobNYVsZBOJ/view?usp=sharing\" \n",
    "path = \"https://drive.google.com/uc?export=download&id=\"+url.split(\"/\")[-2]\n",
    "products_cl = pd.read_csv(path)\n",
    "\n",
    "# brands_cl.csv\n",
    "url = \"https://drive.google.com/file/d/1XGyabaa4mAkjixMk3XPgx_14OoSse3rs/view?usp=sharing\" \n",
    "path = \"https://drive.google.com/uc?export=download&id=\"+url.split(\"/\")[-2]\n",
    "brands = pd.read_csv(path)"
   ]
  },
  {
   "cell_type": "code",
   "execution_count": 3,
   "metadata": {
    "id": "97-FGws5RzTk"
   },
   "outputs": [],
   "source": [
    "ol_df = orderlines_cl.copy()"
   ]
  },
  {
   "cell_type": "code",
   "execution_count": 4,
   "metadata": {
    "id": "sD3zRjTyk-9h"
   },
   "outputs": [
    {
     "name": "stdout",
     "output_type": "stream",
     "text": [
      "<class 'pandas.core.frame.DataFrame'>\n",
      "RangeIndex: 216250 entries, 0 to 216249\n",
      "Data columns (total 7 columns):\n",
      " #   Column            Non-Null Count   Dtype  \n",
      "---  ------            --------------   -----  \n",
      " 0   id                216250 non-null  int64  \n",
      " 1   id_order          216250 non-null  int64  \n",
      " 2   product_id        216250 non-null  int64  \n",
      " 3   product_quantity  216250 non-null  int64  \n",
      " 4   sku               216250 non-null  object \n",
      " 5   unit_price        216250 non-null  float64\n",
      " 6   date              216250 non-null  object \n",
      "dtypes: float64(1), int64(4), object(2)\n",
      "memory usage: 11.5+ MB\n"
     ]
    }
   ],
   "source": [
    "ol_df.info()"
   ]
  },
  {
   "cell_type": "markdown",
   "metadata": {
    "id": "O5JVxtyQnzLV"
   },
   "source": [
    "Change `date` to datetime."
   ]
  },
  {
   "cell_type": "code",
   "execution_count": 5,
   "metadata": {
    "id": "MxwG7CJ9lIQB"
   },
   "outputs": [],
   "source": [
    "ol_df[\"date\"] = pd.to_datetime(ol_df[\"date\"])"
   ]
  },
  {
   "cell_type": "markdown",
   "metadata": {
    "id": "BXWNhA9C2KsO"
   },
   "source": [
    "## 1.&nbsp; `.groupby` a single feature"
   ]
  },
  {
   "cell_type": "markdown",
   "metadata": {
    "id": "uuxv5HPeUcJp"
   },
   "source": [
    "When we use the `.groupby()` method, we always state in the parentheses the name of the column that contains the categories that should be grouped. For example, we are grouping here by the product number (SKU), which will give us one line per sku. `.count()` will tell us how many rows have been condensed into each group."
   ]
  },
  {
   "cell_type": "code",
   "execution_count": 6,
   "metadata": {
    "id": "4WAJ97U7Ryp8"
   },
   "outputs": [
    {
     "data": {
      "text/html": [
       "<div>\n",
       "<style scoped>\n",
       "    .dataframe tbody tr th:only-of-type {\n",
       "        vertical-align: middle;\n",
       "    }\n",
       "\n",
       "    .dataframe tbody tr th {\n",
       "        vertical-align: top;\n",
       "    }\n",
       "\n",
       "    .dataframe thead th {\n",
       "        text-align: right;\n",
       "    }\n",
       "</style>\n",
       "<table border=\"1\" class=\"dataframe\">\n",
       "  <thead>\n",
       "    <tr style=\"text-align: right;\">\n",
       "      <th></th>\n",
       "      <th>id</th>\n",
       "      <th>id_order</th>\n",
       "      <th>product_id</th>\n",
       "      <th>product_quantity</th>\n",
       "      <th>unit_price</th>\n",
       "      <th>date</th>\n",
       "    </tr>\n",
       "    <tr>\n",
       "      <th>sku</th>\n",
       "      <th></th>\n",
       "      <th></th>\n",
       "      <th></th>\n",
       "      <th></th>\n",
       "      <th></th>\n",
       "      <th></th>\n",
       "    </tr>\n",
       "  </thead>\n",
       "  <tbody>\n",
       "    <tr>\n",
       "      <th>8MO0001-A</th>\n",
       "      <td>2</td>\n",
       "      <td>2</td>\n",
       "      <td>2</td>\n",
       "      <td>2</td>\n",
       "      <td>2</td>\n",
       "      <td>2</td>\n",
       "    </tr>\n",
       "    <tr>\n",
       "      <th>8MO0003-A</th>\n",
       "      <td>3</td>\n",
       "      <td>3</td>\n",
       "      <td>3</td>\n",
       "      <td>3</td>\n",
       "      <td>3</td>\n",
       "      <td>3</td>\n",
       "    </tr>\n",
       "    <tr>\n",
       "      <th>8MO0007</th>\n",
       "      <td>29</td>\n",
       "      <td>29</td>\n",
       "      <td>29</td>\n",
       "      <td>29</td>\n",
       "      <td>29</td>\n",
       "      <td>29</td>\n",
       "    </tr>\n",
       "    <tr>\n",
       "      <th>8MO0008</th>\n",
       "      <td>30</td>\n",
       "      <td>30</td>\n",
       "      <td>30</td>\n",
       "      <td>30</td>\n",
       "      <td>30</td>\n",
       "      <td>30</td>\n",
       "    </tr>\n",
       "    <tr>\n",
       "      <th>8MO0009</th>\n",
       "      <td>28</td>\n",
       "      <td>28</td>\n",
       "      <td>28</td>\n",
       "      <td>28</td>\n",
       "      <td>28</td>\n",
       "      <td>28</td>\n",
       "    </tr>\n",
       "    <tr>\n",
       "      <th>...</th>\n",
       "      <td>...</td>\n",
       "      <td>...</td>\n",
       "      <td>...</td>\n",
       "      <td>...</td>\n",
       "      <td>...</td>\n",
       "      <td>...</td>\n",
       "    </tr>\n",
       "    <tr>\n",
       "      <th>ZAG0041</th>\n",
       "      <td>2</td>\n",
       "      <td>2</td>\n",
       "      <td>2</td>\n",
       "      <td>2</td>\n",
       "      <td>2</td>\n",
       "      <td>2</td>\n",
       "    </tr>\n",
       "    <tr>\n",
       "      <th>ZAG0042</th>\n",
       "      <td>1</td>\n",
       "      <td>1</td>\n",
       "      <td>1</td>\n",
       "      <td>1</td>\n",
       "      <td>1</td>\n",
       "      <td>1</td>\n",
       "    </tr>\n",
       "    <tr>\n",
       "      <th>ZEP0007</th>\n",
       "      <td>5</td>\n",
       "      <td>5</td>\n",
       "      <td>5</td>\n",
       "      <td>5</td>\n",
       "      <td>5</td>\n",
       "      <td>5</td>\n",
       "    </tr>\n",
       "    <tr>\n",
       "      <th>ZEP0008</th>\n",
       "      <td>1</td>\n",
       "      <td>1</td>\n",
       "      <td>1</td>\n",
       "      <td>1</td>\n",
       "      <td>1</td>\n",
       "      <td>1</td>\n",
       "    </tr>\n",
       "    <tr>\n",
       "      <th>par0072</th>\n",
       "      <td>12</td>\n",
       "      <td>12</td>\n",
       "      <td>12</td>\n",
       "      <td>12</td>\n",
       "      <td>12</td>\n",
       "      <td>12</td>\n",
       "    </tr>\n",
       "  </tbody>\n",
       "</table>\n",
       "<p>6798 rows × 6 columns</p>\n",
       "</div>"
      ],
      "text/plain": [
       "           id  id_order  product_id  product_quantity  unit_price  date\n",
       "sku                                                                    \n",
       "8MO0001-A   2         2           2                 2           2     2\n",
       "8MO0003-A   3         3           3                 3           3     3\n",
       "8MO0007    29        29          29                29          29    29\n",
       "8MO0008    30        30          30                30          30    30\n",
       "8MO0009    28        28          28                28          28    28\n",
       "...        ..       ...         ...               ...         ...   ...\n",
       "ZAG0041     2         2           2                 2           2     2\n",
       "ZAG0042     1         1           1                 1           1     1\n",
       "ZEP0007     5         5           5                 5           5     5\n",
       "ZEP0008     1         1           1                 1           1     1\n",
       "par0072    12        12          12                12          12    12\n",
       "\n",
       "[6798 rows x 6 columns]"
      ]
     },
     "execution_count": 6,
     "metadata": {},
     "output_type": "execute_result"
    }
   ],
   "source": [
    "ol_df.groupby(\"sku\").count()"
   ]
  },
  {
   "cell_type": "markdown",
   "metadata": {
    "id": "Jpu853EhFWD2"
   },
   "source": [
    "Notice how in this \"grouped\" DataFrame we have 6798 rows: one row for each unique `sku`. In the original DataFrame we had many more rows:"
   ]
  },
  {
   "cell_type": "code",
   "execution_count": 7,
   "metadata": {
    "id": "fRrHMdH1Fgpf"
   },
   "outputs": [
    {
     "data": {
      "text/plain": [
       "(216250, 7)"
      ]
     },
     "execution_count": 7,
     "metadata": {},
     "output_type": "execute_result"
    }
   ],
   "source": [
    "ol_df.shape"
   ]
  },
  {
   "cell_type": "markdown",
   "metadata": {
    "id": "NXx21qYyVM76"
   },
   "source": [
    "As you can see above, the same number of rows were condensed for each column, this is to be expected when we use `count()` as the aggregation function. However, if we use an aggregate such as `.sum()`, then we get the total for the condensed values of each column:"
   ]
  },
  {
   "cell_type": "code",
   "execution_count": 8,
   "metadata": {
    "id": "UJhFi7a3Vr7c"
   },
   "outputs": [
    {
     "data": {
      "text/html": [
       "<div>\n",
       "<style scoped>\n",
       "    .dataframe tbody tr th:only-of-type {\n",
       "        vertical-align: middle;\n",
       "    }\n",
       "\n",
       "    .dataframe tbody tr th {\n",
       "        vertical-align: top;\n",
       "    }\n",
       "\n",
       "    .dataframe thead th {\n",
       "        text-align: right;\n",
       "    }\n",
       "</style>\n",
       "<table border=\"1\" class=\"dataframe\">\n",
       "  <thead>\n",
       "    <tr style=\"text-align: right;\">\n",
       "      <th></th>\n",
       "      <th>id</th>\n",
       "      <th>id_order</th>\n",
       "      <th>product_id</th>\n",
       "      <th>product_quantity</th>\n",
       "      <th>unit_price</th>\n",
       "    </tr>\n",
       "    <tr>\n",
       "      <th>sku</th>\n",
       "      <th></th>\n",
       "      <th></th>\n",
       "      <th></th>\n",
       "      <th></th>\n",
       "      <th></th>\n",
       "    </tr>\n",
       "  </thead>\n",
       "  <tbody>\n",
       "    <tr>\n",
       "      <th>8MO0001-A</th>\n",
       "      <td>2731953</td>\n",
       "      <td>813237</td>\n",
       "      <td>0</td>\n",
       "      <td>2</td>\n",
       "      <td>25.92</td>\n",
       "    </tr>\n",
       "    <tr>\n",
       "      <th>8MO0003-A</th>\n",
       "      <td>4893267</td>\n",
       "      <td>1557627</td>\n",
       "      <td>0</td>\n",
       "      <td>3</td>\n",
       "      <td>38.55</td>\n",
       "    </tr>\n",
       "    <tr>\n",
       "      <th>8MO0007</th>\n",
       "      <td>37205508</td>\n",
       "      <td>10794389</td>\n",
       "      <td>0</td>\n",
       "      <td>30</td>\n",
       "      <td>619.71</td>\n",
       "    </tr>\n",
       "    <tr>\n",
       "      <th>8MO0008</th>\n",
       "      <td>38188229</td>\n",
       "      <td>11034203</td>\n",
       "      <td>0</td>\n",
       "      <td>31</td>\n",
       "      <td>651.70</td>\n",
       "    </tr>\n",
       "    <tr>\n",
       "      <th>8MO0009</th>\n",
       "      <td>40281947</td>\n",
       "      <td>12270595</td>\n",
       "      <td>0</td>\n",
       "      <td>30</td>\n",
       "      <td>499.60</td>\n",
       "    </tr>\n",
       "    <tr>\n",
       "      <th>...</th>\n",
       "      <td>...</td>\n",
       "      <td>...</td>\n",
       "      <td>...</td>\n",
       "      <td>...</td>\n",
       "      <td>...</td>\n",
       "    </tr>\n",
       "    <tr>\n",
       "      <th>ZAG0041</th>\n",
       "      <td>3289730</td>\n",
       "      <td>1050270</td>\n",
       "      <td>0</td>\n",
       "      <td>2</td>\n",
       "      <td>39.98</td>\n",
       "    </tr>\n",
       "    <tr>\n",
       "      <th>ZAG0042</th>\n",
       "      <td>1641159</td>\n",
       "      <td>523690</td>\n",
       "      <td>0</td>\n",
       "      <td>1</td>\n",
       "      <td>19.99</td>\n",
       "    </tr>\n",
       "    <tr>\n",
       "      <th>ZEP0007</th>\n",
       "      <td>6423489</td>\n",
       "      <td>1858331</td>\n",
       "      <td>0</td>\n",
       "      <td>5</td>\n",
       "      <td>685.59</td>\n",
       "    </tr>\n",
       "    <tr>\n",
       "      <th>ZEP0008</th>\n",
       "      <td>1508929</td>\n",
       "      <td>468546</td>\n",
       "      <td>0</td>\n",
       "      <td>1</td>\n",
       "      <td>104.12</td>\n",
       "    </tr>\n",
       "    <tr>\n",
       "      <th>par0072</th>\n",
       "      <td>16643352</td>\n",
       "      <td>4997995</td>\n",
       "      <td>0</td>\n",
       "      <td>13</td>\n",
       "      <td>2689.90</td>\n",
       "    </tr>\n",
       "  </tbody>\n",
       "</table>\n",
       "<p>6798 rows × 5 columns</p>\n",
       "</div>"
      ],
      "text/plain": [
       "                 id  id_order  product_id  product_quantity  unit_price\n",
       "sku                                                                    \n",
       "8MO0001-A   2731953    813237           0                 2       25.92\n",
       "8MO0003-A   4893267   1557627           0                 3       38.55\n",
       "8MO0007    37205508  10794389           0                30      619.71\n",
       "8MO0008    38188229  11034203           0                31      651.70\n",
       "8MO0009    40281947  12270595           0                30      499.60\n",
       "...             ...       ...         ...               ...         ...\n",
       "ZAG0041     3289730   1050270           0                 2       39.98\n",
       "ZAG0042     1641159    523690           0                 1       19.99\n",
       "ZEP0007     6423489   1858331           0                 5      685.59\n",
       "ZEP0008     1508929    468546           0                 1      104.12\n",
       "par0072    16643352   4997995           0                13     2689.90\n",
       "\n",
       "[6798 rows x 5 columns]"
      ]
     },
     "execution_count": 8,
     "metadata": {},
     "output_type": "execute_result"
    }
   ],
   "source": [
    "ol_df.groupby(\"sku\").sum()"
   ]
  },
  {
   "cell_type": "markdown",
   "metadata": {
    "id": "qxpruL7bV26a"
   },
   "source": [
    "Now, obviously, not all of the information above matters: it's not relevant what the sum of the `id`'s is. So, let's select the `product_quantity` and see how many units of each product were sold:"
   ]
  },
  {
   "cell_type": "code",
   "execution_count": 9,
   "metadata": {
    "id": "156UzFjzSpuS"
   },
   "outputs": [
    {
     "data": {
      "text/plain": [
       "sku\n",
       "8MO0001-A     2\n",
       "8MO0003-A     3\n",
       "8MO0007      30\n",
       "8MO0008      31\n",
       "8MO0009      30\n",
       "             ..\n",
       "ZAG0041       2\n",
       "ZAG0042       1\n",
       "ZEP0007       5\n",
       "ZEP0008       1\n",
       "par0072      13\n",
       "Name: product_quantity, Length: 6798, dtype: int64"
      ]
     },
     "execution_count": 9,
     "metadata": {},
     "output_type": "execute_result"
    }
   ],
   "source": [
    "ol_df.groupby(\"sku\")[\"product_quantity\"].sum()"
   ]
  },
  {
   "cell_type": "markdown",
   "metadata": {
    "id": "JGyvEWtKWiBn"
   },
   "source": [
    "It can be useful sometimes to sort the values from highest to lowest. With the `.sum()` of `product_quantity` this will help us to see how many of each item we sold in order of quantity."
   ]
  },
  {
   "cell_type": "code",
   "execution_count": 10,
   "metadata": {
    "id": "A99m-tRCT9RK"
   },
   "outputs": [
    {
     "data": {
      "text/plain": [
       "sku\n",
       "APP1190      5576\n",
       "APP0698      2337\n",
       "WDT0183      1828\n",
       "APP1922      1663\n",
       "APP0927      1618\n",
       "             ... \n",
       "PAC2241         1\n",
       "JBL0156         1\n",
       "PAC2237         1\n",
       "TIG0018-A       1\n",
       "APP0241-A       1\n",
       "Name: product_quantity, Length: 6798, dtype: int64"
      ]
     },
     "execution_count": 10,
     "metadata": {},
     "output_type": "execute_result"
    }
   ],
   "source": [
    "(\n",
    "    ol_df\n",
    "    .groupby(\"sku\")[\"product_quantity\"]\n",
    "    .sum()\n",
    "    .sort_values(ascending=False)\n",
    ")"
   ]
  },
  {
   "cell_type": "markdown",
   "metadata": {
    "id": "D58-EP0Snmi-"
   },
   "source": [
    "Or if you wish for only a certain number of the largest of smallest numbers, remember you can use `.nlargest()` or `.nsmallest()`"
   ]
  },
  {
   "cell_type": "code",
   "execution_count": 11,
   "metadata": {
    "id": "jPKxQPDen0tO"
   },
   "outputs": [
    {
     "data": {
      "text/plain": [
       "sku\n",
       "APP1190    5576\n",
       "APP0698    2337\n",
       "WDT0183    1828\n",
       "APP1922    1663\n",
       "APP0927    1618\n",
       "Name: product_quantity, dtype: int64"
      ]
     },
     "execution_count": 11,
     "metadata": {},
     "output_type": "execute_result"
    }
   ],
   "source": [
    "(\n",
    "    ol_df\n",
    "    .groupby(\"sku\")[\"product_quantity\"]\n",
    "    .sum()\n",
    "    .nlargest(5)\n",
    ")"
   ]
  },
  {
   "cell_type": "markdown",
   "metadata": {
    "id": "A8fNKlbMkC9c"
   },
   "source": [
    "### 1.1.&nbsp; List of aggregates\n",
    "\n",
    "It is possible to use many different aggregates besides just `.sum()` and `.count()`. A full list can be found [here](https://pandas.pydata.org/docs/reference/groupby.html), and below are a few of the most useful.\n",
    "\n",
    "* `.count()` – Number of non-null observations\n",
    "* `.sum()` – Sum of values\n",
    "* `.mean()` – Mean of values\n",
    "* `.median()` – Median of values\n",
    "* `.min()` – Minimum\n",
    "* `.max()` – Maximum\n",
    "* `.std()` – Standard deviation"
   ]
  },
  {
   "cell_type": "markdown",
   "metadata": {
    "id": "2hCaahyEki_6"
   },
   "source": [
    "### 1.2.&nbsp; `.agg()`\n",
    "We are not restricted to only using one aggregate at a time. We can use the `.agg()` method to see multiple aggregates at once."
   ]
  },
  {
   "cell_type": "markdown",
   "metadata": {
    "id": "_4uueTuf_Ypk"
   },
   "source": [
    "#### 1.2.1.&nbsp; multiple aggregates for one column\n",
    "Here we first `.groupby()` the `sku`'s, then take the column `product quantity`, and look at both the `.sum()` and `.count()` of `product_quantity`. We also here reduced our DataFrame to the 10 largest `sku`\"s according to the `.sum()` of `product_quantity`.\n",
    "\n",
    "> **Tip:** when working with many Pandas methods chained one after the other, wrap all the statement in parenthesis and add a line break before any `.method()`. It will improve the readability of the code*"
   ]
  },
  {
   "cell_type": "code",
   "execution_count": 12,
   "metadata": {
    "id": "AMktUr14kGv0"
   },
   "outputs": [
    {
     "data": {
      "text/html": [
       "<div>\n",
       "<style scoped>\n",
       "    .dataframe tbody tr th:only-of-type {\n",
       "        vertical-align: middle;\n",
       "    }\n",
       "\n",
       "    .dataframe tbody tr th {\n",
       "        vertical-align: top;\n",
       "    }\n",
       "\n",
       "    .dataframe thead th {\n",
       "        text-align: right;\n",
       "    }\n",
       "</style>\n",
       "<table border=\"1\" class=\"dataframe\">\n",
       "  <thead>\n",
       "    <tr style=\"text-align: right;\">\n",
       "      <th></th>\n",
       "      <th>sum</th>\n",
       "      <th>count</th>\n",
       "    </tr>\n",
       "    <tr>\n",
       "      <th>sku</th>\n",
       "      <th></th>\n",
       "      <th></th>\n",
       "    </tr>\n",
       "  </thead>\n",
       "  <tbody>\n",
       "    <tr>\n",
       "      <th>APP1190</th>\n",
       "      <td>5576</td>\n",
       "      <td>4306</td>\n",
       "    </tr>\n",
       "    <tr>\n",
       "      <th>APP0698</th>\n",
       "      <td>2337</td>\n",
       "      <td>1615</td>\n",
       "    </tr>\n",
       "    <tr>\n",
       "      <th>WDT0183</th>\n",
       "      <td>1828</td>\n",
       "      <td>1124</td>\n",
       "    </tr>\n",
       "    <tr>\n",
       "      <th>APP1922</th>\n",
       "      <td>1663</td>\n",
       "      <td>1560</td>\n",
       "    </tr>\n",
       "    <tr>\n",
       "      <th>APP0927</th>\n",
       "      <td>1618</td>\n",
       "      <td>1369</td>\n",
       "    </tr>\n",
       "    <tr>\n",
       "      <th>SAM0074</th>\n",
       "      <td>1346</td>\n",
       "      <td>1259</td>\n",
       "    </tr>\n",
       "    <tr>\n",
       "      <th>APP1970</th>\n",
       "      <td>1182</td>\n",
       "      <td>1007</td>\n",
       "    </tr>\n",
       "    <tr>\n",
       "      <th>APP1221</th>\n",
       "      <td>1131</td>\n",
       "      <td>1108</td>\n",
       "    </tr>\n",
       "    <tr>\n",
       "      <th>CRU0051</th>\n",
       "      <td>1122</td>\n",
       "      <td>948</td>\n",
       "    </tr>\n",
       "    <tr>\n",
       "      <th>WDT0141</th>\n",
       "      <td>1048</td>\n",
       "      <td>671</td>\n",
       "    </tr>\n",
       "  </tbody>\n",
       "</table>\n",
       "</div>"
      ],
      "text/plain": [
       "          sum  count\n",
       "sku                 \n",
       "APP1190  5576   4306\n",
       "APP0698  2337   1615\n",
       "WDT0183  1828   1124\n",
       "APP1922  1663   1560\n",
       "APP0927  1618   1369\n",
       "SAM0074  1346   1259\n",
       "APP1970  1182   1007\n",
       "APP1221  1131   1108\n",
       "CRU0051  1122    948\n",
       "WDT0141  1048    671"
      ]
     },
     "execution_count": 12,
     "metadata": {},
     "output_type": "execute_result"
    }
   ],
   "source": [
    "(\n",
    "    ol_df\n",
    "    .groupby(\"sku\")[\"product_quantity\"]\n",
    "    .agg([\"sum\", \"count\"])\n",
    "    .nlargest(10, \"sum\")\n",
    ")"
   ]
  },
  {
   "cell_type": "markdown",
   "metadata": {
    "id": "5TqpcLupNU7n"
   },
   "source": [
    "#### 1.2.2.&nbsp; mutliple aggregates for more than one column\n",
    "Not only can we look at multiple aggregates for one column. We can also look at multiple aggregates over multiple columns. Here we again `.groupby()` `sku` and take the `.sum()` and `.count()` of `product_quantity`, **and also** look at the `.mean()` of the `unit_price`."
   ]
  },
  {
   "cell_type": "code",
   "execution_count": 13,
   "metadata": {
    "id": "yGPFDBBl35VV"
   },
   "outputs": [
    {
     "data": {
      "text/html": [
       "<div>\n",
       "<style scoped>\n",
       "    .dataframe tbody tr th:only-of-type {\n",
       "        vertical-align: middle;\n",
       "    }\n",
       "\n",
       "    .dataframe tbody tr th {\n",
       "        vertical-align: top;\n",
       "    }\n",
       "\n",
       "    .dataframe thead tr th {\n",
       "        text-align: left;\n",
       "    }\n",
       "\n",
       "    .dataframe thead tr:last-of-type th {\n",
       "        text-align: right;\n",
       "    }\n",
       "</style>\n",
       "<table border=\"1\" class=\"dataframe\">\n",
       "  <thead>\n",
       "    <tr>\n",
       "      <th></th>\n",
       "      <th colspan=\"2\" halign=\"left\">product_quantity</th>\n",
       "      <th>unit_price</th>\n",
       "    </tr>\n",
       "    <tr>\n",
       "      <th></th>\n",
       "      <th>sum</th>\n",
       "      <th>count</th>\n",
       "      <th>mean</th>\n",
       "    </tr>\n",
       "    <tr>\n",
       "      <th>sku</th>\n",
       "      <th></th>\n",
       "      <th></th>\n",
       "      <th></th>\n",
       "    </tr>\n",
       "  </thead>\n",
       "  <tbody>\n",
       "    <tr>\n",
       "      <th>APP1190</th>\n",
       "      <td>5576</td>\n",
       "      <td>4306</td>\n",
       "      <td>56.014057</td>\n",
       "    </tr>\n",
       "    <tr>\n",
       "      <th>APP0698</th>\n",
       "      <td>2337</td>\n",
       "      <td>1615</td>\n",
       "      <td>10.116279</td>\n",
       "    </tr>\n",
       "    <tr>\n",
       "      <th>WDT0183</th>\n",
       "      <td>1828</td>\n",
       "      <td>1124</td>\n",
       "      <td>139.061770</td>\n",
       "    </tr>\n",
       "    <tr>\n",
       "      <th>APP1922</th>\n",
       "      <td>1663</td>\n",
       "      <td>1560</td>\n",
       "      <td>162.143968</td>\n",
       "    </tr>\n",
       "    <tr>\n",
       "      <th>APP0927</th>\n",
       "      <td>1618</td>\n",
       "      <td>1369</td>\n",
       "      <td>17.038773</td>\n",
       "    </tr>\n",
       "    <tr>\n",
       "      <th>SAM0074</th>\n",
       "      <td>1346</td>\n",
       "      <td>1259</td>\n",
       "      <td>152.823606</td>\n",
       "    </tr>\n",
       "    <tr>\n",
       "      <th>APP1970</th>\n",
       "      <td>1182</td>\n",
       "      <td>1007</td>\n",
       "      <td>362.970417</td>\n",
       "    </tr>\n",
       "    <tr>\n",
       "      <th>APP1221</th>\n",
       "      <td>1131</td>\n",
       "      <td>1108</td>\n",
       "      <td>106.131146</td>\n",
       "    </tr>\n",
       "    <tr>\n",
       "      <th>CRU0051</th>\n",
       "      <td>1122</td>\n",
       "      <td>948</td>\n",
       "      <td>140.734863</td>\n",
       "    </tr>\n",
       "    <tr>\n",
       "      <th>WDT0141</th>\n",
       "      <td>1048</td>\n",
       "      <td>671</td>\n",
       "      <td>109.266259</td>\n",
       "    </tr>\n",
       "  </tbody>\n",
       "</table>\n",
       "</div>"
      ],
      "text/plain": [
       "        product_quantity        unit_price\n",
       "                     sum count        mean\n",
       "sku                                       \n",
       "APP1190             5576  4306   56.014057\n",
       "APP0698             2337  1615   10.116279\n",
       "WDT0183             1828  1124  139.061770\n",
       "APP1922             1663  1560  162.143968\n",
       "APP0927             1618  1369   17.038773\n",
       "SAM0074             1346  1259  152.823606\n",
       "APP1970             1182  1007  362.970417\n",
       "APP1221             1131  1108  106.131146\n",
       "CRU0051             1122   948  140.734863\n",
       "WDT0141             1048   671  109.266259"
      ]
     },
     "execution_count": 13,
     "metadata": {},
     "output_type": "execute_result"
    }
   ],
   "source": [
    "(\n",
    "    ol_df\n",
    "    .groupby(\"sku\")\n",
    "    .agg({\"product_quantity\": [\"sum\", \"count\"], \"unit_price\": \"mean\"})\n",
    "    .nlargest(10, (\"product_quantity\", \"sum\"))\n",
    ")"
   ]
  },
  {
   "cell_type": "markdown",
   "metadata": {
    "id": "VtQqcHUj2bxn"
   },
   "source": [
    "## 2.&nbsp; `.groupby()` multiple features\n",
    "It's also possible to `.groupby()` multiple categories. Let's see how many products we sold each month."
   ]
  },
  {
   "cell_type": "code",
   "execution_count": 14,
   "metadata": {
    "id": "Gx3zB61ZX_NM"
   },
   "outputs": [
    {
     "data": {
      "text/plain": [
       "date  date\n",
       "2017  1       22363\n",
       "      2       14616\n",
       "      3       12443\n",
       "      4       13781\n",
       "      5       11665\n",
       "      6       11221\n",
       "      7       15347\n",
       "      8       11530\n",
       "      9       12213\n",
       "      10      15387\n",
       "      11      33082\n",
       "      12      24455\n",
       "2018  1       23810\n",
       "      2       15831\n",
       "      3        8067\n",
       "Name: product_quantity, dtype: int64"
      ]
     },
     "execution_count": 14,
     "metadata": {},
     "output_type": "execute_result"
    }
   ],
   "source": [
    "(\n",
    "    ol_df\n",
    "    .groupby([ol_df[\"date\"].dt.year, \n",
    "              ol_df[\"date\"].dt.month])[\"product_quantity\"]\n",
    "    .sum()\n",
    " )"
   ]
  },
  {
   "cell_type": "markdown",
   "metadata": {
    "id": "5eCJ-0YCqdMH"
   },
   "source": [
    "Looks like the end of the year and the begining of the year are the busiest times."
   ]
  },
  {
   "cell_type": "markdown",
   "metadata": {
    "id": "fhSTALCdHNs4"
   },
   "source": [
    "### 1.4.&nbsp; `.groupby()` aggregate plotting\n",
    "It's also possible to quickly plot aggregates with `.groupby()`, which can help us better understand the data. Let's plot the above values showing how many products we sold each month."
   ]
  },
  {
   "cell_type": "code",
   "execution_count": 15,
   "metadata": {
    "id": "fYcSi8rbvqkc"
   },
   "outputs": [
    {
     "data": {
      "image/png": "[encoded data removed]",
      "text/plain": [
       "<Figure size 1152x864 with 1 Axes>"
      ]
     },
     "metadata": {
      "needs_background": "light"
     },
     "output_type": "display_data"
    }
   ],
   "source": [
    "(\n",
    "    ol_df.groupby([ol_df[\"date\"].dt.year, \n",
    "                   ol_df[\"date\"].dt.month])[\"product_quantity\"]\n",
    "    .sum()\n",
    "    .plot(figsize=(16, 12))\n",
    ");"
   ]
  },
  {
   "cell_type": "markdown",
   "metadata": {
    "id": "6LDe4vd8wOJS"
   },
   "source": [
    "## 3.&nbsp; `.resample()`\n",
    "\n",
    "Resampling allows us to easily aggregate time series data. When using `.resample()`, we have to define:\n",
    "- The frequency of time for which to group the data (e.g. 5 minutely, hourly, daily...) expressed as a \"frequency string\" (`\"W\"` for weekly, `\"M\"` for monthly...). Find all available frequency strings [here](https://pandas.pydata.org/pandas-docs/stable/user_guide/timeseries.html#dateoffset-objects).\n",
    "- The column with the dates group by needs to be passed to the `on` parameter (unless you want group by the index).\n",
    "- The aggregate function (`sum()`, `count()`, `mean()`...)\n",
    "- The numerical column/s to aggregate.\n",
    "\n",
    "With this we can easily recreate our groupby above, where we looked at the amount of products sold each month. The date displayed is the last day of the given month."
   ]
  },
  {
   "cell_type": "code",
   "execution_count": 16,
   "metadata": {
    "id": "R8hb5n2zwfct"
   },
   "outputs": [
    {
     "data": {
      "text/plain": [
       "date\n",
       "2017-11-30    33082\n",
       "2017-12-31    24455\n",
       "2018-01-31    23810\n",
       "2017-01-31    22363\n",
       "2018-02-28    15831\n",
       "2017-10-31    15387\n",
       "2017-07-31    15347\n",
       "2017-02-28    14616\n",
       "2017-04-30    13781\n",
       "2017-03-31    12443\n",
       "2017-09-30    12213\n",
       "2017-05-31    11665\n",
       "2017-08-31    11530\n",
       "2017-06-30    11221\n",
       "2018-03-31     8067\n",
       "Name: product_quantity, dtype: int64"
      ]
     },
     "execution_count": 16,
     "metadata": {},
     "output_type": "execute_result"
    }
   ],
   "source": [
    "(\n",
    "    ol_df\n",
    "    .resample(\"M\", on=\"date\")[\"product_quantity\"]\n",
    "    .sum()\n",
    "    .sort_values(ascending=False)\n",
    ")"
   ]
  },
  {
   "cell_type": "markdown",
   "metadata": {
    "id": "HL0K2INaC5TC"
   },
   "source": [
    "We can also quickly plot a daily graph for the amount of products sold."
   ]
  },
  {
   "cell_type": "code",
   "execution_count": 17,
   "metadata": {
    "id": "mJylW2glwdge"
   },
   "outputs": [
    {
     "data": {
      "image/png": "[encoded data removed]",
      "text/plain": [
       "<Figure size 864x576 with 1 Axes>"
      ]
     },
     "metadata": {
      "needs_background": "light"
     },
     "output_type": "display_data"
    }
   ],
   "source": [
    "(\n",
    "    ol_df\n",
    "    .resample(\"D\", on=\"date\")\n",
    "    .sum()[\"product_quantity\"]\n",
    "    .plot(figsize=(12, 8))\n",
    " );"
   ]
  },
  {
   "cell_type": "markdown",
   "metadata": {
    "id": "WFFTrGagraNu"
   },
   "source": [
    "We can create the same graph as above using `.groupby()`, it just takes a little more code"
   ]
  },
  {
   "cell_type": "code",
   "execution_count": 18,
   "metadata": {
    "id": "L7LQ7w6Qrlnb"
   },
   "outputs": [
    {
     "data": {
      "image/png": "[encoded data removed]",
      "text/plain": [
       "<Figure size 864x576 with 1 Axes>"
      ]
     },
     "metadata": {
      "needs_background": "light"
     },
     "output_type": "display_data"
    }
   ],
   "source": [
    "(\n",
    "    ol_df\n",
    "    .groupby([ol_df.date.dt.year, \n",
    "              ol_df.date.dt.month,\n",
    "              ol_df.date.dt.day])[\"product_quantity\"]\n",
    "    .sum()\n",
    "    .plot(figsize=(12, 8))\n",
    " );"
   ]
  },
  {
   "cell_type": "markdown",
   "metadata": {
    "id": "zMBquCgarx0E"
   },
   "source": [
    "As you can see from the x-axis of the two charts above, `.resample()` works a little more inuitvely when you want to group by datetimes. This isn't to say that you cannot use `.groupby()` with datetimes, of course you can. `.resample()` just provides us with a little extra flexibility to group datetime by specific groups. For example, you can create `.resample()` input strings such as `2H20min` for groups of 2 hours 20minutes, `3min` for groups of 3 minutes, `1D3H` for 1 day 3hours etc... "
   ]
  },
  {
   "cell_type": "markdown",
   "metadata": {
    "id": "m050CtFNk0aG"
   },
   "source": [
    "# Challenges"
   ]
  },
  {
   "cell_type": "markdown",
   "metadata": {
    "id": "qzK9J3B2mWyT"
   },
   "source": [
    "## Challenge 1. What are the top 8 most sold products?"
   ]
  },
  {
   "cell_type": "code",
   "execution_count": 57,
   "metadata": {
    "id": "ykMv1QQN5Ujx"
   },
   "outputs": [
    {
     "data": {
      "text/html": [
       "<div>\n",
       "<style scoped>\n",
       "    .dataframe tbody tr th:only-of-type {\n",
       "        vertical-align: middle;\n",
       "    }\n",
       "\n",
       "    .dataframe tbody tr th {\n",
       "        vertical-align: top;\n",
       "    }\n",
       "\n",
       "    .dataframe thead th {\n",
       "        text-align: right;\n",
       "    }\n",
       "</style>\n",
       "<table border=\"1\" class=\"dataframe\">\n",
       "  <thead>\n",
       "    <tr style=\"text-align: right;\">\n",
       "      <th></th>\n",
       "      <th>sku</th>\n",
       "      <th>name</th>\n",
       "    </tr>\n",
       "  </thead>\n",
       "  <tbody>\n",
       "    <tr>\n",
       "      <th>139</th>\n",
       "      <td>WDT0183</td>\n",
       "      <td>Red 4TB WD 35 \"Mac PC hard drive and NAS</td>\n",
       "    </tr>\n",
       "    <tr>\n",
       "      <th>625</th>\n",
       "      <td>APP0698</td>\n",
       "      <td>Apple Lightning Cable Connector to USB 1m Whit...</td>\n",
       "    </tr>\n",
       "    <tr>\n",
       "      <th>1215</th>\n",
       "      <td>SAM0074</td>\n",
       "      <td>Samsung 850 EVO SSD Disk 500GB</td>\n",
       "    </tr>\n",
       "    <tr>\n",
       "      <th>1439</th>\n",
       "      <td>APP0927</td>\n",
       "      <td>EarPods Apple Headphones with Remote and Mic (...</td>\n",
       "    </tr>\n",
       "    <tr>\n",
       "      <th>2613</th>\n",
       "      <td>APP1190</td>\n",
       "      <td>IPhone AppleCare Protection Plan</td>\n",
       "    </tr>\n",
       "    <tr>\n",
       "      <th>3516</th>\n",
       "      <td>APP1221</td>\n",
       "      <td>Apple Pencil</td>\n",
       "    </tr>\n",
       "    <tr>\n",
       "      <th>5484</th>\n",
       "      <td>APP1922</td>\n",
       "      <td>AirPods Apple Bluetooth Headset for iPhone iPa...</td>\n",
       "    </tr>\n",
       "    <tr>\n",
       "      <th>6732</th>\n",
       "      <td>APP1970</td>\n",
       "      <td>Apple iPhone 32GB Space Gray</td>\n",
       "    </tr>\n",
       "  </tbody>\n",
       "</table>\n",
       "</div>"
      ],
      "text/plain": [
       "          sku                                               name\n",
       "139   WDT0183           Red 4TB WD 35 \"Mac PC hard drive and NAS\n",
       "625   APP0698  Apple Lightning Cable Connector to USB 1m Whit...\n",
       "1215  SAM0074                     Samsung 850 EVO SSD Disk 500GB\n",
       "1439  APP0927  EarPods Apple Headphones with Remote and Mic (...\n",
       "2613  APP1190                   IPhone AppleCare Protection Plan\n",
       "3516  APP1221                                       Apple Pencil\n",
       "5484  APP1922  AirPods Apple Bluetooth Headset for iPhone iPa...\n",
       "6732  APP1970                       Apple iPhone 32GB Space Gray"
      ]
     },
     "execution_count": 57,
     "metadata": {},
     "output_type": "execute_result"
    }
   ],
   "source": [
    "# your code here\n",
    "ol_df.groupby(\"sku\").product_quantity.sum().sort_values(ascending=False).head(8)\n",
    "\n",
    "#other answer from Alex\n",
    "#list_bestsellers = (\n",
    "#    ol_df.groupby('sku')['product_quantity']\n",
    "# .sum()\n",
    "# .sort_values(ascending=False)\n",
    "# .nlargest(8,)\n",
    "# .reset_index()\n",
    "#)\n",
    "#products_cl.loc[products_cl.sku.isin(list_bestsellers.sku)][['sku', 'name']]"
   ]
  },
  {
   "cell_type": "markdown",
   "metadata": {
    "id": "PXYMOnwWyfkf"
   },
   "source": [
    "## Challenge 2. How many products did each of the 5 largest orders contain?"
   ]
  },
  {
   "cell_type": "code",
   "execution_count": 33,
   "metadata": {
    "id": "EStMw8mQ5hkz"
   },
   "outputs": [
    {
     "data": {
      "text/html": [
       "<div>\n",
       "<style scoped>\n",
       "    .dataframe tbody tr th:only-of-type {\n",
       "        vertical-align: middle;\n",
       "    }\n",
       "\n",
       "    .dataframe tbody tr th {\n",
       "        vertical-align: top;\n",
       "    }\n",
       "\n",
       "    .dataframe thead tr th {\n",
       "        text-align: left;\n",
       "    }\n",
       "\n",
       "    .dataframe thead tr:last-of-type th {\n",
       "        text-align: right;\n",
       "    }\n",
       "</style>\n",
       "<table border=\"1\" class=\"dataframe\">\n",
       "  <thead>\n",
       "    <tr>\n",
       "      <th></th>\n",
       "      <th colspan=\"2\" halign=\"left\">product_quantity</th>\n",
       "      <th>sku</th>\n",
       "    </tr>\n",
       "    <tr>\n",
       "      <th></th>\n",
       "      <th>sum</th>\n",
       "      <th>count</th>\n",
       "      <th>count</th>\n",
       "    </tr>\n",
       "    <tr>\n",
       "      <th>id_order</th>\n",
       "      <th></th>\n",
       "      <th></th>\n",
       "      <th></th>\n",
       "    </tr>\n",
       "  </thead>\n",
       "  <tbody>\n",
       "    <tr>\n",
       "      <th>346221</th>\n",
       "      <td>999</td>\n",
       "      <td>1</td>\n",
       "      <td>1</td>\n",
       "    </tr>\n",
       "    <tr>\n",
       "      <th>349475</th>\n",
       "      <td>800</td>\n",
       "      <td>1</td>\n",
       "      <td>1</td>\n",
       "    </tr>\n",
       "    <tr>\n",
       "      <th>349133</th>\n",
       "      <td>555</td>\n",
       "      <td>1</td>\n",
       "      <td>1</td>\n",
       "    </tr>\n",
       "    <tr>\n",
       "      <th>335057</th>\n",
       "      <td>202</td>\n",
       "      <td>2</td>\n",
       "      <td>2</td>\n",
       "    </tr>\n",
       "    <tr>\n",
       "      <th>417536</th>\n",
       "      <td>200</td>\n",
       "      <td>1</td>\n",
       "      <td>1</td>\n",
       "    </tr>\n",
       "  </tbody>\n",
       "</table>\n",
       "</div>"
      ],
      "text/plain": [
       "         product_quantity         sku\n",
       "                      sum count count\n",
       "id_order                             \n",
       "346221                999     1     1\n",
       "349475                800     1     1\n",
       "349133                555     1     1\n",
       "335057                202     2     2\n",
       "417536                200     1     1"
      ]
     },
     "execution_count": 33,
     "metadata": {},
     "output_type": "execute_result"
    }
   ],
   "source": [
    "# your code here\n",
    "\n",
    "#ol_df.groupby(\"id_order\").product_quantity.sum().sort_values(ascending=False).head(5)\n",
    "\n",
    "ol_df.groupby(\"id_order\").agg({\"product_quantity\": [\"sum\", \"count\"], \"sku\": \"count\"}).nlargest(5, (\"product_quantity\", \"sum\"))\n",
    "\n",
    "\n",
    "\n",
    "#(\n",
    "#    ol_df\n",
    "#    .groupby(\"id_order\")\n",
    "#    .agg({\"product_quantity\": [\"sum\", \"count\"], \"sku\": \"count\"})\n",
    "#    .nlargest(5, (\"product_quantity\", \"sum\"))\n",
    "#)"
   ]
  },
  {
   "cell_type": "markdown",
   "metadata": {
    "id": "4LhlPkykEOZT"
   },
   "source": [
    "## Challenge 3. We want to see how busy the days of the week are to know when we need more staff. Rank the days of the week from busiest to least busiest. \n",
    "Bonus points for using your pandas plotting skills."
   ]
  },
  {
   "cell_type": "code",
   "execution_count": 49,
   "metadata": {
    "id": "vJFw9Tmrvswv"
   },
   "outputs": [
    {
     "data": {
      "text/plain": [
       "date\n",
       "Monday       38086\n",
       "Wednesday    34663\n",
       "Friday       34419\n",
       "Tuesday      32888\n",
       "Thursday     30973\n",
       "Sunday       24384\n",
       "Saturday     20837\n",
       "Name: id_order, dtype: int64"
      ]
     },
     "execution_count": 49,
     "metadata": {},
     "output_type": "execute_result"
    }
   ],
   "source": [
    "# your code here\n",
    "\n",
    "#ol_df.info()\n",
    "(\n",
    "    ol_df.groupby(ol_df[\"date\"].dt.day_name())[\"id_order\"]\n",
    "    .count().sort_values(ascending=False).head(7)\n",
    "#    .plot(kind=\"bar\", figsize=(16, 12))\n",
    ")\n",
    "\n",
    "\n",
    "#resample on weekday\n",
    "#id_order.count_distinct().sort_values(ascending=False)"
   ]
  },
  {
   "cell_type": "markdown",
   "metadata": {
    "id": "lO2HC3vYzBB3"
   },
   "source": [
    "## Challenge 4. Which brands sell the most products?"
   ]
  },
  {
   "cell_type": "code",
   "execution_count": 56,
   "metadata": {
    "id": "0lPd1Y_ZIhkD"
   },
   "outputs": [
    {
     "ename": "SyntaxError",
     "evalue": "invalid syntax (<ipython-input-56-7b9089fbb428>, line 6)",
     "output_type": "error",
     "traceback": [
      "\u001b[0;36m  File \u001b[0;32m\"<ipython-input-56-7b9089fbb428>\"\u001b[0;36m, line \u001b[0;32m6\u001b[0m\n\u001b[0;31m    ol_df['short'] = ol_df.sku[[:3]]\u001b[0m\n\u001b[0m                                ^\u001b[0m\n\u001b[0;31mSyntaxError\u001b[0m\u001b[0;31m:\u001b[0m invalid syntax\n"
     ]
    }
   ],
   "source": [
    "# your code here\n",
    "\n",
    "#bandol = pd.concat([orderlines_cl, brands], axis = 1)\n",
    "#bandol.loc[bandol.groupby(\"long\").product_quantity.sum().max(),:]\n",
    "\n",
    "ol_df['short'] = ol_df.sku.str.extract\n",
    "ol_df.head()\n"
   ]
  },
  {
   "cell_type": "markdown",
   "metadata": {
    "id": "Nwvy0aVmQl_v"
   },
   "source": [
    "## Challenge 5. Plot a line chart for the amount of orders each hour of November 2017"
   ]
  },
  {
   "cell_type": "code",
   "execution_count": null,
   "metadata": {
    "id": "GTYN3cYAIjSr"
   },
   "outputs": [],
   "source": [
    "# your code here\n",
    "\n",
    "\n"
   ]
  }
 ],
 "metadata": {
  "colab": {
   "collapsed_sections": [],
   "provenance": []
  },
  "kernelspec": {
   "display_name": "Python 3",
   "language": "python",
   "name": "python3"
  },
  "language_info": {
   "codemirror_mode": {
    "name": "ipython",
    "version": 3
   },
   "file_extension": ".py",
   "mimetype": "text/x-python",
   "name": "python",
   "nbconvert_exporter": "python",
   "pygments_lexer": "ipython3",
   "version": "3.8.8"
  }
 },
 "nbformat": 4,
 "nbformat_minor": 4
}
