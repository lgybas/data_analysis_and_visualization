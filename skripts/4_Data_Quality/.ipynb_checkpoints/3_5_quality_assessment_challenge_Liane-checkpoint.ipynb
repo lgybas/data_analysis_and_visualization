{
 "cells": [
  {
   "cell_type": "markdown",
   "metadata": {
    "id": "aSm5aaRLtFLx"
   },
   "source": [
    "# Quality Assessment\n",
    "Now it's your turn. Follow [the steps on the platform](https://platform.wbscodingschool.com/courses/data-science/9474/) and use what you've learnt to see how reliable the data is."
   ]
  },
  {
   "cell_type": "code",
   "execution_count": 1,
   "metadata": {
    "id": "Lq7zsZka4q2m"
   },
   "outputs": [],
   "source": [
    "import pandas as pd"
   ]
  },
  {
   "cell_type": "markdown",
   "metadata": {
    "id": "hzwXSr-xfh97"
   },
   "source": [
    "Load our cleaned DataFrames"
   ]
  },
  {
   "cell_type": "code",
   "execution_count": 2,
   "metadata": {
    "id": "30IJsE7t49Eu"
   },
   "outputs": [],
   "source": [
    "# orders_cl.csv\n",
    "url = \"https://drive.google.com/file/d/1Tla62vfu__kCqvgypZyVt2S9VuC016yH/view?usp=sharing\" \n",
    "path = \"https://drive.google.com/uc?export=download&id=\"+url.split(\"/\")[-2]\n",
    "orders_cl = pd.read_csv(path)\n",
    "\n",
    "# orderlines_cl.csv\n",
    "url = \"https://drive.google.com/file/d/1OhtkQS2fwOYdzfd-qPh7im35iLc-L9TA/view?usp=sharing\" \n",
    "path = \"https://drive.google.com/uc?export=download&id=\"+url.split(\"/\")[-2]\n",
    "orderlines_cl = pd.read_csv(path)\n",
    "\n",
    "# products_cl.csv\n",
    "url = \"https://drive.google.com/file/d/1s7Lai4NSlsYjGEPg1QSOUJobNYVsZBOJ/view?usp=sharing\" \n",
    "path = \"https://drive.google.com/uc?export=download&id=\"+url.split(\"/\")[-2]\n",
    "products_cl = pd.read_csv(path)"
   ]
  },
  {
   "cell_type": "markdown",
   "metadata": {
    "id": "GjQD8WPe6h0i"
   },
   "source": [
    "## 1.&nbsp; Define Pandas display format"
   ]
  },
  {
   "cell_type": "code",
   "execution_count": 3,
   "metadata": {
    "id": "SLikKmNx4WNo"
   },
   "outputs": [],
   "source": [
    "# your code here\n",
    "pd.set_option('display.float_format', lambda x: '%.2f' % x)\n",
    "pd.set_option('display.max_rows', 1000)"
   ]
  },
  {
   "cell_type": "code",
   "execution_count": 4,
   "metadata": {
    "id": "ja0XpsDDkZrT"
   },
   "outputs": [],
   "source": [
    "#make a copy to work on\n",
    "products_cl_LG = products_cl.copy()\n",
    "orders_cl_LG = orders_cl.copy()\n",
    "orderlines_cl_LG = orderlines_cl.copy()"
   ]
  },
  {
   "cell_type": "code",
   "execution_count": 5,
   "metadata": {},
   "outputs": [],
   "source": [
    "#all tables have been transferred to correct datatypes - yay\n",
    "orderlines_cl_LG[\"date\"] = pd.to_datetime(orderlines_cl_LG[\"date\"])\n",
    "orders_cl_LG[\"created_date\"] = pd.to_datetime(orders_cl_LG[\"created_date\"])\n",
    "\n",
    "#rename column\n",
    "orderlines_cl_LG.rename(columns = {'id_order':'order_id'}, inplace = True)\n",
    "#orderlines_cl_LG.info()"
   ]
  },
  {
   "cell_type": "markdown",
   "metadata": {
    "id": "M0NhTKzF6jV4"
   },
   "source": [
    "## 2.&nbsp; Exclude unwanted orders"
   ]
  },
  {
   "cell_type": "code",
   "execution_count": 6,
   "metadata": {},
   "outputs": [],
   "source": [
    "#orders –> Keep only orders present in orderlines.\n",
    "all_order_ids_from_orders = orders_cl_LG.order_id.unique()\n",
    "orderlines_cl_LG = orderlines_cl_LG.loc[orderlines_cl_LG.order_id.isin(all_order_ids_from_orders.tolist()), :]\n"
   ]
  },
  {
   "cell_type": "code",
   "execution_count": 7,
   "metadata": {},
   "outputs": [],
   "source": [
    "#orderlines –> Keep only orders present in orders.\n",
    "all_order_ids_from_orderlines = orderlines_cl_LG.order_id.unique()\n",
    "orders_cl_LG = orders_cl_LG.loc[orders_cl_LG.order_id.isin(all_order_ids_from_orderlines.tolist()), :]"
   ]
  },
  {
   "cell_type": "code",
   "execution_count": 8,
   "metadata": {},
   "outputs": [
    {
     "data": {
      "text/plain": [
       "(216057, 7)"
      ]
     },
     "execution_count": 8,
     "metadata": {},
     "output_type": "execute_result"
    }
   ],
   "source": [
    "orderlines_cl_LG.shape"
   ]
  },
  {
   "cell_type": "code",
   "execution_count": 9,
   "metadata": {},
   "outputs": [
    {
     "data": {
      "text/plain": [
       "(170069, 4)"
      ]
     },
     "execution_count": 9,
     "metadata": {},
     "output_type": "execute_result"
    }
   ],
   "source": [
    "orders_cl_LG.shape"
   ]
  },
  {
   "cell_type": "markdown",
   "metadata": {
    "id": "F-rtzwAn7WyS"
   },
   "source": [
    "## 3.&nbsp; Exclude orders with unknown products\n"
   ]
  },
  {
   "cell_type": "code",
   "execution_count": 10,
   "metadata": {
    "id": "EkNqtrfdJGAW"
   },
   "outputs": [],
   "source": [
    "# your code here\n",
    "\n",
    "#Get a list of all_skus\n",
    "all_skus_from_products = products_cl_LG.sku\n",
    "\n",
    "#Check on orderlines: select 'order_id' when sku is not in all_skus \n",
    "orders_with_missing_skus = orderlines_cl_LG.loc[orderlines_cl_LG.sku.isin(all_skus_from_products.tolist()) == False, \"order_id\"]\n",
    "\n",
    "#Update orderlines: Keep all entries from orderlines, where orderid is not in list missing_skus\n",
    "orderlines_ql = orderlines_cl_LG.loc[orderlines_cl_LG.order_id.isin(orders_with_missing_skus) == False, :]\n",
    "\n",
    "#Update orders: Keep all entries from orders, where orderid is not in list missing_skus\n",
    "orders_ql = orders_cl_LG.loc[orders_cl_LG.order_id.isin(orders_with_missing_skus) == False, :]\n",
    "\n",
    "\n"
   ]
  },
  {
   "cell_type": "code",
   "execution_count": 11,
   "metadata": {},
   "outputs": [],
   "source": [
    "#getting only completed orders in orders_ql\n",
    "\n",
    "#getting only completed orders in orderlines_ql\n",
    "\n",
    "orders_ql_completed = orders_ql.loc[orders_ql.state == 'Completed', :].copy()\n",
    "orderlines_ql_completed = orderlines_ql.loc[orderlines_ql.order_id.isin(orders_ql_completed.order_id.tolist()), :].copy()\n",
    "\n"
   ]
  },
  {
   "cell_type": "code",
   "execution_count": 12,
   "metadata": {},
   "outputs": [],
   "source": [
    "orderlines_ql_completed.shape\n",
    "orderlines_ql_completed.to_csv(\"orderlines_completed.csv\", index=False)\n"
   ]
  },
  {
   "cell_type": "code",
   "execution_count": 13,
   "metadata": {},
   "outputs": [],
   "source": [
    "orders_ql_completed.shape\n",
    "orders_ql_completed.to_csv(\"orders_completed.csv\", index=False)"
   ]
  },
  {
   "cell_type": "code",
   "execution_count": 14,
   "metadata": {},
   "outputs": [],
   "source": [
    "#all other categories\n",
    "orders_ql_other_states = orders_ql.loc[orders_ql.state != 'Completed', :]\n",
    "orderlines_ql_other_states = orderlines_ql.loc[orderlines_ql.order_id.isin(orders_ql_other_states.order_id.tolist()), :]\n",
    "\n",
    "orders_ql_other_states.to_csv(\"orders_other_states.csv\", index=False)\n",
    "orderlines_ql_other_states.to_csv(\"orderlines_other_states.csv\", index=False)\n"
   ]
  },
  {
   "cell_type": "code",
   "execution_count": 15,
   "metadata": {},
   "outputs": [
    {
     "data": {
      "text/plain": [
       "(122049, 4)"
      ]
     },
     "execution_count": 15,
     "metadata": {},
     "output_type": "execute_result"
    }
   ],
   "source": [
    "orders_ql_other_states.shape"
   ]
  },
  {
   "cell_type": "code",
   "execution_count": 16,
   "metadata": {},
   "outputs": [
    {
     "data": {
      "text/plain": [
       "(151079, 7)"
      ]
     },
     "execution_count": 16,
     "metadata": {},
     "output_type": "execute_result"
    }
   ],
   "source": [
    "orderlines_ql_other_states.shape"
   ]
  },
  {
   "cell_type": "code",
   "execution_count": 17,
   "metadata": {},
   "outputs": [],
   "source": [
    "products_cl_LG.to_csv(\"products_cl.csv\", index=False)"
   ]
  },
  {
   "cell_type": "markdown",
   "metadata": {
    "id": "bCLu78B07gN1"
   },
   "source": [
    "## 4.&nbsp; Explore the revenue from different tables"
   ]
  },
  {
   "cell_type": "markdown",
   "metadata": {
    "id": "CrmrCXypbflw"
   },
   "source": [
    "#### Step 1:\n",
    "Create the `unit_price_total` as `orderlines.unit_price` * `prderlines.product_quantity`"
   ]
  },
  {
   "cell_type": "code",
   "execution_count": 18,
   "metadata": {
    "id": "c8MApY6jatlO"
   },
   "outputs": [],
   "source": [
    "# your code here\n",
    "\n",
    "orderlines_ql_completed['unit_price_total'] = orderlines_ql_completed.unit_price * orderlines_ql_completed.product_quantity\n",
    "\n"
   ]
  },
  {
   "cell_type": "markdown",
   "metadata": {
    "id": "gkvMUjymbvSC"
   },
   "source": [
    "#### Step 2: \n",
    "Group by `order_id`, summarising by the sum of `unit_price_total`"
   ]
  },
  {
   "cell_type": "code",
   "execution_count": 19,
   "metadata": {
    "id": "4hasZA5BaH1k"
   },
   "outputs": [
    {
     "data": {
      "text/plain": [
       "order_id\n",
       "241423   129.16\n",
       "242832    10.77\n",
       "243330    77.99\n",
       "245275   149.00\n",
       "245595   105.98\n",
       "          ...  \n",
       "527042    13.99\n",
       "527070    19.98\n",
       "527074    19.98\n",
       "527096    29.97\n",
       "527112     9.99\n",
       "Name: unit_price_total, Length: 41701, dtype: float64"
      ]
     },
     "execution_count": 19,
     "metadata": {},
     "output_type": "execute_result"
    }
   ],
   "source": [
    "\n",
    "# your code here\n",
    "orderlines_ql_completed.groupby(\"order_id\").unit_price_total.sum()\n"
   ]
  },
  {
   "cell_type": "markdown",
   "metadata": {
    "id": "_d1lwist8F6X"
   },
   "source": [
    "### What is the average difference between `total_paid` and `unit_price_total`?"
   ]
  },
  {
   "cell_type": "code",
   "execution_count": 20,
   "metadata": {
    "id": "5N02JPCMgyBU"
   },
   "outputs": [
    {
     "data": {
      "text/html": [
       "<div>\n",
       "<style scoped>\n",
       "    .dataframe tbody tr th:only-of-type {\n",
       "        vertical-align: middle;\n",
       "    }\n",
       "\n",
       "    .dataframe tbody tr th {\n",
       "        vertical-align: top;\n",
       "    }\n",
       "\n",
       "    .dataframe thead th {\n",
       "        text-align: right;\n",
       "    }\n",
       "</style>\n",
       "<table border=\"1\" class=\"dataframe\">\n",
       "  <thead>\n",
       "    <tr style=\"text-align: right;\">\n",
       "      <th></th>\n",
       "      <th>order_id</th>\n",
       "      <th>created_date</th>\n",
       "      <th>total_paid</th>\n",
       "      <th>state</th>\n",
       "      <th>unit_price_total</th>\n",
       "    </tr>\n",
       "  </thead>\n",
       "  <tbody>\n",
       "    <tr>\n",
       "      <th>0</th>\n",
       "      <td>241423</td>\n",
       "      <td>2017-11-06 13:10:02</td>\n",
       "      <td>136.15</td>\n",
       "      <td>Completed</td>\n",
       "      <td>129.16</td>\n",
       "    </tr>\n",
       "    <tr>\n",
       "      <th>1</th>\n",
       "      <td>242832</td>\n",
       "      <td>2017-12-31 17:40:03</td>\n",
       "      <td>15.76</td>\n",
       "      <td>Completed</td>\n",
       "      <td>10.77</td>\n",
       "    </tr>\n",
       "    <tr>\n",
       "      <th>2</th>\n",
       "      <td>243330</td>\n",
       "      <td>2017-02-16 10:59:38</td>\n",
       "      <td>84.98</td>\n",
       "      <td>Completed</td>\n",
       "      <td>77.99</td>\n",
       "    </tr>\n",
       "    <tr>\n",
       "      <th>3</th>\n",
       "      <td>245275</td>\n",
       "      <td>2017-06-28 11:35:37</td>\n",
       "      <td>149.00</td>\n",
       "      <td>Completed</td>\n",
       "      <td>149.00</td>\n",
       "    </tr>\n",
       "    <tr>\n",
       "      <th>4</th>\n",
       "      <td>245595</td>\n",
       "      <td>2017-01-21 12:52:47</td>\n",
       "      <td>112.97</td>\n",
       "      <td>Completed</td>\n",
       "      <td>105.98</td>\n",
       "    </tr>\n",
       "    <tr>\n",
       "      <th>...</th>\n",
       "      <td>...</td>\n",
       "      <td>...</td>\n",
       "      <td>...</td>\n",
       "      <td>...</td>\n",
       "      <td>...</td>\n",
       "    </tr>\n",
       "    <tr>\n",
       "      <th>41696</th>\n",
       "      <td>527042</td>\n",
       "      <td>2018-03-14 11:47:50</td>\n",
       "      <td>18.98</td>\n",
       "      <td>Completed</td>\n",
       "      <td>13.99</td>\n",
       "    </tr>\n",
       "    <tr>\n",
       "      <th>41697</th>\n",
       "      <td>527070</td>\n",
       "      <td>2018-03-14 11:50:48</td>\n",
       "      <td>24.97</td>\n",
       "      <td>Completed</td>\n",
       "      <td>19.98</td>\n",
       "    </tr>\n",
       "    <tr>\n",
       "      <th>41698</th>\n",
       "      <td>527074</td>\n",
       "      <td>2018-03-14 11:51:42</td>\n",
       "      <td>24.97</td>\n",
       "      <td>Completed</td>\n",
       "      <td>19.98</td>\n",
       "    </tr>\n",
       "    <tr>\n",
       "      <th>41699</th>\n",
       "      <td>527096</td>\n",
       "      <td>2018-03-14 11:58:40</td>\n",
       "      <td>34.96</td>\n",
       "      <td>Completed</td>\n",
       "      <td>29.97</td>\n",
       "    </tr>\n",
       "    <tr>\n",
       "      <th>41700</th>\n",
       "      <td>527112</td>\n",
       "      <td>2018-03-14 12:03:52</td>\n",
       "      <td>14.98</td>\n",
       "      <td>Completed</td>\n",
       "      <td>9.99</td>\n",
       "    </tr>\n",
       "  </tbody>\n",
       "</table>\n",
       "<p>41701 rows × 5 columns</p>\n",
       "</div>"
      ],
      "text/plain": [
       "       order_id        created_date  total_paid      state  unit_price_total\n",
       "0        241423 2017-11-06 13:10:02      136.15  Completed            129.16\n",
       "1        242832 2017-12-31 17:40:03       15.76  Completed             10.77\n",
       "2        243330 2017-02-16 10:59:38       84.98  Completed             77.99\n",
       "3        245275 2017-06-28 11:35:37      149.00  Completed            149.00\n",
       "4        245595 2017-01-21 12:52:47      112.97  Completed            105.98\n",
       "...         ...                 ...         ...        ...               ...\n",
       "41696    527042 2018-03-14 11:47:50       18.98  Completed             13.99\n",
       "41697    527070 2018-03-14 11:50:48       24.97  Completed             19.98\n",
       "41698    527074 2018-03-14 11:51:42       24.97  Completed             19.98\n",
       "41699    527096 2018-03-14 11:58:40       34.96  Completed             29.97\n",
       "41700    527112 2018-03-14 12:03:52       14.98  Completed              9.99\n",
       "\n",
       "[41701 rows x 5 columns]"
      ]
     },
     "execution_count": 20,
     "metadata": {},
     "output_type": "execute_result"
    }
   ],
   "source": [
    "# your code here\n",
    "\n",
    "#I think we need to make a sum per order before comparing\n",
    "\n",
    "#(orders_ql_completed.total_paid - orderlines_ql_completed.unit_price_total.sum()).mean()\n",
    "\n",
    "unit_price_total_per_order = orderlines_ql_completed.groupby(\"order_id\").unit_price_total.sum()\n",
    "\n",
    "orders_ql_completed = orders_ql_completed.merge(unit_price_total_per_order, on='order_id')\n",
    "\n",
    "\n",
    "orders_ql_completed"
   ]
  },
  {
   "cell_type": "code",
   "execution_count": 21,
   "metadata": {},
   "outputs": [],
   "source": [
    "\n",
    "orders_ql_completed['diff_total_paid_unit_price_total'] = orders_ql_completed.total_paid - orders_ql_completed.unit_price_total\n"
   ]
  },
  {
   "cell_type": "code",
   "execution_count": 22,
   "metadata": {},
   "outputs": [
    {
     "data": {
      "text/plain": [
       "4.474808277978416"
      ]
     },
     "execution_count": 22,
     "metadata": {},
     "output_type": "execute_result"
    }
   ],
   "source": [
    "orders_ql_completed.diff_total_paid_unit_price_total.mean()"
   ]
  },
  {
   "cell_type": "markdown",
   "metadata": {
    "id": "UpynvRcO8QBr"
   },
   "source": [
    "### What is the distribution of these differences?"
   ]
  },
  {
   "cell_type": "code",
   "execution_count": 23,
   "metadata": {
    "id": "O4RDNgttJSPD"
   },
   "outputs": [
    {
     "data": {
      "text/plain": [
       "<AxesSubplot:>"
      ]
     },
     "execution_count": 23,
     "metadata": {},
     "output_type": "execute_result"
    },
    {
     "data": {
      "image/png": "[encoded data removed]",
      "text/plain": [
       "<Figure size 432x288 with 1 Axes>"
      ]
     },
     "metadata": {
      "needs_background": "light"
     },
     "output_type": "display_data"
    }
   ],
   "source": [
    "# your code here\n",
    "orders_ql_completed.diff_total_paid_unit_price_total.hist(bins=50)\n",
    "\n",
    "#(orders_ql_completed.total_paid - orderlines_ql_completed.unit_price_total).describe()"
   ]
  },
  {
   "cell_type": "code",
   "execution_count": 24,
   "metadata": {},
   "outputs": [
    {
     "data": {
      "text/plain": [
       "count   41701.00\n",
       "mean        4.47\n",
       "std        26.05\n",
       "min      -165.00\n",
       "25%         0.00\n",
       "50%         4.99\n",
       "75%         6.99\n",
       "max      3984.99\n",
       "Name: diff_total_paid_unit_price_total, dtype: float64"
      ]
     },
     "execution_count": 24,
     "metadata": {},
     "output_type": "execute_result"
    }
   ],
   "source": [
    "\n",
    "orders_ql_completed.diff_total_paid_unit_price_total.describe()"
   ]
  },
  {
   "cell_type": "code",
   "execution_count": null,
   "metadata": {},
   "outputs": [],
   "source": []
  },
  {
   "cell_type": "markdown",
   "metadata": {
    "id": "NINPK4rB8TSY"
   },
   "source": [
    "### Can all the differences be explained by shipping costs? If not, what are other plausible explanations?"
   ]
  },
  {
   "cell_type": "code",
   "execution_count": 25,
   "metadata": {
    "id": "_6GvQ28EJUIf"
   },
   "outputs": [],
   "source": [
    "# your explanation here\n",
    "#4.99 could be shipping costs\n",
    "#6.99 could also be shipping costs\n",
    "#0.00 could also be shipping costs\n",
    "\n",
    "# 3,984 and  -165 cannot be explained reasonably."
   ]
  },
  {
   "cell_type": "markdown",
   "metadata": {
    "id": "xPos2ipK8VST"
   },
   "source": [
    "### If there are differences that you can’t explain: what should you do with these orders?"
   ]
  },
  {
   "cell_type": "code",
   "execution_count": 26,
   "metadata": {
    "id": "xqeCAJBt8V3T"
   },
   "outputs": [],
   "source": [
    "# your code here\n",
    "# calculate the quartiles\n",
    "Q1 = orders_ql_completed.diff_total_paid_unit_price_total.quantile(0.25)\n",
    "Q3 = orders_ql_completed.diff_total_paid_unit_price_total.quantile(0.75)\n",
    "\n",
    "# calculates the IQR\n",
    "IQR = Q3 - Q1\n",
    "\n",
    "# keep only the differences that are within Q1-1.5*IQR  and Q3-1.5*IQR\n",
    "orders_ql_completed = orders_ql_completed.loc[(orders_ql_completed.diff_total_paid_unit_price_total >= (Q1 - 1.5*IQR)) & (orders_ql_completed.diff_total_paid_unit_price_total <= (Q3 + 1.5*IQR)), :]\n",
    "\n",
    "#orders_orderlines_total_merged_no_outliers = orders_orderlines_total_merged.loc[(orders_orderlines_total_merged.price_diff >= (Q1 - 1.5*IQR)) & (orders_orderlines_total_merged.price_diff <= (Q3 + 1.5*IQR)), :]\n",
    "\n"
   ]
  },
  {
   "cell_type": "code",
   "execution_count": 27,
   "metadata": {},
   "outputs": [
    {
     "data": {
      "text/plain": [
       "39142   16.97\n",
       "367     14.99\n",
       "1064    14.99\n",
       "1194    14.99\n",
       "1943    14.99\n",
       "Name: diff_total_paid_unit_price_total, dtype: float64"
      ]
     },
     "execution_count": 27,
     "metadata": {},
     "output_type": "execute_result"
    }
   ],
   "source": [
    "orders_ql_completed.diff_total_paid_unit_price_total.nlargest()\n",
    "#orderlines.loc[orders_ql_completed]"
   ]
  },
  {
   "cell_type": "code",
   "execution_count": 28,
   "metadata": {},
   "outputs": [
    {
     "data": {
      "text/plain": [
       "<AxesSubplot:>"
      ]
     },
     "execution_count": 28,
     "metadata": {},
     "output_type": "execute_result"
    },
    {
     "data": {
      "image/png": "[encoded data removed]",
      "text/plain": [
       "<Figure size 432x288 with 1 Axes>"
      ]
     },
     "metadata": {
      "needs_background": "light"
     },
     "output_type": "display_data"
    }
   ],
   "source": [
    "\n",
    "orders_ql_completed.diff_total_paid_unit_price_total.hist(bins=50)"
   ]
  },
  {
   "cell_type": "code",
   "execution_count": 29,
   "metadata": {},
   "outputs": [
    {
     "data": {
      "text/plain": [
       "(40985, 40985)"
      ]
     },
     "execution_count": 29,
     "metadata": {},
     "output_type": "execute_result"
    }
   ],
   "source": [
    "# now update the orderlines as well with with current order_ids\n",
    "\n",
    "normal_diff_list = list(orders_ql_completed[\"order_id\"])\n",
    "\n",
    "\n",
    "orderlines_ql_completed = orderlines_ql_completed.loc[orderlines_ql_completed.order_id.isin(normal_diff_list), :]\n",
    "\n",
    "#check if they have the same lenght\n",
    "len(list(orders_ql_completed.order_id.unique())), len(list(orderlines_ql_completed.order_id.unique()))"
   ]
  },
  {
   "cell_type": "markdown",
   "metadata": {
    "id": "FWROzNEd8b8d"
   },
   "source": [
    "## 5.&nbsp; Become confident about your dataset"
   ]
  },
  {
   "cell_type": "markdown",
   "metadata": {
    "id": "qkiySvbwldvU"
   },
   "source": [
    "Let's hear your thoughts about what you discovered."
   ]
  },
  {
   "cell_type": "code",
   "execution_count": 30,
   "metadata": {
    "id": "AR14cjMpfXV0"
   },
   "outputs": [],
   "source": [
    "# your thoughts & code here\n",
    "\n"
   ]
  },
  {
   "cell_type": "code",
   "execution_count": 31,
   "metadata": {},
   "outputs": [],
   "source": [
    "#orders –> Keep only orders with the states that you want to work with!\n",
    "\n",
    "#SAVE ALL FILES\n",
    "#orders_cl_LG.loc[orders_cl_LG.state.isin(['Completed'])]\n",
    "\n",
    "products_cl_LG.to_csv(\"products_cl.csv\", index=False)\n",
    "orders_ql_completed.to_csv(\"orders_qu.csv\", index= False)\n",
    "orderlines_ql_completed.to_csv(\"orderlines_qu.csv\", index=False)"
   ]
  },
  {
   "cell_type": "markdown",
   "metadata": {
    "id": "dvyhnpLcfXdd"
   },
   "source": [
    "Do not forget to download your quality controlled DataFrames"
   ]
  },
  {
   "cell_type": "code",
   "execution_count": 32,
   "metadata": {
    "id": "gUcJc1E6sVOl"
   },
   "outputs": [],
   "source": [
    "#from google.colab import files\n",
    "\n",
    "#orders_quality_controlled.to_csv(\"orders_qu.csv\", index=False)\n",
    "#files.download(\"orders_qu.csv\")\n",
    "\n",
    "#orderlines_quality_controlled.to_csv(\"orderlines_qu.csv\", index=False)\n",
    "#files.download(\"orderlines_qu.csv\")\n",
    "\n"
   ]
  },
  {
   "cell_type": "code",
   "execution_count": null,
   "metadata": {},
   "outputs": [],
   "source": []
  }
 ],
 "metadata": {
  "colab": {
   "collapsed_sections": [
    "CP3XvAdtSh-W",
    "MGfHi2emuFvJ",
    "6LDe4vd8wOJS",
    "G6ZM_Jxl4-UE",
    "aSm5aaRLtFLx",
    "GjQD8WPe6h0i",
    "M0NhTKzF6jV4",
    "EKolLICj68Ai",
    "Ihny8AC97HY9",
    "F-rtzwAn7WyS",
    "bCLu78B07gN1",
    "_d1lwist8F6X",
    "UpynvRcO8QBr",
    "NINPK4rB8TSY",
    "xPos2ipK8VST",
    "FWROzNEd8b8d"
   ],
   "provenance": []
  },
  "kernelspec": {
   "display_name": "Python 3",
   "language": "python",
   "name": "python3"
  },
  "language_info": {
   "codemirror_mode": {
    "name": "ipython",
    "version": 3
   },
   "file_extension": ".py",
   "mimetype": "text/x-python",
   "name": "python",
   "nbconvert_exporter": "python",
   "pygments_lexer": "ipython3",
   "version": "3.8.8"
  }
 },
 "nbformat": 4,
 "nbformat_minor": 4
}
