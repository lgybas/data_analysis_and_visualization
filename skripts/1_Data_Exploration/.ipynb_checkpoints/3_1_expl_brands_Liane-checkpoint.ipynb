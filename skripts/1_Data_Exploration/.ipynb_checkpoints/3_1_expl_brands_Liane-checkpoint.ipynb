{
 "cells": [
  {
   "cell_type": "markdown",
   "id": "b24dd984-ccca-4fbf-b37e-b4074f80e73d",
   "metadata": {
    "tags": []
   },
   "source": [
    "# Exploration of brands.csv"
   ]
  },
  {
   "cell_type": "code",
   "execution_count": 1,
   "id": "a52d7f01-6272-4836-8749-3e7237028149",
   "metadata": {},
   "outputs": [],
   "source": [
    "import pandas as pd"
   ]
  },
  {
   "cell_type": "code",
   "execution_count": 2,
   "id": "893f8a6c-0f04-4a41-92b5-6751805e4832",
   "metadata": {},
   "outputs": [],
   "source": [
    "#url = \"https://drive.google.com/file/d/1FYhN_2AzTBFuWcfHaRuKcuCE6CWXsWtG/view?usp=sharing\" # orderlines.csv\n",
    "#url = \"https://drive.google.com/file/d/1Vu0q91qZw6lqhIqbjoXYvYAQTmVHh6uZ/view?usp=sharing\" # orders.csv\n",
    "#url = \"https://drive.google.com/file/d/1afxwDXfl-7cQ_qLwyDitfcCx3u7WMvkU/view?usp=sharing\" # products.csv\n",
    "url = \"https://drive.google.com/file/d/1m1ThDDIYRTTii-rqM5SEQjJ8McidJskD/view?usp=sharing\" # brands.csv\n",
    "path = \"https://drive.google.com/uc?export=download&id=\"+url.split(\"/\")[-2]\n",
    "brands_original = pd.read_csv(path)\n",
    "\n",
    "#MAKE A COPY\n",
    "brands = brands_original.copy()"
   ]
  },
  {
   "cell_type": "markdown",
   "id": "cb66c81e-30ae-4a6d-9496-cd5d2f15dd65",
   "metadata": {},
   "source": [
    "## Check size, data-types and missing values with  .shape and .info()"
   ]
  },
  {
   "cell_type": "code",
   "execution_count": 3,
   "id": "2cd6eb86-e21c-47c2-8518-43c276bd6398",
   "metadata": {},
   "outputs": [
    {
     "data": {
      "text/plain": [
       "(187, 2)"
      ]
     },
     "execution_count": 3,
     "metadata": {},
     "output_type": "execute_result"
    }
   ],
   "source": [
    "brands.shape "
   ]
  },
  {
   "cell_type": "code",
   "execution_count": 4,
   "id": "4495bc48-2925-43fb-b455-2391948d323b",
   "metadata": {},
   "outputs": [
    {
     "name": "stdout",
     "output_type": "stream",
     "text": [
      "<class 'pandas.core.frame.DataFrame'>\n",
      "RangeIndex: 187 entries, 0 to 186\n",
      "Data columns (total 2 columns):\n",
      " #   Column  Non-Null Count  Dtype \n",
      "---  ------  --------------  ----- \n",
      " 0   short   187 non-null    object\n",
      " 1   long    187 non-null    object\n",
      "dtypes: object(2)\n",
      "memory usage: 3.0+ KB\n"
     ]
    }
   ],
   "source": [
    "brands.info() "
   ]
  },
  {
   "cell_type": "code",
   "execution_count": 6,
   "id": "261072de-4673-4fe2-8adb-460c0b01ccf5",
   "metadata": {},
   "outputs": [
    {
     "data": {
      "text/plain": [
       "181"
      ]
     },
     "execution_count": 6,
     "metadata": {},
     "output_type": "execute_result"
    }
   ],
   "source": [
    "brands.long.nunique()\n",
    "# check if everything is alphanumeric\n",
    "#order.order_id.str.isalnum() --> only works on object-type"
   ]
  },
  {
   "cell_type": "markdown",
   "id": "2f1ec230-117a-4d3a-a86d-c89c7bdf6c99",
   "metadata": {},
   "source": [
    "**INFO:**\n",
    "- 187 rows and two columns\n",
    "- 187 different brands in column 'short' and no duplicates\n",
    "- 181 different brands in column 'long' so there have to be 6 duplicates.\n",
    "- There are no missing values\n",
    "- object-types seem ok"
   ]
  },
  {
   "cell_type": "markdown",
   "id": "bf05b5c6-0182-4f23-b5e2-92743e71d2f9",
   "metadata": {},
   "source": [
    "\n"
   ]
  },
  {
   "cell_type": "markdown",
   "id": "312889e2-daeb-4426-8db8-73c59aa40845",
   "metadata": {},
   "source": [
    "## Check raw data with .head() and .tail()"
   ]
  },
  {
   "cell_type": "code",
   "execution_count": 8,
   "id": "9fe5f302-d38c-420e-b6a6-f07c7d8148c2",
   "metadata": {},
   "outputs": [
    {
     "data": {
      "text/html": [
       "<div>\n",
       "<style scoped>\n",
       "    .dataframe tbody tr th:only-of-type {\n",
       "        vertical-align: middle;\n",
       "    }\n",
       "\n",
       "    .dataframe tbody tr th {\n",
       "        vertical-align: top;\n",
       "    }\n",
       "\n",
       "    .dataframe thead th {\n",
       "        text-align: right;\n",
       "    }\n",
       "</style>\n",
       "<table border=\"1\" class=\"dataframe\">\n",
       "  <thead>\n",
       "    <tr style=\"text-align: right;\">\n",
       "      <th></th>\n",
       "      <th>short</th>\n",
       "      <th>long</th>\n",
       "    </tr>\n",
       "  </thead>\n",
       "  <tbody>\n",
       "    <tr>\n",
       "      <th>167</th>\n",
       "      <td>TPL</td>\n",
       "      <td>TP-Link</td>\n",
       "    </tr>\n",
       "    <tr>\n",
       "      <th>168</th>\n",
       "      <td>TRA</td>\n",
       "      <td>Trascend</td>\n",
       "    </tr>\n",
       "    <tr>\n",
       "      <th>169</th>\n",
       "      <td>TRI</td>\n",
       "      <td>Tribe</td>\n",
       "    </tr>\n",
       "    <tr>\n",
       "      <th>170</th>\n",
       "      <td>TRK</td>\n",
       "      <td>TrackR</td>\n",
       "    </tr>\n",
       "    <tr>\n",
       "      <th>171</th>\n",
       "      <td>TRN</td>\n",
       "      <td>Trunk Sleeve</td>\n",
       "    </tr>\n",
       "    <tr>\n",
       "      <th>172</th>\n",
       "      <td>TUC</td>\n",
       "      <td>Tucano</td>\n",
       "    </tr>\n",
       "    <tr>\n",
       "      <th>173</th>\n",
       "      <td>TWS</td>\n",
       "      <td>Twelve South</td>\n",
       "    </tr>\n",
       "    <tr>\n",
       "      <th>174</th>\n",
       "      <td>UAG</td>\n",
       "      <td>Urban Armor Gear</td>\n",
       "    </tr>\n",
       "    <tr>\n",
       "      <th>175</th>\n",
       "      <td>WAC</td>\n",
       "      <td>Wacom</td>\n",
       "    </tr>\n",
       "    <tr>\n",
       "      <th>176</th>\n",
       "      <td>WDT</td>\n",
       "      <td>Western Digital</td>\n",
       "    </tr>\n",
       "    <tr>\n",
       "      <th>177</th>\n",
       "      <td>WHO</td>\n",
       "      <td>Whoosh</td>\n",
       "    </tr>\n",
       "    <tr>\n",
       "      <th>178</th>\n",
       "      <td>WIK</td>\n",
       "      <td>Wikango</td>\n",
       "    </tr>\n",
       "    <tr>\n",
       "      <th>179</th>\n",
       "      <td>WIT</td>\n",
       "      <td>Withings</td>\n",
       "    </tr>\n",
       "    <tr>\n",
       "      <th>180</th>\n",
       "      <td>WOE</td>\n",
       "      <td>Wowewa</td>\n",
       "    </tr>\n",
       "    <tr>\n",
       "      <th>181</th>\n",
       "      <td>XDO</td>\n",
       "      <td>X-Doria</td>\n",
       "    </tr>\n",
       "    <tr>\n",
       "      <th>182</th>\n",
       "      <td>XOO</td>\n",
       "      <td>Xoopar</td>\n",
       "    </tr>\n",
       "    <tr>\n",
       "      <th>183</th>\n",
       "      <td>XRI</td>\n",
       "      <td>X-Rite</td>\n",
       "    </tr>\n",
       "    <tr>\n",
       "      <th>184</th>\n",
       "      <td>XTO</td>\n",
       "      <td>Xtorm</td>\n",
       "    </tr>\n",
       "    <tr>\n",
       "      <th>185</th>\n",
       "      <td>ZAG</td>\n",
       "      <td>ZaggKeys</td>\n",
       "    </tr>\n",
       "    <tr>\n",
       "      <th>186</th>\n",
       "      <td>ZEP</td>\n",
       "      <td>Zepp</td>\n",
       "    </tr>\n",
       "  </tbody>\n",
       "</table>\n",
       "</div>"
      ],
      "text/plain": [
       "    short              long\n",
       "167   TPL           TP-Link\n",
       "168   TRA          Trascend\n",
       "169   TRI             Tribe\n",
       "170   TRK            TrackR\n",
       "171   TRN      Trunk Sleeve\n",
       "172   TUC            Tucano\n",
       "173   TWS      Twelve South\n",
       "174   UAG  Urban Armor Gear\n",
       "175   WAC             Wacom\n",
       "176   WDT   Western Digital\n",
       "177   WHO            Whoosh\n",
       "178   WIK           Wikango\n",
       "179   WIT          Withings\n",
       "180   WOE            Wowewa\n",
       "181   XDO           X-Doria\n",
       "182   XOO            Xoopar\n",
       "183   XRI            X-Rite\n",
       "184   XTO             Xtorm\n",
       "185   ZAG          ZaggKeys\n",
       "186   ZEP              Zepp"
      ]
     },
     "execution_count": 8,
     "metadata": {},
     "output_type": "execute_result"
    }
   ],
   "source": [
    "brands.tail(20)"
   ]
  },
  {
   "cell_type": "markdown",
   "id": "2e381a71-a4f9-497a-9fc1-db93bacd3071",
   "metadata": {},
   "source": [
    "**INFO:**\n",
    "- 3 digit short acronym, which can have numbers in it (8MO)\n",
    "- some longnames are double: Apple, Apple, and Bose, Bose. \n",
    "- The second entry for Bose has the acronym CAD - which is not very close\n",
    "- There are blancs and dashes in the longnames\n"
   ]
  },
  {
   "cell_type": "markdown",
   "id": "5ae1b849-8d1e-45cd-b174-e2aa9757196d",
   "metadata": {},
   "source": [
    "## Explore numerical columns with .hist and .describe()"
   ]
  },
  {
   "cell_type": "code",
   "execution_count": 10,
   "id": "caee9966-e78b-485c-9a8d-1d007e1504d9",
   "metadata": {},
   "outputs": [],
   "source": [
    "#NO NUMERIC COLUMNS!\n",
    "#orders.hist('total_paid', bins = 10, figsize= (8,10))"
   ]
  },
  {
   "cell_type": "code",
   "execution_count": 11,
   "id": "8bc1340a-756a-427a-b92d-fe83f35db347",
   "metadata": {},
   "outputs": [],
   "source": [
    "#orders.describe()"
   ]
  },
  {
   "cell_type": "markdown",
   "id": "ad0c97c4-3a38-44eb-96dd-ceda72e225e7",
   "metadata": {},
   "source": [
    "**INFO:**\n",
    "There are no numeric columns in this dataset!"
   ]
  },
  {
   "cell_type": "markdown",
   "id": "d3e3e818-90c7-42a8-a28a-fc58bdfd03fe",
   "metadata": {},
   "source": [
    "\n",
    "\n",
    "\n"
   ]
  },
  {
   "cell_type": "code",
   "execution_count": 12,
   "id": "bfd32aa8-09a0-442b-a828-91ef7dabbd56",
   "metadata": {},
   "outputs": [],
   "source": [
    "#orders.nlargest(100, \"total_paid\")"
   ]
  },
  {
   "cell_type": "markdown",
   "id": "785f553c-c343-4dca-9045-05ed8f60b83e",
   "metadata": {},
   "source": [
    "## Explore categorical columns with value_counts() and .plot.bar()"
   ]
  },
  {
   "cell_type": "code",
   "execution_count": 15,
   "id": "9c81dd6d-a441-4718-91e4-192ad60df876",
   "metadata": {},
   "outputs": [],
   "source": [
    "#0   short   187 non-null    object\n",
    "#1   long    187 non-null    object\n",
    "\n",
    "#--> so far there is no categorical variable such as status or anything with just a few groups."
   ]
  },
  {
   "cell_type": "markdown",
   "id": "167fa1e9-e1ae-4597-9883-6b5676e0e6d2",
   "metadata": {},
   "source": []
  },
  {
   "cell_type": "code",
   "execution_count": null,
   "id": "b00e4117-350d-483c-9704-4b2e0fd26b25",
   "metadata": {},
   "outputs": [],
   "source": []
  },
  {
   "cell_type": "code",
   "execution_count": null,
   "id": "8f5fad98-9698-4038-a3de-c1301189e3e6",
   "metadata": {},
   "outputs": [],
   "source": []
  }
 ],
 "metadata": {
  "kernelspec": {
   "display_name": "Python 3",
   "language": "python",
   "name": "python3"
  },
  "language_info": {
   "codemirror_mode": {
    "name": "ipython",
    "version": 3
   },
   "file_extension": ".py",
   "mimetype": "text/x-python",
   "name": "python",
   "nbconvert_exporter": "python",
   "pygments_lexer": "ipython3",
   "version": "3.8.8"
  }
 },
 "nbformat": 4,
 "nbformat_minor": 5
}
