{
 "cells": [
  {
   "cell_type": "markdown",
   "id": "b24dd984-ccca-4fbf-b37e-b4074f80e73d",
   "metadata": {
    "tags": []
   },
   "source": [
    "# Exploration of products.csv"
   ]
  },
  {
   "cell_type": "code",
   "execution_count": 1,
   "id": "a52d7f01-6272-4836-8749-3e7237028149",
   "metadata": {},
   "outputs": [],
   "source": [
    "import pandas as pd"
   ]
  },
  {
   "cell_type": "code",
   "execution_count": 2,
   "id": "893f8a6c-0f04-4a41-92b5-6751805e4832",
   "metadata": {},
   "outputs": [],
   "source": [
    "#url = \"https://drive.google.com/file/d/1FYhN_2AzTBFuWcfHaRuKcuCE6CWXsWtG/view?usp=sharing\" # orderlines.csv\n",
    "#url = \"https://drive.google.com/file/d/1Vu0q91qZw6lqhIqbjoXYvYAQTmVHh6uZ/view?usp=sharing\" # orders.csv\n",
    "url = \"https://drive.google.com/file/d/1afxwDXfl-7cQ_qLwyDitfcCx3u7WMvkU/view?usp=sharing\" # products.csv\n",
    "path = \"https://drive.google.com/uc?export=download&id=\"+url.split(\"/\")[-2]\n",
    "products_original = pd.read_csv(path)\n",
    "\n",
    "#MAKE A COPY\n",
    "products = products_original.copy()"
   ]
  },
  {
   "cell_type": "markdown",
   "id": "cb66c81e-30ae-4a6d-9496-cd5d2f15dd65",
   "metadata": {},
   "source": [
    "## Check size, data-types and missing values with  .shape and .info()"
   ]
  },
  {
   "cell_type": "code",
   "execution_count": 9,
   "id": "2cd6eb86-e21c-47c2-8518-43c276bd6398",
   "metadata": {},
   "outputs": [
    {
     "data": {
      "text/plain": [
       "(19326, 7)"
      ]
     },
     "execution_count": 9,
     "metadata": {},
     "output_type": "execute_result"
    }
   ],
   "source": [
    "products.shape "
   ]
  },
  {
   "cell_type": "code",
   "execution_count": 10,
   "id": "4495bc48-2925-43fb-b455-2391948d323b",
   "metadata": {},
   "outputs": [
    {
     "data": {
      "text/plain": [
       "10579"
      ]
     },
     "execution_count": 10,
     "metadata": {},
     "output_type": "execute_result"
    }
   ],
   "source": [
    "products.sku.nunique()"
   ]
  },
  {
   "cell_type": "code",
   "execution_count": 11,
   "id": "261072de-4673-4fe2-8adb-460c0b01ccf5",
   "metadata": {},
   "outputs": [
    {
     "name": "stdout",
     "output_type": "stream",
     "text": [
      "<class 'pandas.core.frame.DataFrame'>\n",
      "RangeIndex: 19326 entries, 0 to 19325\n",
      "Data columns (total 7 columns):\n",
      " #   Column       Non-Null Count  Dtype \n",
      "---  ------       --------------  ----- \n",
      " 0   sku          19326 non-null  object\n",
      " 1   name         19326 non-null  object\n",
      " 2   desc         19319 non-null  object\n",
      " 3   price        19280 non-null  object\n",
      " 4   promo_price  19326 non-null  object\n",
      " 5   in_stock     19326 non-null  int64 \n",
      " 6   type         19276 non-null  object\n",
      "dtypes: int64(1), object(6)\n",
      "memory usage: 1.0+ MB\n"
     ]
    }
   ],
   "source": [
    "products.info() "
   ]
  },
  {
   "cell_type": "code",
   "execution_count": 52,
   "id": "874bc550-2574-4405-956a-52733358c606",
   "metadata": {},
   "outputs": [
    {
     "data": {
      "text/plain": [
       "sku             0\n",
       "name            0\n",
       "desc            7\n",
       "price          46\n",
       "promo_price     0\n",
       "in_stock        0\n",
       "type           50\n",
       "dtype: int64"
      ]
     },
     "execution_count": 52,
     "metadata": {},
     "output_type": "execute_result"
    }
   ],
   "source": [
    "products.isna().sum()"
   ]
  },
  {
   "cell_type": "markdown",
   "id": "2f1ec230-117a-4d3a-a86d-c89c7bdf6c99",
   "metadata": {},
   "source": [
    "**INFO:**\n",
    "- There are 19,326 products (rows) and 7 columns\n",
    "- 'sku' is not unique ! \n",
    "- Missing values in 'desc' - the description column (<10 values)\n",
    "- Usually the id would rather be of type int. --> but it is alphanumerical, therefore the type is correct.\n"
   ]
  },
  {
   "cell_type": "markdown",
   "id": "bf05b5c6-0182-4f23-b5e2-92743e71d2f9",
   "metadata": {},
   "source": [
    "**FLAG: 'sku' is by far not unique! - There are missing prices! - 'price' is type object**\n",
    "- There are only 10579 unique product-ids (column sku) and in total 19,000 entries. Do we have duplicates?\n",
    "- Missing values in 'price' (46 values missing) and 'type' (50 values missing)\n",
    "- 'price' and 'promo_price' are type object - I'd have expected float!\n",
    "\n"
   ]
  },
  {
   "cell_type": "markdown",
   "id": "e06ebb9c-4d55-4237-b403-e3c7a0f303e7",
   "metadata": {},
   "source": []
  },
  {
   "cell_type": "markdown",
   "id": "312889e2-daeb-4426-8db8-73c59aa40845",
   "metadata": {},
   "source": [
    "## Check raw data with .head() and .tail()"
   ]
  },
  {
   "cell_type": "code",
   "execution_count": 14,
   "id": "9fe5f302-d38c-420e-b6a6-f07c7d8148c2",
   "metadata": {},
   "outputs": [
    {
     "data": {
      "text/html": [
       "<div>\n",
       "<style scoped>\n",
       "    .dataframe tbody tr th:only-of-type {\n",
       "        vertical-align: middle;\n",
       "    }\n",
       "\n",
       "    .dataframe tbody tr th {\n",
       "        vertical-align: top;\n",
       "    }\n",
       "\n",
       "    .dataframe thead th {\n",
       "        text-align: right;\n",
       "    }\n",
       "</style>\n",
       "<table border=\"1\" class=\"dataframe\">\n",
       "  <thead>\n",
       "    <tr style=\"text-align: right;\">\n",
       "      <th></th>\n",
       "      <th>sku</th>\n",
       "      <th>name</th>\n",
       "      <th>desc</th>\n",
       "      <th>price</th>\n",
       "      <th>promo_price</th>\n",
       "      <th>in_stock</th>\n",
       "      <th>type</th>\n",
       "    </tr>\n",
       "  </thead>\n",
       "  <tbody>\n",
       "    <tr>\n",
       "      <th>19306</th>\n",
       "      <td>REP0429</td>\n",
       "      <td>iPhone Speaker lower repair 7 plus</td>\n",
       "      <td>Repair service including parts and labor for i...</td>\n",
       "      <td>599.906</td>\n",
       "      <td>599.906</td>\n",
       "      <td>0</td>\n",
       "      <td>1,44E+11</td>\n",
       "    </tr>\n",
       "    <tr>\n",
       "      <th>19307</th>\n",
       "      <td>REP0418</td>\n",
       "      <td>iPhone charging connector repair</td>\n",
       "      <td>Repair service including parts and labor for i...</td>\n",
       "      <td>49.99</td>\n",
       "      <td>499.899</td>\n",
       "      <td>0</td>\n",
       "      <td>1,44E+11</td>\n",
       "    </tr>\n",
       "    <tr>\n",
       "      <th>19308</th>\n",
       "      <td>REP0406</td>\n",
       "      <td>battery repair iPad Air</td>\n",
       "      <td>Battery Repair Service includes parts and labo...</td>\n",
       "      <td>6.999.003</td>\n",
       "      <td>69.99</td>\n",
       "      <td>0</td>\n",
       "      <td>1,44E+11</td>\n",
       "    </tr>\n",
       "    <tr>\n",
       "      <th>19309</th>\n",
       "      <td>ICA0115</td>\n",
       "      <td>Incase City Brief case MacBook Pro 13 \"Black</td>\n",
       "      <td>Incase bag to carry Apple MacBook Pro 13-inch</td>\n",
       "      <td>79.95</td>\n",
       "      <td>739.903</td>\n",
       "      <td>1</td>\n",
       "      <td>10230</td>\n",
       "    </tr>\n",
       "    <tr>\n",
       "      <th>19310</th>\n",
       "      <td>REP0430</td>\n",
       "      <td>iPad Speaker lower repair</td>\n",
       "      <td>Repair service including parts and labor for iPad</td>\n",
       "      <td>6.999.003</td>\n",
       "      <td>69.99</td>\n",
       "      <td>0</td>\n",
       "      <td>1,44E+11</td>\n",
       "    </tr>\n",
       "    <tr>\n",
       "      <th>19311</th>\n",
       "      <td>REP0427</td>\n",
       "      <td>Wi-Fi antenna repair Apple iPad</td>\n",
       "      <td>Repair service including parts and labor for iPad</td>\n",
       "      <td>6.999.003</td>\n",
       "      <td>69.99</td>\n",
       "      <td>0</td>\n",
       "      <td>1,44E+11</td>\n",
       "    </tr>\n",
       "    <tr>\n",
       "      <th>19312</th>\n",
       "      <td>REP0424</td>\n",
       "      <td>Input repair Headphones iPad</td>\n",
       "      <td>Repair service including parts and labor for iPad</td>\n",
       "      <td>6.999.003</td>\n",
       "      <td>69.99</td>\n",
       "      <td>0</td>\n",
       "      <td>1,44E+11</td>\n",
       "    </tr>\n",
       "    <tr>\n",
       "      <th>19313</th>\n",
       "      <td>REP0421</td>\n",
       "      <td>iPad charging connector repair</td>\n",
       "      <td>Repair service including parts and labor for iPad</td>\n",
       "      <td>6.999.003</td>\n",
       "      <td>69.99</td>\n",
       "      <td>0</td>\n",
       "      <td>1,44E+11</td>\n",
       "    </tr>\n",
       "    <tr>\n",
       "      <th>19314</th>\n",
       "      <td>REP0416</td>\n",
       "      <td>iPad front camera repair</td>\n",
       "      <td>Repair service including parts and labor for iPad</td>\n",
       "      <td>6.999.003</td>\n",
       "      <td>69.99</td>\n",
       "      <td>0</td>\n",
       "      <td>1,44E+11</td>\n",
       "    </tr>\n",
       "    <tr>\n",
       "      <th>19315</th>\n",
       "      <td>REP0413</td>\n",
       "      <td>repair rear camera iPad</td>\n",
       "      <td>Repair service including parts and labor for iPad</td>\n",
       "      <td>6.999.003</td>\n",
       "      <td>69.99</td>\n",
       "      <td>0</td>\n",
       "      <td>1,44E+11</td>\n",
       "    </tr>\n",
       "    <tr>\n",
       "      <th>19316</th>\n",
       "      <td>REP0407</td>\n",
       "      <td>iPad battery repair</td>\n",
       "      <td>Repair service including parts and labor for iPad</td>\n",
       "      <td>6.999.003</td>\n",
       "      <td>69.99</td>\n",
       "      <td>0</td>\n",
       "      <td>1,44E+11</td>\n",
       "    </tr>\n",
       "    <tr>\n",
       "      <th>19317</th>\n",
       "      <td>REP0403</td>\n",
       "      <td>iPad LCD screen repair</td>\n",
       "      <td>Repair service including parts and labor for iPad</td>\n",
       "      <td>159.99</td>\n",
       "      <td>1.599.898</td>\n",
       "      <td>0</td>\n",
       "      <td>1,44E+11</td>\n",
       "    </tr>\n",
       "    <tr>\n",
       "      <th>19318</th>\n",
       "      <td>REP0402</td>\n",
       "      <td>iPad touch screen repair</td>\n",
       "      <td>Repair service including parts and labor for iPad</td>\n",
       "      <td>139.99</td>\n",
       "      <td>1.399.897</td>\n",
       "      <td>0</td>\n",
       "      <td>1,44E+11</td>\n",
       "    </tr>\n",
       "    <tr>\n",
       "      <th>19319</th>\n",
       "      <td>KNO0032</td>\n",
       "      <td>Knomo MacBook Pro Beauchamp Backpack 14 \"Black</td>\n",
       "      <td>Backpack thin nylon mesh internal compartment ...</td>\n",
       "      <td>179</td>\n",
       "      <td>1.699.905</td>\n",
       "      <td>1</td>\n",
       "      <td>1392</td>\n",
       "    </tr>\n",
       "    <tr>\n",
       "      <th>19320</th>\n",
       "      <td>REP0076</td>\n",
       "      <td>repair Full screen iPad (1st generation)</td>\n",
       "      <td>Repair service including parts and labor for iPad</td>\n",
       "      <td>149.99</td>\n",
       "      <td>1.499.795</td>\n",
       "      <td>0</td>\n",
       "      <td>1,44E+11</td>\n",
       "    </tr>\n",
       "    <tr>\n",
       "      <th>19321</th>\n",
       "      <td>BEL0376</td>\n",
       "      <td>Belkin Travel Support Apple Watch Black</td>\n",
       "      <td>compact and portable stand vertically or horiz...</td>\n",
       "      <td>29.99</td>\n",
       "      <td>269.903</td>\n",
       "      <td>1</td>\n",
       "      <td>12282</td>\n",
       "    </tr>\n",
       "    <tr>\n",
       "      <th>19322</th>\n",
       "      <td>THU0060</td>\n",
       "      <td>Enroute Thule 14L Backpack MacBook 13 \"Black</td>\n",
       "      <td>Backpack with capacity of 14 liter compartment...</td>\n",
       "      <td>69.95</td>\n",
       "      <td>649.903</td>\n",
       "      <td>1</td>\n",
       "      <td>1392</td>\n",
       "    </tr>\n",
       "    <tr>\n",
       "      <th>19323</th>\n",
       "      <td>THU0061</td>\n",
       "      <td>Enroute Thule 14L Backpack MacBook 13 \"Blue</td>\n",
       "      <td>Backpack with capacity of 14 liter compartment...</td>\n",
       "      <td>69.95</td>\n",
       "      <td>649.903</td>\n",
       "      <td>1</td>\n",
       "      <td>1392</td>\n",
       "    </tr>\n",
       "    <tr>\n",
       "      <th>19324</th>\n",
       "      <td>THU0062</td>\n",
       "      <td>Enroute Thule 14L Backpack MacBook 13 \"Red</td>\n",
       "      <td>Backpack with capacity of 14 liter compartment...</td>\n",
       "      <td>69.95</td>\n",
       "      <td>649.903</td>\n",
       "      <td>0</td>\n",
       "      <td>1392</td>\n",
       "    </tr>\n",
       "    <tr>\n",
       "      <th>19325</th>\n",
       "      <td>THU0063</td>\n",
       "      <td>Enroute Thule 14L Backpack MacBook 13 \"Green</td>\n",
       "      <td>Backpack with capacity of 14 liter compartment...</td>\n",
       "      <td>69.95</td>\n",
       "      <td>649.903</td>\n",
       "      <td>1</td>\n",
       "      <td>1392</td>\n",
       "    </tr>\n",
       "  </tbody>\n",
       "</table>\n",
       "</div>"
      ],
      "text/plain": [
       "           sku                                            name  \\\n",
       "19306  REP0429              iPhone Speaker lower repair 7 plus   \n",
       "19307  REP0418                iPhone charging connector repair   \n",
       "19308  REP0406                         battery repair iPad Air   \n",
       "19309  ICA0115    Incase City Brief case MacBook Pro 13 \"Black   \n",
       "19310  REP0430                       iPad Speaker lower repair   \n",
       "19311  REP0427                 Wi-Fi antenna repair Apple iPad   \n",
       "19312  REP0424                    Input repair Headphones iPad   \n",
       "19313  REP0421                  iPad charging connector repair   \n",
       "19314  REP0416                        iPad front camera repair   \n",
       "19315  REP0413                         repair rear camera iPad   \n",
       "19316  REP0407                             iPad battery repair   \n",
       "19317  REP0403                          iPad LCD screen repair   \n",
       "19318  REP0402                        iPad touch screen repair   \n",
       "19319  KNO0032  Knomo MacBook Pro Beauchamp Backpack 14 \"Black   \n",
       "19320  REP0076        repair Full screen iPad (1st generation)   \n",
       "19321  BEL0376         Belkin Travel Support Apple Watch Black   \n",
       "19322  THU0060    Enroute Thule 14L Backpack MacBook 13 \"Black   \n",
       "19323  THU0061     Enroute Thule 14L Backpack MacBook 13 \"Blue   \n",
       "19324  THU0062      Enroute Thule 14L Backpack MacBook 13 \"Red   \n",
       "19325  THU0063    Enroute Thule 14L Backpack MacBook 13 \"Green   \n",
       "\n",
       "                                                    desc      price  \\\n",
       "19306  Repair service including parts and labor for i...    599.906   \n",
       "19307  Repair service including parts and labor for i...      49.99   \n",
       "19308  Battery Repair Service includes parts and labo...  6.999.003   \n",
       "19309      Incase bag to carry Apple MacBook Pro 13-inch      79.95   \n",
       "19310  Repair service including parts and labor for iPad  6.999.003   \n",
       "19311  Repair service including parts and labor for iPad  6.999.003   \n",
       "19312  Repair service including parts and labor for iPad  6.999.003   \n",
       "19313  Repair service including parts and labor for iPad  6.999.003   \n",
       "19314  Repair service including parts and labor for iPad  6.999.003   \n",
       "19315  Repair service including parts and labor for iPad  6.999.003   \n",
       "19316  Repair service including parts and labor for iPad  6.999.003   \n",
       "19317  Repair service including parts and labor for iPad     159.99   \n",
       "19318  Repair service including parts and labor for iPad     139.99   \n",
       "19319  Backpack thin nylon mesh internal compartment ...        179   \n",
       "19320  Repair service including parts and labor for iPad     149.99   \n",
       "19321  compact and portable stand vertically or horiz...      29.99   \n",
       "19322  Backpack with capacity of 14 liter compartment...      69.95   \n",
       "19323  Backpack with capacity of 14 liter compartment...      69.95   \n",
       "19324  Backpack with capacity of 14 liter compartment...      69.95   \n",
       "19325  Backpack with capacity of 14 liter compartment...      69.95   \n",
       "\n",
       "      promo_price  in_stock      type  \n",
       "19306     599.906         0  1,44E+11  \n",
       "19307     499.899         0  1,44E+11  \n",
       "19308       69.99         0  1,44E+11  \n",
       "19309     739.903         1     10230  \n",
       "19310       69.99         0  1,44E+11  \n",
       "19311       69.99         0  1,44E+11  \n",
       "19312       69.99         0  1,44E+11  \n",
       "19313       69.99         0  1,44E+11  \n",
       "19314       69.99         0  1,44E+11  \n",
       "19315       69.99         0  1,44E+11  \n",
       "19316       69.99         0  1,44E+11  \n",
       "19317   1.599.898         0  1,44E+11  \n",
       "19318   1.399.897         0  1,44E+11  \n",
       "19319   1.699.905         1      1392  \n",
       "19320   1.499.795         0  1,44E+11  \n",
       "19321     269.903         1     12282  \n",
       "19322     649.903         1      1392  \n",
       "19323     649.903         1      1392  \n",
       "19324     649.903         0      1392  \n",
       "19325     649.903         1      1392  "
      ]
     },
     "execution_count": 14,
     "metadata": {},
     "output_type": "execute_result"
    }
   ],
   "source": [
    "products.tail(20)"
   ]
  },
  {
   "cell_type": "code",
   "execution_count": 15,
   "id": "91af0302-05e9-421f-9c8a-b233090bef9b",
   "metadata": {},
   "outputs": [
    {
     "data": {
      "text/html": [
       "<div>\n",
       "<style scoped>\n",
       "    .dataframe tbody tr th:only-of-type {\n",
       "        vertical-align: middle;\n",
       "    }\n",
       "\n",
       "    .dataframe tbody tr th {\n",
       "        vertical-align: top;\n",
       "    }\n",
       "\n",
       "    .dataframe thead th {\n",
       "        text-align: right;\n",
       "    }\n",
       "</style>\n",
       "<table border=\"1\" class=\"dataframe\">\n",
       "  <thead>\n",
       "    <tr style=\"text-align: right;\">\n",
       "      <th></th>\n",
       "      <th>sku</th>\n",
       "      <th>name</th>\n",
       "      <th>desc</th>\n",
       "      <th>price</th>\n",
       "      <th>promo_price</th>\n",
       "      <th>in_stock</th>\n",
       "      <th>type</th>\n",
       "    </tr>\n",
       "  </thead>\n",
       "  <tbody>\n",
       "    <tr>\n",
       "      <th>362</th>\n",
       "      <td>REP0043</td>\n",
       "      <td>Speaker lower repair iPhone 4</td>\n",
       "      <td>Repair service including parts and labor for i...</td>\n",
       "      <td>499.004</td>\n",
       "      <td>499.004</td>\n",
       "      <td>0</td>\n",
       "      <td>1,44E+11</td>\n",
       "    </tr>\n",
       "    <tr>\n",
       "      <th>369</th>\n",
       "      <td>REP0036</td>\n",
       "      <td>Full screen repair iPhone 4</td>\n",
       "      <td>Repair service including parts and labor for i...</td>\n",
       "      <td>49.99</td>\n",
       "      <td>499.899</td>\n",
       "      <td>0</td>\n",
       "      <td>1,44E+11</td>\n",
       "    </tr>\n",
       "    <tr>\n",
       "      <th>370</th>\n",
       "      <td>REP0040</td>\n",
       "      <td>Home button repair iPhone 4</td>\n",
       "      <td>Repair service including parts and labor for i...</td>\n",
       "      <td>49.99</td>\n",
       "      <td>499.899</td>\n",
       "      <td>0</td>\n",
       "      <td>1,44E+11</td>\n",
       "    </tr>\n",
       "    <tr>\n",
       "      <th>371</th>\n",
       "      <td>REP0041</td>\n",
       "      <td>battery repair iPhone 4</td>\n",
       "      <td>Repair service including parts and labor for i...</td>\n",
       "      <td>29.99</td>\n",
       "      <td>29.99</td>\n",
       "      <td>0</td>\n",
       "      <td>1,44E+11</td>\n",
       "    </tr>\n",
       "    <tr>\n",
       "      <th>372</th>\n",
       "      <td>REP0045</td>\n",
       "      <td>iPhone 4 Rear Camera Repair</td>\n",
       "      <td>Installation service includes parts and labor ...</td>\n",
       "      <td>49.99</td>\n",
       "      <td>499.899</td>\n",
       "      <td>0</td>\n",
       "      <td>1,44E+11</td>\n",
       "    </tr>\n",
       "    <tr>\n",
       "      <th>...</th>\n",
       "      <td>...</td>\n",
       "      <td>...</td>\n",
       "      <td>...</td>\n",
       "      <td>...</td>\n",
       "      <td>...</td>\n",
       "      <td>...</td>\n",
       "      <td>...</td>\n",
       "    </tr>\n",
       "    <tr>\n",
       "      <th>19315</th>\n",
       "      <td>REP0413</td>\n",
       "      <td>repair rear camera iPad</td>\n",
       "      <td>Repair service including parts and labor for iPad</td>\n",
       "      <td>6.999.003</td>\n",
       "      <td>69.99</td>\n",
       "      <td>0</td>\n",
       "      <td>1,44E+11</td>\n",
       "    </tr>\n",
       "    <tr>\n",
       "      <th>19316</th>\n",
       "      <td>REP0407</td>\n",
       "      <td>iPad battery repair</td>\n",
       "      <td>Repair service including parts and labor for iPad</td>\n",
       "      <td>6.999.003</td>\n",
       "      <td>69.99</td>\n",
       "      <td>0</td>\n",
       "      <td>1,44E+11</td>\n",
       "    </tr>\n",
       "    <tr>\n",
       "      <th>19317</th>\n",
       "      <td>REP0403</td>\n",
       "      <td>iPad LCD screen repair</td>\n",
       "      <td>Repair service including parts and labor for iPad</td>\n",
       "      <td>159.99</td>\n",
       "      <td>1.599.898</td>\n",
       "      <td>0</td>\n",
       "      <td>1,44E+11</td>\n",
       "    </tr>\n",
       "    <tr>\n",
       "      <th>19318</th>\n",
       "      <td>REP0402</td>\n",
       "      <td>iPad touch screen repair</td>\n",
       "      <td>Repair service including parts and labor for iPad</td>\n",
       "      <td>139.99</td>\n",
       "      <td>1.399.897</td>\n",
       "      <td>0</td>\n",
       "      <td>1,44E+11</td>\n",
       "    </tr>\n",
       "    <tr>\n",
       "      <th>19320</th>\n",
       "      <td>REP0076</td>\n",
       "      <td>repair Full screen iPad (1st generation)</td>\n",
       "      <td>Repair service including parts and labor for iPad</td>\n",
       "      <td>149.99</td>\n",
       "      <td>1.499.795</td>\n",
       "      <td>0</td>\n",
       "      <td>1,44E+11</td>\n",
       "    </tr>\n",
       "  </tbody>\n",
       "</table>\n",
       "<p>235 rows × 7 columns</p>\n",
       "</div>"
      ],
      "text/plain": [
       "           sku                                      name  \\\n",
       "362    REP0043             Speaker lower repair iPhone 4   \n",
       "369    REP0036               Full screen repair iPhone 4   \n",
       "370    REP0040               Home button repair iPhone 4   \n",
       "371    REP0041                   battery repair iPhone 4   \n",
       "372    REP0045               iPhone 4 Rear Camera Repair   \n",
       "...        ...                                       ...   \n",
       "19315  REP0413                   repair rear camera iPad   \n",
       "19316  REP0407                       iPad battery repair   \n",
       "19317  REP0403                    iPad LCD screen repair   \n",
       "19318  REP0402                  iPad touch screen repair   \n",
       "19320  REP0076  repair Full screen iPad (1st generation)   \n",
       "\n",
       "                                                    desc      price  \\\n",
       "362    Repair service including parts and labor for i...    499.004   \n",
       "369    Repair service including parts and labor for i...      49.99   \n",
       "370    Repair service including parts and labor for i...      49.99   \n",
       "371    Repair service including parts and labor for i...      29.99   \n",
       "372    Installation service includes parts and labor ...      49.99   \n",
       "...                                                  ...        ...   \n",
       "19315  Repair service including parts and labor for iPad  6.999.003   \n",
       "19316  Repair service including parts and labor for iPad  6.999.003   \n",
       "19317  Repair service including parts and labor for iPad     159.99   \n",
       "19318  Repair service including parts and labor for iPad     139.99   \n",
       "19320  Repair service including parts and labor for iPad     149.99   \n",
       "\n",
       "      promo_price  in_stock      type  \n",
       "362       499.004         0  1,44E+11  \n",
       "369       499.899         0  1,44E+11  \n",
       "370       499.899         0  1,44E+11  \n",
       "371         29.99         0  1,44E+11  \n",
       "372       499.899         0  1,44E+11  \n",
       "...           ...       ...       ...  \n",
       "19315       69.99         0  1,44E+11  \n",
       "19316       69.99         0  1,44E+11  \n",
       "19317   1.599.898         0  1,44E+11  \n",
       "19318   1.399.897         0  1,44E+11  \n",
       "19320   1.499.795         0  1,44E+11  \n",
       "\n",
       "[235 rows x 7 columns]"
      ]
     },
     "execution_count": 15,
     "metadata": {},
     "output_type": "execute_result"
    }
   ],
   "source": [
    "products.loc[\n",
    "    (products.type == '1,44E+11') \n",
    " #   & products.price contains the regex-pattern [/d+./d+./d+]\n",
    "    :\n",
    "]"
   ]
  },
  {
   "cell_type": "markdown",
   "id": "2e381a71-a4f9-497a-9fc1-db93bacd3071",
   "metadata": {},
   "source": [
    "\n",
    "\n",
    "\n",
    "**INFO:**\n",
    "- promo_price is almost 10 times higher than the usual price. It could be the price for buying 10 items. \n",
    "- In the head()-section most products have 'in_stock = 0'. Only a 3 items of 20 have in_stock = 1. --> Check distribution of 'in_stock'\n",
    "- the column 'type' contains numbers. Among the first 20 rows there are either 4 digit numbers or 8 digit numbers. \n",
    "- the 'sku' has 3 letters, followed by a 4 digit number. \n",
    "- entries in 'name' are relatively long and have special characters like / and '' and ()\n",
    "\n",
    "\n",
    "\n",
    "**FLAG: 'price = 6.999.003 does not work' - column 'type' Value 1,44E+10 - price and promocode are sometimes equal**\n",
    "- the column 'type' has difficult integers. Some values in the tail have e-numbers. 1,44E+11 appears several times within the last 20 rows --> There are 235 rows with this pattern, Seems mainly to happen with sku's starting with REP\n",
    "- sometimes the price and the promo_price are equal\n"
   ]
  },
  {
   "cell_type": "markdown",
   "id": "5ae1b849-8d1e-45cd-b174-e2aa9757196d",
   "metadata": {},
   "source": [
    "## Explore numerical columns with .hist and .describe()"
   ]
  },
  {
   "cell_type": "code",
   "execution_count": 23,
   "id": "caee9966-e78b-485c-9a8d-1d007e1504d9",
   "metadata": {},
   "outputs": [
    {
     "data": {
      "text/plain": [
       "array([[<AxesSubplot:title={'center':'in_stock'}>]], dtype=object)"
      ]
     },
     "execution_count": 23,
     "metadata": {},
     "output_type": "execute_result"
    },
    {
     "data": {
      "image/png": "[encoded data removed]",
      "text/plain": [
       "<Figure size 576x720 with 1 Axes>"
      ]
     },
     "metadata": {
      "needs_background": "light"
     },
     "output_type": "display_data"
    }
   ],
   "source": [
    "products.hist(bins = 100, figsize= (8,10))"
   ]
  },
  {
   "cell_type": "code",
   "execution_count": 25,
   "id": "8bc1340a-756a-427a-b92d-fe83f35db347",
   "metadata": {},
   "outputs": [
    {
     "data": {
      "text/html": [
       "<div>\n",
       "<style scoped>\n",
       "    .dataframe tbody tr th:only-of-type {\n",
       "        vertical-align: middle;\n",
       "    }\n",
       "\n",
       "    .dataframe tbody tr th {\n",
       "        vertical-align: top;\n",
       "    }\n",
       "\n",
       "    .dataframe thead th {\n",
       "        text-align: right;\n",
       "    }\n",
       "</style>\n",
       "<table border=\"1\" class=\"dataframe\">\n",
       "  <thead>\n",
       "    <tr style=\"text-align: right;\">\n",
       "      <th></th>\n",
       "      <th>in_stock</th>\n",
       "    </tr>\n",
       "  </thead>\n",
       "  <tbody>\n",
       "    <tr>\n",
       "      <th>count</th>\n",
       "      <td>19326.000000</td>\n",
       "    </tr>\n",
       "    <tr>\n",
       "      <th>mean</th>\n",
       "      <td>0.109593</td>\n",
       "    </tr>\n",
       "    <tr>\n",
       "      <th>std</th>\n",
       "      <td>0.312390</td>\n",
       "    </tr>\n",
       "    <tr>\n",
       "      <th>min</th>\n",
       "      <td>0.000000</td>\n",
       "    </tr>\n",
       "    <tr>\n",
       "      <th>25%</th>\n",
       "      <td>0.000000</td>\n",
       "    </tr>\n",
       "    <tr>\n",
       "      <th>50%</th>\n",
       "      <td>0.000000</td>\n",
       "    </tr>\n",
       "    <tr>\n",
       "      <th>75%</th>\n",
       "      <td>0.000000</td>\n",
       "    </tr>\n",
       "    <tr>\n",
       "      <th>max</th>\n",
       "      <td>1.000000</td>\n",
       "    </tr>\n",
       "  </tbody>\n",
       "</table>\n",
       "</div>"
      ],
      "text/plain": [
       "           in_stock\n",
       "count  19326.000000\n",
       "mean       0.109593\n",
       "std        0.312390\n",
       "min        0.000000\n",
       "25%        0.000000\n",
       "50%        0.000000\n",
       "75%        0.000000\n",
       "max        1.000000"
      ]
     },
     "execution_count": 25,
     "metadata": {},
     "output_type": "execute_result"
    }
   ],
   "source": [
    "products.describe()"
   ]
  },
  {
   "cell_type": "markdown",
   "id": "ad0c97c4-3a38-44eb-96dd-ceda72e225e7",
   "metadata": {},
   "source": [
    "**INFO:**\n",
    "- The products \"in_stock\" is mainly 0 - for about 17,000 products, and 1 for the remaining 2,000 products\n",
    "- could be converted into a boolean value. But then most products are out of stock? --> confirmed with Ben: YES it is a boolean in_stock = 1 means in_stock = True\n",
    "\n",
    "**TODO:**\n",
    "- converting column \"in_stock\" to boolean\n",
    "\n"
   ]
  },
  {
   "cell_type": "markdown",
   "id": "d3e3e818-90c7-42a8-a28a-fc58bdfd03fe",
   "metadata": {},
   "source": [
    "\n",
    "\n"
   ]
  },
  {
   "cell_type": "code",
   "execution_count": 26,
   "id": "bfd32aa8-09a0-442b-a828-91ef7dabbd56",
   "metadata": {},
   "outputs": [],
   "source": [
    "#orders.nlargest(100, \"total_paid\")"
   ]
  },
  {
   "cell_type": "markdown",
   "id": "785f553c-c343-4dca-9045-05ed8f60b83e",
   "metadata": {},
   "source": [
    "## Explore categorical columns with value_counts() and .plot.bar()"
   ]
  },
  {
   "cell_type": "code",
   "execution_count": 42,
   "id": "9c81dd6d-a441-4718-91e4-192ad60df876",
   "metadata": {},
   "outputs": [
    {
     "name": "stdout",
     "output_type": "stream",
     "text": [
      "PAC1032      58\n",
      "PAC1035      58\n",
      "PAC1036      58\n",
      "PAC1034      58\n",
      "PAC1033      58\n",
      "             ..\n",
      "XDO0009-A     1\n",
      "PAC1748       1\n",
      "FIT0022-A     1\n",
      "OWC0195       1\n",
      "PAC2382       1\n",
      "Name: sku, Length: 10579, dtype: int64\n"
     ]
    },
    {
     "data": {
      "text/plain": [
       "10579"
      ]
     },
     "execution_count": 42,
     "metadata": {},
     "output_type": "execute_result"
    }
   ],
   "source": [
    "\n",
    "# 0   sku          19326 non-null  object\n",
    "# 1   name         19326 non-null  object\n",
    "# 2   desc         19319 non-null  object\n",
    "# 3   price        19280 non-null  object\n",
    "# 4   promo_price  19326 non-null  object\n",
    "# 6   type         19276 non-null  object\n",
    "\n",
    "\n",
    "#column sku\n",
    "skus = products.sku.value_counts()\n",
    "print(skus)\n",
    "skus.count()\n",
    "#skus.plot.bar(figsize = (15,18)) # doesn't work - 10,000 entries\n",
    "#order_states.plot.bar()"
   ]
  },
  {
   "cell_type": "code",
   "execution_count": 46,
   "id": "73f36dc2-8cb5-4322-9a3e-b189ee7412d5",
   "metadata": {},
   "outputs": [
    {
     "data": {
      "text/plain": [
       "<AxesSubplot:>"
      ]
     },
     "execution_count": 46,
     "metadata": {},
     "output_type": "execute_result"
    },
    {
     "data": {
      "image/png": "[encoded data removed]",
      "text/plain": [
       "<Figure size 432x288 with 1 Axes>"
      ]
     },
     "metadata": {
      "needs_background": "light"
     },
     "output_type": "display_data"
    }
   ],
   "source": [
    "# column type\n",
    "type_expl = products.type.value_counts()\n",
    "type_expl.count()\n",
    "type_expl.plot.bar()"
   ]
  },
  {
   "cell_type": "code",
   "execution_count": 48,
   "id": "ee7757ee-9bd7-4861-9967-4933befd38b1",
   "metadata": {},
   "outputs": [
    {
     "data": {
      "text/plain": [
       "2690"
      ]
     },
     "execution_count": 48,
     "metadata": {},
     "output_type": "execute_result"
    }
   ],
   "source": [
    "#column price\n",
    "price_expl = products.price.value_counts()\n",
    "price_expl.count()"
   ]
  },
  {
   "cell_type": "code",
   "execution_count": 50,
   "id": "4c11fe34-8201-45b9-b994-4bdf07f74cac",
   "metadata": {},
   "outputs": [
    {
     "data": {
      "text/plain": [
       "4614"
      ]
     },
     "execution_count": 50,
     "metadata": {},
     "output_type": "execute_result"
    }
   ],
   "source": [
    "promo_price_expl = products.promo_price.value_counts()\n",
    "promo_price_expl.count()"
   ]
  },
  {
   "cell_type": "markdown",
   "id": "167fa1e9-e1ae-4597-9883-6b5676e0e6d2",
   "metadata": {},
   "source": [
    "**INFO:**\n",
    "- The sku's that appear the most often appear 58 times and all start with PAC103 (at least the first 5 rows)\n",
    "- There is one value of 'type' that appears more than 6000 times and at least half the types are assigned only very few times. \n",
    "- In the first 1/6th of the types most products are grouped there.\n",
    "- from 19.000 rows we have different 2690 prices and 4614 promo_prices\n",
    "\n"
   ]
  },
  {
   "cell_type": "markdown",
   "id": "654d7b8d-2028-494d-b7bc-2c6148d19617",
   "metadata": {},
   "source": [
    "**FLAG: The calculation for prices needs to be redone when the column is changed to numerical! - And the calculation for type can be redone when the column is converted to type**"
   ]
  },
  {
   "cell_type": "code",
   "execution_count": null,
   "id": "8f5fad98-9698-4038-a3de-c1301189e3e6",
   "metadata": {},
   "outputs": [],
   "source": []
  }
 ],
 "metadata": {
  "kernelspec": {
   "display_name": "Python 3",
   "language": "python",
   "name": "python3"
  },
  "language_info": {
   "codemirror_mode": {
    "name": "ipython",
    "version": 3
   },
   "file_extension": ".py",
   "mimetype": "text/x-python",
   "name": "python",
   "nbconvert_exporter": "python",
   "pygments_lexer": "ipython3",
   "version": "3.8.8"
  }
 },
 "nbformat": 4,
 "nbformat_minor": 5
}
