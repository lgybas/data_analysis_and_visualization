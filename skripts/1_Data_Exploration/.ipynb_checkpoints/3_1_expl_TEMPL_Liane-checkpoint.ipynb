{
 "cells": [
  {
   "cell_type": "markdown",
   "id": "b24dd984-ccca-4fbf-b37e-b4074f80e73d",
   "metadata": {
    "tags": []
   },
   "source": [
    "# TEMPLATE Data Exploration of orders.csv"
   ]
  },
  {
   "cell_type": "code",
   "execution_count": 2,
   "id": "a52d7f01-6272-4836-8749-3e7237028149",
   "metadata": {},
   "outputs": [],
   "source": [
    "import pandas as pd"
   ]
  },
  {
   "cell_type": "code",
   "execution_count": 4,
   "id": "893f8a6c-0f04-4a41-92b5-6751805e4832",
   "metadata": {},
   "outputs": [],
   "source": [
    "#url = \"https://drive.google.com/file/d/1FYhN_2AzTBFuWcfHaRuKcuCE6CWXsWtG/view?usp=sharing\" # orderlines.csv\n",
    "#url = \"https://drive.google.com/file/d/1Vu0q91qZw6lqhIqbjoXYvYAQTmVHh6uZ/view?usp=sharing\" # orders.csv\n",
    "#url = \"https://drive.google.com/file/d/1m1ThDDIYRTTii-rqM5SEQjJ8McidJskD/view?usp=sharing\" # brands.csv\n",
    "\n",
    "url = \"https://drive.google.com/file/d/1afxwDXfl-7cQ_qLwyDitfcCx3u7WMvkU/view?usp=sharing\" # products.csv\n",
    "path = \"https://drive.google.com/uc?export=download&id=\"+url.split(\"/\")[-2]\n",
    "products = pd.read_csv(path)\n",
    "\n",
    "#STORE A COPY\n",
    "# https://pandas.pydata.org/docs/reference/api/pandas.DataFrame.to_csv.html?highlight=to_csv\n",
    "products.to_csv(\"products_original.csv\", index=False)"
   ]
  },
  {
   "cell_type": "markdown",
   "id": "cb66c81e-30ae-4a6d-9496-cd5d2f15dd65",
   "metadata": {},
   "source": [
    "## A) Check size, data-types, missing values and duplicates with .shape and .info()"
   ]
  },
  {
   "cell_type": "code",
   "execution_count": 6,
   "id": "2cd6eb86-e21c-47c2-8518-43c276bd6398",
   "metadata": {},
   "outputs": [
    {
     "data": {
      "text/plain": [
       "(19326, 7)"
      ]
     },
     "execution_count": 6,
     "metadata": {},
     "output_type": "execute_result"
    }
   ],
   "source": [
    "products.shape "
   ]
  },
  {
   "cell_type": "code",
   "execution_count": 7,
   "id": "4495bc48-2925-43fb-b455-2391948d323b",
   "metadata": {},
   "outputs": [
    {
     "name": "stdout",
     "output_type": "stream",
     "text": [
      "<class 'pandas.core.frame.DataFrame'>\n",
      "RangeIndex: 19326 entries, 0 to 19325\n",
      "Data columns (total 7 columns):\n",
      " #   Column       Non-Null Count  Dtype \n",
      "---  ------       --------------  ----- \n",
      " 0   sku          19326 non-null  object\n",
      " 1   name         19326 non-null  object\n",
      " 2   desc         19319 non-null  object\n",
      " 3   price        19280 non-null  object\n",
      " 4   promo_price  19326 non-null  object\n",
      " 5   in_stock     19326 non-null  int64 \n",
      " 6   type         19276 non-null  object\n",
      "dtypes: int64(1), object(6)\n",
      "memory usage: 1.0+ MB\n"
     ]
    }
   ],
   "source": [
    "products.info() "
   ]
  },
  {
   "cell_type": "code",
   "execution_count": 9,
   "id": "261072de-4673-4fe2-8adb-460c0b01ccf5",
   "metadata": {},
   "outputs": [
    {
     "data": {
      "text/plain": [
       "sku             0\n",
       "name            0\n",
       "desc            7\n",
       "price          46\n",
       "promo_price     0\n",
       "in_stock        0\n",
       "type           50\n",
       "dtype: int64"
      ]
     },
     "execution_count": 9,
     "metadata": {},
     "output_type": "execute_result"
    }
   ],
   "source": [
    "products.isna().sum()"
   ]
  },
  {
   "cell_type": "code",
   "execution_count": 15,
   "id": "23c866c4-25e8-41ac-b9b9-a382d8b5cc47",
   "metadata": {},
   "outputs": [
    {
     "data": {
      "text/plain": [
       "sku            10579\n",
       "name           10373\n",
       "desc            7098\n",
       "price           2690\n",
       "promo_price     4614\n",
       "in_stock           2\n",
       "type             126\n",
       "dtype: int64"
      ]
     },
     "execution_count": 15,
     "metadata": {},
     "output_type": "execute_result"
    }
   ],
   "source": [
    "products.nunique()\n",
    "#or products.duplicated().sum()"
   ]
  },
  {
   "cell_type": "code",
   "execution_count": 13,
   "id": "4a1310b8-2c20-44e2-ac74-a307f452ef89",
   "metadata": {},
   "outputs": [],
   "source": [
    "#check if everything is alphanumeric\n",
    "#order.order_id.str.isalnum() --> only works on object-type"
   ]
  },
  {
   "cell_type": "markdown",
   "id": "2f1ec230-117a-4d3a-a86d-c89c7bdf6c99",
   "metadata": {},
   "source": [
    "**INFO:**\n",
    "- ..."
   ]
  },
  {
   "cell_type": "markdown",
   "id": "bf05b5c6-0182-4f23-b5e2-92743e71d2f9",
   "metadata": {},
   "source": [
    "**FLAG:\n",
    "___**\n",
    "- ..created_date is type object --> I'd expect a date or datetime\n"
   ]
  },
  {
   "cell_type": "markdown",
   "id": "312889e2-daeb-4426-8db8-73c59aa40845",
   "metadata": {},
   "source": [
    "## B) Check raw data with .head() and .tail()"
   ]
  },
  {
   "cell_type": "code",
   "execution_count": 6,
   "id": "9fe5f302-d38c-420e-b6a6-f07c7d8148c2",
   "metadata": {},
   "outputs": [
    {
     "data": {
      "text/html": [
       "<div>\n",
       "<style scoped>\n",
       "    .dataframe tbody tr th:only-of-type {\n",
       "        vertical-align: middle;\n",
       "    }\n",
       "\n",
       "    .dataframe tbody tr th {\n",
       "        vertical-align: top;\n",
       "    }\n",
       "\n",
       "    .dataframe thead th {\n",
       "        text-align: right;\n",
       "    }\n",
       "</style>\n",
       "<table border=\"1\" class=\"dataframe\">\n",
       "  <thead>\n",
       "    <tr style=\"text-align: right;\">\n",
       "      <th></th>\n",
       "      <th>order_id</th>\n",
       "      <th>created_date</th>\n",
       "      <th>total_paid</th>\n",
       "      <th>state</th>\n",
       "    </tr>\n",
       "  </thead>\n",
       "  <tbody>\n",
       "    <tr>\n",
       "      <th>0</th>\n",
       "      <td>241319</td>\n",
       "      <td>2017-01-02 13:35:40</td>\n",
       "      <td>44.99</td>\n",
       "      <td>Cancelled</td>\n",
       "    </tr>\n",
       "    <tr>\n",
       "      <th>1</th>\n",
       "      <td>241423</td>\n",
       "      <td>2017-11-06 13:10:02</td>\n",
       "      <td>136.15</td>\n",
       "      <td>Completed</td>\n",
       "    </tr>\n",
       "    <tr>\n",
       "      <th>2</th>\n",
       "      <td>242832</td>\n",
       "      <td>2017-12-31 17:40:03</td>\n",
       "      <td>15.76</td>\n",
       "      <td>Completed</td>\n",
       "    </tr>\n",
       "    <tr>\n",
       "      <th>3</th>\n",
       "      <td>243330</td>\n",
       "      <td>2017-02-16 10:59:38</td>\n",
       "      <td>84.98</td>\n",
       "      <td>Completed</td>\n",
       "    </tr>\n",
       "    <tr>\n",
       "      <th>4</th>\n",
       "      <td>243784</td>\n",
       "      <td>2017-11-24 13:35:19</td>\n",
       "      <td>157.86</td>\n",
       "      <td>Cancelled</td>\n",
       "    </tr>\n",
       "    <tr>\n",
       "      <th>5</th>\n",
       "      <td>245275</td>\n",
       "      <td>2017-06-28 11:35:37</td>\n",
       "      <td>149.00</td>\n",
       "      <td>Completed</td>\n",
       "    </tr>\n",
       "    <tr>\n",
       "      <th>6</th>\n",
       "      <td>245595</td>\n",
       "      <td>2017-01-21 12:52:47</td>\n",
       "      <td>112.97</td>\n",
       "      <td>Completed</td>\n",
       "    </tr>\n",
       "    <tr>\n",
       "      <th>7</th>\n",
       "      <td>245851</td>\n",
       "      <td>2017-04-04 20:58:21</td>\n",
       "      <td>79.99</td>\n",
       "      <td>Pending</td>\n",
       "    </tr>\n",
       "    <tr>\n",
       "      <th>8</th>\n",
       "      <td>245941</td>\n",
       "      <td>2017-01-01 10:32:23</td>\n",
       "      <td>183.52</td>\n",
       "      <td>Completed</td>\n",
       "    </tr>\n",
       "    <tr>\n",
       "      <th>9</th>\n",
       "      <td>246018</td>\n",
       "      <td>2017-02-13 23:02:57</td>\n",
       "      <td>211.95</td>\n",
       "      <td>Completed</td>\n",
       "    </tr>\n",
       "    <tr>\n",
       "      <th>10</th>\n",
       "      <td>246405</td>\n",
       "      <td>2017-11-24 10:01:27</td>\n",
       "      <td>407.96</td>\n",
       "      <td>Completed</td>\n",
       "    </tr>\n",
       "    <tr>\n",
       "      <th>11</th>\n",
       "      <td>247524</td>\n",
       "      <td>2018-01-09 14:21:34</td>\n",
       "      <td>167.98</td>\n",
       "      <td>Completed</td>\n",
       "    </tr>\n",
       "    <tr>\n",
       "      <th>12</th>\n",
       "      <td>247643</td>\n",
       "      <td>2017-05-26 11:50:35</td>\n",
       "      <td>153.54</td>\n",
       "      <td>Completed</td>\n",
       "    </tr>\n",
       "    <tr>\n",
       "      <th>13</th>\n",
       "      <td>250275</td>\n",
       "      <td>2017-11-19 22:34:54</td>\n",
       "      <td>54.99</td>\n",
       "      <td>Completed</td>\n",
       "    </tr>\n",
       "    <tr>\n",
       "      <th>14</th>\n",
       "      <td>251302</td>\n",
       "      <td>2017-05-10 12:27:33</td>\n",
       "      <td>140.99</td>\n",
       "      <td>Completed</td>\n",
       "    </tr>\n",
       "    <tr>\n",
       "      <th>15</th>\n",
       "      <td>251688</td>\n",
       "      <td>2017-11-24 23:57:07</td>\n",
       "      <td>505.76</td>\n",
       "      <td>Completed</td>\n",
       "    </tr>\n",
       "    <tr>\n",
       "      <th>16</th>\n",
       "      <td>251969</td>\n",
       "      <td>2017-11-21 21:04:12</td>\n",
       "      <td>610.07</td>\n",
       "      <td>Completed</td>\n",
       "    </tr>\n",
       "    <tr>\n",
       "      <th>17</th>\n",
       "      <td>252371</td>\n",
       "      <td>2017-02-09 12:31:57</td>\n",
       "      <td>27.98</td>\n",
       "      <td>Pending</td>\n",
       "    </tr>\n",
       "    <tr>\n",
       "      <th>18</th>\n",
       "      <td>253220</td>\n",
       "      <td>2017-10-04 19:37:10</td>\n",
       "      <td>1610.00</td>\n",
       "      <td>Completed</td>\n",
       "    </tr>\n",
       "    <tr>\n",
       "      <th>19</th>\n",
       "      <td>253306</td>\n",
       "      <td>2017-10-04 14:14:45</td>\n",
       "      <td>497.68</td>\n",
       "      <td>Completed</td>\n",
       "    </tr>\n",
       "  </tbody>\n",
       "</table>\n",
       "</div>"
      ],
      "text/plain": [
       "    order_id         created_date  total_paid      state\n",
       "0     241319  2017-01-02 13:35:40       44.99  Cancelled\n",
       "1     241423  2017-11-06 13:10:02      136.15  Completed\n",
       "2     242832  2017-12-31 17:40:03       15.76  Completed\n",
       "3     243330  2017-02-16 10:59:38       84.98  Completed\n",
       "4     243784  2017-11-24 13:35:19      157.86  Cancelled\n",
       "5     245275  2017-06-28 11:35:37      149.00  Completed\n",
       "6     245595  2017-01-21 12:52:47      112.97  Completed\n",
       "7     245851  2017-04-04 20:58:21       79.99    Pending\n",
       "8     245941  2017-01-01 10:32:23      183.52  Completed\n",
       "9     246018  2017-02-13 23:02:57      211.95  Completed\n",
       "10    246405  2017-11-24 10:01:27      407.96  Completed\n",
       "11    247524  2018-01-09 14:21:34      167.98  Completed\n",
       "12    247643  2017-05-26 11:50:35      153.54  Completed\n",
       "13    250275  2017-11-19 22:34:54       54.99  Completed\n",
       "14    251302  2017-05-10 12:27:33      140.99  Completed\n",
       "15    251688  2017-11-24 23:57:07      505.76  Completed\n",
       "16    251969  2017-11-21 21:04:12      610.07  Completed\n",
       "17    252371  2017-02-09 12:31:57       27.98    Pending\n",
       "18    253220  2017-10-04 19:37:10     1610.00  Completed\n",
       "19    253306  2017-10-04 14:14:45      497.68  Completed"
      ]
     },
     "execution_count": 6,
     "metadata": {},
     "output_type": "execute_result"
    }
   ],
   "source": [
    "orders.head(20)"
   ]
  },
  {
   "cell_type": "markdown",
   "id": "2e381a71-a4f9-497a-9fc1-db93bacd3071",
   "metadata": {},
   "source": [
    "**INFO:**\n",
    "- 6 digit order_id\n",
    "- created_date has the format 'yyy-mm-dd hh:mm:ss'\n",
    "- total_paid seperates with ',' --> looks good\n",
    "- state has the following values: 'Completed', 'Cancelled', 'Pending', 'Shopping Basket', 'Place Order' and maybe more. So far it doesn't look like there are spelling mistakes in the state-column."
   ]
  },
  {
   "cell_type": "markdown",
   "id": "5ae1b849-8d1e-45cd-b174-e2aa9757196d",
   "metadata": {},
   "source": [
    "## C) Explore numerical columns with .hist and .describe()"
   ]
  },
  {
   "cell_type": "code",
   "execution_count": 7,
   "id": "caee9966-e78b-485c-9a8d-1d007e1504d9",
   "metadata": {},
   "outputs": [
    {
     "data": {
      "text/plain": [
       "array([[<AxesSubplot:title={'center':'total_paid'}>]], dtype=object)"
      ]
     },
     "execution_count": 7,
     "metadata": {},
     "output_type": "execute_result"
    },
    {
     "data": {
      "image/png": "[encoded data removed]",
      "text/plain": [
       "<Figure size 576x720 with 1 Axes>"
      ]
     },
     "metadata": {
      "needs_background": "light"
     },
     "output_type": "display_data"
    }
   ],
   "source": [
    "orders.hist('total_paid', bins = 10, figsize= (8,10))"
   ]
  },
  {
   "cell_type": "code",
   "execution_count": 8,
   "id": "8bc1340a-756a-427a-b92d-fe83f35db347",
   "metadata": {},
   "outputs": [
    {
     "data": {
      "text/html": [
       "<div>\n",
       "<style scoped>\n",
       "    .dataframe tbody tr th:only-of-type {\n",
       "        vertical-align: middle;\n",
       "    }\n",
       "\n",
       "    .dataframe tbody tr th {\n",
       "        vertical-align: top;\n",
       "    }\n",
       "\n",
       "    .dataframe thead th {\n",
       "        text-align: right;\n",
       "    }\n",
       "</style>\n",
       "<table border=\"1\" class=\"dataframe\">\n",
       "  <thead>\n",
       "    <tr style=\"text-align: right;\">\n",
       "      <th></th>\n",
       "      <th>order_id</th>\n",
       "      <th>total_paid</th>\n",
       "    </tr>\n",
       "  </thead>\n",
       "  <tbody>\n",
       "    <tr>\n",
       "      <th>count</th>\n",
       "      <td>226909.000000</td>\n",
       "      <td>226904.000000</td>\n",
       "    </tr>\n",
       "    <tr>\n",
       "      <th>mean</th>\n",
       "      <td>413296.482480</td>\n",
       "      <td>569.225818</td>\n",
       "    </tr>\n",
       "    <tr>\n",
       "      <th>std</th>\n",
       "      <td>65919.250331</td>\n",
       "      <td>1761.778002</td>\n",
       "    </tr>\n",
       "    <tr>\n",
       "      <th>min</th>\n",
       "      <td>241319.000000</td>\n",
       "      <td>0.000000</td>\n",
       "    </tr>\n",
       "    <tr>\n",
       "      <th>25%</th>\n",
       "      <td>356263.000000</td>\n",
       "      <td>34.190000</td>\n",
       "    </tr>\n",
       "    <tr>\n",
       "      <th>50%</th>\n",
       "      <td>413040.000000</td>\n",
       "      <td>112.990000</td>\n",
       "    </tr>\n",
       "    <tr>\n",
       "      <th>75%</th>\n",
       "      <td>470553.000000</td>\n",
       "      <td>525.980000</td>\n",
       "    </tr>\n",
       "    <tr>\n",
       "      <th>max</th>\n",
       "      <td>527401.000000</td>\n",
       "      <td>214747.530000</td>\n",
       "    </tr>\n",
       "  </tbody>\n",
       "</table>\n",
       "</div>"
      ],
      "text/plain": [
       "            order_id     total_paid\n",
       "count  226909.000000  226904.000000\n",
       "mean   413296.482480     569.225818\n",
       "std     65919.250331    1761.778002\n",
       "min    241319.000000       0.000000\n",
       "25%    356263.000000      34.190000\n",
       "50%    413040.000000     112.990000\n",
       "75%    470553.000000     525.980000\n",
       "max    527401.000000  214747.530000"
      ]
     },
     "execution_count": 8,
     "metadata": {},
     "output_type": "execute_result"
    }
   ],
   "source": [
    "orders.describe()"
   ]
  },
  {
   "cell_type": "markdown",
   "id": "ad0c97c4-3a38-44eb-96dd-ceda72e225e7",
   "metadata": {},
   "source": [
    "**INFO:**\n",
    "- n = 226,909  --> but 226,904 on the total_paid (what about 5 missing ones?)\n",
    "- mean value_paid is 112.99\n",
    "- IQR of total_paid = 525.98 - 34.19 = a little below 500\n",
    "- order_ids start at 241319 and go up to 527401.\n",
    "\n",
    "**NOTE:**\n",
    "- There seem to be orders with 0 money total_paid. Might have to do with status 'Shopping_Basket'"
   ]
  },
  {
   "cell_type": "markdown",
   "id": "d3e3e818-90c7-42a8-a28a-fc58bdfd03fe",
   "metadata": {},
   "source": [
    "**FLAG: Very high total_paid value of > 200,000**\n",
    "- There are outliers in the total_paid column: Max value is 214,747\n",
    "- nlargest(5) --> still above 214,000 - different timestamps from 2017 and 2018, same state: Shopping Basket\n",
    "- nlargest(20) --> down to 87,800 - different timestamps from 2017 and 2018, same state: Shopping Basket\n",
    "- nlargest(50) --> down to 26,500 - dif. timest. as above, state: most have 'Shopping Basket' one order has state == 'Cancelled'\n",
    "- nlargest(100) --> down to 14,900 - additional state == Place Order\n",
    "- nlargest(1000) --> total_paid 5423.58 --> Duplicates!\n",
    "\n",
    "**FLAG: Duplicate values with similar timestamp with total_paid == 5423.58**\n",
    "The value  is there at least 5 times if not more and its created_date is around 2017-12-12 (and a bit before and after). It looks like someone wanted to order something and tried several times.\n",
    "\n",
    "\n",
    "\n",
    "\n"
   ]
  },
  {
   "cell_type": "code",
   "execution_count": 9,
   "id": "bfd32aa8-09a0-442b-a828-91ef7dabbd56",
   "metadata": {},
   "outputs": [
    {
     "data": {
      "text/html": [
       "<div>\n",
       "<style scoped>\n",
       "    .dataframe tbody tr th:only-of-type {\n",
       "        vertical-align: middle;\n",
       "    }\n",
       "\n",
       "    .dataframe tbody tr th {\n",
       "        vertical-align: top;\n",
       "    }\n",
       "\n",
       "    .dataframe thead th {\n",
       "        text-align: right;\n",
       "    }\n",
       "</style>\n",
       "<table border=\"1\" class=\"dataframe\">\n",
       "  <thead>\n",
       "    <tr style=\"text-align: right;\">\n",
       "      <th></th>\n",
       "      <th>order_id</th>\n",
       "      <th>created_date</th>\n",
       "      <th>total_paid</th>\n",
       "      <th>state</th>\n",
       "    </tr>\n",
       "  </thead>\n",
       "  <tbody>\n",
       "    <tr>\n",
       "      <th>96028</th>\n",
       "      <td>395611</td>\n",
       "      <td>2017-09-01 20:56:34</td>\n",
       "      <td>214747.53</td>\n",
       "      <td>Shopping Basket</td>\n",
       "    </tr>\n",
       "    <tr>\n",
       "      <th>2478</th>\n",
       "      <td>301934</td>\n",
       "      <td>2017-01-03 19:27:13</td>\n",
       "      <td>214746.63</td>\n",
       "      <td>Shopping Basket</td>\n",
       "    </tr>\n",
       "    <tr>\n",
       "      <th>183927</th>\n",
       "      <td>484334</td>\n",
       "      <td>2018-01-07 15:58:26</td>\n",
       "      <td>214714.31</td>\n",
       "      <td>Shopping Basket</td>\n",
       "    </tr>\n",
       "    <tr>\n",
       "      <th>61659</th>\n",
       "      <td>361200</td>\n",
       "      <td>2017-06-01 11:55:02</td>\n",
       "      <td>214642.47</td>\n",
       "      <td>Shopping Basket</td>\n",
       "    </tr>\n",
       "    <tr>\n",
       "      <th>40557</th>\n",
       "      <td>340045</td>\n",
       "      <td>2017-03-28 13:27:52</td>\n",
       "      <td>214517.58</td>\n",
       "      <td>Shopping Basket</td>\n",
       "    </tr>\n",
       "    <tr>\n",
       "      <th>...</th>\n",
       "      <td>...</td>\n",
       "      <td>...</td>\n",
       "      <td>...</td>\n",
       "      <td>...</td>\n",
       "    </tr>\n",
       "    <tr>\n",
       "      <th>163481</th>\n",
       "      <td>463768</td>\n",
       "      <td>2017-12-15 13:48:35</td>\n",
       "      <td>15505.42</td>\n",
       "      <td>Place Order</td>\n",
       "    </tr>\n",
       "    <tr>\n",
       "      <th>56941</th>\n",
       "      <td>356477</td>\n",
       "      <td>2017-05-17 00:00:46</td>\n",
       "      <td>15348.00</td>\n",
       "      <td>Shopping Basket</td>\n",
       "    </tr>\n",
       "    <tr>\n",
       "      <th>105313</th>\n",
       "      <td>404898</td>\n",
       "      <td>2017-09-26 15:25:00</td>\n",
       "      <td>15030.10</td>\n",
       "      <td>Shopping Basket</td>\n",
       "    </tr>\n",
       "    <tr>\n",
       "      <th>98016</th>\n",
       "      <td>397600</td>\n",
       "      <td>2017-09-07 23:49:01</td>\n",
       "      <td>14992.15</td>\n",
       "      <td>Shopping Basket</td>\n",
       "    </tr>\n",
       "    <tr>\n",
       "      <th>169354</th>\n",
       "      <td>469726</td>\n",
       "      <td>2017-12-22 14:54:39</td>\n",
       "      <td>14989.72</td>\n",
       "      <td>Shopping Basket</td>\n",
       "    </tr>\n",
       "  </tbody>\n",
       "</table>\n",
       "<p>100 rows × 4 columns</p>\n",
       "</div>"
      ],
      "text/plain": [
       "        order_id         created_date  total_paid            state\n",
       "96028     395611  2017-09-01 20:56:34   214747.53  Shopping Basket\n",
       "2478      301934  2017-01-03 19:27:13   214746.63  Shopping Basket\n",
       "183927    484334  2018-01-07 15:58:26   214714.31  Shopping Basket\n",
       "61659     361200  2017-06-01 11:55:02   214642.47  Shopping Basket\n",
       "40557     340045  2017-03-28 13:27:52   214517.58  Shopping Basket\n",
       "...          ...                  ...         ...              ...\n",
       "163481    463768  2017-12-15 13:48:35    15505.42      Place Order\n",
       "56941     356477  2017-05-17 00:00:46    15348.00  Shopping Basket\n",
       "105313    404898  2017-09-26 15:25:00    15030.10  Shopping Basket\n",
       "98016     397600  2017-09-07 23:49:01    14992.15  Shopping Basket\n",
       "169354    469726  2017-12-22 14:54:39    14989.72  Shopping Basket\n",
       "\n",
       "[100 rows x 4 columns]"
      ]
     },
     "execution_count": 9,
     "metadata": {},
     "output_type": "execute_result"
    }
   ],
   "source": [
    "orders.nlargest(100, \"total_paid\")"
   ]
  },
  {
   "cell_type": "markdown",
   "id": "785f553c-c343-4dca-9045-05ed8f60b83e",
   "metadata": {},
   "source": [
    "## D) Explore categorical columns with value_counts() and .plot.bar()"
   ]
  },
  {
   "cell_type": "code",
   "execution_count": 10,
   "id": "9c81dd6d-a441-4718-91e4-192ad60df876",
   "metadata": {},
   "outputs": [
    {
     "data": {
      "text/plain": [
       "<AxesSubplot:>"
      ]
     },
     "execution_count": 10,
     "metadata": {},
     "output_type": "execute_result"
    },
    {
     "data": {
      "image/png": "[encoded data removed]",
      "text/plain": [
       "<Figure size 432x288 with 1 Axes>"
      ]
     },
     "metadata": {
      "needs_background": "light"
     },
     "output_type": "display_data"
    }
   ],
   "source": [
    "order_states = orders.state.value_counts()\n",
    "order_states.plot.bar()"
   ]
  },
  {
   "cell_type": "markdown",
   "id": "167fa1e9-e1ae-4597-9883-6b5676e0e6d2",
   "metadata": {},
   "source": [
    "**FLAG: The majority of items is category 'Shopping Basket**\n",
    "Here we'll need to find out what this means. \n",
    "- Is there a time from which on, there are no more orders 'completed' and the state did not get updated anymore?\n",
    "- Can we assume all orders with state 'Shopping Basket' (which have a price) are completed? --> I do not think so\n"
   ]
  },
  {
   "cell_type": "code",
   "execution_count": 14,
   "id": "b00e4117-350d-483c-9704-4b2e0fd26b25",
   "metadata": {},
   "outputs": [],
   "source": [
    "# I would like to see a relationship between category \"Shopping Basket\" and the \"created_date\"\n",
    "# but so far it does not work.\n",
    "#orders.plot.scatter(x=\"state\", y=\"created_date\");\n"
   ]
  },
  {
   "cell_type": "code",
   "execution_count": null,
   "id": "8f5fad98-9698-4038-a3de-c1301189e3e6",
   "metadata": {},
   "outputs": [],
   "source": []
  }
 ],
 "metadata": {
  "kernelspec": {
   "display_name": "Python 3",
   "language": "python",
   "name": "python3"
  },
  "language_info": {
   "codemirror_mode": {
    "name": "ipython",
    "version": 3
   },
   "file_extension": ".py",
   "mimetype": "text/x-python",
   "name": "python",
   "nbconvert_exporter": "python",
   "pygments_lexer": "ipython3",
   "version": "3.8.8"
  }
 },
 "nbformat": 4,
 "nbformat_minor": 5
}
