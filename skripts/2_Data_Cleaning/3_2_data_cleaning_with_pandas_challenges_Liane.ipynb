{
 "cells": [
  {
   "cell_type": "markdown",
   "metadata": {
    "id": "kYo4UvcCvkUs"
   },
   "source": [
    "# Data Cleaning with Pandas\n",
    "\n",
    "In this notebook we'll go through a few basic data cleaning steps that should be performed on all new datasets where necessary.\n",
    "\n",
    "We'll go through the process with both the `orders` and `orderlines` datasets. You can then practice these skills by cleaning the `products` dataset yourself"
   ]
  },
  {
   "cell_type": "code",
   "execution_count": 24,
   "metadata": {
    "id": "FgRIdUs1vcZ8"
   },
   "outputs": [],
   "source": [
    "import pandas as pd"
   ]
  },
  {
   "cell_type": "code",
   "execution_count": 25,
   "metadata": {
    "id": "_87JoNgVviOG"
   },
   "outputs": [],
   "source": [
    "# orders.csv\n",
    "url = \"https://drive.google.com/file/d/1Vu0q91qZw6lqhIqbjoXYvYAQTmVHh6uZ/view?usp=sharing\" \n",
    "path = \"https://drive.google.com/uc?export=download&id=\"+url.split(\"/\")[-2]\n",
    "orders = pd.read_csv(path)\n",
    "\n",
    "# orderlines.csv\n",
    "url = \"https://drive.google.com/file/d/1FYhN_2AzTBFuWcfHaRuKcuCE6CWXsWtG/view?usp=sharing\" \n",
    "path = \"https://drive.google.com/uc?export=download&id=\"+url.split(\"/\")[-2]\n",
    "orderlines = pd.read_csv(path)"
   ]
  },
  {
   "cell_type": "markdown",
   "metadata": {
    "id": "fVLitYX1yhc6"
   },
   "source": [
    "One of the best ways to begin data cleaning is by exploring using `.info()`. This will tell us:\n",
    "* The shape of the DataFrame\n",
    "* The names of the columns\n",
    "* If there are any missing values\n",
    "* The datatypes of the columns\n",
    "\n",
    "By exploring the missing values and correcting any incorrect datatypes, we often come across inconsistencies in our data.\n",
    "\n",
    "Beyond this, we should also have a **check for any duplicate rows**. \n",
    "\n",
    "Let's first deal with the duplicates, as it's nice and easy, then we'll explore what `.info()` has to tell us."
   ]
  },
  {
   "cell_type": "markdown",
   "metadata": {
    "id": "036ciQ6rwBJm"
   },
   "source": [
    "## 1.&nbsp; Duplicates\n",
    "We can check for duplicates using the pandas [.duplicated()](https://pandas.pydata.org/docs/reference/api/pandas.DataFrame.duplicated.html) method. \n",
    "\n",
    "We can then delete these rows, if we wish, using [.drop_duplicates()](https://pandas.pydata.org/docs/reference/api/pandas.DataFrame.drop_duplicates.html)"
   ]
  },
  {
   "cell_type": "code",
   "execution_count": 26,
   "metadata": {
    "id": "6dVkoUu7wC-b"
   },
   "outputs": [
    {
     "data": {
      "text/plain": [
       "0"
      ]
     },
     "execution_count": 26,
     "metadata": {},
     "output_type": "execute_result"
    }
   ],
   "source": [
    "# orders\n",
    "orders.duplicated().sum()"
   ]
  },
  {
   "cell_type": "code",
   "execution_count": 27,
   "metadata": {
    "id": "iaeAQB_3whli"
   },
   "outputs": [
    {
     "data": {
      "text/plain": [
       "0"
      ]
     },
     "execution_count": 27,
     "metadata": {},
     "output_type": "execute_result"
    }
   ],
   "source": [
    "# orderlines\n",
    "orderlines.duplicated().sum()"
   ]
  },
  {
   "cell_type": "markdown",
   "metadata": {
    "id": "3LbnJquF0vRe"
   },
   "source": [
    "We have no duplicate rows in either DataFrame. Easy, there is no problem to solve. Normally though, if there were some duplicates, we'd drop the extra rows."
   ]
  },
  {
   "cell_type": "markdown",
   "metadata": {
    "id": "9lX7YbHlzoEO"
   },
   "source": [
    "# 2.&nbsp; `.info()`"
   ]
  },
  {
   "cell_type": "code",
   "execution_count": 28,
   "metadata": {
    "id": "_AAsMOTS2L9r"
   },
   "outputs": [
    {
     "name": "stdout",
     "output_type": "stream",
     "text": [
      "<class 'pandas.core.frame.DataFrame'>\n",
      "RangeIndex: 226909 entries, 0 to 226908\n",
      "Data columns (total 4 columns):\n",
      " #   Column        Non-Null Count   Dtype  \n",
      "---  ------        --------------   -----  \n",
      " 0   order_id      226909 non-null  int64  \n",
      " 1   created_date  226909 non-null  object \n",
      " 2   total_paid    226904 non-null  float64\n",
      " 3   state         226909 non-null  object \n",
      "dtypes: float64(1), int64(1), object(2)\n",
      "memory usage: 6.9+ MB\n"
     ]
    }
   ],
   "source": [
    "orders.info()"
   ]
  },
  {
   "cell_type": "markdown",
   "metadata": {
    "id": "Txm3Bv952UCb"
   },
   "source": [
    "* `total_paid` has 5 missing values\n",
    "* `created_date` should become datetime datatype"
   ]
  },
  {
   "cell_type": "code",
   "execution_count": 29,
   "metadata": {
    "id": "kvDA-z032Rm2"
   },
   "outputs": [
    {
     "name": "stdout",
     "output_type": "stream",
     "text": [
      "<class 'pandas.core.frame.DataFrame'>\n",
      "RangeIndex: 293983 entries, 0 to 293982\n",
      "Data columns (total 7 columns):\n",
      " #   Column            Non-Null Count   Dtype \n",
      "---  ------            --------------   ----- \n",
      " 0   id                293983 non-null  int64 \n",
      " 1   id_order          293983 non-null  int64 \n",
      " 2   product_id        293983 non-null  int64 \n",
      " 3   product_quantity  293983 non-null  int64 \n",
      " 4   sku               293983 non-null  object\n",
      " 5   unit_price        293983 non-null  object\n",
      " 6   date              293983 non-null  object\n",
      "dtypes: int64(4), object(3)\n",
      "memory usage: 15.7+ MB\n"
     ]
    }
   ],
   "source": [
    "orderlines.info()"
   ]
  },
  {
   "cell_type": "markdown",
   "metadata": {
    "id": "iLSpYm1G2sPD"
   },
   "source": [
    "* `date` should be a datetime datatype\n",
    "* `unit_price` should be a float datatype"
   ]
  },
  {
   "cell_type": "markdown",
   "metadata": {
    "id": "MlwJt5c-wiQh"
   },
   "source": [
    "## 3.&nbsp; Missing values"
   ]
  },
  {
   "cell_type": "markdown",
   "metadata": {
    "id": "63eKHGzJwkuT"
   },
   "source": [
    "### 3.1.&nbsp; Orders\n",
    "* `total_paid` has 5 missing values"
   ]
  },
  {
   "cell_type": "code",
   "execution_count": 30,
   "metadata": {
    "id": "Yh81k3ppwl37"
   },
   "outputs": [
    {
     "name": "stdout",
     "output_type": "stream",
     "text": [
      "5 missing values represents 0.0022% of the rows in our DataFrame\n"
     ]
    }
   ],
   "source": [
    "print(f\"5 missing values represents {((orders.total_paid.isna().sum() / orders.shape[0])*100).round(5)}% of the rows in our DataFrame\")"
   ]
  },
  {
   "cell_type": "markdown",
   "metadata": {
    "id": "eMW6J-4v_iVM"
   },
   "source": [
    "As there is such a tiny amount of missing values, we will simply delete these rows, as we have enough data without them."
   ]
  },
  {
   "cell_type": "code",
   "execution_count": 31,
   "metadata": {
    "id": "ohcl2Pb2B_Ch"
   },
   "outputs": [],
   "source": [
    "orders = orders.loc[~orders.total_paid.isna(), :]"
   ]
  },
  {
   "cell_type": "markdown",
   "metadata": {
    "id": "AIWAR4xI_3jv"
   },
   "source": [
    "Should you have a significant number of missing values in the future, you have a choice: \n",
    "+ you can impute the values\n",
    "+ you can take the values from other DataFrames, if they are present there\n",
    "+ you can delete the values\n",
    "+ or any number of other creative solutions\n",
    "\n",
    "Please, always consider how much time you have on your project, and what impact your method of choice will have on your final assesment."
   ]
  },
  {
   "cell_type": "markdown",
   "metadata": {
    "id": "nziIE3hbwmNa"
   },
   "source": [
    "### 3.2.&nbsp; Orderlines\n",
    "There are no missing values in `orderlines`"
   ]
  },
  {
   "cell_type": "markdown",
   "metadata": {
    "id": "_feog1aCwosJ"
   },
   "source": [
    "## 4.&nbsp; Datatypes"
   ]
  },
  {
   "cell_type": "markdown",
   "metadata": {
    "id": "wCJyQYkOwrBE"
   },
   "source": [
    "### 4.1.&nbsp; Orders\n",
    "* `created_date` should become datetime datatype"
   ]
  },
  {
   "cell_type": "code",
   "execution_count": 32,
   "metadata": {
    "id": "cF9roGlewr8j"
   },
   "outputs": [],
   "source": [
    "orders[\"created_date\"] = pd.to_datetime(orders[\"created_date\"])"
   ]
  },
  {
   "cell_type": "code",
   "execution_count": 33,
   "metadata": {},
   "outputs": [
    {
     "name": "stdout",
     "output_type": "stream",
     "text": [
      "<class 'pandas.core.frame.DataFrame'>\n",
      "Int64Index: 226904 entries, 0 to 226908\n",
      "Data columns (total 4 columns):\n",
      " #   Column        Non-Null Count   Dtype         \n",
      "---  ------        --------------   -----         \n",
      " 0   order_id      226904 non-null  int64         \n",
      " 1   created_date  226904 non-null  datetime64[ns]\n",
      " 2   total_paid    226904 non-null  float64       \n",
      " 3   state         226904 non-null  object        \n",
      "dtypes: datetime64[ns](1), float64(1), int64(1), object(1)\n",
      "memory usage: 8.7+ MB\n"
     ]
    }
   ],
   "source": [
    "orders.info()"
   ]
  },
  {
   "cell_type": "markdown",
   "metadata": {
    "id": "osvynBTNwsin"
   },
   "source": [
    "### 4.1.&nbsp; Orderlines\n",
    "* `date` should be a datetime datatype\n",
    "* `unit_price` should be a float datatype"
   ]
  },
  {
   "cell_type": "markdown",
   "metadata": {
    "id": "PJcuKn8K06Yd"
   },
   "source": [
    "#### 4.1.1.&nbsp; `date`"
   ]
  },
  {
   "cell_type": "code",
   "execution_count": 34,
   "metadata": {
    "id": "FnXgRKERwtvS"
   },
   "outputs": [],
   "source": [
    "orderlines[\"date\"] = pd.to_datetime(orderlines[\"date\"])"
   ]
  },
  {
   "cell_type": "markdown",
   "metadata": {
    "id": "F7i78NDY0-oF"
   },
   "source": [
    "#### 4.1.2.&nbsp;`unit_price`"
   ]
  },
  {
   "cell_type": "code",
   "execution_count": 36,
   "metadata": {
    "id": "iOFBNmuRDuGU"
   },
   "outputs": [],
   "source": [
    "#orderlines[\"unit_price\"] = pd.to_numeric(orderlines[\"unit_price\"])"
   ]
  },
  {
   "cell_type": "markdown",
   "metadata": {
    "id": "xEqhP5RFSmRi"
   },
   "source": [
    "As you can see when we try to convert `unit_price` to a numerical datatype, we receive a `ValueError` telling us that pandas doesn't understand the number `1.137.99`. This is probably because numbers cannot have 2 decimal points. Let's see if there are any other numbers like this."
   ]
  },
  {
   "cell_type": "code",
   "execution_count": 37,
   "metadata": {
    "id": "ONy-oCt0SkrR"
   },
   "outputs": [
    {
     "data": {
      "text/plain": [
       "False    257814\n",
       "True      36169\n",
       "Name: unit_price, dtype: int64"
      ]
     },
     "execution_count": 37,
     "metadata": {},
     "output_type": "execute_result"
    }
   ],
   "source": [
    "orderlines.unit_price.astype(str).str.contains(\"\\d+\\.\\d+\\.\\d+\").value_counts()"
   ]
  },
  {
   "cell_type": "markdown",
   "metadata": {
    "id": "HSUPvFJU6Jv-"
   },
   "source": [
    "Looks like over 36000 rows in `orderlines` are affected by this problem. Let's work out how much that is as a percentage of our total data."
   ]
  },
  {
   "cell_type": "code",
   "execution_count": 38,
   "metadata": {
    "id": "r75Rm1EgVjpi"
   },
   "outputs": [
    {
     "name": "stdout",
     "output_type": "stream",
     "text": [
      "The 2 dot problem represents 12.3% of the rows in our DataFrame\n"
     ]
    }
   ],
   "source": [
    "two_dot_percentage = (\n",
    "                        (orderlines.unit_price.str.contains(\"\\d+\\.\\d+\\.\\d+\").value_counts()[1] / orderlines.shape[0])*100\n",
    "                     ).round(2)\n",
    "print(f\"The 2 dot problem represents {two_dot_percentage}% of the rows in our DataFrame\")"
   ]
  },
  {
   "cell_type": "markdown",
   "metadata": {
    "id": "5Kp9_4pqeu5J"
   },
   "source": [
    "This is a bit of a tricky decision as 12.3% is a significant amount of our data... and we might even end up losing a larger portion of our data than this too. For the moment we will delete the rows as we only have 2 weeks for this project and I'd like some quick, accurate results to show. If we have time at the end, we can come back and investigate this problem further, maybe there's a solution?\n",
    "\n",
    "Each row of `orderlines` represents a product in an order. For example, if order number 175 contained 3 seperate products, then order 175 would have 3 rows in `orderlines`, one row for each of the products. If 2 of those products have 'normal' prices (14.99, 15.85) and 1 has a price with 2 decimal points (1.137.99), we need to remove the whole order and not just the affected row. If we only remove the row with 2 decimal places then any later analysis about products and prices could be misleading.\n",
    "\n",
    "We therefore need to find the order numbers associated with the rows that have 2 decimal points, and then remove all the associated rows."
   ]
  },
  {
   "cell_type": "code",
   "execution_count": 39,
   "metadata": {
    "id": "wQnSe-n1WCqv"
   },
   "outputs": [],
   "source": [
    "two_dot_order_ids_list = orderlines.loc[orderlines.unit_price.str.contains(\"\\d+\\.\\d+\\.\\d+\"), \"id_order\"]\n",
    "orderlines = orderlines.loc[~orderlines.id_order.isin(two_dot_order_ids_list)]"
   ]
  },
  {
   "cell_type": "code",
   "execution_count": 40,
   "metadata": {
    "id": "k-GLzXuV0Ioj"
   },
   "outputs": [
    {
     "data": {
      "text/plain": [
       "216250"
      ]
     },
     "execution_count": 40,
     "metadata": {},
     "output_type": "execute_result"
    }
   ],
   "source": [
    "orderlines.shape[0]"
   ]
  },
  {
   "cell_type": "markdown",
   "metadata": {
    "id": "2pd5t4110iz3"
   },
   "source": [
    "We still have 216250 rows in orderlines to work with. This should be more than enough for our evaluation.\n",
    "\n",
    "Now that all of the 2 decimal point prices have been removed, let's try again to convert the column `unit_price` to the correct datatype."
   ]
  },
  {
   "cell_type": "code",
   "execution_count": 41,
   "metadata": {
    "id": "Q4eDTAPs1HMZ"
   },
   "outputs": [],
   "source": [
    "orderlines[\"unit_price\"] = pd.to_numeric(orderlines[\"unit_price\"])"
   ]
  },
  {
   "cell_type": "markdown",
   "metadata": {
    "id": "sBudIQLm6oJQ"
   },
   "source": [
    "It worked perfectly"
   ]
  },
  {
   "cell_type": "markdown",
   "metadata": {},
   "source": [
    "Now save the cleaned dataframes as csv files:"
   ]
  },
  {
   "cell_type": "code",
   "execution_count": 42,
   "metadata": {},
   "outputs": [],
   "source": [
    "# https://pandas.pydata.org/docs/reference/api/pandas.DataFrame.to_csv.html?highlight=to_csv\n",
    "\n",
    "orderlines.to_csv(\"orderlines_cl.csv\", index=False)\n",
    "orders.to_csv(\"orders_cl.csv\", index=False)\n"
   ]
  },
  {
   "cell_type": "code",
   "execution_count": 53,
   "metadata": {},
   "outputs": [
    {
     "data": {
      "text/html": [
       "<div>\n",
       "<style scoped>\n",
       "    .dataframe tbody tr th:only-of-type {\n",
       "        vertical-align: middle;\n",
       "    }\n",
       "\n",
       "    .dataframe tbody tr th {\n",
       "        vertical-align: top;\n",
       "    }\n",
       "\n",
       "    .dataframe thead th {\n",
       "        text-align: right;\n",
       "    }\n",
       "</style>\n",
       "<table border=\"1\" class=\"dataframe\">\n",
       "  <thead>\n",
       "    <tr style=\"text-align: right;\">\n",
       "      <th></th>\n",
       "      <th>id</th>\n",
       "      <th>id_order</th>\n",
       "      <th>product_id</th>\n",
       "      <th>product_quantity</th>\n",
       "      <th>unit_price</th>\n",
       "    </tr>\n",
       "  </thead>\n",
       "  <tbody>\n",
       "    <tr>\n",
       "      <th>count</th>\n",
       "      <td>2.162500e+05</td>\n",
       "      <td>216250.000000</td>\n",
       "      <td>216250.0</td>\n",
       "      <td>216250.000000</td>\n",
       "      <td>216250.000000</td>\n",
       "    </tr>\n",
       "    <tr>\n",
       "      <th>mean</th>\n",
       "      <td>1.372496e+06</td>\n",
       "      <td>408967.391727</td>\n",
       "      <td>0.0</td>\n",
       "      <td>1.136698</td>\n",
       "      <td>164.636160</td>\n",
       "    </tr>\n",
       "    <tr>\n",
       "      <th>std</th>\n",
       "      <td>1.517563e+05</td>\n",
       "      <td>65892.054168</td>\n",
       "      <td>0.0</td>\n",
       "      <td>3.292203</td>\n",
       "      <td>219.630604</td>\n",
       "    </tr>\n",
       "    <tr>\n",
       "      <th>min</th>\n",
       "      <td>1.119109e+06</td>\n",
       "      <td>241319.000000</td>\n",
       "      <td>0.0</td>\n",
       "      <td>1.000000</td>\n",
       "      <td>-119.000000</td>\n",
       "    </tr>\n",
       "    <tr>\n",
       "      <th>25%</th>\n",
       "      <td>1.240903e+06</td>\n",
       "      <td>351866.250000</td>\n",
       "      <td>0.0</td>\n",
       "      <td>1.000000</td>\n",
       "      <td>29.740000</td>\n",
       "    </tr>\n",
       "    <tr>\n",
       "      <th>50%</th>\n",
       "      <td>1.366966e+06</td>\n",
       "      <td>406548.500000</td>\n",
       "      <td>0.0</td>\n",
       "      <td>1.000000</td>\n",
       "      <td>69.990000</td>\n",
       "    </tr>\n",
       "    <tr>\n",
       "      <th>75%</th>\n",
       "      <td>1.503947e+06</td>\n",
       "      <td>465795.500000</td>\n",
       "      <td>0.0</td>\n",
       "      <td>1.000000</td>\n",
       "      <td>184.580000</td>\n",
       "    </tr>\n",
       "    <tr>\n",
       "      <th>max</th>\n",
       "      <td>1.650203e+06</td>\n",
       "      <td>527401.000000</td>\n",
       "      <td>0.0</td>\n",
       "      <td>999.000000</td>\n",
       "      <td>999.990000</td>\n",
       "    </tr>\n",
       "  </tbody>\n",
       "</table>\n",
       "</div>"
      ],
      "text/plain": [
       "                 id       id_order  product_id  product_quantity  \\\n",
       "count  2.162500e+05  216250.000000    216250.0     216250.000000   \n",
       "mean   1.372496e+06  408967.391727         0.0          1.136698   \n",
       "std    1.517563e+05   65892.054168         0.0          3.292203   \n",
       "min    1.119109e+06  241319.000000         0.0          1.000000   \n",
       "25%    1.240903e+06  351866.250000         0.0          1.000000   \n",
       "50%    1.366966e+06  406548.500000         0.0          1.000000   \n",
       "75%    1.503947e+06  465795.500000         0.0          1.000000   \n",
       "max    1.650203e+06  527401.000000         0.0        999.000000   \n",
       "\n",
       "          unit_price  \n",
       "count  216250.000000  \n",
       "mean      164.636160  \n",
       "std       219.630604  \n",
       "min      -119.000000  \n",
       "25%        29.740000  \n",
       "50%        69.990000  \n",
       "75%       184.580000  \n",
       "max       999.990000  "
      ]
     },
     "execution_count": 53,
     "metadata": {},
     "output_type": "execute_result"
    }
   ],
   "source": [
    "orderlines.describe()"
   ]
  },
  {
   "cell_type": "code",
   "execution_count": 59,
   "metadata": {},
   "outputs": [],
   "source": [
    "#orderlines.hist(\"product_quantity\");"
   ]
  },
  {
   "cell_type": "code",
   "execution_count": 50,
   "metadata": {},
   "outputs": [
    {
     "data": {
      "image/png": "[encoded data removed]",
      "text/plain": [
       "<Figure size 432x288 with 1 Axes>"
      ]
     },
     "metadata": {
      "needs_background": "light"
     },
     "output_type": "display_data"
    }
   ],
   "source": [
    "orderlines.hist(\"unit_price\");"
   ]
  },
  {
   "cell_type": "code",
   "execution_count": 60,
   "metadata": {},
   "outputs": [
    {
     "data": {
      "text/plain": [
       "77008   -119.0\n",
       "53515      0.0\n",
       "53530      0.0\n",
       "57811      0.0\n",
       "58425      0.0\n",
       "58529      0.0\n",
       "58629      0.0\n",
       "58647      0.0\n",
       "58652      0.0\n",
       "58656      0.0\n",
       "Name: unit_price, dtype: float64"
      ]
     },
     "execution_count": 60,
     "metadata": {},
     "output_type": "execute_result"
    }
   ],
   "source": [
    "orderlines.unit_price.nsmallest(10)"
   ]
  },
  {
   "cell_type": "code",
   "execution_count": 66,
   "metadata": {},
   "outputs": [
    {
     "data": {
      "text/plain": [
       "<AxesSubplot:>"
      ]
     },
     "execution_count": 66,
     "metadata": {},
     "output_type": "execute_result"
    },
    {
     "data": {
      "image/png": "[encoded data removed]",
      "text/plain": [
       "<Figure size 432x288 with 1 Axes>"
      ]
     },
     "metadata": {
      "needs_background": "light"
     },
     "output_type": "display_data"
    }
   ],
   "source": [
    "orders.total_paid.hist()"
   ]
  },
  {
   "cell_type": "code",
   "execution_count": 70,
   "metadata": {},
   "outputs": [
    {
     "name": "stdout",
     "output_type": "stream",
     "text": [
      "<class 'pandas.core.frame.DataFrame'>\n",
      "Int64Index: 226904 entries, 0 to 226908\n",
      "Data columns (total 4 columns):\n",
      " #   Column        Non-Null Count   Dtype         \n",
      "---  ------        --------------   -----         \n",
      " 0   order_id      226904 non-null  int64         \n",
      " 1   created_date  226904 non-null  datetime64[ns]\n",
      " 2   total_paid    226904 non-null  float64       \n",
      " 3   state         226904 non-null  object        \n",
      "dtypes: datetime64[ns](1), float64(1), int64(1), object(1)\n",
      "memory usage: 8.7+ MB\n"
     ]
    }
   ],
   "source": [
    "orders.info()"
   ]
  },
  {
   "cell_type": "code",
   "execution_count": 80,
   "metadata": {},
   "outputs": [
    {
     "data": {
      "text/plain": [
       "<AxesSubplot:xlabel='state'>"
      ]
     },
     "execution_count": 80,
     "metadata": {},
     "output_type": "execute_result"
    },
    {
     "data": {
      "image/png": "[encoded data removed]",
      "text/plain": [
       "<Figure size 864x720 with 1 Axes>"
      ]
     },
     "metadata": {
      "needs_background": "light"
     },
     "output_type": "display_data"
    }
   ],
   "source": [
    "orders_merged = orderlines.merge(orders, left_on=\"id_order\", right_on=\"order_id\")\n",
    "orders_merged.groupby(\"state\").total_paid.sum().plot.bar(figsize=(12,10))"
   ]
  },
  {
   "cell_type": "code",
   "execution_count": null,
   "metadata": {},
   "outputs": [],
   "source": [
    "orders_merged.groupby(\"state\").total_paid.sum().plot.bar(figsize=(12,10))\n",
    "\n",
    "(\n",
    "    ol_df\n",
    "    .resample(\"M\", on=\"date\")[\"product_quantity\"]\n",
    "    .sum()\n",
    "    .sort_values(ascending=False)\n",
    ")"
   ]
  },
  {
   "cell_type": "code",
   "execution_count": 76,
   "metadata": {},
   "outputs": [
    {
     "data": {
      "text/plain": [
       "order_id\n",
       "464858    99648.10\n",
       "376851    90989.60\n",
       "498342    89352.00\n",
       "361853    87020.97\n",
       "410252    84598.44\n",
       "334803    79981.00\n",
       "518368    69730.20\n",
       "358372    58790.97\n",
       "346221    55930.71\n",
       "342607    55253.70\n",
       "433281    54395.01\n",
       "352560    47362.28\n",
       "422784    47302.04\n",
       "431635    42988.90\n",
       "349133    39399.84\n",
       "428186    37806.72\n",
       "330978    37368.04\n",
       "335057    32720.00\n",
       "352573    32031.72\n",
       "416480    27748.32\n",
       "Name: total_paid, dtype: float64"
      ]
     },
     "execution_count": 76,
     "metadata": {},
     "output_type": "execute_result"
    }
   ],
   "source": [
    "orders_merged.groupby(\"order_id\").total_paid.sum().nlargest(20)"
   ]
  },
  {
   "cell_type": "markdown",
   "metadata": {},
   "source": [
    "**TODO** ORDERS_CL.CSV\n",
    "- `unit_price` has one negative value of -119\n",
    "- `unit_price` also has some 0.00 values --> Yanish: They are cancelled orders. But still the uni_price should have a value and `total_paid` should be 0\n",
    "\n",
    "\n",
    "**TODO** ORDERLINES_CL.CSV\n",
    "- `total_paid` has a median of 112.99 and a mean of 569.22 --> looks like a skewed data set (high outliers)\n",
    "\n",
    "**INFO**\n",
    "- `state` = Shopping Basket has by far the highest amount of total_paid (4 times more than Place Order and Completed)\n",
    "\n",
    "**IDEAS**\n",
    "WHEN SHOULD WE BE GIVING DISCOUTS? AND ON WHICH ITEMS?\n",
    "1. items which are in big number and not getting sold. (?)\n",
    "2. on items which are about to get out of stocks (?)\n",
    "3. are there specific days of the week / or time of the month where we can give discounts\n",
    "4. do you give discounts when you are selling more? Or do you give discount to sell even more?\n",
    "5. Are the orders that are being completed / cancelled ... holding a discount? What are the differences between the groups?\n",
    "\n",
    "--> Have a slide on sales on a timeframe"
   ]
  },
  {
   "cell_type": "markdown",
   "metadata": {
    "id": "1zGAzgIX8_-D"
   },
   "source": [
    "# Challenge: Clean the `products` DataFrame\n",
    "Now it's your turn. Use the lessons you learnt above and clean the products DataFrame. You don't have to copy exactly what we did. Think about the consequences of your actions, sometimes it is ok to delete rows, other times you may wish to come up with more creative solutions."
   ]
  },
  {
   "cell_type": "code",
   "execution_count": 21,
   "metadata": {
    "id": "LtYqdFsa9KTS"
   },
   "outputs": [],
   "source": [
    "# products.csv\n",
    "url = \"https://drive.google.com/file/d/1afxwDXfl-7cQ_qLwyDitfcCx3u7WMvkU/view?usp=sharing\" \n",
    "path = \"https://drive.google.com/uc?export=download&id=\"+url.split(\"/\")[-2]\n",
    "products = pd.read_csv(path)"
   ]
  },
  {
   "cell_type": "code",
   "execution_count": 22,
   "metadata": {
    "id": "UW3zYoni9Vcy"
   },
   "outputs": [
    {
     "name": "stdout",
     "output_type": "stream",
     "text": [
      "<class 'pandas.core.frame.DataFrame'>\n",
      "RangeIndex: 19326 entries, 0 to 19325\n",
      "Data columns (total 7 columns):\n",
      " #   Column       Non-Null Count  Dtype \n",
      "---  ------       --------------  ----- \n",
      " 0   sku          19326 non-null  object\n",
      " 1   name         19326 non-null  object\n",
      " 2   desc         19319 non-null  object\n",
      " 3   price        19280 non-null  object\n",
      " 4   promo_price  19326 non-null  object\n",
      " 5   in_stock     19326 non-null  int64 \n",
      " 6   type         19276 non-null  object\n",
      "dtypes: int64(1), object(6)\n",
      "memory usage: 1.0+ MB\n"
     ]
    }
   ],
   "source": [
    "# your code here\n",
    "products.info()"
   ]
  },
  {
   "cell_type": "markdown",
   "metadata": {
    "id": "DyTfC-WY-IWe"
   },
   "source": [
    "### Look for Duplicates"
   ]
  },
  {
   "cell_type": "code",
   "execution_count": 23,
   "metadata": {
    "id": "MXZXRvUa_GTW"
   },
   "outputs": [
    {
     "data": {
      "text/plain": [
       "8746"
      ]
     },
     "execution_count": 23,
     "metadata": {},
     "output_type": "execute_result"
    }
   ],
   "source": [
    "# your code here\n",
    "products.duplicated().sum()"
   ]
  },
  {
   "cell_type": "markdown",
   "metadata": {
    "id": "XTGqkqtm--ln"
   },
   "source": [
    "### Look for Missing values\n"
   ]
  },
  {
   "cell_type": "code",
   "execution_count": null,
   "metadata": {
    "id": "_LrT0QGlkKi-"
   },
   "outputs": [],
   "source": [
    "# your code here"
   ]
  },
  {
   "cell_type": "markdown",
   "metadata": {
    "id": "4x6xeGDu_B0N"
   },
   "source": [
    "### Check / Change Data types"
   ]
  },
  {
   "cell_type": "code",
   "execution_count": null,
   "metadata": {
    "id": "3evkDaafvFUq"
   },
   "outputs": [],
   "source": [
    "# your code here"
   ]
  }
 ],
 "metadata": {
  "colab": {
   "provenance": []
  },
  "kernelspec": {
   "display_name": "Python 3",
   "language": "python",
   "name": "python3"
  },
  "language_info": {
   "codemirror_mode": {
    "name": "ipython",
    "version": 3
   },
   "file_extension": ".py",
   "mimetype": "text/x-python",
   "name": "python",
   "nbconvert_exporter": "python",
   "pygments_lexer": "ipython3",
   "version": "3.8.8"
  }
 },
 "nbformat": 4,
 "nbformat_minor": 4
}
