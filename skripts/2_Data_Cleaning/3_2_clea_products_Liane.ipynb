{
 "cells": [
  {
   "cell_type": "markdown",
   "metadata": {
    "id": "kYo4UvcCvkUs"
   },
   "source": [
    "# Data Cleaning with Pandas - products.csv"
   ]
  },
  {
   "cell_type": "code",
   "execution_count": 79,
   "metadata": {
    "id": "FgRIdUs1vcZ8"
   },
   "outputs": [],
   "source": [
    "import pandas as pd"
   ]
  },
  {
   "cell_type": "code",
   "execution_count": 81,
   "metadata": {
    "id": "_87JoNgVviOG"
   },
   "outputs": [],
   "source": [
    "# orders.csv\n",
    "#url = \"https://drive.google.com/file/d/1Vu0q91qZw6lqhIqbjoXYvYAQTmVHh6uZ/view?usp=sharing\" \n",
    "#path = \"https://drive.google.com/uc?export=download&id=\"+url.split(\"/\")[-2]\n",
    "#orders = pd.read_csv(path)\n",
    "\n",
    "# orderlines.csv\n",
    "#url = \"https://drive.google.com/file/d/1FYhN_2AzTBFuWcfHaRuKcuCE6CWXsWtG/view?usp=sharing\" \n",
    "#path = \"https://drive.google.com/uc?export=download&id=\"+url.split(\"/\")[-2]\n",
    "#orderlines = pd.read_csv(path)\n",
    "\n",
    "# products.csv\n",
    "#url = \"https://drive.google.com/file/d/1afxwDXfl-7cQ_qLwyDitfcCx3u7WMvkU/view?usp=sharing\" \n",
    "#path = \"https://drive.google.com/uc?export=download&id=\"+url.split(\"/\")[-2]\n",
    "#products = pd.read_csv(path)\n",
    "\n",
    "products = pd.read_csv(\"products_cl.csv\")\n"
   ]
  },
  {
   "cell_type": "code",
   "execution_count": 89,
   "metadata": {},
   "outputs": [
    {
     "data": {
      "text/plain": [
       "False    9992\n",
       "True      165\n",
       "Name: price, dtype: int64"
      ]
     },
     "execution_count": 89,
     "metadata": {},
     "output_type": "execute_result"
    }
   ],
   "source": [
    "products.price.astype(str).str.contains(\"\\d+\\.\\d\\d\\d\").value_counts()"
   ]
  },
  {
   "cell_type": "markdown",
   "metadata": {},
   "source": [
    "## 1. Findings from Data Exploration of products.csv:"
   ]
  },
  {
   "cell_type": "markdown",
   "metadata": {},
   "source": [
    "### A)&nbsp; Check .info() \n",
    ".shape() and .info() and .duplicated().sum() and .isna().sum()"
   ]
  },
  {
   "cell_type": "markdown",
   "metadata": {
    "tags": []
   },
   "source": [
    "**INFO:**\n",
    "- [x] ~There are 19,326 products (rows) and 7 columns --> NOW (10580, 7)~ --> NOW (10157, 7)\n",
    "- [x] ~`sku` is not unique!~ --> only one value is double, but not a duplicate\n",
    "- [ ] `desc` has <10 missing values\n",
    "- [ ] `type` has 50 missing values\n",
    "- [x] `id` is type object, because it contains 3 letters followed by 4 numbers\n",
    "**TODO: ~`sku` is by far not unique! - There are missing prices - `price` should be float~**\n",
    "- [x] ~There are only 10579 unique product-ids (column `sku`) and in total 19,000 entries. Do we have duplicates?~ --> Duplicates have been removed\n",
    "- [x] ~`price` has 46 missing values~\n",
    "- [x] ~`price` should be type float~\n",
    "- [x] ~`promo_price` should be type float~ --> has been deleted"
   ]
  },
  {
   "cell_type": "markdown",
   "metadata": {},
   "source": [
    "### B)&nbsp; Raw Data"
   ]
  },
  {
   "cell_type": "markdown",
   "metadata": {},
   "source": [
    "**INFO:**\n",
    "- `type` contains numbers. Among the first 20 rows there are either 4 digit numbers or 8 digit numbers. \n",
    "- `sku` has 3 letters, followed by a 4 digit number. \n",
    "- `name`s are relatively long and have special characters like / and '' and ()\n",
    "\n",
    "\n",
    "\n",
    "**TODO: ~`price` = 6.999.003 does not work'~ - column `type` Value 1,44E+10**\n",
    "- `type` has difficult integers. Some values in the tail have e-numbers. 1,44E+11 appears several times within the last 20 rows --> There are 235 rows with this pattern, Seems mainly to happen with sku's starting with REP\n"
   ]
  },
  {
   "cell_type": "markdown",
   "metadata": {},
   "source": [
    "### C) Numerical Columns"
   ]
  },
  {
   "cell_type": "markdown",
   "metadata": {},
   "source": [
    "\n",
    "- [x] ~`in_stock` should be boolean~ --> has been converted\n",
    "\n"
   ]
  },
  {
   "cell_type": "markdown",
   "metadata": {},
   "source": [
    "### D) Categorical Columns"
   ]
  },
  {
   "cell_type": "markdown",
   "metadata": {},
   "source": [
    "**INFO:**\n",
    "- `sku` has values that appear 58 times. The max 5 of themall start with PAC103.\n",
    "- `type` has a value that appears more than 6000 times.\n",
    "- `type` has the majority of values that are assigned only very few times. \n",
    "- `type`s 1/6th values cover most products.\n",
    "- `price`has 2690 unique values (out of 19,000 rows)\n",
    "- ~`promo_price` has 4614 unique values (out of 19,000 rows)~\n",
    "\n",
    "\n",
    "**TODO:**\n",
    "- [ ] `price`s needs to be explored when the column is changed to numerical \n",
    "- [x] ~`type` can be explored when the column is converted to numerical datatype~"
   ]
  },
  {
   "cell_type": "markdown",
   "metadata": {
    "id": "036ciQ6rwBJm"
   },
   "source": [
    "## 2.&nbsp; Remove Duplicates\n",
    "We can check for duplicates using the pandas [.duplicated()](https://pandas.pydata.org/docs/reference/api/pandas.DataFrame.duplicated.html) method. \n",
    "\n",
    "We can then delete these rows, if we wish, using [.drop_duplicates()](https://pandas.pydata.org/docs/reference/api/pandas.DataFrame.drop_duplicates.html)"
   ]
  },
  {
   "cell_type": "code",
   "execution_count": 3,
   "metadata": {
    "id": "6dVkoUu7wC-b"
   },
   "outputs": [
    {
     "data": {
      "text/plain": [
       "8746"
      ]
     },
     "execution_count": 3,
     "metadata": {},
     "output_type": "execute_result"
    }
   ],
   "source": [
    "# products\n",
    "products.duplicated().sum()"
   ]
  },
  {
   "cell_type": "code",
   "execution_count": 49,
   "metadata": {},
   "outputs": [],
   "source": [
    "# showing me the duplicated rows\n",
    "# products.loc[products.sku.duplicated(), :]"
   ]
  },
  {
   "cell_type": "code",
   "execution_count": 5,
   "metadata": {
    "id": "iaeAQB_3whli"
   },
   "outputs": [],
   "source": [
    "# remove duplicates permanently\n",
    "products = products.drop_duplicates()"
   ]
  },
  {
   "cell_type": "markdown",
   "metadata": {
    "id": "3LbnJquF0vRe"
   },
   "source": [
    "Normally, if there are some duplicates, we drop the extra rows."
   ]
  },
  {
   "cell_type": "code",
   "execution_count": 8,
   "metadata": {},
   "outputs": [
    {
     "data": {
      "text/plain": [
       "(10580, 7)"
      ]
     },
     "execution_count": 8,
     "metadata": {},
     "output_type": "execute_result"
    }
   ],
   "source": [
    "#checking the new shape of the table\n",
    "products.shape"
   ]
  },
  {
   "cell_type": "code",
   "execution_count": 9,
   "metadata": {},
   "outputs": [
    {
     "data": {
      "text/plain": [
       "sku            10579\n",
       "name           10373\n",
       "desc            7098\n",
       "price           2690\n",
       "promo_price     4614\n",
       "in_stock           2\n",
       "type             126\n",
       "dtype: int64"
      ]
     },
     "execution_count": 9,
     "metadata": {},
     "output_type": "execute_result"
    }
   ],
   "source": [
    "products.nunique()"
   ]
  },
  {
   "cell_type": "code",
   "execution_count": 39,
   "metadata": {},
   "outputs": [
    {
     "data": {
      "text/plain": [
       "0"
      ]
     },
     "execution_count": 39,
     "metadata": {},
     "output_type": "execute_result"
    }
   ],
   "source": [
    "products.duplicated().sum()"
   ]
  },
  {
   "cell_type": "markdown",
   "metadata": {},
   "source": [
    "**NOTE**\n",
    "- [ ] nunique() shows 10579 values and the dataframe has 10580 rows. One value might still be double - even though it is not found with duplicated().sum()"
   ]
  },
  {
   "cell_type": "markdown",
   "metadata": {
    "id": "MlwJt5c-wiQh"
   },
   "source": [
    "## 3.&nbsp; Deal with Missing Values"
   ]
  },
  {
   "cell_type": "markdown",
   "metadata": {
    "id": "63eKHGzJwkuT"
   },
   "source": [
    "### 3.1.&nbsp; Products\n",
    "* [x] `price` has 46 missing values\n"
   ]
  },
  {
   "cell_type": "code",
   "execution_count": 77,
   "metadata": {
    "id": "Yh81k3ppwl37"
   },
   "outputs": [
    {
     "name": "stdout",
     "output_type": "stream",
     "text": [
      "46 missing values represents 0.0% of the rows in our DataFrame\n"
     ]
    }
   ],
   "source": [
    "percentage = (products.price.isna().sum() / products.shape[0])*100\n",
    "\n",
    "print(f\"46 missing values represents {percentage.round(5)}% of the rows in our DataFrame\")"
   ]
  },
  {
   "cell_type": "markdown",
   "metadata": {
    "id": "eMW6J-4v_iVM"
   },
   "source": [
    "As there is such a tiny amount of missing values, we will simply delete these rows, as we have enough data without them."
   ]
  },
  {
   "cell_type": "code",
   "execution_count": 12,
   "metadata": {
    "id": "ohcl2Pb2B_Ch"
   },
   "outputs": [],
   "source": [
    "products = products.loc[~products.price.isna(), :]"
   ]
  },
  {
   "cell_type": "markdown",
   "metadata": {
    "id": "AIWAR4xI_3jv"
   },
   "source": [
    "Should you have a significant number of missing values in the future, you have a choice: \n",
    "+ you can impute the values\n",
    "+ you can take the values from other DataFrames, if they are present there\n",
    "+ you can delete the values\n",
    "+ or any number of other creative solutions\n",
    "\n",
    "Please, always consider how much time you have on your project, and what impact your method of choice will have on your final assesment."
   ]
  },
  {
   "cell_type": "markdown",
   "metadata": {
    "id": "_feog1aCwosJ"
   },
   "source": [
    "## 4.&nbsp; Correct Datatypes"
   ]
  },
  {
   "cell_type": "markdown",
   "metadata": {
    "id": "wCJyQYkOwrBE"
   },
   "source": [
    "### 4.1.&nbsp; Intro\n",
    "How to convert to_datetime() and to_numeric()"
   ]
  },
  {
   "cell_type": "code",
   "execution_count": 10,
   "metadata": {
    "id": "cF9roGlewr8j"
   },
   "outputs": [],
   "source": [
    "orders[\"created_date\"] = pd.to_datetime(orders[\"created_date\"])\n",
    "orderlines[\"unit_price\"] = pd.to_numeric(orderlines[\"unit_price\"])"
   ]
  },
  {
   "cell_type": "code",
   "execution_count": 13,
   "metadata": {},
   "outputs": [],
   "source": [
    "orders.info() # shows the changed datatype"
   ]
  },
  {
   "cell_type": "markdown",
   "metadata": {
    "id": "osvynBTNwsin"
   },
   "source": [
    "### 4.2.&nbsp; Products\n",
    "\n",
    "* [x] `price` should be type float\n",
    "* [x] `promo_price` has been deleted\n",
    "* [x] `in_stock` should be type boolean\n"
   ]
  },
  {
   "cell_type": "markdown",
   "metadata": {
    "id": "PJcuKn8K06Yd"
   },
   "source": [
    "#### 4.2.1.&nbsp; `price`"
   ]
  },
  {
   "cell_type": "markdown",
   "metadata": {},
   "source": [
    "* [x] `price` should be type float"
   ]
  },
  {
   "cell_type": "code",
   "execution_count": 15,
   "metadata": {
    "id": "FnXgRKERwtvS"
   },
   "outputs": [],
   "source": [
    "#products[\"price\"] = pd.to_numeric(products[\"price\"]) # does not work - unable to parse 1.639.792"
   ]
  },
  {
   "cell_type": "code",
   "execution_count": 16,
   "metadata": {},
   "outputs": [
    {
     "data": {
      "text/plain": [
       "False    10157\n",
       "True       377\n",
       "Name: price, dtype: int64"
      ]
     },
     "execution_count": 16,
     "metadata": {},
     "output_type": "execute_result"
    }
   ],
   "source": [
    "products.price.str.contains(\"\\d+\\.\\d+\\.\\d+\").value_counts()"
   ]
  },
  {
   "cell_type": "code",
   "execution_count": 19,
   "metadata": {},
   "outputs": [
    {
     "name": "stdout",
     "output_type": "stream",
     "text": [
      "The 2 dot problem represents 3.58% of the rows in our DataFrame\n"
     ]
    }
   ],
   "source": [
    "percentage = (\n",
    "               (products.price.str.contains(\"\\d+\\.\\d+\\.\\d+\")\n",
    "                .value_counts()[1] \n",
    "                / \n",
    "                products.shape[0])*100\n",
    "             ).round(2)\n",
    "print(f\"The 2 dot problem represents {percentage}% of the rows in our DataFrame\")"
   ]
  },
  {
   "cell_type": "markdown",
   "metadata": {},
   "source": [
    "Some thinking and analysis and **final decision** on how to proceed:\n",
    "* [x] **exclude from analysis**\n",
    "* [ ] asking the products to be checked by experts of prices\n",
    "* [ ] further analysing the impact of these products on overall revenue\n",
    "* [ ] looking at the raw data and trying to figure out a solution"
   ]
  },
  {
   "cell_type": "code",
   "execution_count": 21,
   "metadata": {},
   "outputs": [],
   "source": [
    "#Exclude from analysis\n",
    "two_dot_order_ids_list = products.loc[products.price.str.contains(\"\\d+\\.\\d+\\.\\d+\"), \"sku\"]\n",
    "products = products.loc[~products.sku.isin(two_dot_order_ids_list)]\n"
   ]
  },
  {
   "cell_type": "code",
   "execution_count": 24,
   "metadata": {},
   "outputs": [
    {
     "data": {
      "text/plain": [
       "(10157, 7)"
      ]
     },
     "execution_count": 24,
     "metadata": {},
     "output_type": "execute_result"
    }
   ],
   "source": [
    "products.shape #shows the new number of rows"
   ]
  },
  {
   "cell_type": "code",
   "execution_count": 25,
   "metadata": {},
   "outputs": [],
   "source": [
    "products[\"price\"] = pd.to_numeric(products[\"price\"]) #changes the datatype"
   ]
  },
  {
   "cell_type": "code",
   "execution_count": 26,
   "metadata": {},
   "outputs": [
    {
     "name": "stdout",
     "output_type": "stream",
     "text": [
      "<class 'pandas.core.frame.DataFrame'>\n",
      "Int64Index: 10157 entries, 0 to 19325\n",
      "Data columns (total 7 columns):\n",
      " #   Column       Non-Null Count  Dtype  \n",
      "---  ------       --------------  -----  \n",
      " 0   sku          10157 non-null  object \n",
      " 1   name         10157 non-null  object \n",
      " 2   desc         10151 non-null  object \n",
      " 3   price        10157 non-null  float64\n",
      " 4   promo_price  10157 non-null  object \n",
      " 5   in_stock     10157 non-null  int64  \n",
      " 6   type         10110 non-null  object \n",
      "dtypes: float64(1), int64(1), object(5)\n",
      "memory usage: 634.8+ KB\n"
     ]
    }
   ],
   "source": [
    "products.info()"
   ]
  },
  {
   "cell_type": "markdown",
   "metadata": {},
   "source": [
    "**INFO**\n",
    "- [x] `price` is now type float"
   ]
  },
  {
   "cell_type": "markdown",
   "metadata": {
    "id": "F7i78NDY0-oF"
   },
   "source": [
    "#### 4.2.2.&nbsp;`promo_price`"
   ]
  },
  {
   "cell_type": "markdown",
   "metadata": {},
   "source": [
    "* [x] `promo_price` needs to be changed to float --> has been deleted"
   ]
  },
  {
   "cell_type": "code",
   "execution_count": 29,
   "metadata": {
    "id": "iOFBNmuRDuGU"
   },
   "outputs": [],
   "source": [
    "#products[\"promo_price\"] = pd.to_numeric(products[\"promo_price\"]) # does not work - unable to parse 1.639.792"
   ]
  },
  {
   "cell_type": "markdown",
   "metadata": {
    "id": "xEqhP5RFSmRi"
   },
   "source": [
    "As you can see when we try to convert `unit_price` to a numerical datatype, we receive a `ValueError` telling us that pandas doesn't understand the number `1.137.99`. This is probably because numbers cannot have 2 decimal points. Let's see if there are any other numbers like this."
   ]
  },
  {
   "cell_type": "code",
   "execution_count": 30,
   "metadata": {
    "id": "ONy-oCt0SkrR"
   },
   "outputs": [
    {
     "data": {
      "text/plain": [
       "False    5836\n",
       "True     4321\n",
       "Name: promo_price, dtype: int64"
      ]
     },
     "execution_count": 30,
     "metadata": {},
     "output_type": "execute_result"
    }
   ],
   "source": [
    "products.promo_price.str.contains(\"\\d+\\.\\d+\\.\\d+\").value_counts()"
   ]
  },
  {
   "cell_type": "code",
   "execution_count": 31,
   "metadata": {
    "id": "r75Rm1EgVjpi"
   },
   "outputs": [
    {
     "name": "stdout",
     "output_type": "stream",
     "text": [
      "The 2 dot problem represents 42.54% of the rows in our DataFrame\n"
     ]
    }
   ],
   "source": [
    "percentage = (\n",
    "               (products.promo_price.str.contains(\"\\d+\\.\\d+\\.\\d+\")\n",
    "                .value_counts()[1] \n",
    "                / products.shape[0])*100\n",
    "              ).round(2)\n",
    "print(f\"The 2 dot problem represents {percentage}% of the rows in our DataFrame\")"
   ]
  },
  {
   "cell_type": "markdown",
   "metadata": {
    "id": "5Kp9_4pqeu5J"
   },
   "source": [
    "This is a bit of a tricky decision as 42.54% is a significant amount of our data... \n",
    "\n",
    "Some thinking and analysis and **final decision** on how to proceed:\n",
    "* [ ] exclude rows from analysis\n",
    "* [x] **exclude column from analysis**\n",
    "* [ ] asking the products to be checked by experts of prices\n",
    "* [ ] further analysing the impact of these products on overall revenue\n",
    "* [ ] looking at the raw data and trying to figure out a solution"
   ]
  },
  {
   "cell_type": "code",
   "execution_count": 50,
   "metadata": {
    "id": "wQnSe-n1WCqv"
   },
   "outputs": [],
   "source": [
    "#two_dot_sku_list = products.loc[products.promo_price.str.contains(\"\\d+\\.\\d+\\.\\d+\"), \"sku\"]\n",
    "#products = products.loc[~products.sku.isin(two_dot_sku_list)]\n",
    "\n",
    "#instead of removing the rows, we can remove the column\n",
    "products = products.drop(columns = 'promo_price', axis=1)"
   ]
  },
  {
   "cell_type": "code",
   "execution_count": 51,
   "metadata": {
    "id": "k-GLzXuV0Ioj"
   },
   "outputs": [
    {
     "data": {
      "text/plain": [
       "(10157, 6)"
      ]
     },
     "execution_count": 51,
     "metadata": {},
     "output_type": "execute_result"
    }
   ],
   "source": [
    "products.shape"
   ]
  },
  {
   "cell_type": "markdown",
   "metadata": {
    "id": "2pd5t4110iz3"
   },
   "source": [
    "Now convert the datatype (if the column still exists)"
   ]
  },
  {
   "cell_type": "code",
   "execution_count": 52,
   "metadata": {
    "id": "Q4eDTAPs1HMZ"
   },
   "outputs": [],
   "source": [
    "# NO NEED - COLUMN DROPPED\n",
    "#orderlines[\"unit_price\"] = pd.to_numeric(orderlines[\"unit_price\"])"
   ]
  },
  {
   "cell_type": "markdown",
   "metadata": {},
   "source": [
    "* [x] `promo_price` is now deleted"
   ]
  },
  {
   "cell_type": "markdown",
   "metadata": {},
   "source": [
    "#### 4.2.3.&nbsp; `in_stock`"
   ]
  },
  {
   "cell_type": "markdown",
   "metadata": {},
   "source": [
    "* [x] `in_stock` should be type boolean"
   ]
  },
  {
   "cell_type": "code",
   "execution_count": 63,
   "metadata": {},
   "outputs": [
    {
     "data": {
      "text/html": [
       "<div>\n",
       "<style scoped>\n",
       "    .dataframe tbody tr th:only-of-type {\n",
       "        vertical-align: middle;\n",
       "    }\n",
       "\n",
       "    .dataframe tbody tr th {\n",
       "        vertical-align: top;\n",
       "    }\n",
       "\n",
       "    .dataframe thead th {\n",
       "        text-align: right;\n",
       "    }\n",
       "</style>\n",
       "<table border=\"1\" class=\"dataframe\">\n",
       "  <thead>\n",
       "    <tr style=\"text-align: right;\">\n",
       "      <th></th>\n",
       "      <th>sku</th>\n",
       "      <th>name</th>\n",
       "      <th>desc</th>\n",
       "      <th>price</th>\n",
       "      <th>in_stock</th>\n",
       "      <th>type</th>\n",
       "    </tr>\n",
       "  </thead>\n",
       "  <tbody>\n",
       "    <tr>\n",
       "      <th>0</th>\n",
       "      <td>RAI0007</td>\n",
       "      <td>Silver Rain Design mStand Support</td>\n",
       "      <td>Aluminum support compatible with all MacBook</td>\n",
       "      <td>59.99</td>\n",
       "      <td>True</td>\n",
       "      <td>8696</td>\n",
       "    </tr>\n",
       "    <tr>\n",
       "      <th>1</th>\n",
       "      <td>APP0023</td>\n",
       "      <td>Apple Mac Keyboard Keypad Spanish</td>\n",
       "      <td>USB ultrathin keyboard Apple Mac Spanish.</td>\n",
       "      <td>59.00</td>\n",
       "      <td>False</td>\n",
       "      <td>13855401</td>\n",
       "    </tr>\n",
       "    <tr>\n",
       "      <th>2</th>\n",
       "      <td>APP0025</td>\n",
       "      <td>Mighty Mouse Apple Mouse for Mac</td>\n",
       "      <td>mouse Apple USB cable.</td>\n",
       "      <td>59.00</td>\n",
       "      <td>False</td>\n",
       "      <td>1387</td>\n",
       "    </tr>\n",
       "    <tr>\n",
       "      <th>3</th>\n",
       "      <td>APP0072</td>\n",
       "      <td>Apple Dock to USB Cable iPhone and iPod white</td>\n",
       "      <td>IPhone dock and USB Cable Apple iPod.</td>\n",
       "      <td>25.00</td>\n",
       "      <td>False</td>\n",
       "      <td>1230</td>\n",
       "    </tr>\n",
       "    <tr>\n",
       "      <th>4</th>\n",
       "      <td>KIN0007</td>\n",
       "      <td>Mac Memory Kingston 2GB 667MHz DDR2 SO-DIMM</td>\n",
       "      <td>2GB RAM Mac mini and iMac (2006/07) MacBook Pr...</td>\n",
       "      <td>34.99</td>\n",
       "      <td>True</td>\n",
       "      <td>1364</td>\n",
       "    </tr>\n",
       "  </tbody>\n",
       "</table>\n",
       "</div>"
      ],
      "text/plain": [
       "       sku                                           name  \\\n",
       "0  RAI0007              Silver Rain Design mStand Support   \n",
       "1  APP0023              Apple Mac Keyboard Keypad Spanish   \n",
       "2  APP0025               Mighty Mouse Apple Mouse for Mac   \n",
       "3  APP0072  Apple Dock to USB Cable iPhone and iPod white   \n",
       "4  KIN0007    Mac Memory Kingston 2GB 667MHz DDR2 SO-DIMM   \n",
       "\n",
       "                                                desc  price  in_stock  \\\n",
       "0       Aluminum support compatible with all MacBook  59.99      True   \n",
       "1          USB ultrathin keyboard Apple Mac Spanish.  59.00     False   \n",
       "2                             mouse Apple USB cable.  59.00     False   \n",
       "3              IPhone dock and USB Cable Apple iPod.  25.00     False   \n",
       "4  2GB RAM Mac mini and iMac (2006/07) MacBook Pr...  34.99      True   \n",
       "\n",
       "       type  \n",
       "0      8696  \n",
       "1  13855401  \n",
       "2      1387  \n",
       "3      1230  \n",
       "4      1364  "
      ]
     },
     "execution_count": 63,
     "metadata": {},
     "output_type": "execute_result"
    }
   ],
   "source": [
    "#orders[\"created_date\"] = pd.to_datetime(orders[\"created_date\"])\n",
    "#orderlines[\"unit_price\"] = pd.to_numeric(orderlines[\"unit_price\"])\n",
    "\n",
    "products[\"in_stock\"] = products['in_stock'].astype(bool)\n",
    "products.info()"
   ]
  },
  {
   "cell_type": "markdown",
   "metadata": {},
   "source": [
    "* [x] `in_stock` is now boolean"
   ]
  },
  {
   "cell_type": "markdown",
   "metadata": {},
   "source": [
    "## 5. Safe File(s)\n",
    "Now save the cleaned dataframes as csv files:\n"
   ]
  },
  {
   "cell_type": "code",
   "execution_count": 69,
   "metadata": {},
   "outputs": [],
   "source": [
    "# https://pandas.pydata.org/docs/reference/api/pandas.DataFrame.to_csv.html?highlight=to_csv\n",
    "\n",
    "products.to_csv(\"products_cl.csv\", index=False)\n",
    "\n",
    "### Download from colab:\n",
    "#from google.colab import files\n",
    "#files.download(\"products_cl.csv\")"
   ]
  },
  {
   "cell_type": "code",
   "execution_count": null,
   "metadata": {},
   "outputs": [],
   "source": [
    "# keep the rows and columns that have been dropped in a separate .csv\n",
    "\n",
    "#products_excluded.to_csv(\"products_excluded.csv\", index=False)\n",
    "#products_excluded_column.tocsv(\"products_excluded_column.csv\", index=False)"
   ]
  }
 ],
 "metadata": {
  "colab": {
   "provenance": []
  },
  "kernelspec": {
   "display_name": "Python 3",
   "language": "python",
   "name": "python3"
  },
  "language_info": {
   "codemirror_mode": {
    "name": "ipython",
    "version": 3
   },
   "file_extension": ".py",
   "mimetype": "text/x-python",
   "name": "python",
   "nbconvert_exporter": "python",
   "pygments_lexer": "ipython3",
   "version": "3.8.8"
  }
 },
 "nbformat": 4,
 "nbformat_minor": 4
}
