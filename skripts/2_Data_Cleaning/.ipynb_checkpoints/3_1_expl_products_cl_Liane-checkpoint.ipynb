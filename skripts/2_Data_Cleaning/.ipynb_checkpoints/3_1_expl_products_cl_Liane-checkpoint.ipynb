{
 "cells": [
  {
   "cell_type": "markdown",
   "id": "b24dd984-ccca-4fbf-b37e-b4074f80e73d",
   "metadata": {
    "tags": []
   },
   "source": [
    "# Data Exploration of products_cl.csv"
   ]
  },
  {
   "cell_type": "code",
   "execution_count": 1,
   "id": "a52d7f01-6272-4836-8749-3e7237028149",
   "metadata": {},
   "outputs": [],
   "source": [
    "import pandas as pd"
   ]
  },
  {
   "cell_type": "code",
   "execution_count": 4,
   "id": "893f8a6c-0f04-4a41-92b5-6751805e4832",
   "metadata": {},
   "outputs": [],
   "source": [
    "#import the cleaned csv\n",
    "products = pd.read_csv('products_cl.csv')\n"
   ]
  },
  {
   "cell_type": "markdown",
   "id": "cb66c81e-30ae-4a6d-9496-cd5d2f15dd65",
   "metadata": {},
   "source": [
    "## A) Check size, data-types, missing values and duplicates with .shape and .info()"
   ]
  },
  {
   "cell_type": "code",
   "execution_count": 5,
   "id": "2cd6eb86-e21c-47c2-8518-43c276bd6398",
   "metadata": {},
   "outputs": [
    {
     "data": {
      "text/plain": [
       "(10157, 6)"
      ]
     },
     "execution_count": 5,
     "metadata": {},
     "output_type": "execute_result"
    }
   ],
   "source": [
    "products.shape "
   ]
  },
  {
   "cell_type": "code",
   "execution_count": 6,
   "id": "4495bc48-2925-43fb-b455-2391948d323b",
   "metadata": {},
   "outputs": [
    {
     "name": "stdout",
     "output_type": "stream",
     "text": [
      "<class 'pandas.core.frame.DataFrame'>\n",
      "RangeIndex: 10157 entries, 0 to 10156\n",
      "Data columns (total 6 columns):\n",
      " #   Column    Non-Null Count  Dtype  \n",
      "---  ------    --------------  -----  \n",
      " 0   sku       10157 non-null  object \n",
      " 1   name      10157 non-null  object \n",
      " 2   desc      10151 non-null  object \n",
      " 3   price     10157 non-null  float64\n",
      " 4   in_stock  10157 non-null  bool   \n",
      " 5   type      10110 non-null  object \n",
      "dtypes: bool(1), float64(1), object(4)\n",
      "memory usage: 406.8+ KB\n"
     ]
    }
   ],
   "source": [
    "products.info() "
   ]
  },
  {
   "cell_type": "code",
   "execution_count": 7,
   "id": "261072de-4673-4fe2-8adb-460c0b01ccf5",
   "metadata": {},
   "outputs": [
    {
     "data": {
      "text/plain": [
       "sku          0\n",
       "name         0\n",
       "desc         6\n",
       "price        0\n",
       "in_stock     0\n",
       "type        47\n",
       "dtype: int64"
      ]
     },
     "execution_count": 7,
     "metadata": {},
     "output_type": "execute_result"
    }
   ],
   "source": [
    "products.isna().sum()"
   ]
  },
  {
   "cell_type": "code",
   "execution_count": 10,
   "id": "23c866c4-25e8-41ac-b9b9-a382d8b5cc47",
   "metadata": {},
   "outputs": [
    {
     "data": {
      "text/plain": [
       "sku         10157\n",
       "name         9996\n",
       "desc         6859\n",
       "price        2419\n",
       "in_stock        2\n",
       "type          126\n",
       "dtype: int64"
      ]
     },
     "execution_count": 10,
     "metadata": {},
     "output_type": "execute_result"
    }
   ],
   "source": [
    "products.nunique()\n",
    "#products.duplicated().sum()"
   ]
  },
  {
   "cell_type": "code",
   "execution_count": 13,
   "id": "4a1310b8-2c20-44e2-ac74-a307f452ef89",
   "metadata": {},
   "outputs": [],
   "source": [
    "#check if everything is alphanumeric\n",
    "#order.order_id.str.isalnum() --> only works on object-type"
   ]
  },
  {
   "cell_type": "markdown",
   "id": "2f1ec230-117a-4d3a-a86d-c89c7bdf6c99",
   "metadata": {},
   "source": [
    "**INFO:**\n",
    "- `type` has still missing values"
   ]
  },
  {
   "cell_type": "markdown",
   "id": "bf05b5c6-0182-4f23-b5e2-92743e71d2f9",
   "metadata": {},
   "source": [
    "**TODO: None**\n"
   ]
  },
  {
   "cell_type": "markdown",
   "id": "312889e2-daeb-4426-8db8-73c59aa40845",
   "metadata": {},
   "source": [
    "## B) Check raw data with .head() and .tail()"
   ]
  },
  {
   "cell_type": "code",
   "execution_count": 12,
   "id": "9fe5f302-d38c-420e-b6a6-f07c7d8148c2",
   "metadata": {},
   "outputs": [
    {
     "data": {
      "text/html": [
       "<div>\n",
       "<style scoped>\n",
       "    .dataframe tbody tr th:only-of-type {\n",
       "        vertical-align: middle;\n",
       "    }\n",
       "\n",
       "    .dataframe tbody tr th {\n",
       "        vertical-align: top;\n",
       "    }\n",
       "\n",
       "    .dataframe thead th {\n",
       "        text-align: right;\n",
       "    }\n",
       "</style>\n",
       "<table border=\"1\" class=\"dataframe\">\n",
       "  <thead>\n",
       "    <tr style=\"text-align: right;\">\n",
       "      <th></th>\n",
       "      <th>sku</th>\n",
       "      <th>name</th>\n",
       "      <th>desc</th>\n",
       "      <th>price</th>\n",
       "      <th>in_stock</th>\n",
       "      <th>type</th>\n",
       "    </tr>\n",
       "  </thead>\n",
       "  <tbody>\n",
       "    <tr>\n",
       "      <th>10137</th>\n",
       "      <td>AP20474</td>\n",
       "      <td>Like new - Apple Watch GPS 38mm Case Series 3 ...</td>\n",
       "      <td>Reconditioned Apple Watch 38mm series 3 with G...</td>\n",
       "      <td>369.000</td>\n",
       "      <td>False</td>\n",
       "      <td>24885185</td>\n",
       "    </tr>\n",
       "    <tr>\n",
       "      <th>10138</th>\n",
       "      <td>REP0411</td>\n",
       "      <td>iPhone repair posterior chamber 7</td>\n",
       "      <td>It is including parts and labor for iPhone 7</td>\n",
       "      <td>79.990</td>\n",
       "      <td>False</td>\n",
       "      <td>1,44E+11</td>\n",
       "    </tr>\n",
       "    <tr>\n",
       "      <th>10139</th>\n",
       "      <td>REP0417</td>\n",
       "      <td>Headset calls iPhone repair 7</td>\n",
       "      <td>Repair service including parts and labor for i...</td>\n",
       "      <td>49.990</td>\n",
       "      <td>False</td>\n",
       "      <td>1,44E+11</td>\n",
       "    </tr>\n",
       "    <tr>\n",
       "      <th>10140</th>\n",
       "      <td>AP20471</td>\n",
       "      <td>Apple Thunderbolt to FireWire 800 adapter</td>\n",
       "      <td>Reconditioned connection adapter Thunderbolt t...</td>\n",
       "      <td>35.000</td>\n",
       "      <td>False</td>\n",
       "      <td>1325</td>\n",
       "    </tr>\n",
       "    <tr>\n",
       "      <th>10141</th>\n",
       "      <td>REP0428</td>\n",
       "      <td>iPhone Speaker lower repair 7</td>\n",
       "      <td>Repair service including parts and labor for i...</td>\n",
       "      <td>599.906</td>\n",
       "      <td>False</td>\n",
       "      <td>1,44E+11</td>\n",
       "    </tr>\n",
       "    <tr>\n",
       "      <th>10142</th>\n",
       "      <td>REP0405</td>\n",
       "      <td>iPhone battery repair 7 plus</td>\n",
       "      <td>Repair service including parts and labor for i...</td>\n",
       "      <td>49.990</td>\n",
       "      <td>False</td>\n",
       "      <td>1,44E+11</td>\n",
       "    </tr>\n",
       "    <tr>\n",
       "      <th>10143</th>\n",
       "      <td>REP0412</td>\n",
       "      <td>Rear Camera Repair iPhone 7 Plus</td>\n",
       "      <td>It is including parts and labor for iPhone 7 Plus</td>\n",
       "      <td>119.990</td>\n",
       "      <td>False</td>\n",
       "      <td>1,44E+11</td>\n",
       "    </tr>\n",
       "    <tr>\n",
       "      <th>10144</th>\n",
       "      <td>AP20472</td>\n",
       "      <td>Like new - Apple charging cable 2m USB-C</td>\n",
       "      <td>Apple USB-C Cable 2 meters Refurbished MacBook</td>\n",
       "      <td>25.000</td>\n",
       "      <td>False</td>\n",
       "      <td>1325</td>\n",
       "    </tr>\n",
       "    <tr>\n",
       "      <th>10145</th>\n",
       "      <td>REP0429</td>\n",
       "      <td>iPhone Speaker lower repair 7 plus</td>\n",
       "      <td>Repair service including parts and labor for i...</td>\n",
       "      <td>599.906</td>\n",
       "      <td>False</td>\n",
       "      <td>1,44E+11</td>\n",
       "    </tr>\n",
       "    <tr>\n",
       "      <th>10146</th>\n",
       "      <td>REP0418</td>\n",
       "      <td>iPhone charging connector repair</td>\n",
       "      <td>Repair service including parts and labor for i...</td>\n",
       "      <td>49.990</td>\n",
       "      <td>False</td>\n",
       "      <td>1,44E+11</td>\n",
       "    </tr>\n",
       "    <tr>\n",
       "      <th>10147</th>\n",
       "      <td>ICA0115</td>\n",
       "      <td>Incase City Brief case MacBook Pro 13 \"Black</td>\n",
       "      <td>Incase bag to carry Apple MacBook Pro 13-inch</td>\n",
       "      <td>79.950</td>\n",
       "      <td>True</td>\n",
       "      <td>10230</td>\n",
       "    </tr>\n",
       "    <tr>\n",
       "      <th>10148</th>\n",
       "      <td>REP0403</td>\n",
       "      <td>iPad LCD screen repair</td>\n",
       "      <td>Repair service including parts and labor for iPad</td>\n",
       "      <td>159.990</td>\n",
       "      <td>False</td>\n",
       "      <td>1,44E+11</td>\n",
       "    </tr>\n",
       "    <tr>\n",
       "      <th>10149</th>\n",
       "      <td>REP0402</td>\n",
       "      <td>iPad touch screen repair</td>\n",
       "      <td>Repair service including parts and labor for iPad</td>\n",
       "      <td>139.990</td>\n",
       "      <td>False</td>\n",
       "      <td>1,44E+11</td>\n",
       "    </tr>\n",
       "    <tr>\n",
       "      <th>10150</th>\n",
       "      <td>KNO0032</td>\n",
       "      <td>Knomo MacBook Pro Beauchamp Backpack 14 \"Black</td>\n",
       "      <td>Backpack thin nylon mesh internal compartment ...</td>\n",
       "      <td>179.000</td>\n",
       "      <td>True</td>\n",
       "      <td>1392</td>\n",
       "    </tr>\n",
       "    <tr>\n",
       "      <th>10151</th>\n",
       "      <td>REP0076</td>\n",
       "      <td>repair Full screen iPad (1st generation)</td>\n",
       "      <td>Repair service including parts and labor for iPad</td>\n",
       "      <td>149.990</td>\n",
       "      <td>False</td>\n",
       "      <td>1,44E+11</td>\n",
       "    </tr>\n",
       "    <tr>\n",
       "      <th>10152</th>\n",
       "      <td>BEL0376</td>\n",
       "      <td>Belkin Travel Support Apple Watch Black</td>\n",
       "      <td>compact and portable stand vertically or horiz...</td>\n",
       "      <td>29.990</td>\n",
       "      <td>True</td>\n",
       "      <td>12282</td>\n",
       "    </tr>\n",
       "    <tr>\n",
       "      <th>10153</th>\n",
       "      <td>THU0060</td>\n",
       "      <td>Enroute Thule 14L Backpack MacBook 13 \"Black</td>\n",
       "      <td>Backpack with capacity of 14 liter compartment...</td>\n",
       "      <td>69.950</td>\n",
       "      <td>True</td>\n",
       "      <td>1392</td>\n",
       "    </tr>\n",
       "    <tr>\n",
       "      <th>10154</th>\n",
       "      <td>THU0061</td>\n",
       "      <td>Enroute Thule 14L Backpack MacBook 13 \"Blue</td>\n",
       "      <td>Backpack with capacity of 14 liter compartment...</td>\n",
       "      <td>69.950</td>\n",
       "      <td>True</td>\n",
       "      <td>1392</td>\n",
       "    </tr>\n",
       "    <tr>\n",
       "      <th>10155</th>\n",
       "      <td>THU0062</td>\n",
       "      <td>Enroute Thule 14L Backpack MacBook 13 \"Red</td>\n",
       "      <td>Backpack with capacity of 14 liter compartment...</td>\n",
       "      <td>69.950</td>\n",
       "      <td>False</td>\n",
       "      <td>1392</td>\n",
       "    </tr>\n",
       "    <tr>\n",
       "      <th>10156</th>\n",
       "      <td>THU0063</td>\n",
       "      <td>Enroute Thule 14L Backpack MacBook 13 \"Green</td>\n",
       "      <td>Backpack with capacity of 14 liter compartment...</td>\n",
       "      <td>69.950</td>\n",
       "      <td>True</td>\n",
       "      <td>1392</td>\n",
       "    </tr>\n",
       "  </tbody>\n",
       "</table>\n",
       "</div>"
      ],
      "text/plain": [
       "           sku                                               name  \\\n",
       "10137  AP20474  Like new - Apple Watch GPS 38mm Case Series 3 ...   \n",
       "10138  REP0411                  iPhone repair posterior chamber 7   \n",
       "10139  REP0417                      Headset calls iPhone repair 7   \n",
       "10140  AP20471          Apple Thunderbolt to FireWire 800 adapter   \n",
       "10141  REP0428                      iPhone Speaker lower repair 7   \n",
       "10142  REP0405                       iPhone battery repair 7 plus   \n",
       "10143  REP0412                   Rear Camera Repair iPhone 7 Plus   \n",
       "10144  AP20472           Like new - Apple charging cable 2m USB-C   \n",
       "10145  REP0429                 iPhone Speaker lower repair 7 plus   \n",
       "10146  REP0418                   iPhone charging connector repair   \n",
       "10147  ICA0115       Incase City Brief case MacBook Pro 13 \"Black   \n",
       "10148  REP0403                             iPad LCD screen repair   \n",
       "10149  REP0402                           iPad touch screen repair   \n",
       "10150  KNO0032     Knomo MacBook Pro Beauchamp Backpack 14 \"Black   \n",
       "10151  REP0076           repair Full screen iPad (1st generation)   \n",
       "10152  BEL0376            Belkin Travel Support Apple Watch Black   \n",
       "10153  THU0060       Enroute Thule 14L Backpack MacBook 13 \"Black   \n",
       "10154  THU0061        Enroute Thule 14L Backpack MacBook 13 \"Blue   \n",
       "10155  THU0062         Enroute Thule 14L Backpack MacBook 13 \"Red   \n",
       "10156  THU0063       Enroute Thule 14L Backpack MacBook 13 \"Green   \n",
       "\n",
       "                                                    desc    price  in_stock  \\\n",
       "10137  Reconditioned Apple Watch 38mm series 3 with G...  369.000     False   \n",
       "10138       It is including parts and labor for iPhone 7   79.990     False   \n",
       "10139  Repair service including parts and labor for i...   49.990     False   \n",
       "10140  Reconditioned connection adapter Thunderbolt t...   35.000     False   \n",
       "10141  Repair service including parts and labor for i...  599.906     False   \n",
       "10142  Repair service including parts and labor for i...   49.990     False   \n",
       "10143  It is including parts and labor for iPhone 7 Plus  119.990     False   \n",
       "10144     Apple USB-C Cable 2 meters Refurbished MacBook   25.000     False   \n",
       "10145  Repair service including parts and labor for i...  599.906     False   \n",
       "10146  Repair service including parts and labor for i...   49.990     False   \n",
       "10147      Incase bag to carry Apple MacBook Pro 13-inch   79.950      True   \n",
       "10148  Repair service including parts and labor for iPad  159.990     False   \n",
       "10149  Repair service including parts and labor for iPad  139.990     False   \n",
       "10150  Backpack thin nylon mesh internal compartment ...  179.000      True   \n",
       "10151  Repair service including parts and labor for iPad  149.990     False   \n",
       "10152  compact and portable stand vertically or horiz...   29.990      True   \n",
       "10153  Backpack with capacity of 14 liter compartment...   69.950      True   \n",
       "10154  Backpack with capacity of 14 liter compartment...   69.950      True   \n",
       "10155  Backpack with capacity of 14 liter compartment...   69.950     False   \n",
       "10156  Backpack with capacity of 14 liter compartment...   69.950      True   \n",
       "\n",
       "           type  \n",
       "10137  24885185  \n",
       "10138  1,44E+11  \n",
       "10139  1,44E+11  \n",
       "10140      1325  \n",
       "10141  1,44E+11  \n",
       "10142  1,44E+11  \n",
       "10143  1,44E+11  \n",
       "10144      1325  \n",
       "10145  1,44E+11  \n",
       "10146  1,44E+11  \n",
       "10147     10230  \n",
       "10148  1,44E+11  \n",
       "10149  1,44E+11  \n",
       "10150      1392  \n",
       "10151  1,44E+11  \n",
       "10152     12282  \n",
       "10153      1392  \n",
       "10154      1392  \n",
       "10155      1392  \n",
       "10156      1392  "
      ]
     },
     "execution_count": 12,
     "metadata": {},
     "output_type": "execute_result"
    }
   ],
   "source": [
    "products.tail(20)"
   ]
  },
  {
   "cell_type": "markdown",
   "id": "2e381a71-a4f9-497a-9fc1-db93bacd3071",
   "metadata": {},
   "source": [
    "**INFO:**\n",
    "..."
   ]
  },
  {
   "cell_type": "markdown",
   "id": "5ae1b849-8d1e-45cd-b174-e2aa9757196d",
   "metadata": {},
   "source": [
    "## C) Explore numerical columns with .hist and .describe()"
   ]
  },
  {
   "cell_type": "code",
   "execution_count": 14,
   "id": "caee9966-e78b-485c-9a8d-1d007e1504d9",
   "metadata": {},
   "outputs": [
    {
     "data": {
      "text/plain": [
       "array([[<AxesSubplot:title={'center':'price'}>]], dtype=object)"
      ]
     },
     "execution_count": 14,
     "metadata": {},
     "output_type": "execute_result"
    },
    {
     "data": {
      "image/png": "[encoded data removed]",
      "text/plain": [
       "<Figure size 576x720 with 1 Axes>"
      ]
     },
     "metadata": {
      "needs_background": "light"
     },
     "output_type": "display_data"
    }
   ],
   "source": [
    "products.hist('price', bins = 100, figsize= (8,10))"
   ]
  },
  {
   "cell_type": "code",
   "execution_count": 16,
   "id": "8bc1340a-756a-427a-b92d-fe83f35db347",
   "metadata": {},
   "outputs": [
    {
     "data": {
      "text/html": [
       "<div>\n",
       "<style scoped>\n",
       "    .dataframe tbody tr th:only-of-type {\n",
       "        vertical-align: middle;\n",
       "    }\n",
       "\n",
       "    .dataframe tbody tr th {\n",
       "        vertical-align: top;\n",
       "    }\n",
       "\n",
       "    .dataframe thead th {\n",
       "        text-align: right;\n",
       "    }\n",
       "</style>\n",
       "<table border=\"1\" class=\"dataframe\">\n",
       "  <thead>\n",
       "    <tr style=\"text-align: right;\">\n",
       "      <th></th>\n",
       "      <th>price</th>\n",
       "    </tr>\n",
       "  </thead>\n",
       "  <tbody>\n",
       "    <tr>\n",
       "      <th>count</th>\n",
       "      <td>10157.000000</td>\n",
       "    </tr>\n",
       "    <tr>\n",
       "      <th>mean</th>\n",
       "      <td>663.124629</td>\n",
       "    </tr>\n",
       "    <tr>\n",
       "      <th>std</th>\n",
       "      <td>1355.237789</td>\n",
       "    </tr>\n",
       "    <tr>\n",
       "      <th>min</th>\n",
       "      <td>2.990000</td>\n",
       "    </tr>\n",
       "    <tr>\n",
       "      <th>25%</th>\n",
       "      <td>44.900000</td>\n",
       "    </tr>\n",
       "    <tr>\n",
       "      <th>50%</th>\n",
       "      <td>119.000000</td>\n",
       "    </tr>\n",
       "    <tr>\n",
       "      <th>75%</th>\n",
       "      <td>649.891000</td>\n",
       "    </tr>\n",
       "    <tr>\n",
       "      <th>max</th>\n",
       "      <td>15339.000000</td>\n",
       "    </tr>\n",
       "  </tbody>\n",
       "</table>\n",
       "</div>"
      ],
      "text/plain": [
       "              price\n",
       "count  10157.000000\n",
       "mean     663.124629\n",
       "std     1355.237789\n",
       "min        2.990000\n",
       "25%       44.900000\n",
       "50%      119.000000\n",
       "75%      649.891000\n",
       "max    15339.000000"
      ]
     },
     "execution_count": 16,
     "metadata": {},
     "output_type": "execute_result"
    }
   ],
   "source": [
    "products.describe()"
   ]
  },
  {
   "cell_type": "code",
   "execution_count": 21,
   "id": "a12e6bea-93a0-4ff3-ac88-9272a37eae1e",
   "metadata": {},
   "outputs": [
    {
     "data": {
      "text/plain": [
       "9298    15339.0\n",
       "9334    14619.0\n",
       "9297    14379.0\n",
       "9333    13659.0\n",
       "9294    13419.0\n",
       "9296    13419.0\n",
       "9286    12939.0\n",
       "9330    12699.0\n",
       "9332    12699.0\n",
       "9293    12459.0\n",
       "Name: price, dtype: float64"
      ]
     },
     "execution_count": 21,
     "metadata": {},
     "output_type": "execute_result"
    }
   ],
   "source": [
    "products.price.nlargest(10)"
   ]
  },
  {
   "cell_type": "markdown",
   "id": "ad0c97c4-3a38-44eb-96dd-ceda72e225e7",
   "metadata": {},
   "source": [
    "**INFO:**\n",
    "- `price` has 5500 entries in the lowest bin (<160€)\n",
    "- `price` has am mean value of 663€ and a median of 119€ \n",
    "- `price` has an IQR 649 - 44 = 605 and a maximum value of 15,339\n",
    "\n",
    "- `price` -> Sai had an average of 569,22 before cleaning the data\n",
    "\n",
    "**NOTE:**\n",
    "- look at nlargest 1000 - all values have the same price: 2039 ??"
   ]
  },
  {
   "cell_type": "markdown",
   "id": "d3e3e818-90c7-42a8-a28a-fc58bdfd03fe",
   "metadata": {},
   "source": [
    "\n",
    "\n"
   ]
  },
  {
   "cell_type": "markdown",
   "id": "785f553c-c343-4dca-9045-05ed8f60b83e",
   "metadata": {},
   "source": [
    "## D) Explore categorical columns with value_counts() and .plot.bar()"
   ]
  },
  {
   "cell_type": "code",
   "execution_count": 20,
   "id": "9c81dd6d-a441-4718-91e4-192ad60df876",
   "metadata": {},
   "outputs": [],
   "source": [
    "#order_states = orders.state.value_counts()\n",
    "#order_states.plot.bar()"
   ]
  },
  {
   "cell_type": "markdown",
   "id": "167fa1e9-e1ae-4597-9883-6b5676e0e6d2",
   "metadata": {},
   "source": [
    "**Not relevant**"
   ]
  },
  {
   "cell_type": "code",
   "execution_count": 14,
   "id": "b00e4117-350d-483c-9704-4b2e0fd26b25",
   "metadata": {},
   "outputs": [],
   "source": [
    "# I would like to see a relationship between category \"Shopping Basket\" and the \"created_date\"\n",
    "# but so far it does not work.\n",
    "#orders.plot.scatter(x=\"state\", y=\"created_date\");\n"
   ]
  },
  {
   "cell_type": "code",
   "execution_count": null,
   "id": "8f5fad98-9698-4038-a3de-c1301189e3e6",
   "metadata": {},
   "outputs": [],
   "source": []
  }
 ],
 "metadata": {
  "kernelspec": {
   "display_name": "Python 3",
   "language": "python",
   "name": "python3"
  },
  "language_info": {
   "codemirror_mode": {
    "name": "ipython",
    "version": 3
   },
   "file_extension": ".py",
   "mimetype": "text/x-python",
   "name": "python",
   "nbconvert_exporter": "python",
   "pygments_lexer": "ipython3",
   "version": "3.8.8"
  }
 },
 "nbformat": 4,
 "nbformat_minor": 5
}
